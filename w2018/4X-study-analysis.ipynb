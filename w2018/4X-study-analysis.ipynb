{
 "cells": [
  {
   "cell_type": "markdown",
   "metadata": {},
   "source": [
    "# 4X Study Dashboard\n",
    "This notebook is used to analyze data from the 4X study conducted in March 2018."
   ]
  },
  {
   "cell_type": "markdown",
   "metadata": {},
   "source": [
    "# Imports and Global Setup"
   ]
  },
  {
   "cell_type": "code",
   "execution_count": 1,
   "metadata": {},
   "outputs": [],
   "source": [
    "# data processing\n",
    "import math\n",
    "import json\n",
    "from multiprocessing import Pool, cpu_count\n",
    "from multiprocessing.dummy import Pool as ThreadPool \n",
    "from functools import reduce\n",
    "from collections import Counter\n",
    "\n",
    "import requests\n",
    "import pandas as pd\n",
    "import numpy as np\n",
    "from scipy import stats\n",
    "\n",
    "from datetime import datetime, timezone\n",
    "from copy import deepcopy\n",
    "from tqdm import *"
   ]
  },
  {
   "cell_type": "code",
   "execution_count": 2,
   "metadata": {},
   "outputs": [],
   "source": [
    "# google\n",
    "import gspread\n",
    "from oauth2client.service_account import ServiceAccountCredentials\n",
    "from operator import itemgetter"
   ]
  },
  {
   "cell_type": "code",
   "execution_count": 3,
   "metadata": {},
   "outputs": [],
   "source": [
    "# plotting\n",
    "import seaborn as sns\n",
    "import matplotlib.pyplot as plt\n",
    "from matplotlib.colors import ListedColormap\n",
    "%matplotlib inline"
   ]
  },
  {
   "cell_type": "code",
   "execution_count": 4,
   "metadata": {},
   "outputs": [],
   "source": [
    "# palette\n",
    "sns.set(font_scale=1.5, style='whitegrid')\n",
    "# sns.set_palette(\"cubehelix\")\n",
    "sns.set_palette(sns.cubehelix_palette(rot=-.4))"
   ]
  },
  {
   "cell_type": "markdown",
   "metadata": {},
   "source": [
    "## Setup Google Sheets Auth"
   ]
  },
  {
   "cell_type": "code",
   "execution_count": 5,
   "metadata": {},
   "outputs": [],
   "source": [
    "# setup connection\n",
    "scope = ['https://spreadsheets.google.com/feeds']\n",
    "credentials = ServiceAccountCredentials.from_json_keyfile_name('credential.json', scope)\n",
    "gc = gspread.authorize(credentials)"
   ]
  },
  {
   "cell_type": "markdown",
   "metadata": {},
   "source": [
    "# Load in data"
   ]
  },
  {
   "cell_type": "markdown",
   "metadata": {},
   "source": [
    "## Log Data from LES"
   ]
  },
  {
   "cell_type": "code",
   "execution_count": 6,
   "metadata": {},
   "outputs": [
    {
     "name": "stdout",
     "output_type": "stream",
     "text": [
      "Study Length: 14 days, 23:00:00\n"
     ]
    }
   ],
   "source": [
    "# URLs for different conditions\n",
    "url_4x = 'https://les-4x.herokuapp.com/parse/classes/'\n",
    "url_opp_location = 'https://les-opplocation.herokuapp.com/parse/classes/'\n",
    "url_opp_distance = 'https://les-oppdistance.herokuapp.com/parse/classes/'\n",
    "\n",
    "# shared header and data\n",
    "header = {'X-Parse-Application-Id': 'PkngqKtJygU9WiQ1GXM9eC0a17tKmioKKmpWftYr'}\n",
    "data = {'limit': '10000'}\n",
    "\n",
    "# study start and end\n",
    "start_time = '2018-03-05 06:00:00'\n",
    "end_time = '2018-03-20 05:00:00'\n",
    "print('Study Length: {}'.format(datetime.strptime(end_time, '%Y-%m-%d %H:%M:%S') - datetime.strptime(start_time, '%Y-%m-%d %H:%M:%S')))"
   ]
  },
  {
   "cell_type": "code",
   "execution_count": 7,
   "metadata": {},
   "outputs": [],
   "source": [
    "def load_data(base_url, header, data, start_time, end_time):\n",
    "    \"\"\"\n",
    "    Loads in all needed tables from database, given url.\n",
    "    \n",
    "    Input: \n",
    "        base_url (string): url to pull data from\n",
    "        header (dict): application id and other auth\n",
    "        data (dict): data to pass into query\n",
    "        start_time (datetime): start time for data\n",
    "        end_time (datetime): end time for data \n",
    "    \n",
    "    Return:\n",
    "        (dict): dict where keys are collection names and values are Pandas objects containing data\n",
    "    \"\"\"\n",
    "    # declare collection list\n",
    "    collection_list = ['_User', 'ServerLog', 'DebugLog', 'ForYouViewLog', 'ApplicationHeartbeat',\n",
    "                       'TaskLocations', 'LocationTypeMetadata', 'beacons', 'EnRouteLocations',\n",
    "                       'AtLocationNotificationsSent', 'AtLocationNotificationResponses',\n",
    "                       'EnRouteNotificationsSent', 'EnRouteNotificationResponses',\n",
    "                       'AtDistanceNotificationsSent', 'AtDistanceNotificationResponses']\n",
    "    \n",
    "    # loop through and load data for each collection\n",
    "    output = {}\n",
    "    for collection in collection_list:\n",
    "        current_response = requests.get(base_url + collection, headers=header, data=data)\n",
    "\n",
    "        current_data = pd.DataFrame(current_response.json()['results'])\n",
    "        if len(current_data) != 0 and collection not in ['LocationTypeMetadata', 'EnRouteLocations']:\n",
    "            current_data['createdAt'] = pd.to_datetime(current_data['createdAt'])\n",
    "            current_data['updatedAt'] = pd.to_datetime(current_data['updatedAt'])\n",
    "            \n",
    "            if collection != '_User':\n",
    "                current_data = current_data[(current_data['createdAt'] >= start_time) & (current_data['createdAt'] < end_time)]\n",
    "\n",
    "        output[collection] = current_data\n",
    "    \n",
    "    return output\n",
    "\n",
    "def load_data_parallel(url):\n",
    "    return load_data(url, header, data, start_time, end_time)"
   ]
  },
  {
   "cell_type": "code",
   "execution_count": 8,
   "metadata": {},
   "outputs": [],
   "source": [
    "# fetch log data\n",
    "urls = [url_4x, url_opp_location, url_opp_distance]\n",
    "pool = ThreadPool(cpu_count())\n",
    "results = pool.map(load_data_parallel, urls)\n",
    "pool.close()\n",
    "pool.join()\n",
    "\n",
    "data_4x = results[0]\n",
    "data_opp_loc = results[1]\n",
    "data_opp_dist = results[2]"
   ]
  },
  {
   "cell_type": "markdown",
   "metadata": {},
   "source": [
    "## Post-Study Survey Data"
   ]
  },
  {
   "cell_type": "code",
   "execution_count": 9,
   "metadata": {},
   "outputs": [],
   "source": [
    "def load_post_study_data(url, new_col_names=[]):\n",
    "    \"\"\"\n",
    "    Loads in and returns post-study as a Pandas DataFrame with header remapped according to values above.\n",
    "    \n",
    "    Inputs:\n",
    "        url (string): url of spreadsheet to load in\n",
    "        new_col_names (list): list of strings for new column names\n",
    "    \n",
    "    Returns:\n",
    "        (DataFrame): Pandas DataFrame with header remapped above\n",
    "    \"\"\"\n",
    "    url_connection = gc.open_by_url(url)\n",
    "    raw_data = url_connection.get_worksheet(0).get_all_values()\n",
    "    \n",
    "    output_df = pd.DataFrame(raw_data[1:], columns=raw_data[0])\n",
    "    if len(new_col_names) > 0:\n",
    "        output_df.columns = new_col_names\n",
    "\n",
    "    return output_df"
   ]
  },
  {
   "cell_type": "code",
   "execution_count": 10,
   "metadata": {},
   "outputs": [
    {
     "data": {
      "text/html": [
       "<div>\n",
       "<style scoped>\n",
       "    .dataframe tbody tr th:only-of-type {\n",
       "        vertical-align: middle;\n",
       "    }\n",
       "\n",
       "    .dataframe tbody tr th {\n",
       "        vertical-align: top;\n",
       "    }\n",
       "\n",
       "    .dataframe thead th {\n",
       "        text-align: right;\n",
       "    }\n",
       "</style>\n",
       "<table border=\"1\" class=\"dataframe\">\n",
       "  <thead>\n",
       "    <tr style=\"text-align: right;\">\n",
       "      <th></th>\n",
       "      <th>timestamp</th>\n",
       "      <th>email_address</th>\n",
       "      <th>name</th>\n",
       "      <th>overall_value</th>\n",
       "      <th>overall_disruption</th>\n",
       "      <th>future_use</th>\n",
       "      <th>overall_experience</th>\n",
       "      <th>explore_respond</th>\n",
       "      <th>explore_not_respond</th>\n",
       "      <th>explore_disruption</th>\n",
       "      <th>expand_info_going</th>\n",
       "      <th>expand_info_going_notgo</th>\n",
       "      <th>expand_info_notuseful</th>\n",
       "      <th>expand_info_altprefs</th>\n",
       "      <th>expand_info_disruption</th>\n",
       "      <th>expand_info_number_notif</th>\n",
       "      <th>exploit_atloc</th>\n",
       "      <th>exploit_enroute</th>\n",
       "      <th>exploit_disruption</th>\n",
       "      <th>miscellaneous</th>\n",
       "    </tr>\n",
       "  </thead>\n",
       "  <tbody>\n",
       "    <tr>\n",
       "      <th>0</th>\n",
       "      <td>3/18/2018 23:17:30</td>\n",
       "      <td>allisonsun2018@u.northwestern.edu</td>\n",
       "      <td>Allison Sun</td>\n",
       "      <td>3: Neutral</td>\n",
       "      <td>2: Rarely, in less than 10% of the notifications</td>\n",
       "      <td>4: Somewhat likely</td>\n",
       "      <td>I liked being notified for free food in Ford a...</td>\n",
       "      <td>Always responded to the notifications for Ford...</td>\n",
       "      <td>Can't think of any instances when I didn't res...</td>\n",
       "      <td>2: Rarely disruptive</td>\n",
       "      <td>Only went the free food places in ford because...</td>\n",
       "      <td>N/A</td>\n",
       "      <td>N/A</td>\n",
       "      <td>Coffee shops that I frequent more like Peets a...</td>\n",
       "      <td>2: Rarely disruptive</td>\n",
       "      <td>2: Fewer than I would have liked</td>\n",
       "      <td>N/A</td>\n",
       "      <td>N/A</td>\n",
       "      <td>0: N/A</td>\n",
       "      <td></td>\n",
       "    </tr>\n",
       "  </tbody>\n",
       "</table>\n",
       "</div>"
      ],
      "text/plain": [
       "            timestamp                      email_address         name  \\\n",
       "0  3/18/2018 23:17:30  allisonsun2018@u.northwestern.edu  Allison Sun   \n",
       "\n",
       "  overall_value                                overall_disruption  \\\n",
       "0    3: Neutral  2: Rarely, in less than 10% of the notifications   \n",
       "\n",
       "           future_use                                 overall_experience  \\\n",
       "0  4: Somewhat likely  I liked being notified for free food in Ford a...   \n",
       "\n",
       "                                     explore_respond  \\\n",
       "0  Always responded to the notifications for Ford...   \n",
       "\n",
       "                                 explore_not_respond    explore_disruption  \\\n",
       "0  Can't think of any instances when I didn't res...  2: Rarely disruptive   \n",
       "\n",
       "                                   expand_info_going expand_info_going_notgo  \\\n",
       "0  Only went the free food places in ford because...                     N/A   \n",
       "\n",
       "  expand_info_notuseful                               expand_info_altprefs  \\\n",
       "0                   N/A  Coffee shops that I frequent more like Peets a...   \n",
       "\n",
       "  expand_info_disruption          expand_info_number_notif exploit_atloc  \\\n",
       "0   2: Rarely disruptive  2: Fewer than I would have liked           N/A   \n",
       "\n",
       "  exploit_enroute exploit_disruption miscellaneous  \n",
       "0             N/A             0: N/A                "
      ]
     },
     "execution_count": 10,
     "metadata": {},
     "output_type": "execute_result"
    }
   ],
   "source": [
    "# setup 4X post-survey data\n",
    "url_4x = 'https://docs.google.com/spreadsheets/d/1rCH32DdAfnOSoe-qNIQgO7rQei2VATHxLlGfP0bCNg8/edit#gid=339656711'\n",
    "cols_4x = [\n",
    "    'timestamp',\n",
    "    'email_address',\n",
    "    'name',\n",
    "    'overall_value',\n",
    "    'overall_disruption',\n",
    "    'future_use',\n",
    "    'overall_experience',\n",
    "    'explore_respond',\n",
    "    'explore_not_respond',\n",
    "    'explore_disruption',\n",
    "    'expand_info_going',\n",
    "    'expand_info_going_notgo',\n",
    "    'expand_info_notuseful',\n",
    "    'expand_info_altprefs',\n",
    "    'expand_info_disruption',\n",
    "    'expand_info_number_notif',\n",
    "    'exploit_atloc',\n",
    "    'exploit_enroute',\n",
    "    'exploit_disruption',\n",
    "    'miscellaneous'\n",
    "]\n",
    "post_study_4x = load_post_study_data(url_4x, new_col_names=cols_4x)\n",
    "post_study_4x.to_csv('./analysis/post_study_4x.csv', index=False)\n",
    "post_study_4x.head(1)"
   ]
  },
  {
   "cell_type": "code",
   "execution_count": 11,
   "metadata": {},
   "outputs": [
    {
     "data": {
      "text/html": [
       "<div>\n",
       "<style scoped>\n",
       "    .dataframe tbody tr th:only-of-type {\n",
       "        vertical-align: middle;\n",
       "    }\n",
       "\n",
       "    .dataframe tbody tr th {\n",
       "        vertical-align: top;\n",
       "    }\n",
       "\n",
       "    .dataframe thead th {\n",
       "        text-align: right;\n",
       "    }\n",
       "</style>\n",
       "<table border=\"1\" class=\"dataframe\">\n",
       "  <thead>\n",
       "    <tr style=\"text-align: right;\">\n",
       "      <th></th>\n",
       "      <th>timestamp</th>\n",
       "      <th>email_address</th>\n",
       "      <th>name</th>\n",
       "      <th>overall_value</th>\n",
       "      <th>overall_disruption</th>\n",
       "      <th>future_use</th>\n",
       "      <th>overall_experience</th>\n",
       "      <th>explore_respond</th>\n",
       "      <th>explore_not_respond</th>\n",
       "      <th>explore_disruption</th>\n",
       "      <th>miscellaneous</th>\n",
       "    </tr>\n",
       "  </thead>\n",
       "  <tbody>\n",
       "    <tr>\n",
       "      <th>0</th>\n",
       "      <td>3/19/2018 18:45:44</td>\n",
       "      <td>abigailpetrotta2021@u.northwestern.edu</td>\n",
       "      <td>Abigail Petrotta</td>\n",
       "      <td>4: Valuable</td>\n",
       "      <td>2: Rarely, in less than 10% of the notifications</td>\n",
       "      <td>4: Somewhat likely</td>\n",
       "      <td>Super easy to use, did not like how there was ...</td>\n",
       "      <td>I wanted to help this study</td>\n",
       "      <td>I did not see the notification until later</td>\n",
       "      <td>1: Not disruptive, easy to do and continue on ...</td>\n",
       "      <td></td>\n",
       "    </tr>\n",
       "  </tbody>\n",
       "</table>\n",
       "</div>"
      ],
      "text/plain": [
       "            timestamp                           email_address  \\\n",
       "0  3/19/2018 18:45:44  abigailpetrotta2021@u.northwestern.edu   \n",
       "\n",
       "               name overall_value  \\\n",
       "0  Abigail Petrotta   4: Valuable   \n",
       "\n",
       "                                 overall_disruption          future_use  \\\n",
       "0  2: Rarely, in less than 10% of the notifications  4: Somewhat likely   \n",
       "\n",
       "                                  overall_experience  \\\n",
       "0  Super easy to use, did not like how there was ...   \n",
       "\n",
       "               explore_respond                         explore_not_respond  \\\n",
       "0  I wanted to help this study  I did not see the notification until later   \n",
       "\n",
       "                                  explore_disruption miscellaneous  \n",
       "0  1: Not disruptive, easy to do and continue on ...                "
      ]
     },
     "execution_count": 11,
     "metadata": {},
     "output_type": "execute_result"
    }
   ],
   "source": [
    "# setup 4X post-survey data\n",
    "url_opp_loc = 'https://docs.google.com/spreadsheets/d/15x6yST-eJh1azQJxQRtkOb37E397RJhzG-3CDbPCflk/edit#gid=1062479755'\n",
    "cols_opp_loc = [\n",
    "    'timestamp',\n",
    "    'email_address',\n",
    "    'name',\n",
    "    'overall_value',\n",
    "    'overall_disruption',\n",
    "    'future_use',\n",
    "    'overall_experience',\n",
    "    'explore_respond',\n",
    "    'explore_not_respond',\n",
    "    'explore_disruption',\n",
    "    'miscellaneous'\n",
    "]\n",
    "post_study_opp_loc = load_post_study_data(url_opp_loc, new_col_names=cols_opp_loc)\n",
    "post_study_opp_loc.to_csv('./analysis/post_study_opp_loc.csv', index=False)\n",
    "post_study_opp_loc.head(1)"
   ]
  },
  {
   "cell_type": "code",
   "execution_count": 12,
   "metadata": {},
   "outputs": [
    {
     "data": {
      "text/html": [
       "<div>\n",
       "<style scoped>\n",
       "    .dataframe tbody tr th:only-of-type {\n",
       "        vertical-align: middle;\n",
       "    }\n",
       "\n",
       "    .dataframe tbody tr th {\n",
       "        vertical-align: top;\n",
       "    }\n",
       "\n",
       "    .dataframe thead th {\n",
       "        text-align: right;\n",
       "    }\n",
       "</style>\n",
       "<table border=\"1\" class=\"dataframe\">\n",
       "  <thead>\n",
       "    <tr style=\"text-align: right;\">\n",
       "      <th></th>\n",
       "      <th>timestamp</th>\n",
       "      <th>email_address</th>\n",
       "      <th>name</th>\n",
       "      <th>overall_value</th>\n",
       "      <th>overall_disruption</th>\n",
       "      <th>future_use</th>\n",
       "      <th>overall_experience</th>\n",
       "      <th>explore_respond</th>\n",
       "      <th>explore_not_respond</th>\n",
       "      <th>explore_disruption</th>\n",
       "      <th>expand_noinfo</th>\n",
       "      <th>expand_noinfo_disruption</th>\n",
       "      <th>expand_noinfo_number_notif</th>\n",
       "      <th>expand_info_going</th>\n",
       "      <th>expand_info_going_notgo</th>\n",
       "      <th>expand_info_notuseful</th>\n",
       "      <th>expand_info_altpref</th>\n",
       "      <th>expand_info_disruption</th>\n",
       "      <th>expand_info_number_notif</th>\n",
       "      <th>miscellaneous</th>\n",
       "    </tr>\n",
       "  </thead>\n",
       "  <tbody>\n",
       "    <tr>\n",
       "      <th>0</th>\n",
       "      <td>3/19/2018 9:16:56</td>\n",
       "      <td>allyodo13@gmail.com</td>\n",
       "      <td>Ally O'Donnell</td>\n",
       "      <td>2: Invaluable</td>\n",
       "      <td>3: Occasionally, in about 30% of the notificat...</td>\n",
       "      <td>1: Not likely</td>\n",
       "      <td>The most frustrating thing was when the app wo...</td>\n",
       "      <td>It wasn't an inconvenience for me to respond. ...</td>\n",
       "      <td>I was in a rush to class or I didn't see the n...</td>\n",
       "      <td>3: Occasionally disruptive</td>\n",
       "      <td>I just didn't want to go. I never went to look...</td>\n",
       "      <td>5: A great deal disruptive, I had to stop what...</td>\n",
       "      <td>5: Far more than I would have liked</td>\n",
       "      <td>I already had a routine in mind. I never went ...</td>\n",
       "      <td>No</td>\n",
       "      <td>I never got notifications for free pizza, whic...</td>\n",
       "      <td>Places specifically in tech, lesser known loca...</td>\n",
       "      <td>3: Occasionally disruptive</td>\n",
       "      <td>4: More than I would have liked</td>\n",
       "      <td></td>\n",
       "    </tr>\n",
       "  </tbody>\n",
       "</table>\n",
       "</div>"
      ],
      "text/plain": [
       "           timestamp        email_address            name  overall_value  \\\n",
       "0  3/19/2018 9:16:56  allyodo13@gmail.com  Ally O'Donnell  2: Invaluable   \n",
       "\n",
       "                                  overall_disruption     future_use  \\\n",
       "0  3: Occasionally, in about 30% of the notificat...  1: Not likely   \n",
       "\n",
       "                                  overall_experience  \\\n",
       "0  The most frustrating thing was when the app wo...   \n",
       "\n",
       "                                     explore_respond  \\\n",
       "0  It wasn't an inconvenience for me to respond. ...   \n",
       "\n",
       "                                 explore_not_respond  \\\n",
       "0  I was in a rush to class or I didn't see the n...   \n",
       "\n",
       "           explore_disruption  \\\n",
       "0  3: Occasionally disruptive   \n",
       "\n",
       "                                       expand_noinfo  \\\n",
       "0  I just didn't want to go. I never went to look...   \n",
       "\n",
       "                            expand_noinfo_disruption  \\\n",
       "0  5: A great deal disruptive, I had to stop what...   \n",
       "\n",
       "            expand_noinfo_number_notif  \\\n",
       "0  5: Far more than I would have liked   \n",
       "\n",
       "                                   expand_info_going expand_info_going_notgo  \\\n",
       "0  I already had a routine in mind. I never went ...                      No   \n",
       "\n",
       "                               expand_info_notuseful  \\\n",
       "0  I never got notifications for free pizza, whic...   \n",
       "\n",
       "                                 expand_info_altpref  \\\n",
       "0  Places specifically in tech, lesser known loca...   \n",
       "\n",
       "       expand_info_disruption         expand_info_number_notif miscellaneous  \n",
       "0  3: Occasionally disruptive  4: More than I would have liked                "
      ]
     },
     "execution_count": 12,
     "metadata": {},
     "output_type": "execute_result"
    }
   ],
   "source": [
    "# setup 4X post-survey data\n",
    "url_opp_dist = 'https://docs.google.com/spreadsheets/d/1YJVo7ouNklEXb1DLZlzGttoaTDk-z2WJxVPIRmB5hyw/edit#gid=446248525'\n",
    "cols_opp_dist = [\n",
    "    'timestamp',\n",
    "    'email_address',\n",
    "    'name',\n",
    "    'overall_value',\n",
    "    'overall_disruption',\n",
    "    'future_use',\n",
    "    'overall_experience',\n",
    "    'explore_respond',\n",
    "    'explore_not_respond',\n",
    "    'explore_disruption',\n",
    "    'expand_noinfo',\n",
    "    'expand_noinfo_disruption',\n",
    "    'expand_noinfo_number_notif',\n",
    "    'expand_info_going',\n",
    "    'expand_info_going_notgo',\n",
    "    'expand_info_notuseful',\n",
    "    'expand_info_altpref',\n",
    "    'expand_info_disruption',\n",
    "    'expand_info_number_notif',\n",
    "    'miscellaneous'\n",
    "]\n",
    "post_study_opp_dist = load_post_study_data(url_opp_dist, new_col_names=cols_opp_dist)\n",
    "post_study_opp_dist.to_csv('./analysis/post_study_opp_dist.csv', index=False)\n",
    "post_study_opp_dist.head(1)"
   ]
  },
  {
   "cell_type": "markdown",
   "metadata": {},
   "source": [
    "# Data Setup\n",
    "This section of the notebook is used to monitor the data coming in from the study. Some measures we see here may be used within the paper"
   ]
  },
  {
   "cell_type": "markdown",
   "metadata": {},
   "source": [
    "## Common Functions and Data"
   ]
  },
  {
   "cell_type": "code",
   "execution_count": 13,
   "metadata": {},
   "outputs": [],
   "source": [
    "def get_merged_at_location(tasklocations, atlocnotif, atlocresp):\n",
    "    \"\"\"\n",
    "    Sets up a Pandas DataFrame with (1) TaskLocation, (2) NotificationSent, and (3) NotificationResponse data\n",
    "    merged together for AtLocation case.\n",
    "    \n",
    "    Input:\n",
    "        tasklocations (DataFrame): DataFrame of TaskLocations\n",
    "        atlocnotif (DataFrame): DataFrame of AtLocationNotificationsSent\n",
    "        atlocresp (DataFrame): DataFrame of AtLocationNotificationResponses\n",
    "    \n",
    "    Return:\n",
    "        (DataFrame): merged DataFrame of inputs\n",
    "    \"\"\"\n",
    "    # get AtLocationNotifications without duplicates\n",
    "    atlocnotif.drop_duplicates(subset=['taskLocationId', 'vendorId'], keep='last', inplace=True)\n",
    "    atlocnotif.drop(['objectId', 'createdAt', 'updatedAt'], axis=1, inplace=True)\n",
    "\n",
    "    # get AtLocationNotificationResponses without duplicates\n",
    "    atlocresp.drop_duplicates(subset=['taskLocationId', 'vendorId'], keep='last', inplace=True)\n",
    "    atlocresp.drop(['objectId', 'createdAt', 'updatedAt'], axis=1, inplace=True)\n",
    "    \n",
    "    # combine AtLocation notifications and responses, with some data from TaskLocations\n",
    "    atloc = atlocnotif.merge(tasklocations[['objectId', 'locationType', 'locationName', 'beaconId']],\n",
    "                             how='inner', left_on='taskLocationId', right_on='objectId')\n",
    "    atloc = atloc.merge(atlocresp[['question', 'response', 'timestamp', 'taskLocationId', 'vendorId']],\n",
    "                        how='left', on=['taskLocationId', 'vendorId'])\n",
    "    \n",
    "    # clean columns\n",
    "    del atloc['objectId']\n",
    "    atloc.rename(columns={'timestamp_x': 'notificationTimestamp', 'timestamp_y': 'responseTimestamp'},\n",
    "                 inplace=True)\n",
    "    \n",
    "    # fill blank columns\n",
    "    atloc[['question', 'response']] = atloc[['question', 'response']].fillna(value='Missed Notification')\n",
    "    atloc[['distanceToLocation', 'responseTimestamp']] = atloc[['distanceToLocation', 'responseTimestamp']].fillna(value=-1)\n",
    "\n",
    "    # type columns\n",
    "    atloc_int_cols = ['gmtOffset','notificationTimestamp', 'responseTimestamp']\n",
    "    atloc[atloc_int_cols] = atloc[atloc_int_cols].apply(lambda x: x.astype(np.int64))\n",
    "    \n",
    "    # add remappedResponses column \n",
    "    invalid_responses = ['I don\\'t know', 'com.apple.UNNotificationDismissActionIdentifier', 'Missed Notification']\n",
    "    atloc['remappedResponses'] = atloc['response']\n",
    "    atloc.loc[~atloc['remappedResponses'].isin(invalid_responses), 'remappedResponses'] = 'Valid Response'\n",
    "    atloc.loc[atloc['remappedResponses'] == 'com.apple.UNNotificationDismissActionIdentifier', 'remappedResponses'] = 'Dismissed Notification'\n",
    "    atloc.loc[atloc['remappedResponses'] == 'I don\\'t know', 'remappedResponses'] = '\"I don\\'t know\" Response'\n",
    "    \n",
    "    # reorder columns\n",
    "    atloc_col_ordering = ['taskLocationId', 'vendorId', 'beaconId', 'distanceToLocation',\n",
    "                          'locationType', 'locationName','gmtOffset', 'notificationTimestamp', 'notificationString',\n",
    "                          'question', 'response', 'remappedResponses', 'responseTimestamp']\n",
    "    atloc = atloc[atloc_col_ordering]\n",
    "    \n",
    "    return atloc"
   ]
  },
  {
   "cell_type": "code",
   "execution_count": 14,
   "metadata": {},
   "outputs": [],
   "source": [
    "def get_merged_at_distance(tasklocations, atdistnotif, atdistresp):\n",
    "    \"\"\"\n",
    "    Sets up a Pandas DataFrame with (1) TaskLocation, (2) NotificationSent, and (3) NotificationResponse data\n",
    "    merged together for AtDistance case.\n",
    "    \n",
    "    Input:\n",
    "        tasklocations (DataFrame): DataFrame of TaskLocations\n",
    "        atdistnotif (DataFrame): DataFrame of AtDistanceNotificationsSent\n",
    "        atdistresp (DataFrame): DataFrame of AtDistanceNotificationResponses\n",
    "    \n",
    "    Return:\n",
    "        (DataFrame): merged DataFrame of inputs\n",
    "    \"\"\"\n",
    "    # get AtDistanceNotifications without duplicates\n",
    "    atdistnotif.drop_duplicates(subset=['taskLocationId', 'vendorId'], keep='last', inplace=True)\n",
    "    atdistnotif.drop(['objectId', 'createdAt', 'updatedAt'], axis=1, inplace=True)\n",
    "\n",
    "    # get AtDistanceNotificationResponses without duplicates\n",
    "    atdistresp.drop_duplicates(subset=['taskLocationId', 'vendorId'], keep='last', inplace=True)\n",
    "    atdistresp.drop(['objectId', 'createdAt', 'updatedAt'], axis=1, inplace=True)\n",
    "    \n",
    "    # combine AtDistance notifications and responses, with some data from TaskLocations\n",
    "    atdist = atdistnotif.merge(tasklocations[['objectId', 'beaconId', 'locationName']],\n",
    "                               how='inner', left_on='taskLocationId', right_on='objectId')\n",
    "    atdist = atdist.merge(atdistresp[['emaResponse', 'timestamp', 'taskLocationId', 'vendorId']],\n",
    "                          how='left', on=['taskLocationId', 'vendorId'])\n",
    "    \n",
    "    # clean columns\n",
    "    del atdist['objectId']\n",
    "    atdist.rename(columns={'timestamp_x': 'notificationTimestamp', 'timestamp_y': 'responseTimestamp'}, inplace=True)\n",
    "\n",
    "    atdist_col_ordering = ['taskLocationId', 'vendorId', 'beaconId', 'distanceToLocation', 'bearingToLocation',\n",
    "                           'locationType', 'locationName', 'notificationDistance', 'sentBy', 'infoIncluded',\n",
    "                           'gmtOffset', 'notificationTimestamp', 'emaResponse', 'responseTimestamp']\n",
    "    atdist = atdist[atdist_col_ordering]\n",
    "    \n",
    "    # fill blank columns\n",
    "    atdist['emaResponse'] = atdist['emaResponse'].fillna(value='Missed Notification')\n",
    "    atdist['responseTimestamp'] = atdist['responseTimestamp'].fillna(value=-1)\n",
    "    \n",
    "    # remap columns\n",
    "    atdist.loc[atdist['emaResponse'] == 'com.apple.UNNotificationDismissActionIdentifier', 'emaResponse'] = 'Dismissed Notification'\n",
    "\n",
    "    # type columns\n",
    "    atdist_int_cols = ['gmtOffset','notificationTimestamp', 'responseTimestamp']\n",
    "    atdist[atdist_int_cols] = atdist[atdist_int_cols].apply(lambda x: x.astype(np.int64))\n",
    "    \n",
    "    return atdist"
   ]
  },
  {
   "cell_type": "code",
   "execution_count": 15,
   "metadata": {},
   "outputs": [],
   "source": [
    "def get_merged_en_route(enroutelocations, enroutenotif, enrouteresp):\n",
    "    \"\"\"\n",
    "    Sets up a Pandas DataFrame with (1) EnRouteLocations, (2) NotificationSent, and (3) NotificationResponse data\n",
    "    merged together for EnRoute case.\n",
    "    \n",
    "    Input:\n",
    "        enroutelocations (DataFrame): DataFrame of EnRouteLocations\n",
    "        enroutenotif (DataFrame): DataFrame of EnRouteNotificationsSent\n",
    "        enrouteresp (DataFrame): DataFrame of EnRouteNotificationResponses\n",
    "    \n",
    "    Return:\n",
    "        (DataFrame): merged DataFrame of inputs\n",
    "    \"\"\"\n",
    "    # get EnRouteNotifications without duplicates\n",
    "    enroutenotif.drop_duplicates(subset=['enRouteLocationId', 'vendorId'], keep='last', inplace=True)\n",
    "    enroutenotif.drop(['objectId', 'createdAt', 'updatedAt'], axis=1, inplace=True)\n",
    "\n",
    "    # get AtDistanceNotificationResponses without duplicates\n",
    "    enrouteresp.drop_duplicates(subset=['enRouteLocationId', 'vendorId'], keep='last', inplace=True)\n",
    "    enrouteresp.drop(['objectId', 'createdAt', 'updatedAt'], axis=1, inplace=True)\n",
    "    \n",
    "    # combine EnRouteNotifications and responses, with some data from EnRouteLocations\n",
    "    enroute = enroutenotif.merge(enroutelocations[['objectId', 'locationName', 'locationType']],\n",
    "                               how='inner', left_on='enRouteLocationId', right_on='objectId')\n",
    "    enroute = enroute.merge(enrouteresp[['questionResponse', 'timestamp', 'enRouteLocationId', 'vendorId']],\n",
    "                            how='left', on=['enRouteLocationId', 'vendorId'])\n",
    "    \n",
    "    # clean columns\n",
    "    del enroute['objectId']\n",
    "    enroute.rename(columns={'timestamp_x': 'notificationTimestamp', 'timestamp_y': 'responseTimestamp'}, inplace=True)\n",
    "\n",
    "    enroute_col_ordering = ['enRouteLocationId', 'vendorId', 'distanceToLocation', 'locationType', 'locationName',\n",
    "                           'gmtOffset', 'notificationTimestamp', 'questionResponse', 'responseTimestamp']\n",
    "    enroute = enroute[enroute_col_ordering]\n",
    "    \n",
    "    # fill blank columns\n",
    "    enroute['questionResponse'] = enroute['questionResponse'].fillna(value='Missed Notification')\n",
    "    enroute.loc[enroute['questionResponse'] == 'com.apple.UNNotificationDismissActionIdentifier', 'questionResponse'] = 'Dismissed Notification'\n",
    "    \n",
    "    enroute['responseTimestamp'] = enroute['responseTimestamp'].fillna(value=-1)\n",
    "    \n",
    "     # add validResponse column \n",
    "    invalid_responses = ['I don\\'t know', 'com.apple.UNNotificationDismissActionIdentifier', 'Missed Notification']\n",
    "    enroute['remappedResponses'] = enroute['questionResponse']\n",
    "    enroute.loc[~enroute['remappedResponses'].isin(invalid_responses), 'remappedResponses'] = 'Valid Response'\n",
    "    enroute.loc[enroute['remappedResponses'] == 'I don\\'t know', 'remappedResponses'] = '\"I don\\'t know\" Response'\n",
    "\n",
    "    # type columns\n",
    "    enroute_int_cols = ['gmtOffset','notificationTimestamp', 'responseTimestamp']\n",
    "    enroute[enroute_int_cols] = enroute[enroute_int_cols].apply(lambda x: x.astype(np.int64))\n",
    "    \n",
    "    return enroute"
   ]
  },
  {
   "cell_type": "code",
   "execution_count": 16,
   "metadata": {},
   "outputs": [],
   "source": [
    "def get_dead_apps(serverlog):\n",
    "    \"\"\"\n",
    "    Returns a list of lists for dead apps that server has notified.\n",
    "    \n",
    "    Input: \n",
    "        server (DataFrame): DataFrame of ServerLog\n",
    "    \n",
    "    Return:\n",
    "        (list of lists of strings): all dead applications notified via push\n",
    "    \"\"\"\n",
    "    notify_log_strings = serverlog[serverlog['logString'].str.contains('Notified dead')]['logString']\n",
    "    deadapp_notif_list = list(notify_log_strings.apply(lambda x: x[x.find('[') + 1:-1].split(', ')))\n",
    "    return deadapp_notif_list"
   ]
  },
  {
   "cell_type": "code",
   "execution_count": 17,
   "metadata": {},
   "outputs": [],
   "source": [
    "location_scaffolds = {}\n",
    "for index, row in data_4x['LocationTypeMetadata'].iterrows():\n",
    "    location_scaffolds[row['locationType']] = row['scaffold']"
   ]
  },
  {
   "cell_type": "markdown",
   "metadata": {},
   "source": [
    "## 4X Log Data Setup"
   ]
  },
  {
   "cell_type": "code",
   "execution_count": 18,
   "metadata": {},
   "outputs": [],
   "source": [
    "users_4x = deepcopy(data_4x['_User'])\n",
    "users_4x = users_4x[users_4x['vendorId'] != '']"
   ]
  },
  {
   "cell_type": "code",
   "execution_count": 20,
   "metadata": {},
   "outputs": [
    {
     "name": "stdout",
     "output_type": "stream",
     "text": [
      "4X | At location notifications: 735, At location responses: 333\n",
      "4X | At distance notifications: 206, At distance responses: 126\n",
      "4X | En route notifications: 15, En route responses: 1\n"
     ]
    }
   ],
   "source": [
    "tasklocations_4x = deepcopy(data_4x['TaskLocations'])\n",
    "enroutelocations_4x = deepcopy(data_4x['EnRouteLocations'])\n",
    "\n",
    "atlocnotif_4x = deepcopy(data_4x['AtLocationNotificationsSent'])\n",
    "atlocresp_4x = deepcopy(data_4x['AtLocationNotificationResponses'])\n",
    "\n",
    "atdistnotif_4x = deepcopy(data_4x['AtDistanceNotificationsSent'])\n",
    "atdistresp_4x = deepcopy(data_4x['AtDistanceNotificationResponses'])\n",
    "\n",
    "enroutenotif_4x = deepcopy(data_4x['EnRouteNotificationsSent'])\n",
    "enrouteresp_4x = deepcopy(data_4x['EnRouteNotificationResponses'])\n",
    "\n",
    "print('4X | At location notifications: {}, At location responses: {}'.format(len(atlocnotif_4x), len(atlocresp_4x)))\n",
    "print('4X | At distance notifications: {}, At distance responses: {}'.format(len(atdistnotif_4x), len(atdistresp_4x)))\n",
    "print('4X | En route notifications: {}, En route responses: {}'.format(len(enroutenotif_4x), len(enrouteresp_4x)))"
   ]
  },
  {
   "cell_type": "code",
   "execution_count": 21,
   "metadata": {},
   "outputs": [
    {
     "name": "stdout",
     "output_type": "stream",
     "text": [
      "4X | At location notifications: 673, At location responses: 300\n",
      "4X | At distance notifications: 201, At distance responses: 123\n",
      "4X | En route notifications: 15, En route responses: 1\n"
     ]
    }
   ],
   "source": [
    "# remove bad users\n",
    "bad_users_4x = ['0E322CAE-1091-4C9D-835F-24C36AA2A4D7']\n",
    "\n",
    "atlocnotif_4x = atlocnotif_4x[~atlocnotif_4x['vendorId'].isin(bad_users_4x)]\n",
    "atlocresp_4x = atlocresp_4x[~atlocresp_4x['vendorId'].isin(bad_users_4x)]\n",
    "\n",
    "atdistnotif_4x = atdistnotif_4x[~atdistnotif_4x['vendorId'].isin(bad_users_4x)]\n",
    "atdistresp_4x = atdistresp_4x[~atdistresp_4x['vendorId'].isin(bad_users_4x)]\n",
    "\n",
    "enroutenotif_4x = enroutenotif_4x[~enroutenotif_4x['vendorId'].isin(bad_users_4x)]\n",
    "enrouteresp_4x = enrouteresp_4x[~enrouteresp_4x['vendorId'].isin(bad_users_4x)]\n",
    "\n",
    "print('4X | At location notifications: {}, At location responses: {}'.format(len(atlocnotif_4x), len(atlocresp_4x)))\n",
    "print('4X | At distance notifications: {}, At distance responses: {}'.format(len(atdistnotif_4x), len(atdistresp_4x)))\n",
    "print('4X | En route notifications: {}, En route responses: {}'.format(len(enroutenotif_4x), len(enrouteresp_4x)))"
   ]
  },
  {
   "cell_type": "code",
   "execution_count": 22,
   "metadata": {},
   "outputs": [],
   "source": [
    "# merged data frame with all AtLocation data\n",
    "atloc_4x = get_merged_at_location(deepcopy(tasklocations_4x),\n",
    "                                  deepcopy(atlocnotif_4x),\n",
    "                                  deepcopy(atlocresp_4x))"
   ]
  },
  {
   "cell_type": "code",
   "execution_count": 23,
   "metadata": {},
   "outputs": [],
   "source": [
    "# merged data frame with all AtDistance data\n",
    "atdist_4x = get_merged_at_distance(deepcopy(tasklocations_4x),\n",
    "                                   deepcopy(atdistnotif_4x),\n",
    "                                   deepcopy(atdistresp_4x))\n",
    "atdist_4x = atdist_4x[atdist_4x['infoIncluded']] # 4X Only: remove cases without info"
   ]
  },
  {
   "cell_type": "code",
   "execution_count": 24,
   "metadata": {},
   "outputs": [
    {
     "data": {
      "text/html": [
       "<div>\n",
       "<style scoped>\n",
       "    .dataframe tbody tr th:only-of-type {\n",
       "        vertical-align: middle;\n",
       "    }\n",
       "\n",
       "    .dataframe tbody tr th {\n",
       "        vertical-align: top;\n",
       "    }\n",
       "\n",
       "    .dataframe thead th {\n",
       "        text-align: right;\n",
       "    }\n",
       "</style>\n",
       "<table border=\"1\" class=\"dataframe\">\n",
       "  <thead>\n",
       "    <tr style=\"text-align: right;\">\n",
       "      <th></th>\n",
       "      <th>taskLocationId</th>\n",
       "      <th>vendorId</th>\n",
       "      <th>beaconId_x</th>\n",
       "      <th>distanceToLocation_x</th>\n",
       "      <th>bearingToLocation</th>\n",
       "      <th>locationType_x</th>\n",
       "      <th>locationName_x</th>\n",
       "      <th>notificationDistance</th>\n",
       "      <th>sentBy</th>\n",
       "      <th>infoIncluded</th>\n",
       "      <th>...</th>\n",
       "      <th>distanceToLocation_y</th>\n",
       "      <th>locationType_y</th>\n",
       "      <th>locationName_y</th>\n",
       "      <th>gmtOffset_y</th>\n",
       "      <th>notificationTimestamp_y</th>\n",
       "      <th>notificationString</th>\n",
       "      <th>question</th>\n",
       "      <th>response</th>\n",
       "      <th>remappedResponses</th>\n",
       "      <th>responseTimestamp_y</th>\n",
       "    </tr>\n",
       "  </thead>\n",
       "  <tbody>\n",
       "    <tr>\n",
       "      <th>0</th>\n",
       "      <td>nERqAcXEd5</td>\n",
       "      <td>F869C396-591A-4F19-895B-5E5871924B45</td>\n",
       "      <td></td>\n",
       "      <td>298.826807</td>\n",
       "      <td>314.610937</td>\n",
       "      <td>freefood</td>\n",
       "      <td>Ford Second Floor (outside McCormick Career De...</td>\n",
       "      <td>300</td>\n",
       "      <td>geofence trip</td>\n",
       "      <td>True</td>\n",
       "      <td>...</td>\n",
       "      <td>24.425593</td>\n",
       "      <td>freefood</td>\n",
       "      <td>Ford Second Floor (outside McCormick Career De...</td>\n",
       "      <td>-21600.0</td>\n",
       "      <td>1.520283e+09</td>\n",
       "      <td>Notified for nERqAcXEd5 (42.057016, -87.676649...</td>\n",
       "      <td>stillleft</td>\n",
       "      <td>I don't know</td>\n",
       "      <td>\"I don't know\" Response</td>\n",
       "      <td>1.520283e+09</td>\n",
       "    </tr>\n",
       "    <tr>\n",
       "      <th>1</th>\n",
       "      <td>nERqAcXEd5</td>\n",
       "      <td>3950424A-7986-4771-B867-E4A5624D00ED</td>\n",
       "      <td></td>\n",
       "      <td>316.224290</td>\n",
       "      <td>138.828694</td>\n",
       "      <td>freefood</td>\n",
       "      <td>Ford Second Floor (outside McCormick Career De...</td>\n",
       "      <td>300</td>\n",
       "      <td>geofence trip</td>\n",
       "      <td>True</td>\n",
       "      <td>...</td>\n",
       "      <td>20.557349</td>\n",
       "      <td>freefood</td>\n",
       "      <td>Ford Second Floor (outside McCormick Career De...</td>\n",
       "      <td>-21600.0</td>\n",
       "      <td>1.520283e+09</td>\n",
       "      <td>Notified for nERqAcXEd5 (42.057016, -87.676649...</td>\n",
       "      <td>stillleft</td>\n",
       "      <td>no</td>\n",
       "      <td>Valid Response</td>\n",
       "      <td>1.520283e+09</td>\n",
       "    </tr>\n",
       "    <tr>\n",
       "      <th>2</th>\n",
       "      <td>vKrOItaLeS</td>\n",
       "      <td>F869C396-591A-4F19-895B-5E5871924B45</td>\n",
       "      <td></td>\n",
       "      <td>301.857400</td>\n",
       "      <td>344.121791</td>\n",
       "      <td>freefood</td>\n",
       "      <td>Ford Ground Floor (by the staircase)</td>\n",
       "      <td>300</td>\n",
       "      <td>geofence trip</td>\n",
       "      <td>True</td>\n",
       "      <td>...</td>\n",
       "      <td>27.113094</td>\n",
       "      <td>freefood</td>\n",
       "      <td>Ford Ground Floor (by the staircase)</td>\n",
       "      <td>-21600.0</td>\n",
       "      <td>1.520456e+09</td>\n",
       "      <td>Notified for vKrOItaLeS (42.057016, -87.676649...</td>\n",
       "      <td>stillleft</td>\n",
       "      <td>I don't know</td>\n",
       "      <td>\"I don't know\" Response</td>\n",
       "      <td>1.520457e+09</td>\n",
       "    </tr>\n",
       "    <tr>\n",
       "      <th>3</th>\n",
       "      <td>vKrOItaLeS</td>\n",
       "      <td>F57CB6D4-09B3-4796-AE91-2F31BADEE832</td>\n",
       "      <td></td>\n",
       "      <td>219.747081</td>\n",
       "      <td>316.048657</td>\n",
       "      <td>freefood</td>\n",
       "      <td>Ford Ground Floor (by the staircase)</td>\n",
       "      <td>300</td>\n",
       "      <td>geofence trip</td>\n",
       "      <td>True</td>\n",
       "      <td>...</td>\n",
       "      <td>NaN</td>\n",
       "      <td>NaN</td>\n",
       "      <td>NaN</td>\n",
       "      <td>NaN</td>\n",
       "      <td>NaN</td>\n",
       "      <td>NaN</td>\n",
       "      <td>NaN</td>\n",
       "      <td>NaN</td>\n",
       "      <td>NaN</td>\n",
       "      <td>NaN</td>\n",
       "    </tr>\n",
       "    <tr>\n",
       "      <th>4</th>\n",
       "      <td>ZBmWUZNqau</td>\n",
       "      <td>D3D3D1E2-1F39-4AB8-917D-52876AA63830</td>\n",
       "      <td>ekGHD1UW0G</td>\n",
       "      <td>300.553510</td>\n",
       "      <td>1.191497</td>\n",
       "      <td>coffeeshop</td>\n",
       "      <td>Starbucks (in Norris)</td>\n",
       "      <td>300</td>\n",
       "      <td>geofence trip</td>\n",
       "      <td>True</td>\n",
       "      <td>...</td>\n",
       "      <td>-1.000000</td>\n",
       "      <td>coffeeshop</td>\n",
       "      <td>Starbucks (in Norris)</td>\n",
       "      <td>-21600.0</td>\n",
       "      <td>1.520545e+09</td>\n",
       "      <td>Notified for beacon region ekGHD1UW0G</td>\n",
       "      <td>sharedseatingoutlets</td>\n",
       "      <td>no</td>\n",
       "      <td>Valid Response</td>\n",
       "      <td>1.520545e+09</td>\n",
       "    </tr>\n",
       "    <tr>\n",
       "      <th>5</th>\n",
       "      <td>SfFmjmE7wD</td>\n",
       "      <td>B2CE1B90-BD84-4B33-AE61-435FCBC195BA</td>\n",
       "      <td>cE9k7N4F4I</td>\n",
       "      <td>269.546308</td>\n",
       "      <td>38.521418</td>\n",
       "      <td>gym</td>\n",
       "      <td>Blomquist</td>\n",
       "      <td>300</td>\n",
       "      <td>geofence trip</td>\n",
       "      <td>True</td>\n",
       "      <td>...</td>\n",
       "      <td>-1.000000</td>\n",
       "      <td>gym</td>\n",
       "      <td>Blomquist</td>\n",
       "      <td>-18000.0</td>\n",
       "      <td>1.521506e+09</td>\n",
       "      <td>Notified for beacon region cE9k7N4F4I</td>\n",
       "      <td>Missed Notification</td>\n",
       "      <td>Missed Notification</td>\n",
       "      <td>Missed Notification</td>\n",
       "      <td>-1.000000e+00</td>\n",
       "    </tr>\n",
       "  </tbody>\n",
       "</table>\n",
       "<p>6 rows × 25 columns</p>\n",
       "</div>"
      ],
      "text/plain": [
       "  taskLocationId                              vendorId  beaconId_x  \\\n",
       "0     nERqAcXEd5  F869C396-591A-4F19-895B-5E5871924B45               \n",
       "1     nERqAcXEd5  3950424A-7986-4771-B867-E4A5624D00ED               \n",
       "2     vKrOItaLeS  F869C396-591A-4F19-895B-5E5871924B45               \n",
       "3     vKrOItaLeS  F57CB6D4-09B3-4796-AE91-2F31BADEE832               \n",
       "4     ZBmWUZNqau  D3D3D1E2-1F39-4AB8-917D-52876AA63830  ekGHD1UW0G   \n",
       "5     SfFmjmE7wD  B2CE1B90-BD84-4B33-AE61-435FCBC195BA  cE9k7N4F4I   \n",
       "\n",
       "   distanceToLocation_x  bearingToLocation locationType_x  \\\n",
       "0            298.826807         314.610937       freefood   \n",
       "1            316.224290         138.828694       freefood   \n",
       "2            301.857400         344.121791       freefood   \n",
       "3            219.747081         316.048657       freefood   \n",
       "4            300.553510           1.191497     coffeeshop   \n",
       "5            269.546308          38.521418            gym   \n",
       "\n",
       "                                      locationName_x  notificationDistance  \\\n",
       "0  Ford Second Floor (outside McCormick Career De...                   300   \n",
       "1  Ford Second Floor (outside McCormick Career De...                   300   \n",
       "2               Ford Ground Floor (by the staircase)                   300   \n",
       "3               Ford Ground Floor (by the staircase)                   300   \n",
       "4                              Starbucks (in Norris)                   300   \n",
       "5                                          Blomquist                   300   \n",
       "\n",
       "          sentBy  infoIncluded         ...           distanceToLocation_y  \\\n",
       "0  geofence trip          True         ...                      24.425593   \n",
       "1  geofence trip          True         ...                      20.557349   \n",
       "2  geofence trip          True         ...                      27.113094   \n",
       "3  geofence trip          True         ...                            NaN   \n",
       "4  geofence trip          True         ...                      -1.000000   \n",
       "5  geofence trip          True         ...                      -1.000000   \n",
       "\n",
       "   locationType_y                                     locationName_y  \\\n",
       "0        freefood  Ford Second Floor (outside McCormick Career De...   \n",
       "1        freefood  Ford Second Floor (outside McCormick Career De...   \n",
       "2        freefood               Ford Ground Floor (by the staircase)   \n",
       "3             NaN                                                NaN   \n",
       "4      coffeeshop                              Starbucks (in Norris)   \n",
       "5             gym                                          Blomquist   \n",
       "\n",
       "   gmtOffset_y notificationTimestamp_y  \\\n",
       "0     -21600.0            1.520283e+09   \n",
       "1     -21600.0            1.520283e+09   \n",
       "2     -21600.0            1.520456e+09   \n",
       "3          NaN                     NaN   \n",
       "4     -21600.0            1.520545e+09   \n",
       "5     -18000.0            1.521506e+09   \n",
       "\n",
       "                                  notificationString              question  \\\n",
       "0  Notified for nERqAcXEd5 (42.057016, -87.676649...             stillleft   \n",
       "1  Notified for nERqAcXEd5 (42.057016, -87.676649...             stillleft   \n",
       "2  Notified for vKrOItaLeS (42.057016, -87.676649...             stillleft   \n",
       "3                                                NaN                   NaN   \n",
       "4              Notified for beacon region ekGHD1UW0G  sharedseatingoutlets   \n",
       "5              Notified for beacon region cE9k7N4F4I   Missed Notification   \n",
       "\n",
       "              response        remappedResponses  responseTimestamp_y  \n",
       "0         I don't know  \"I don't know\" Response         1.520283e+09  \n",
       "1                   no           Valid Response         1.520283e+09  \n",
       "2         I don't know  \"I don't know\" Response         1.520457e+09  \n",
       "3                  NaN                      NaN                  NaN  \n",
       "4                   no           Valid Response         1.520545e+09  \n",
       "5  Missed Notification      Missed Notification        -1.000000e+00  \n",
       "\n",
       "[6 rows x 25 columns]"
      ]
     },
     "execution_count": 24,
     "metadata": {},
     "output_type": "execute_result"
    }
   ],
   "source": [
    "# TODO: check if all 4X people actually did give more data\n",
    "atdist_4x_positive = atdist_4x[atdist_4x['emaResponse'].isin([\"Yes! This info is useful, I'm going now.\", \"Yes. This info is useful but I'm already going there.\"])]\n",
    "atdist_4x_positive.merge(atloc_4x, how='left', on=['vendorId', 'taskLocationId'])"
   ]
  },
  {
   "cell_type": "code",
   "execution_count": 25,
   "metadata": {},
   "outputs": [
    {
     "data": {
      "text/html": [
       "<div>\n",
       "<style scoped>\n",
       "    .dataframe tbody tr th:only-of-type {\n",
       "        vertical-align: middle;\n",
       "    }\n",
       "\n",
       "    .dataframe tbody tr th {\n",
       "        vertical-align: top;\n",
       "    }\n",
       "\n",
       "    .dataframe thead th {\n",
       "        text-align: right;\n",
       "    }\n",
       "</style>\n",
       "<table border=\"1\" class=\"dataframe\">\n",
       "  <thead>\n",
       "    <tr style=\"text-align: right;\">\n",
       "      <th></th>\n",
       "      <th>taskLocationId</th>\n",
       "      <th>vendorId</th>\n",
       "      <th>beaconId</th>\n",
       "      <th>distanceToLocation</th>\n",
       "      <th>bearingToLocation</th>\n",
       "      <th>locationType</th>\n",
       "      <th>locationName</th>\n",
       "      <th>notificationDistance</th>\n",
       "      <th>sentBy</th>\n",
       "      <th>infoIncluded</th>\n",
       "      <th>gmtOffset</th>\n",
       "      <th>notificationTimestamp</th>\n",
       "      <th>emaResponse</th>\n",
       "      <th>responseTimestamp</th>\n",
       "    </tr>\n",
       "  </thead>\n",
       "  <tbody>\n",
       "    <tr>\n",
       "      <th>43</th>\n",
       "      <td>nERqAcXEd5</td>\n",
       "      <td>F869C396-591A-4F19-895B-5E5871924B45</td>\n",
       "      <td></td>\n",
       "      <td>298.826807</td>\n",
       "      <td>314.610937</td>\n",
       "      <td>freefood</td>\n",
       "      <td>Ford Second Floor (outside McCormick Career De...</td>\n",
       "      <td>300</td>\n",
       "      <td>geofence trip</td>\n",
       "      <td>True</td>\n",
       "      <td>-21600</td>\n",
       "      <td>1520282261</td>\n",
       "      <td>Yes! This info is useful, I'm going now.</td>\n",
       "      <td>1520282274</td>\n",
       "    </tr>\n",
       "    <tr>\n",
       "      <th>44</th>\n",
       "      <td>nERqAcXEd5</td>\n",
       "      <td>3950424A-7986-4771-B867-E4A5624D00ED</td>\n",
       "      <td></td>\n",
       "      <td>316.224290</td>\n",
       "      <td>138.828694</td>\n",
       "      <td>freefood</td>\n",
       "      <td>Ford Second Floor (outside McCormick Career De...</td>\n",
       "      <td>300</td>\n",
       "      <td>geofence trip</td>\n",
       "      <td>True</td>\n",
       "      <td>-21600</td>\n",
       "      <td>1520282453</td>\n",
       "      <td>Yes! This info is useful, I'm going now.</td>\n",
       "      <td>1520282580</td>\n",
       "    </tr>\n",
       "    <tr>\n",
       "      <th>70</th>\n",
       "      <td>vKrOItaLeS</td>\n",
       "      <td>F869C396-591A-4F19-895B-5E5871924B45</td>\n",
       "      <td></td>\n",
       "      <td>301.857400</td>\n",
       "      <td>344.121791</td>\n",
       "      <td>freefood</td>\n",
       "      <td>Ford Ground Floor (by the staircase)</td>\n",
       "      <td>300</td>\n",
       "      <td>geofence trip</td>\n",
       "      <td>True</td>\n",
       "      <td>-21600</td>\n",
       "      <td>1520456142</td>\n",
       "      <td>Yes! This info is useful, I'm going now.</td>\n",
       "      <td>1520456181</td>\n",
       "    </tr>\n",
       "    <tr>\n",
       "      <th>71</th>\n",
       "      <td>vKrOItaLeS</td>\n",
       "      <td>F57CB6D4-09B3-4796-AE91-2F31BADEE832</td>\n",
       "      <td></td>\n",
       "      <td>219.747081</td>\n",
       "      <td>316.048657</td>\n",
       "      <td>freefood</td>\n",
       "      <td>Ford Ground Floor (by the staircase)</td>\n",
       "      <td>300</td>\n",
       "      <td>geofence trip</td>\n",
       "      <td>True</td>\n",
       "      <td>-21600</td>\n",
       "      <td>1520456593</td>\n",
       "      <td>Yes. This info is useful but I'm already going...</td>\n",
       "      <td>1520456621</td>\n",
       "    </tr>\n",
       "    <tr>\n",
       "      <th>84</th>\n",
       "      <td>ZBmWUZNqau</td>\n",
       "      <td>D3D3D1E2-1F39-4AB8-917D-52876AA63830</td>\n",
       "      <td>ekGHD1UW0G</td>\n",
       "      <td>300.553510</td>\n",
       "      <td>1.191497</td>\n",
       "      <td>coffeeshop</td>\n",
       "      <td>Starbucks (in Norris)</td>\n",
       "      <td>300</td>\n",
       "      <td>geofence trip</td>\n",
       "      <td>True</td>\n",
       "      <td>-21600</td>\n",
       "      <td>1520544544</td>\n",
       "      <td>Yes. This info is useful but I'm already going...</td>\n",
       "      <td>1520544627</td>\n",
       "    </tr>\n",
       "    <tr>\n",
       "      <th>184</th>\n",
       "      <td>SfFmjmE7wD</td>\n",
       "      <td>B2CE1B90-BD84-4B33-AE61-435FCBC195BA</td>\n",
       "      <td>cE9k7N4F4I</td>\n",
       "      <td>269.546308</td>\n",
       "      <td>38.521418</td>\n",
       "      <td>gym</td>\n",
       "      <td>Blomquist</td>\n",
       "      <td>300</td>\n",
       "      <td>geofence trip</td>\n",
       "      <td>True</td>\n",
       "      <td>-18000</td>\n",
       "      <td>1521496422</td>\n",
       "      <td>Yes! This info is useful, I'm going now.</td>\n",
       "      <td>1521504632</td>\n",
       "    </tr>\n",
       "  </tbody>\n",
       "</table>\n",
       "</div>"
      ],
      "text/plain": [
       "    taskLocationId                              vendorId    beaconId  \\\n",
       "43      nERqAcXEd5  F869C396-591A-4F19-895B-5E5871924B45               \n",
       "44      nERqAcXEd5  3950424A-7986-4771-B867-E4A5624D00ED               \n",
       "70      vKrOItaLeS  F869C396-591A-4F19-895B-5E5871924B45               \n",
       "71      vKrOItaLeS  F57CB6D4-09B3-4796-AE91-2F31BADEE832               \n",
       "84      ZBmWUZNqau  D3D3D1E2-1F39-4AB8-917D-52876AA63830  ekGHD1UW0G   \n",
       "184     SfFmjmE7wD  B2CE1B90-BD84-4B33-AE61-435FCBC195BA  cE9k7N4F4I   \n",
       "\n",
       "     distanceToLocation  bearingToLocation locationType  \\\n",
       "43           298.826807         314.610937     freefood   \n",
       "44           316.224290         138.828694     freefood   \n",
       "70           301.857400         344.121791     freefood   \n",
       "71           219.747081         316.048657     freefood   \n",
       "84           300.553510           1.191497   coffeeshop   \n",
       "184          269.546308          38.521418          gym   \n",
       "\n",
       "                                          locationName  notificationDistance  \\\n",
       "43   Ford Second Floor (outside McCormick Career De...                   300   \n",
       "44   Ford Second Floor (outside McCormick Career De...                   300   \n",
       "70                Ford Ground Floor (by the staircase)                   300   \n",
       "71                Ford Ground Floor (by the staircase)                   300   \n",
       "84                               Starbucks (in Norris)                   300   \n",
       "184                                          Blomquist                   300   \n",
       "\n",
       "            sentBy  infoIncluded  gmtOffset  notificationTimestamp  \\\n",
       "43   geofence trip          True     -21600             1520282261   \n",
       "44   geofence trip          True     -21600             1520282453   \n",
       "70   geofence trip          True     -21600             1520456142   \n",
       "71   geofence trip          True     -21600             1520456593   \n",
       "84   geofence trip          True     -21600             1520544544   \n",
       "184  geofence trip          True     -18000             1521496422   \n",
       "\n",
       "                                           emaResponse  responseTimestamp  \n",
       "43            Yes! This info is useful, I'm going now.         1520282274  \n",
       "44            Yes! This info is useful, I'm going now.         1520282580  \n",
       "70            Yes! This info is useful, I'm going now.         1520456181  \n",
       "71   Yes. This info is useful but I'm already going...         1520456621  \n",
       "84   Yes. This info is useful but I'm already going...         1520544627  \n",
       "184           Yes! This info is useful, I'm going now.         1521504632  "
      ]
     },
     "execution_count": 25,
     "metadata": {},
     "output_type": "execute_result"
    }
   ],
   "source": [
    "atdist_4x_positive"
   ]
  },
  {
   "cell_type": "code",
   "execution_count": 26,
   "metadata": {},
   "outputs": [],
   "source": [
    "# merged data from with all EnRoute data\n",
    "enroute_4x = get_merged_en_route(deepcopy(enroutelocations_4x),\n",
    "                                 deepcopy(enroutenotif_4x),\n",
    "                                 deepcopy(enrouteresp_4x))"
   ]
  },
  {
   "cell_type": "markdown",
   "metadata": {},
   "source": [
    "## Opp at Distance Log Data Setup"
   ]
  },
  {
   "cell_type": "code",
   "execution_count": 27,
   "metadata": {},
   "outputs": [],
   "source": [
    "users_opp_dist = deepcopy(data_opp_dist['_User'])\n",
    "users_opp_dist = users_opp_dist[users_opp_dist['vendorId'] != '']"
   ]
  },
  {
   "cell_type": "code",
   "execution_count": 29,
   "metadata": {},
   "outputs": [],
   "source": [
    "tasklocations_opp_dist = deepcopy(data_opp_dist['TaskLocations'])\n",
    "\n",
    "atlocnotif_opp_dist = deepcopy(data_opp_dist['AtLocationNotificationsSent'])\n",
    "atlocresp_opp_dist = deepcopy(data_opp_dist['AtLocationNotificationResponses'])\n",
    "\n",
    "atdistnotif_opp_dist = deepcopy(data_opp_dist['AtDistanceNotificationsSent'])\n",
    "atdistresp_opp_dist = deepcopy(data_opp_dist['AtDistanceNotificationResponses'])"
   ]
  },
  {
   "cell_type": "code",
   "execution_count": 30,
   "metadata": {},
   "outputs": [],
   "source": [
    "# merged data frame with all AtLocation data\n",
    "atloc_opp_dist = get_merged_at_location(deepcopy(tasklocations_opp_dist),\n",
    "                                        deepcopy(atlocnotif_opp_dist),\n",
    "                                        deepcopy(atlocresp_opp_dist))"
   ]
  },
  {
   "cell_type": "code",
   "execution_count": 31,
   "metadata": {},
   "outputs": [],
   "source": [
    "# merged data frame with all AtDistance data\n",
    "atdist_opp_dist = get_merged_at_distance(deepcopy(tasklocations_opp_dist),\n",
    "                                         deepcopy(atdistnotif_opp_dist),\n",
    "                                         deepcopy(atdistresp_opp_dist))"
   ]
  },
  {
   "cell_type": "markdown",
   "metadata": {},
   "source": [
    "## Opp at Location Log Data Setup"
   ]
  },
  {
   "cell_type": "code",
   "execution_count": 32,
   "metadata": {},
   "outputs": [],
   "source": [
    "users_opp_loc = deepcopy(data_opp_loc['_User'])\n",
    "users_opp_loc = users_opp_loc[users_opp_loc['vendorId'] != '']"
   ]
  },
  {
   "cell_type": "code",
   "execution_count": 34,
   "metadata": {},
   "outputs": [],
   "source": [
    "tasklocations_opp_loc = deepcopy(data_opp_loc['TaskLocations'])\n",
    "\n",
    "atlocnotif_opp_loc = deepcopy(data_opp_loc['AtLocationNotificationsSent'])\n",
    "atlocresp_opp_loc = deepcopy(data_opp_loc['AtLocationNotificationResponses'])"
   ]
  },
  {
   "cell_type": "code",
   "execution_count": 35,
   "metadata": {},
   "outputs": [],
   "source": [
    "# merged data frame with all AtLocation data\n",
    "atloc_opp_loc = get_merged_at_location(deepcopy(tasklocations_opp_loc),\n",
    "                                        deepcopy(atlocnotif_opp_loc),\n",
    "                                        deepcopy(atlocresp_opp_loc))"
   ]
  },
  {
   "cell_type": "markdown",
   "metadata": {},
   "source": [
    "# Intermediate Aggregations\n",
    "This section of the notebook is used to create any intermediate tables that will be used later on to create tables, graphs, and conduct more complex analysis."
   ]
  },
  {
   "cell_type": "code",
   "execution_count": 36,
   "metadata": {},
   "outputs": [],
   "source": [
    "def compute_count_prop_byloc(data, location_col, response_col):\n",
    "    \"\"\"\n",
    "    Computes and returns a groupby DataFrame with counts and proportions of responses, by location type.\n",
    "    \n",
    "    Input:\n",
    "        data (DataFrame): must include columns for location_col and response_col to aggregate on.\n",
    "        location_col (string): location column to aggregate on (e.g. locationType, locationName)\n",
    "        response_col (string): response to aggregate (e.g. remappedResponses, emaResponse)\n",
    "    \n",
    "    Output:\n",
    "        (groupby DataFrame): aggregated data, by location\n",
    "    \"\"\"\n",
    "    count_byloc = data.groupby([location_col, response_col]).apply(lambda x: pd.Series({'count': x[response_col].count()},\n",
    "                                                                                       index=['count']))\n",
    "    prop_byloc = count_byloc.groupby(level=0, as_index=False).apply(lambda x: 100 * x / float(x.sum())).add_suffix('_proportion')\n",
    "\n",
    "    # combine count and proportion\n",
    "    combined_byloc = pd.concat([count_byloc, prop_byloc], axis=1)\n",
    "    \n",
    "    return combined_byloc"
   ]
  },
  {
   "cell_type": "code",
   "execution_count": 37,
   "metadata": {},
   "outputs": [],
   "source": [
    "def compute_count_prop_overall(data, response_col):\n",
    "    \"\"\"\n",
    "    Computes and returns a DataFrame with counts and proportions of responses.\n",
    "    \n",
    "    Input:\n",
    "        data (DataFrame): must include column for response_col to aggregate on\n",
    "        response_col (string): response to aggregate (e.g. remappedResponses, emaResponse)\n",
    "    \n",
    "    Output:\n",
    "        (DataFrame): aggregated data\n",
    "    \"\"\"\n",
    "    combined_overall = data.groupby([response_col])[response_col].count().reset_index(name='count')\n",
    "    combined_overall['percentage'] = 100.0 * combined_overall['count'] / sum(combined_overall['count'])\n",
    "    combined_overall.loc[len(combined_overall)] = ['Total', sum(combined_overall['count']), 100.0]\n",
    "    \n",
    "    return combined_overall"
   ]
  },
  {
   "cell_type": "code",
   "execution_count": 38,
   "metadata": {},
   "outputs": [],
   "source": [
    "def compute_valid_count_prop_byuser(data, users, user_col, response_col, valid_responses):\n",
    "    \"\"\"\n",
    "    Computes and returns a groupby DataFrame with counts and proportions of valid responses, by user.\n",
    "    \n",
    "    Input:\n",
    "        data (DataFrame): must include columns for user_col and response_col to aggregate on.\n",
    "        users (DataFrame): users to include for no responses\n",
    "        user_col (string): user column to aggregate on (e.g. vendorId)\n",
    "        response_col (string): response to aggregate (e.g. remappedResponses, emaResponse)\n",
    "        valid_responses (list of strings): list of valid responses to include in final output\n",
    "    \n",
    "    Output:\n",
    "        (groupby DataFrame): aggregated data when valid response exists, by user\n",
    "    \"\"\"\n",
    "    count_byuser = data.groupby([user_col, response_col]).apply(lambda x: pd.Series({'count': x[response_col].count()},\n",
    "                                                                                       index=['count']))\n",
    "    prop_byuser = count_byuser.groupby(level=0, as_index=False).apply(lambda x: 100 * x / float(x.sum())).add_suffix('_proportion')\n",
    "\n",
    "    # combine count and proportion\n",
    "    combined_byloc = pd.concat([count_byuser, prop_byuser], axis=1).reset_index()\n",
    "    \n",
    "    # isolate only valid responses and return\n",
    "    combined_byloc = combined_byloc[combined_byloc[response_col].isin(valid_responses)].reset_index(drop=True)\n",
    "    \n",
    "    # include all people in dataframe\n",
    "    combined_byloc = combined_byloc.merge(users[['objectId', 'vendorId']], how='right')\n",
    "    del combined_byloc['objectId']\n",
    "    \n",
    "    # fill blanks\n",
    "    combined_byloc.fillna(value={\n",
    "        response_col: 'No Responses',\n",
    "        'count': 0,\n",
    "        'count_proportion': 0.0\n",
    "    }, inplace=True)\n",
    "    \n",
    "    return combined_byloc"
   ]
  },
  {
   "cell_type": "markdown",
   "metadata": {},
   "source": [
    "## 4X: At Location"
   ]
  },
  {
   "cell_type": "code",
   "execution_count": 39,
   "metadata": {},
   "outputs": [],
   "source": [
    "atloc_4x_count_prop_byloc = compute_count_prop_byloc(atloc_4x, 'locationType', 'remappedResponses')"
   ]
  },
  {
   "cell_type": "code",
   "execution_count": 40,
   "metadata": {},
   "outputs": [],
   "source": [
    "atloc_4x_count_prop_overall = compute_count_prop_overall(atloc_4x, 'remappedResponses')"
   ]
  },
  {
   "cell_type": "code",
   "execution_count": 41,
   "metadata": {},
   "outputs": [
    {
     "name": "stdout",
     "output_type": "stream",
     "text": [
      "Unique number of users notified: 30\n"
     ]
    }
   ],
   "source": [
    "print('Unique number of users notified: {}'.format(len(atloc_4x['vendorId'].unique())))"
   ]
  },
  {
   "cell_type": "code",
   "execution_count": 42,
   "metadata": {},
   "outputs": [],
   "source": [
    "atloc_4x_valid_responses = ['Valid Response']\n",
    "atloc_4x_valid_count_prop_byuser = compute_valid_count_prop_byuser(atloc_4x, users_4x, 'vendorId', 'remappedResponses',\n",
    "                                                                   atloc_4x_valid_responses)"
   ]
  },
  {
   "cell_type": "markdown",
   "metadata": {},
   "source": [
    "## 4X: At Distance (with info)"
   ]
  },
  {
   "cell_type": "code",
   "execution_count": 43,
   "metadata": {},
   "outputs": [],
   "source": [
    "atdist_4x_count_prop_byloc = compute_count_prop_byloc(atdist_4x, 'locationType', 'emaResponse')"
   ]
  },
  {
   "cell_type": "code",
   "execution_count": 44,
   "metadata": {},
   "outputs": [],
   "source": [
    "atdist_4x_count_prop_overall = compute_count_prop_overall(atdist_4x, 'emaResponse')"
   ]
  },
  {
   "cell_type": "code",
   "execution_count": 45,
   "metadata": {},
   "outputs": [
    {
     "name": "stdout",
     "output_type": "stream",
     "text": [
      "Unique number of users notified: 29\n"
     ]
    }
   ],
   "source": [
    "print('Unique number of users notified: {}'.format(len(atdist_4x['vendorId'].unique())))"
   ]
  },
  {
   "cell_type": "code",
   "execution_count": 46,
   "metadata": {},
   "outputs": [],
   "source": [
    "atdist_4x_valid_responses = ['Yes! This info is useful, I\\'m going now.']\n",
    "atdist_4x_valid_count_prop_byuser = compute_valid_count_prop_byuser(atdist_4x, users_4x, 'vendorId', 'emaResponse',\n",
    "                                                                    atdist_4x_valid_responses)"
   ]
  },
  {
   "cell_type": "markdown",
   "metadata": {},
   "source": [
    "## 4X: En Route"
   ]
  },
  {
   "cell_type": "code",
   "execution_count": 47,
   "metadata": {},
   "outputs": [],
   "source": [
    "enroute_4x_count_prop_byloc = compute_count_prop_byloc(enroute_4x, 'locationType', 'remappedResponses')"
   ]
  },
  {
   "cell_type": "code",
   "execution_count": 48,
   "metadata": {},
   "outputs": [],
   "source": [
    "enroute_4x_count_prop_overall = compute_count_prop_overall(enroute_4x, 'remappedResponses')"
   ]
  },
  {
   "cell_type": "code",
   "execution_count": 49,
   "metadata": {},
   "outputs": [
    {
     "name": "stdout",
     "output_type": "stream",
     "text": [
      "Unique number of users notified: 1\n"
     ]
    }
   ],
   "source": [
    "print('Unique number of users notified: {}'.format(len(enroute_4x['vendorId'].unique())))"
   ]
  },
  {
   "cell_type": "code",
   "execution_count": 50,
   "metadata": {},
   "outputs": [],
   "source": [
    "enroute_4x_valid_responses = ['Valid Response']\n",
    "enroute_4x_valid_count_prop_byuser = compute_valid_count_prop_byuser(enroute_4x, users_4x, 'vendorId', 'remappedResponses',\n",
    "                                                                     enroute_4x_valid_responses)"
   ]
  },
  {
   "cell_type": "markdown",
   "metadata": {},
   "source": [
    "## Opp at Distance: At Location"
   ]
  },
  {
   "cell_type": "code",
   "execution_count": 51,
   "metadata": {},
   "outputs": [],
   "source": [
    "atloc_opp_dist_count_prop_byloc = compute_count_prop_byloc(atloc_opp_dist, 'locationType', 'remappedResponses')"
   ]
  },
  {
   "cell_type": "code",
   "execution_count": 52,
   "metadata": {},
   "outputs": [],
   "source": [
    "atloc_opp_dist_count_prop_overall = compute_count_prop_overall(atloc_opp_dist, 'remappedResponses')"
   ]
  },
  {
   "cell_type": "code",
   "execution_count": 53,
   "metadata": {},
   "outputs": [
    {
     "name": "stdout",
     "output_type": "stream",
     "text": [
      "Unique number of users notified: 31\n"
     ]
    }
   ],
   "source": [
    "print('Unique number of users notified: {}'.format(len(atloc_opp_dist['vendorId'].unique())))"
   ]
  },
  {
   "cell_type": "code",
   "execution_count": 54,
   "metadata": {},
   "outputs": [],
   "source": [
    "atloc_opp_dist_valid_responses = ['Valid Response']\n",
    "atloc_opp_dist_valid_count_prop_byuser = compute_valid_count_prop_byuser(atloc_opp_dist, users_opp_dist, 'vendorId',\n",
    "                                                                         'remappedResponses', atloc_opp_dist_valid_responses)"
   ]
  },
  {
   "cell_type": "markdown",
   "metadata": {},
   "source": [
    "## Opp at Distance: At Distance (with info)"
   ]
  },
  {
   "cell_type": "code",
   "execution_count": 55,
   "metadata": {},
   "outputs": [],
   "source": [
    "atdist_opp_dist_info_count_prop_byloc = compute_count_prop_byloc(atdist_opp_dist[atdist_opp_dist['infoIncluded']], 'locationType', 'emaResponse')"
   ]
  },
  {
   "cell_type": "code",
   "execution_count": 56,
   "metadata": {},
   "outputs": [],
   "source": [
    "atdist_opp_dist_info_count_prop_overall = compute_count_prop_overall(atdist_opp_dist[atdist_opp_dist['infoIncluded']], 'emaResponse')"
   ]
  },
  {
   "cell_type": "code",
   "execution_count": 57,
   "metadata": {},
   "outputs": [
    {
     "name": "stdout",
     "output_type": "stream",
     "text": [
      "Unique number of users notified: 26\n"
     ]
    }
   ],
   "source": [
    "print('Unique number of users notified: {}'.format(len(atdist_opp_dist[atdist_opp_dist['infoIncluded']]['vendorId'].unique())))"
   ]
  },
  {
   "cell_type": "code",
   "execution_count": 58,
   "metadata": {},
   "outputs": [],
   "source": [
    "atdist_opp_dist_info_valid_responses = ['Yes! This info is useful, I\\'m going now.']\n",
    "atdist_opp_dist_info_valid_count_prop_byuser = compute_valid_count_prop_byuser(atdist_opp_dist[atdist_opp_dist['infoIncluded']],\n",
    "                                                                               users_opp_dist, 'vendorId', 'emaResponse',\n",
    "                                                                               atdist_opp_dist_info_valid_responses)"
   ]
  },
  {
   "cell_type": "markdown",
   "metadata": {},
   "source": [
    "## Opp at Distance: At Distance (without info)"
   ]
  },
  {
   "cell_type": "code",
   "execution_count": 59,
   "metadata": {},
   "outputs": [],
   "source": [
    "atdist_opp_dist_noinfo_count_prop_byloc = compute_count_prop_byloc(atdist_opp_dist[~atdist_opp_dist['infoIncluded']], 'locationType', 'emaResponse')"
   ]
  },
  {
   "cell_type": "code",
   "execution_count": 60,
   "metadata": {},
   "outputs": [],
   "source": [
    "atdist_opp_dist_noinfo_count_prop_overall = compute_count_prop_overall(atdist_opp_dist[~atdist_opp_dist['infoIncluded']], 'emaResponse')"
   ]
  },
  {
   "cell_type": "code",
   "execution_count": 61,
   "metadata": {},
   "outputs": [
    {
     "name": "stdout",
     "output_type": "stream",
     "text": [
      "Unique number of users notified: 32\n"
     ]
    }
   ],
   "source": [
    "print('Unique number of users notified: {}'.format(len(atdist_opp_dist[~atdist_opp_dist['infoIncluded']]['vendorId'].unique())))"
   ]
  },
  {
   "cell_type": "code",
   "execution_count": 62,
   "metadata": {},
   "outputs": [],
   "source": [
    "atdist_opp_dist_noinfo_valid_responses = ['Sure! I would be happy to go out of my way!']\n",
    "atdist_opp_dist_noinfo_valid_count_prop_byuser = compute_valid_count_prop_byuser(atdist_opp_dist[~atdist_opp_dist['infoIncluded']],\n",
    "                                                                               users_opp_dist, 'vendorId', 'emaResponse',\n",
    "                                                                               atdist_opp_dist_noinfo_valid_responses)"
   ]
  },
  {
   "cell_type": "markdown",
   "metadata": {},
   "source": [
    "## Opp at Location: At Location"
   ]
  },
  {
   "cell_type": "code",
   "execution_count": 63,
   "metadata": {},
   "outputs": [],
   "source": [
    "atloc_opp_loc_count_prop_byloc = compute_count_prop_byloc(atloc_opp_loc, 'locationType', 'remappedResponses')"
   ]
  },
  {
   "cell_type": "code",
   "execution_count": 64,
   "metadata": {},
   "outputs": [],
   "source": [
    "atloc_opp_loc_count_prop_overall = compute_count_prop_overall(atloc_opp_loc, 'remappedResponses')"
   ]
  },
  {
   "cell_type": "code",
   "execution_count": 65,
   "metadata": {},
   "outputs": [
    {
     "name": "stdout",
     "output_type": "stream",
     "text": [
      "Unique number of users notified: 32\n"
     ]
    }
   ],
   "source": [
    "print('Unique number of users notified: {}'.format(len(atloc_opp_loc['vendorId'].unique())))"
   ]
  },
  {
   "cell_type": "code",
   "execution_count": 66,
   "metadata": {},
   "outputs": [],
   "source": [
    "atloc_opp_loc_valid_responses = ['Valid Response']\n",
    "atloc_opp_loc_valid_count_prop_byuser = compute_valid_count_prop_byuser(atloc_opp_loc, users_opp_loc, 'vendorId',\n",
    "                                                                         'remappedResponses', atloc_opp_loc_valid_responses)"
   ]
  },
  {
   "cell_type": "markdown",
   "metadata": {},
   "source": [
    "# Paper Tables\n",
    "This section creates the tables that we used for the CHI'18 version of the LES paper. They, for the most part, will be the final tables included in the paper."
   ]
  },
  {
   "cell_type": "code",
   "execution_count": 67,
   "metadata": {},
   "outputs": [],
   "source": [
    "def create_study_table(count_prop_df, location_col, response_col, column_dict, response_list):\n",
    "    \"\"\"\n",
    "    Creates the equivalent table found in the paper using a count_prop table.\n",
    "    \n",
    "    Input: \n",
    "        count_prop_df (DataFrame): DataFrame with locationType, remappedResponses, count, and count_proportion\n",
    "        location_col (str): column to get locations for columns (e.g. coffeeshops, freefood, etc.)\n",
    "        response_col (str): column to get responses for rows (e.g. emaResponses, remappedResponses)\n",
    "        column_dict (dict): columns to include (i.e. locationTypes) in table with label remaps\n",
    "        response_list (list of str): responses to copy over to new table (e.g. Missed Notif)\n",
    "    \"\"\"\n",
    "    # add additional columns to beginning of table\n",
    "    columns = ['Response Type', 'Overall']\n",
    "    columns += column_dict.keys()\n",
    "    \n",
    "    # add total row\n",
    "    response_types = deepcopy(response_list)\n",
    "    response_types += ['Total']\n",
    "    \n",
    "    # create output DataFrame\n",
    "    output_dict = {'Response Type': response_types}\n",
    "    output_df = pd.DataFrame(output_dict)\n",
    "    \n",
    "    # populate each cell\n",
    "    for col in columns:\n",
    "        # ignore first response type column\n",
    "        if col == 'Response Type':\n",
    "            continue\n",
    "\n",
    "        # get counts for each row)\n",
    "        for row in response_types: \n",
    "            if row != 'Total':\n",
    "                if col == 'Overall':\n",
    "                    output_df.loc[response_types.index(row), col] = count_prop_df.loc[count_prop_df[response_col] == row, 'count'].sum()\n",
    "                else:\n",
    "                    output_df.loc[response_types.index(row), col] = count_prop_df.loc[(count_prop_df[location_col] == col) &\n",
    "                                                                                      (count_prop_df[response_col] == row), 'count'].sum()\n",
    "\n",
    "        # get total\n",
    "        output_df.loc[response_types.index('Total'), col] = output_df[0:-1][col].sum()\n",
    "\n",
    "        # create proportion and save\n",
    "        epsilon = 0.00000000001\n",
    "        col_proportions = (100 * output_df[col] / (float(output_df.loc[response_types.index('Total'), col]) + epsilon)).astype(np.double).round(2)\n",
    "        output_df[col] = col_proportions.astype(str) + '% (' + output_df[col].astype(np.int).astype(str) + ')'\n",
    "        \n",
    "    # reorder columns\n",
    "    output_df.columns = columns\n",
    "    \n",
    "    # remap column names\n",
    "    output_df.rename(columns=column_dict, inplace=True)\n",
    "    \n",
    "    return output_df"
   ]
  },
  {
   "cell_type": "code",
   "execution_count": 68,
   "metadata": {},
   "outputs": [],
   "source": [
    "location_remapping = {'coffeeshop': 'Coffee Shops', 'freefood': 'Free Food', 'gym': 'Gyms', 'workspace': 'Workspaces'}\n",
    "atloc_response_list = ['Valid Response', '\"I don\\'t know\" Response',\n",
    "                        'Dismissed Notification', 'Missed Notification']\n",
    "atdist_info_response_list = ['Yes! This info is useful, I\\'m going now.',\n",
    "                            'Yes. This info is useful but I\\'m already going there.',\n",
    "                            'No. This info is useful but I have to be somewhere.',\n",
    "                            'No. This info isn\\'t useful to me.',\n",
    "                            'No. Other reason.',\n",
    "                            'Dismissed Notification',\n",
    "                            'Missed Notification']\n",
    "atdist_noinfo_response_list = ['Sure! I would be happy to go out of my way!',\n",
    "                               'Sure, but I was going to walk past it anyway.',\n",
    "                               'No. I don\\'t want to go out of my way there.',\n",
    "                               'No. Other reason.',\n",
    "                               'Dismissed Notification',\n",
    "                               'Missed Notification']"
   ]
  },
  {
   "cell_type": "markdown",
   "metadata": {},
   "source": [
    "## Comparing Response Rates: At Location"
   ]
  },
  {
   "cell_type": "markdown",
   "metadata": {},
   "source": [
    "### 4X Study Table: At Location (eXplore)"
   ]
  },
  {
   "cell_type": "code",
   "execution_count": 69,
   "metadata": {},
   "outputs": [
    {
     "data": {
      "text/html": [
       "<div>\n",
       "<style scoped>\n",
       "    .dataframe tbody tr th:only-of-type {\n",
       "        vertical-align: middle;\n",
       "    }\n",
       "\n",
       "    .dataframe tbody tr th {\n",
       "        vertical-align: top;\n",
       "    }\n",
       "\n",
       "    .dataframe thead th {\n",
       "        text-align: right;\n",
       "    }\n",
       "</style>\n",
       "<table border=\"1\" class=\"dataframe\">\n",
       "  <thead>\n",
       "    <tr style=\"text-align: right;\">\n",
       "      <th></th>\n",
       "      <th>Response Type</th>\n",
       "      <th>Overall</th>\n",
       "      <th>Coffee Shops</th>\n",
       "      <th>Free Food</th>\n",
       "      <th>Gyms</th>\n",
       "      <th>Workspaces</th>\n",
       "    </tr>\n",
       "  </thead>\n",
       "  <tbody>\n",
       "    <tr>\n",
       "      <th>0</th>\n",
       "      <td>Valid Response</td>\n",
       "      <td>49.78% (222)</td>\n",
       "      <td>43.14% (88)</td>\n",
       "      <td>41.94% (13)</td>\n",
       "      <td>53.76% (50)</td>\n",
       "      <td>60.17% (71)</td>\n",
       "    </tr>\n",
       "    <tr>\n",
       "      <th>1</th>\n",
       "      <td>\"I don't know\" Response</td>\n",
       "      <td>13.45% (60)</td>\n",
       "      <td>17.65% (36)</td>\n",
       "      <td>41.94% (13)</td>\n",
       "      <td>7.53% (7)</td>\n",
       "      <td>3.39% (4)</td>\n",
       "    </tr>\n",
       "    <tr>\n",
       "      <th>2</th>\n",
       "      <td>Dismissed Notification</td>\n",
       "      <td>1.79% (8)</td>\n",
       "      <td>1.96% (4)</td>\n",
       "      <td>3.23% (1)</td>\n",
       "      <td>2.15% (2)</td>\n",
       "      <td>0.85% (1)</td>\n",
       "    </tr>\n",
       "    <tr>\n",
       "      <th>3</th>\n",
       "      <td>Missed Notification</td>\n",
       "      <td>34.98% (156)</td>\n",
       "      <td>37.25% (76)</td>\n",
       "      <td>12.9% (4)</td>\n",
       "      <td>36.56% (34)</td>\n",
       "      <td>35.59% (42)</td>\n",
       "    </tr>\n",
       "    <tr>\n",
       "      <th>4</th>\n",
       "      <td>Total</td>\n",
       "      <td>100.0% (446)</td>\n",
       "      <td>100.0% (204)</td>\n",
       "      <td>100.0% (31)</td>\n",
       "      <td>100.0% (93)</td>\n",
       "      <td>100.0% (118)</td>\n",
       "    </tr>\n",
       "  </tbody>\n",
       "</table>\n",
       "</div>"
      ],
      "text/plain": [
       "             Response Type       Overall  Coffee Shops    Free Food  \\\n",
       "0           Valid Response  49.78% (222)   43.14% (88)  41.94% (13)   \n",
       "1  \"I don't know\" Response   13.45% (60)   17.65% (36)  41.94% (13)   \n",
       "2   Dismissed Notification     1.79% (8)     1.96% (4)    3.23% (1)   \n",
       "3      Missed Notification  34.98% (156)   37.25% (76)    12.9% (4)   \n",
       "4                    Total  100.0% (446)  100.0% (204)  100.0% (31)   \n",
       "\n",
       "          Gyms    Workspaces  \n",
       "0  53.76% (50)   60.17% (71)  \n",
       "1    7.53% (7)     3.39% (4)  \n",
       "2    2.15% (2)     0.85% (1)  \n",
       "3  36.56% (34)   35.59% (42)  \n",
       "4  100.0% (93)  100.0% (118)  "
      ]
     },
     "execution_count": 69,
     "metadata": {},
     "output_type": "execute_result"
    }
   ],
   "source": [
    "atloc_4x_tabledata = atloc_4x_count_prop_byloc.reset_index()\n",
    "create_study_table(atloc_4x_tabledata, 'locationType', 'remappedResponses',\n",
    "                   location_remapping, atloc_response_list)"
   ]
  },
  {
   "cell_type": "markdown",
   "metadata": {},
   "source": [
    "### 4X Study Data: At Location (eXploit)"
   ]
  },
  {
   "cell_type": "code",
   "execution_count": 70,
   "metadata": {},
   "outputs": [
    {
     "data": {
      "text/html": [
       "<div>\n",
       "<style scoped>\n",
       "    .dataframe tbody tr th:only-of-type {\n",
       "        vertical-align: middle;\n",
       "    }\n",
       "\n",
       "    .dataframe tbody tr th {\n",
       "        vertical-align: top;\n",
       "    }\n",
       "\n",
       "    .dataframe thead th {\n",
       "        text-align: right;\n",
       "    }\n",
       "</style>\n",
       "<table border=\"1\" class=\"dataframe\">\n",
       "  <thead>\n",
       "    <tr style=\"text-align: right;\">\n",
       "      <th></th>\n",
       "      <th>Response Type</th>\n",
       "      <th>Overall</th>\n",
       "      <th>Coffee Shops</th>\n",
       "      <th>Free Food</th>\n",
       "      <th>Gyms</th>\n",
       "      <th>Workspaces</th>\n",
       "    </tr>\n",
       "  </thead>\n",
       "  <tbody>\n",
       "    <tr>\n",
       "      <th>0</th>\n",
       "      <td>Valid Response</td>\n",
       "      <td>100.0% (1)</td>\n",
       "      <td>0.0% (0)</td>\n",
       "      <td>0.0% (0)</td>\n",
       "      <td>0.0% (0)</td>\n",
       "      <td>0.0% (0)</td>\n",
       "    </tr>\n",
       "    <tr>\n",
       "      <th>1</th>\n",
       "      <td>\"I don't know\" Response</td>\n",
       "      <td>0.0% (0)</td>\n",
       "      <td>0.0% (0)</td>\n",
       "      <td>0.0% (0)</td>\n",
       "      <td>0.0% (0)</td>\n",
       "      <td>0.0% (0)</td>\n",
       "    </tr>\n",
       "    <tr>\n",
       "      <th>2</th>\n",
       "      <td>Dismissed Notification</td>\n",
       "      <td>0.0% (0)</td>\n",
       "      <td>0.0% (0)</td>\n",
       "      <td>0.0% (0)</td>\n",
       "      <td>0.0% (0)</td>\n",
       "      <td>0.0% (0)</td>\n",
       "    </tr>\n",
       "    <tr>\n",
       "      <th>3</th>\n",
       "      <td>Missed Notification</td>\n",
       "      <td>0.0% (0)</td>\n",
       "      <td>0.0% (0)</td>\n",
       "      <td>0.0% (0)</td>\n",
       "      <td>0.0% (0)</td>\n",
       "      <td>0.0% (0)</td>\n",
       "    </tr>\n",
       "    <tr>\n",
       "      <th>4</th>\n",
       "      <td>Total</td>\n",
       "      <td>100.0% (1)</td>\n",
       "      <td>0.0% (0)</td>\n",
       "      <td>0.0% (0)</td>\n",
       "      <td>0.0% (0)</td>\n",
       "      <td>0.0% (0)</td>\n",
       "    </tr>\n",
       "  </tbody>\n",
       "</table>\n",
       "</div>"
      ],
      "text/plain": [
       "             Response Type     Overall Coffee Shops Free Food      Gyms  \\\n",
       "0           Valid Response  100.0% (1)     0.0% (0)  0.0% (0)  0.0% (0)   \n",
       "1  \"I don't know\" Response    0.0% (0)     0.0% (0)  0.0% (0)  0.0% (0)   \n",
       "2   Dismissed Notification    0.0% (0)     0.0% (0)  0.0% (0)  0.0% (0)   \n",
       "3      Missed Notification    0.0% (0)     0.0% (0)  0.0% (0)  0.0% (0)   \n",
       "4                    Total  100.0% (1)     0.0% (0)  0.0% (0)  0.0% (0)   \n",
       "\n",
       "  Workspaces  \n",
       "0   0.0% (0)  \n",
       "1   0.0% (0)  \n",
       "2   0.0% (0)  \n",
       "3   0.0% (0)  \n",
       "4   0.0% (0)  "
      ]
     },
     "execution_count": 70,
     "metadata": {},
     "output_type": "execute_result"
    }
   ],
   "source": [
    "enroute_4x_tabledata = enroute_4x_count_prop_byloc.reset_index()\n",
    "create_study_table(enroute_4x_tabledata, 'locationType', 'remappedResponses',\n",
    "                   location_remapping, atloc_response_list)"
   ]
  },
  {
   "cell_type": "markdown",
   "metadata": {},
   "source": [
    "### Opp at Distance Study Table: At Location"
   ]
  },
  {
   "cell_type": "code",
   "execution_count": 71,
   "metadata": {},
   "outputs": [
    {
     "data": {
      "text/html": [
       "<div>\n",
       "<style scoped>\n",
       "    .dataframe tbody tr th:only-of-type {\n",
       "        vertical-align: middle;\n",
       "    }\n",
       "\n",
       "    .dataframe tbody tr th {\n",
       "        vertical-align: top;\n",
       "    }\n",
       "\n",
       "    .dataframe thead th {\n",
       "        text-align: right;\n",
       "    }\n",
       "</style>\n",
       "<table border=\"1\" class=\"dataframe\">\n",
       "  <thead>\n",
       "    <tr style=\"text-align: right;\">\n",
       "      <th></th>\n",
       "      <th>Response Type</th>\n",
       "      <th>Overall</th>\n",
       "      <th>Coffee Shops</th>\n",
       "      <th>Free Food</th>\n",
       "      <th>Gyms</th>\n",
       "      <th>Workspaces</th>\n",
       "    </tr>\n",
       "  </thead>\n",
       "  <tbody>\n",
       "    <tr>\n",
       "      <th>0</th>\n",
       "      <td>Valid Response</td>\n",
       "      <td>50.25% (202)</td>\n",
       "      <td>42.0% (84)</td>\n",
       "      <td>47.83% (11)</td>\n",
       "      <td>50.0% (24)</td>\n",
       "      <td>63.36% (83)</td>\n",
       "    </tr>\n",
       "    <tr>\n",
       "      <th>1</th>\n",
       "      <td>\"I don't know\" Response</td>\n",
       "      <td>9.45% (38)</td>\n",
       "      <td>11.0% (22)</td>\n",
       "      <td>13.04% (3)</td>\n",
       "      <td>10.42% (5)</td>\n",
       "      <td>6.11% (8)</td>\n",
       "    </tr>\n",
       "    <tr>\n",
       "      <th>2</th>\n",
       "      <td>Dismissed Notification</td>\n",
       "      <td>2.74% (11)</td>\n",
       "      <td>4.0% (8)</td>\n",
       "      <td>4.35% (1)</td>\n",
       "      <td>2.08% (1)</td>\n",
       "      <td>0.76% (1)</td>\n",
       "    </tr>\n",
       "    <tr>\n",
       "      <th>3</th>\n",
       "      <td>Missed Notification</td>\n",
       "      <td>37.56% (151)</td>\n",
       "      <td>43.0% (86)</td>\n",
       "      <td>34.78% (8)</td>\n",
       "      <td>37.5% (18)</td>\n",
       "      <td>29.77% (39)</td>\n",
       "    </tr>\n",
       "    <tr>\n",
       "      <th>4</th>\n",
       "      <td>Total</td>\n",
       "      <td>100.0% (402)</td>\n",
       "      <td>100.0% (200)</td>\n",
       "      <td>100.0% (23)</td>\n",
       "      <td>100.0% (48)</td>\n",
       "      <td>100.0% (131)</td>\n",
       "    </tr>\n",
       "  </tbody>\n",
       "</table>\n",
       "</div>"
      ],
      "text/plain": [
       "             Response Type       Overall  Coffee Shops    Free Food  \\\n",
       "0           Valid Response  50.25% (202)    42.0% (84)  47.83% (11)   \n",
       "1  \"I don't know\" Response    9.45% (38)    11.0% (22)   13.04% (3)   \n",
       "2   Dismissed Notification    2.74% (11)      4.0% (8)    4.35% (1)   \n",
       "3      Missed Notification  37.56% (151)    43.0% (86)   34.78% (8)   \n",
       "4                    Total  100.0% (402)  100.0% (200)  100.0% (23)   \n",
       "\n",
       "          Gyms    Workspaces  \n",
       "0   50.0% (24)   63.36% (83)  \n",
       "1   10.42% (5)     6.11% (8)  \n",
       "2    2.08% (1)     0.76% (1)  \n",
       "3   37.5% (18)   29.77% (39)  \n",
       "4  100.0% (48)  100.0% (131)  "
      ]
     },
     "execution_count": 71,
     "metadata": {},
     "output_type": "execute_result"
    }
   ],
   "source": [
    "atloc_opp_dist_tabledata = atloc_opp_dist_count_prop_byloc.reset_index()\n",
    "create_study_table(atloc_opp_dist_tabledata, 'locationType', 'remappedResponses',\n",
    "                   location_remapping, atloc_response_list)"
   ]
  },
  {
   "cell_type": "markdown",
   "metadata": {},
   "source": [
    "### Opp at Location Study Table: At Location"
   ]
  },
  {
   "cell_type": "code",
   "execution_count": 72,
   "metadata": {},
   "outputs": [
    {
     "data": {
      "text/html": [
       "<div>\n",
       "<style scoped>\n",
       "    .dataframe tbody tr th:only-of-type {\n",
       "        vertical-align: middle;\n",
       "    }\n",
       "\n",
       "    .dataframe tbody tr th {\n",
       "        vertical-align: top;\n",
       "    }\n",
       "\n",
       "    .dataframe thead th {\n",
       "        text-align: right;\n",
       "    }\n",
       "</style>\n",
       "<table border=\"1\" class=\"dataframe\">\n",
       "  <thead>\n",
       "    <tr style=\"text-align: right;\">\n",
       "      <th></th>\n",
       "      <th>Response Type</th>\n",
       "      <th>Overall</th>\n",
       "      <th>Coffee Shops</th>\n",
       "      <th>Free Food</th>\n",
       "      <th>Gyms</th>\n",
       "      <th>Workspaces</th>\n",
       "    </tr>\n",
       "  </thead>\n",
       "  <tbody>\n",
       "    <tr>\n",
       "      <th>0</th>\n",
       "      <td>Valid Response</td>\n",
       "      <td>53.32% (281)</td>\n",
       "      <td>47.81% (131)</td>\n",
       "      <td>36.36% (8)</td>\n",
       "      <td>48.98% (24)</td>\n",
       "      <td>64.84% (118)</td>\n",
       "    </tr>\n",
       "    <tr>\n",
       "      <th>1</th>\n",
       "      <td>\"I don't know\" Response</td>\n",
       "      <td>11.95% (63)</td>\n",
       "      <td>16.06% (44)</td>\n",
       "      <td>36.36% (8)</td>\n",
       "      <td>4.08% (2)</td>\n",
       "      <td>4.95% (9)</td>\n",
       "    </tr>\n",
       "    <tr>\n",
       "      <th>2</th>\n",
       "      <td>Dismissed Notification</td>\n",
       "      <td>3.98% (21)</td>\n",
       "      <td>4.74% (13)</td>\n",
       "      <td>4.55% (1)</td>\n",
       "      <td>4.08% (2)</td>\n",
       "      <td>2.75% (5)</td>\n",
       "    </tr>\n",
       "    <tr>\n",
       "      <th>3</th>\n",
       "      <td>Missed Notification</td>\n",
       "      <td>30.74% (162)</td>\n",
       "      <td>31.39% (86)</td>\n",
       "      <td>22.73% (5)</td>\n",
       "      <td>42.86% (21)</td>\n",
       "      <td>27.47% (50)</td>\n",
       "    </tr>\n",
       "    <tr>\n",
       "      <th>4</th>\n",
       "      <td>Total</td>\n",
       "      <td>100.0% (527)</td>\n",
       "      <td>100.0% (274)</td>\n",
       "      <td>100.0% (22)</td>\n",
       "      <td>100.0% (49)</td>\n",
       "      <td>100.0% (182)</td>\n",
       "    </tr>\n",
       "  </tbody>\n",
       "</table>\n",
       "</div>"
      ],
      "text/plain": [
       "             Response Type       Overall  Coffee Shops    Free Food  \\\n",
       "0           Valid Response  53.32% (281)  47.81% (131)   36.36% (8)   \n",
       "1  \"I don't know\" Response   11.95% (63)   16.06% (44)   36.36% (8)   \n",
       "2   Dismissed Notification    3.98% (21)    4.74% (13)    4.55% (1)   \n",
       "3      Missed Notification  30.74% (162)   31.39% (86)   22.73% (5)   \n",
       "4                    Total  100.0% (527)  100.0% (274)  100.0% (22)   \n",
       "\n",
       "          Gyms    Workspaces  \n",
       "0  48.98% (24)  64.84% (118)  \n",
       "1    4.08% (2)     4.95% (9)  \n",
       "2    4.08% (2)     2.75% (5)  \n",
       "3  42.86% (21)   27.47% (50)  \n",
       "4  100.0% (49)  100.0% (182)  "
      ]
     },
     "execution_count": 72,
     "metadata": {},
     "output_type": "execute_result"
    }
   ],
   "source": [
    "atloc_opp_loc_tabledata = atloc_opp_loc_count_prop_byloc.reset_index()\n",
    "create_study_table(atloc_opp_loc_tabledata, 'locationType', 'remappedResponses',\n",
    "                   location_remapping, atloc_response_list)"
   ]
  },
  {
   "cell_type": "markdown",
   "metadata": {},
   "source": [
    "## Comparing Response Rates: At Distance"
   ]
  },
  {
   "cell_type": "markdown",
   "metadata": {},
   "source": [
    "### 4X Study Table: At Distance (eXpand, with info)"
   ]
  },
  {
   "cell_type": "code",
   "execution_count": 73,
   "metadata": {},
   "outputs": [
    {
     "data": {
      "text/html": [
       "<div>\n",
       "<style scoped>\n",
       "    .dataframe tbody tr th:only-of-type {\n",
       "        vertical-align: middle;\n",
       "    }\n",
       "\n",
       "    .dataframe tbody tr th {\n",
       "        vertical-align: top;\n",
       "    }\n",
       "\n",
       "    .dataframe thead th {\n",
       "        text-align: right;\n",
       "    }\n",
       "</style>\n",
       "<table border=\"1\" class=\"dataframe\">\n",
       "  <thead>\n",
       "    <tr style=\"text-align: right;\">\n",
       "      <th></th>\n",
       "      <th>Response Type</th>\n",
       "      <th>Overall</th>\n",
       "      <th>Coffee Shops</th>\n",
       "      <th>Free Food</th>\n",
       "      <th>Gyms</th>\n",
       "      <th>Workspaces</th>\n",
       "    </tr>\n",
       "  </thead>\n",
       "  <tbody>\n",
       "    <tr>\n",
       "      <th>0</th>\n",
       "      <td>Yes! This info is useful, I'm going now.</td>\n",
       "      <td>2.61% (4)</td>\n",
       "      <td>0.0% (0)</td>\n",
       "      <td>13.04% (3)</td>\n",
       "      <td>1.54% (1)</td>\n",
       "      <td>0.0% (0)</td>\n",
       "    </tr>\n",
       "    <tr>\n",
       "      <th>1</th>\n",
       "      <td>Yes. This info is useful but I'm already going...</td>\n",
       "      <td>1.31% (2)</td>\n",
       "      <td>3.33% (1)</td>\n",
       "      <td>4.35% (1)</td>\n",
       "      <td>0.0% (0)</td>\n",
       "      <td>0.0% (0)</td>\n",
       "    </tr>\n",
       "    <tr>\n",
       "      <th>2</th>\n",
       "      <td>No. This info is useful but I have to be somew...</td>\n",
       "      <td>35.95% (55)</td>\n",
       "      <td>46.67% (14)</td>\n",
       "      <td>21.74% (5)</td>\n",
       "      <td>32.31% (21)</td>\n",
       "      <td>42.86% (15)</td>\n",
       "    </tr>\n",
       "    <tr>\n",
       "      <th>3</th>\n",
       "      <td>No. This info isn't useful to me.</td>\n",
       "      <td>18.3% (28)</td>\n",
       "      <td>16.67% (5)</td>\n",
       "      <td>17.39% (4)</td>\n",
       "      <td>21.54% (14)</td>\n",
       "      <td>14.29% (5)</td>\n",
       "    </tr>\n",
       "    <tr>\n",
       "      <th>4</th>\n",
       "      <td>No. Other reason.</td>\n",
       "      <td>1.96% (3)</td>\n",
       "      <td>3.33% (1)</td>\n",
       "      <td>8.7% (2)</td>\n",
       "      <td>0.0% (0)</td>\n",
       "      <td>0.0% (0)</td>\n",
       "    </tr>\n",
       "    <tr>\n",
       "      <th>5</th>\n",
       "      <td>Dismissed Notification</td>\n",
       "      <td>0.65% (1)</td>\n",
       "      <td>0.0% (0)</td>\n",
       "      <td>0.0% (0)</td>\n",
       "      <td>0.0% (0)</td>\n",
       "      <td>2.86% (1)</td>\n",
       "    </tr>\n",
       "    <tr>\n",
       "      <th>6</th>\n",
       "      <td>Missed Notification</td>\n",
       "      <td>39.22% (60)</td>\n",
       "      <td>30.0% (9)</td>\n",
       "      <td>34.78% (8)</td>\n",
       "      <td>44.62% (29)</td>\n",
       "      <td>40.0% (14)</td>\n",
       "    </tr>\n",
       "    <tr>\n",
       "      <th>7</th>\n",
       "      <td>Total</td>\n",
       "      <td>100.0% (153)</td>\n",
       "      <td>100.0% (30)</td>\n",
       "      <td>100.0% (23)</td>\n",
       "      <td>100.0% (65)</td>\n",
       "      <td>100.0% (35)</td>\n",
       "    </tr>\n",
       "  </tbody>\n",
       "</table>\n",
       "</div>"
      ],
      "text/plain": [
       "                                       Response Type       Overall  \\\n",
       "0           Yes! This info is useful, I'm going now.     2.61% (4)   \n",
       "1  Yes. This info is useful but I'm already going...     1.31% (2)   \n",
       "2  No. This info is useful but I have to be somew...   35.95% (55)   \n",
       "3                  No. This info isn't useful to me.    18.3% (28)   \n",
       "4                                  No. Other reason.     1.96% (3)   \n",
       "5                             Dismissed Notification     0.65% (1)   \n",
       "6                                Missed Notification   39.22% (60)   \n",
       "7                                              Total  100.0% (153)   \n",
       "\n",
       "  Coffee Shops    Free Food         Gyms   Workspaces  \n",
       "0     0.0% (0)   13.04% (3)    1.54% (1)     0.0% (0)  \n",
       "1    3.33% (1)    4.35% (1)     0.0% (0)     0.0% (0)  \n",
       "2  46.67% (14)   21.74% (5)  32.31% (21)  42.86% (15)  \n",
       "3   16.67% (5)   17.39% (4)  21.54% (14)   14.29% (5)  \n",
       "4    3.33% (1)     8.7% (2)     0.0% (0)     0.0% (0)  \n",
       "5     0.0% (0)     0.0% (0)     0.0% (0)    2.86% (1)  \n",
       "6    30.0% (9)   34.78% (8)  44.62% (29)   40.0% (14)  \n",
       "7  100.0% (30)  100.0% (23)  100.0% (65)  100.0% (35)  "
      ]
     },
     "execution_count": 73,
     "metadata": {},
     "output_type": "execute_result"
    }
   ],
   "source": [
    "atdist_info_4x_tabledata = atdist_4x_count_prop_byloc.reset_index()\n",
    "create_study_table(atdist_info_4x_tabledata, 'locationType', 'emaResponse',\n",
    "                   location_remapping, atdist_info_response_list)"
   ]
  },
  {
   "cell_type": "markdown",
   "metadata": {},
   "source": [
    "### Opp at Distance Study Table: At Distance (with info)"
   ]
  },
  {
   "cell_type": "code",
   "execution_count": 74,
   "metadata": {},
   "outputs": [
    {
     "data": {
      "text/html": [
       "<div>\n",
       "<style scoped>\n",
       "    .dataframe tbody tr th:only-of-type {\n",
       "        vertical-align: middle;\n",
       "    }\n",
       "\n",
       "    .dataframe tbody tr th {\n",
       "        vertical-align: top;\n",
       "    }\n",
       "\n",
       "    .dataframe thead th {\n",
       "        text-align: right;\n",
       "    }\n",
       "</style>\n",
       "<table border=\"1\" class=\"dataframe\">\n",
       "  <thead>\n",
       "    <tr style=\"text-align: right;\">\n",
       "      <th></th>\n",
       "      <th>Response Type</th>\n",
       "      <th>Overall</th>\n",
       "      <th>Coffee Shops</th>\n",
       "      <th>Free Food</th>\n",
       "      <th>Gyms</th>\n",
       "      <th>Workspaces</th>\n",
       "    </tr>\n",
       "  </thead>\n",
       "  <tbody>\n",
       "    <tr>\n",
       "      <th>0</th>\n",
       "      <td>Yes! This info is useful, I'm going now.</td>\n",
       "      <td>5.06% (4)</td>\n",
       "      <td>2.78% (1)</td>\n",
       "      <td>25.0% (2)</td>\n",
       "      <td>0.0% (0)</td>\n",
       "      <td>3.12% (1)</td>\n",
       "    </tr>\n",
       "    <tr>\n",
       "      <th>1</th>\n",
       "      <td>Yes. This info is useful but I'm already going...</td>\n",
       "      <td>3.8% (3)</td>\n",
       "      <td>0.0% (0)</td>\n",
       "      <td>12.5% (1)</td>\n",
       "      <td>0.0% (0)</td>\n",
       "      <td>6.25% (2)</td>\n",
       "    </tr>\n",
       "    <tr>\n",
       "      <th>2</th>\n",
       "      <td>No. This info is useful but I have to be somew...</td>\n",
       "      <td>36.71% (29)</td>\n",
       "      <td>27.78% (10)</td>\n",
       "      <td>25.0% (2)</td>\n",
       "      <td>33.33% (1)</td>\n",
       "      <td>50.0% (16)</td>\n",
       "    </tr>\n",
       "    <tr>\n",
       "      <th>3</th>\n",
       "      <td>No. This info isn't useful to me.</td>\n",
       "      <td>8.86% (7)</td>\n",
       "      <td>11.11% (4)</td>\n",
       "      <td>0.0% (0)</td>\n",
       "      <td>0.0% (0)</td>\n",
       "      <td>9.37% (3)</td>\n",
       "    </tr>\n",
       "    <tr>\n",
       "      <th>4</th>\n",
       "      <td>No. Other reason.</td>\n",
       "      <td>0.0% (0)</td>\n",
       "      <td>0.0% (0)</td>\n",
       "      <td>0.0% (0)</td>\n",
       "      <td>0.0% (0)</td>\n",
       "      <td>0.0% (0)</td>\n",
       "    </tr>\n",
       "    <tr>\n",
       "      <th>5</th>\n",
       "      <td>Dismissed Notification</td>\n",
       "      <td>0.0% (0)</td>\n",
       "      <td>0.0% (0)</td>\n",
       "      <td>0.0% (0)</td>\n",
       "      <td>0.0% (0)</td>\n",
       "      <td>0.0% (0)</td>\n",
       "    </tr>\n",
       "    <tr>\n",
       "      <th>6</th>\n",
       "      <td>Missed Notification</td>\n",
       "      <td>45.57% (36)</td>\n",
       "      <td>58.33% (21)</td>\n",
       "      <td>37.5% (3)</td>\n",
       "      <td>66.67% (2)</td>\n",
       "      <td>31.25% (10)</td>\n",
       "    </tr>\n",
       "    <tr>\n",
       "      <th>7</th>\n",
       "      <td>Total</td>\n",
       "      <td>100.0% (79)</td>\n",
       "      <td>100.0% (36)</td>\n",
       "      <td>100.0% (8)</td>\n",
       "      <td>100.0% (3)</td>\n",
       "      <td>100.0% (32)</td>\n",
       "    </tr>\n",
       "  </tbody>\n",
       "</table>\n",
       "</div>"
      ],
      "text/plain": [
       "                                       Response Type      Overall  \\\n",
       "0           Yes! This info is useful, I'm going now.    5.06% (4)   \n",
       "1  Yes. This info is useful but I'm already going...     3.8% (3)   \n",
       "2  No. This info is useful but I have to be somew...  36.71% (29)   \n",
       "3                  No. This info isn't useful to me.    8.86% (7)   \n",
       "4                                  No. Other reason.     0.0% (0)   \n",
       "5                             Dismissed Notification     0.0% (0)   \n",
       "6                                Missed Notification  45.57% (36)   \n",
       "7                                              Total  100.0% (79)   \n",
       "\n",
       "  Coffee Shops   Free Food        Gyms   Workspaces  \n",
       "0    2.78% (1)   25.0% (2)    0.0% (0)    3.12% (1)  \n",
       "1     0.0% (0)   12.5% (1)    0.0% (0)    6.25% (2)  \n",
       "2  27.78% (10)   25.0% (2)  33.33% (1)   50.0% (16)  \n",
       "3   11.11% (4)    0.0% (0)    0.0% (0)    9.37% (3)  \n",
       "4     0.0% (0)    0.0% (0)    0.0% (0)     0.0% (0)  \n",
       "5     0.0% (0)    0.0% (0)    0.0% (0)     0.0% (0)  \n",
       "6  58.33% (21)   37.5% (3)  66.67% (2)  31.25% (10)  \n",
       "7  100.0% (36)  100.0% (8)  100.0% (3)  100.0% (32)  "
      ]
     },
     "execution_count": 74,
     "metadata": {},
     "output_type": "execute_result"
    }
   ],
   "source": [
    "atdist_info_opp_dist_tabledata = atdist_opp_dist_info_count_prop_byloc.reset_index()\n",
    "create_study_table(atdist_info_opp_dist_tabledata, 'locationType', 'emaResponse',\n",
    "                   location_remapping, atdist_info_response_list)"
   ]
  },
  {
   "cell_type": "markdown",
   "metadata": {},
   "source": [
    "### Opp at Distance Study Table: At Distance (without info)"
   ]
  },
  {
   "cell_type": "code",
   "execution_count": 75,
   "metadata": {},
   "outputs": [
    {
     "data": {
      "text/html": [
       "<div>\n",
       "<style scoped>\n",
       "    .dataframe tbody tr th:only-of-type {\n",
       "        vertical-align: middle;\n",
       "    }\n",
       "\n",
       "    .dataframe tbody tr th {\n",
       "        vertical-align: top;\n",
       "    }\n",
       "\n",
       "    .dataframe thead th {\n",
       "        text-align: right;\n",
       "    }\n",
       "</style>\n",
       "<table border=\"1\" class=\"dataframe\">\n",
       "  <thead>\n",
       "    <tr style=\"text-align: right;\">\n",
       "      <th></th>\n",
       "      <th>Response Type</th>\n",
       "      <th>Overall</th>\n",
       "      <th>Coffee Shops</th>\n",
       "      <th>Free Food</th>\n",
       "      <th>Gyms</th>\n",
       "      <th>Workspaces</th>\n",
       "    </tr>\n",
       "  </thead>\n",
       "  <tbody>\n",
       "    <tr>\n",
       "      <th>0</th>\n",
       "      <td>Sure! I would be happy to go out of my way!</td>\n",
       "      <td>1.12% (11)</td>\n",
       "      <td>2.45% (9)</td>\n",
       "      <td>0.0% (0)</td>\n",
       "      <td>0.29% (1)</td>\n",
       "      <td>0.37% (1)</td>\n",
       "    </tr>\n",
       "    <tr>\n",
       "      <th>1</th>\n",
       "      <td>Sure, but I was going to walk past it anyway.</td>\n",
       "      <td>3.57% (35)</td>\n",
       "      <td>4.62% (17)</td>\n",
       "      <td>0.0% (0)</td>\n",
       "      <td>0.88% (3)</td>\n",
       "      <td>5.58% (15)</td>\n",
       "    </tr>\n",
       "    <tr>\n",
       "      <th>2</th>\n",
       "      <td>No. I don't want to go out of my way there.</td>\n",
       "      <td>23.27% (228)</td>\n",
       "      <td>19.57% (72)</td>\n",
       "      <td>33.33% (1)</td>\n",
       "      <td>28.53% (97)</td>\n",
       "      <td>21.56% (58)</td>\n",
       "    </tr>\n",
       "    <tr>\n",
       "      <th>3</th>\n",
       "      <td>No. Other reason.</td>\n",
       "      <td>12.86% (126)</td>\n",
       "      <td>10.6% (39)</td>\n",
       "      <td>0.0% (0)</td>\n",
       "      <td>13.24% (45)</td>\n",
       "      <td>15.61% (42)</td>\n",
       "    </tr>\n",
       "    <tr>\n",
       "      <th>4</th>\n",
       "      <td>Dismissed Notification</td>\n",
       "      <td>3.57% (35)</td>\n",
       "      <td>4.62% (17)</td>\n",
       "      <td>0.0% (0)</td>\n",
       "      <td>2.65% (9)</td>\n",
       "      <td>3.35% (9)</td>\n",
       "    </tr>\n",
       "    <tr>\n",
       "      <th>5</th>\n",
       "      <td>Missed Notification</td>\n",
       "      <td>55.61% (545)</td>\n",
       "      <td>58.15% (214)</td>\n",
       "      <td>66.67% (2)</td>\n",
       "      <td>54.41% (185)</td>\n",
       "      <td>53.53% (144)</td>\n",
       "    </tr>\n",
       "    <tr>\n",
       "      <th>6</th>\n",
       "      <td>Total</td>\n",
       "      <td>100.0% (980)</td>\n",
       "      <td>100.0% (368)</td>\n",
       "      <td>100.0% (3)</td>\n",
       "      <td>100.0% (340)</td>\n",
       "      <td>100.0% (269)</td>\n",
       "    </tr>\n",
       "  </tbody>\n",
       "</table>\n",
       "</div>"
      ],
      "text/plain": [
       "                                   Response Type       Overall  Coffee Shops  \\\n",
       "0    Sure! I would be happy to go out of my way!    1.12% (11)     2.45% (9)   \n",
       "1  Sure, but I was going to walk past it anyway.    3.57% (35)    4.62% (17)   \n",
       "2    No. I don't want to go out of my way there.  23.27% (228)   19.57% (72)   \n",
       "3                              No. Other reason.  12.86% (126)    10.6% (39)   \n",
       "4                         Dismissed Notification    3.57% (35)    4.62% (17)   \n",
       "5                            Missed Notification  55.61% (545)  58.15% (214)   \n",
       "6                                          Total  100.0% (980)  100.0% (368)   \n",
       "\n",
       "    Free Food          Gyms    Workspaces  \n",
       "0    0.0% (0)     0.29% (1)     0.37% (1)  \n",
       "1    0.0% (0)     0.88% (3)    5.58% (15)  \n",
       "2  33.33% (1)   28.53% (97)   21.56% (58)  \n",
       "3    0.0% (0)   13.24% (45)   15.61% (42)  \n",
       "4    0.0% (0)     2.65% (9)     3.35% (9)  \n",
       "5  66.67% (2)  54.41% (185)  53.53% (144)  \n",
       "6  100.0% (3)  100.0% (340)  100.0% (269)  "
      ]
     },
     "execution_count": 75,
     "metadata": {},
     "output_type": "execute_result"
    }
   ],
   "source": [
    "atdist_noinfo_opp_dist_tabledata = atdist_opp_dist_noinfo_count_prop_byloc.reset_index()\n",
    "create_study_table(atdist_noinfo_opp_dist_tabledata, 'locationType', 'emaResponse',\n",
    "                   location_remapping, atdist_noinfo_response_list)"
   ]
  },
  {
   "cell_type": "markdown",
   "metadata": {},
   "source": [
    "# Graphs\n",
    "This section creates some visualizations of the above data. Some will be used in the final paper, "
   ]
  },
  {
   "cell_type": "markdown",
   "metadata": {},
   "source": [
    "## Self-Reported Disruption"
   ]
  },
  {
   "cell_type": "code",
   "execution_count": 76,
   "metadata": {},
   "outputs": [],
   "source": [
    "replacement_dict = {\n",
    "    '1: Very invaluable': 1,\n",
    "    '2: Invaluable': 2,\n",
    "    '3: Neutral': 3,\n",
    "    '4: Valuable': 4,\n",
    "    '5: Very valuable': 5,\n",
    "    '1: Never': 1,\n",
    "    '2: Rarely, in less than 10% of the notifications': 2,\n",
    "    '3: Occasionally, in about 30% of the notifications': 3,\n",
    "    '4: Sometimes, in about 50% of the notifications': 4,\n",
    "    '5: Frequently, in about 70% of the notifications': 5,\n",
    "    '6: Usually, in about 90% of the notifications': 6,\n",
    "    '7: Every time I was notified': 7,\n",
    "    '1: Not likely': 1,\n",
    "    '2: Somewhat unlikely': 2,\n",
    "    '3: Neutral': 3,\n",
    "    '4: Somewhat likely': 4,\n",
    "    '5: Very likely': 5,\n",
    "    '1: Not disruptive, easy to do and continue on with my routine': 1,\n",
    "    '2: Rarely disruptive': 2,\n",
    "    '3: Occasionally disruptive': 3,\n",
    "    '4: Moderately disruptive': 4,\n",
    "    '5: A great deal disruptive, I had to stop what I was doing to answer': 5,\n",
    "    '0: N/A': 0,\n",
    "    '1: Far fewer than I would have liked': 1,\n",
    "    '2: Fewer than I would have liked': 2,\n",
    "    '3: About correct for the number I would have liked': 3,\n",
    "    '4: More than I would have liked': 4,\n",
    "    '5: Far more than I would have liked': 5,\n",
    "    '': -1\n",
    "}\n",
    "\n",
    "post_study_4x.replace(to_replace=replacement_dict, inplace=True)\n",
    "post_study_opp_loc.replace(to_replace=replacement_dict, inplace=True)\n",
    "post_study_opp_dist.replace(to_replace=replacement_dict, inplace=True)\n",
    "\n",
    "# rescale disruption to be between 1-5\n",
    "post_study_4x['overall_disruption'] = (2/3) * post_study_4x['overall_disruption'] + (1/3)\n",
    "post_study_opp_loc['overall_disruption'] = (2/3) * post_study_opp_loc['overall_disruption'] + (1/3)\n",
    "post_study_opp_dist['overall_disruption'] = (2/3) * post_study_opp_dist['overall_disruption'] + (1/3)\n",
    "\n",
    "# remove bad users\n",
    "post_study_4x = post_study_4x[post_study_4x['email_address'] != 'jamiekuhn2019@u.northwestern.edu']"
   ]
  },
  {
   "cell_type": "code",
   "execution_count": 77,
   "metadata": {},
   "outputs": [],
   "source": [
    "def create_boxplot_df(condition, df):\n",
    "    \"\"\"\n",
    "    Creates a simple melted DF with a condition column, and a column for each attribute (value, disruption, future use, etc) to be plotted.\n",
    "    \n",
    "    Inputs:\n",
    "        condition (string): name of condition\n",
    "        df (DataFrame): current data\n",
    "    \n",
    "    Returns:\n",
    "        (DataFrame): simplified DataFrame ready for concating and plotting\n",
    "    \"\"\"\n",
    "    return pd.DataFrame({'condition': condition, 'value': df['overall_value'], 'disruption': df['overall_disruption'], 'future use': df['future_use']}).melt(id_vars=['condition'])\n",
    "\n",
    "plot_melted_dfs = [\n",
    "    create_boxplot_df('Opp at Location', post_study_opp_loc),\n",
    "    create_boxplot_df('4X', post_study_4x),\n",
    "    create_boxplot_df('Opp at Distance', post_study_opp_dist)\n",
    "]\n",
    "disruption_plot_data = pd.concat(plot_melted_dfs)\n",
    "disruption_plot_data = disruption_plot_data[disruption_plot_data['value'] > 0] # dont include any responses that werent filled or were NA"
   ]
  },
  {
   "cell_type": "code",
   "execution_count": 78,
   "metadata": {},
   "outputs": [
    {
     "data": {
      "text/plain": [
       "Text(0,0.5,'Value on 5-Point Likert Scale')"
      ]
     },
     "execution_count": 78,
     "metadata": {},
     "output_type": "execute_result"
    },
    {
     "data": {
      "image/png": "[encoded data removed]",
      "text/plain": [
       "<matplotlib.figure.Figure at 0x1a19bcc5c0>"
      ]
     },
     "metadata": {},
     "output_type": "display_data"
    }
   ],
   "source": [
    "fig = plt.subplots(figsize=(12, 8))\n",
    "ax = sns.boxplot(x='condition', y='value', hue='variable', data=disruption_plot_data,\n",
    "                 hue_order=['disruption', 'value', 'future use'])\n",
    "ax.set_title('Disruption, Value, and Likeliness to Use in Future')\n",
    "ax.set_xlabel('Study Conditions')\n",
    "ax.set_ylabel('Value on 5-Point Likert Scale')"
   ]
  },
  {
   "cell_type": "code",
   "execution_count": 79,
   "metadata": {},
   "outputs": [
    {
     "data": {
      "text/plain": [
       "count    28.000000\n",
       "mean      2.095238\n",
       "std       0.607614\n",
       "min       1.000000\n",
       "25%       1.666667\n",
       "50%       1.666667\n",
       "75%       2.333333\n",
       "max       3.666667\n",
       "Name: overall_disruption, dtype: float64"
      ]
     },
     "execution_count": 79,
     "metadata": {},
     "output_type": "execute_result"
    }
   ],
   "source": [
    "post_study_opp_loc['overall_disruption'].describe()"
   ]
  },
  {
   "cell_type": "code",
   "execution_count": 80,
   "metadata": {},
   "outputs": [
    {
     "data": {
      "text/plain": [
       "count    28.000000\n",
       "mean      2.095238\n",
       "std       0.634126\n",
       "min       1.000000\n",
       "25%       1.666667\n",
       "50%       2.333333\n",
       "75%       2.333333\n",
       "max       3.666667\n",
       "Name: overall_disruption, dtype: float64"
      ]
     },
     "execution_count": 80,
     "metadata": {},
     "output_type": "execute_result"
    }
   ],
   "source": [
    "post_study_4x['overall_disruption'].describe()"
   ]
  },
  {
   "cell_type": "code",
   "execution_count": 81,
   "metadata": {},
   "outputs": [
    {
     "data": {
      "text/plain": [
       "count    29.000000\n",
       "mean      2.540230\n",
       "std       0.856413\n",
       "min       1.000000\n",
       "25%       2.333333\n",
       "50%       2.333333\n",
       "75%       3.000000\n",
       "max       4.333333\n",
       "Name: overall_disruption, dtype: float64"
      ]
     },
     "execution_count": 81,
     "metadata": {},
     "output_type": "execute_result"
    }
   ],
   "source": [
    "post_study_opp_dist['overall_disruption'].describe()"
   ]
  },
  {
   "cell_type": "markdown",
   "metadata": {},
   "source": [
    "## Test of Significance on Disruption and Value"
   ]
  },
  {
   "cell_type": "code",
   "execution_count": 82,
   "metadata": {},
   "outputs": [
    {
     "name": "stdout",
     "output_type": "stream",
     "text": [
      "ANOVA on Disruption | F: 3.750, p: 0.028\n"
     ]
    }
   ],
   "source": [
    "F, p = stats.f_oneway(post_study_4x['overall_disruption'],\n",
    "                      post_study_opp_dist['overall_disruption'],\n",
    "                      post_study_opp_loc['overall_disruption'])\n",
    "print('ANOVA on Disruption | F: {:1.3f}, p: {:1.3f}'.format(F, p))"
   ]
  },
  {
   "cell_type": "code",
   "execution_count": 83,
   "metadata": {},
   "outputs": [
    {
     "name": "stdout",
     "output_type": "stream",
     "text": [
      "ANOVA on Disruption | F: 0.119, p: 0.888\n"
     ]
    }
   ],
   "source": [
    "F, p = stats.f_oneway(post_study_4x['overall_value'],\n",
    "                      post_study_opp_dist['overall_value'],\n",
    "                      post_study_opp_loc['overall_value'])\n",
    "print('ANOVA on Disruption | F: {:1.3f}, p: {:1.3f}'.format(F, p))"
   ]
  },
  {
   "cell_type": "code",
   "execution_count": 84,
   "metadata": {},
   "outputs": [
    {
     "name": "stdout",
     "output_type": "stream",
     "text": [
      "ANOVA on Disruption | F: 1.609, p: 0.206\n"
     ]
    }
   ],
   "source": [
    "F, p = stats.f_oneway(post_study_4x['future_use'],\n",
    "                      post_study_opp_dist['future_use'],\n",
    "                      post_study_opp_loc['future_use'])\n",
    "print('ANOVA on Disruption | F: {:1.3f}, p: {:1.3f}'.format(F, p))"
   ]
  },
  {
   "cell_type": "markdown",
   "metadata": {},
   "source": [
    "## Data vs. Pickup Rate vs. Disruption"
   ]
  },
  {
   "cell_type": "code",
   "execution_count": 85,
   "metadata": {},
   "outputs": [],
   "source": [
    "task_acceptance_rate_data = pd.DataFrame({\n",
    "    'condition': [\n",
    "        '4X',\n",
    "        'Opp at Distance',\n",
    "        'Opp at Location',\n",
    "        '4X',\n",
    "        'Opp at Distance',\n",
    "        'Opp at Distance',\n",
    "        \n",
    "    ],\n",
    "    'variable': [\n",
    "        'Valid Response Rate \\n At Location',\n",
    "        'Valid Response Rate \\n At Location',\n",
    "        'Valid Response Rate \\n At Location',\n",
    "        'Task Acceptance Rate (with Info) \\n 300m Away',\n",
    "        'Task Acceptance Rate (with Info) \\n 300m Away',\n",
    "        'Task Acceptance Rate (without Info) \\n 300m Away',\n",
    "    ],\n",
    "    'value': [\n",
    "        float(atloc_4x_count_prop_overall[atloc_4x_count_prop_overall['remappedResponses'] == 'Valid Response']['percentage']),\n",
    "        float(atloc_opp_dist_count_prop_overall[atloc_opp_dist_count_prop_overall['remappedResponses'] == 'Valid Response']['percentage']),\n",
    "        float(atloc_opp_loc_count_prop_overall[atloc_opp_loc_count_prop_overall['remappedResponses'] == 'Valid Response']['percentage']),\n",
    "        float(atdist_4x_count_prop_overall[atdist_4x_count_prop_overall['emaResponse'] == 'Yes! This info is useful, I\\'m going now.']['percentage']),\n",
    "        float(atdist_opp_dist_info_count_prop_overall[atdist_opp_dist_info_count_prop_overall['emaResponse'] == 'Yes! This info is useful, I\\'m going now.']['percentage']),\n",
    "        float(atdist_opp_dist_noinfo_count_prop_overall[atdist_opp_dist_noinfo_count_prop_overall['emaResponse'] == 'Sure! I would be happy to go out of my way!']['percentage']),\n",
    "    ]\n",
    "})\n",
    "\n",
    "disruption_value_data = pd.concat([\n",
    "    pd.DataFrame({'condition': '4X', 'variable': 'Disruption \\n 5-Point Likert Scale', 'value': post_study_4x['overall_disruption']}),\n",
    "    pd.DataFrame({'condition': 'Opp at Distance', 'variable': 'Disruption \\n 5-Point Likert Scale', 'value': post_study_opp_dist['overall_disruption']}),\n",
    "    pd.DataFrame({'condition': 'Opp at Location', 'variable': 'Disruption \\n 5-Point Likert Scale', 'value': post_study_opp_loc['overall_disruption']}),\n",
    "    pd.DataFrame({'condition': '4X', 'variable': 'Value \\n 5-Point Likert Scale', 'value': post_study_4x['overall_value']}),\n",
    "    pd.DataFrame({'condition': 'Opp at Distance', 'variable': 'Value \\n 5-Point Likert Scale', 'value': post_study_opp_dist['overall_value']}),\n",
    "    pd.DataFrame({'condition': 'Opp at Location', 'variable': 'Value \\n 5-Point Likert Scale', 'value': post_study_opp_loc['overall_value']})\n",
    "])"
   ]
  },
  {
   "cell_type": "code",
   "execution_count": 86,
   "metadata": {},
   "outputs": [
    {
     "data": {
      "image/png": "[encoded data removed]",
      "text/plain": [
       "<matplotlib.figure.Figure at 0x1a19b3c898>"
      ]
     },
     "metadata": {},
     "output_type": "display_data"
    }
   ],
   "source": [
    "fig = plt.subplots(figsize=(15, 8))\n",
    "ax = sns.barplot(x='variable', y='value', hue='condition', data=task_acceptance_rate_data,\n",
    "                 hue_order=['Opp at Location', '4X', 'Opp at Distance'])\n",
    "ax.set_title('Task Acceptance Rate')\n",
    "ax.set_xlabel('')\n",
    "ax.set_ylabel('Percentage (out of 100)')\n",
    "ax.set_ylim(0, 60)\n",
    "\n",
    "for p in ax.patches:\n",
    "    height = p.get_height()\n",
    "    if math.isnan(height):\n",
    "        height = 0\n",
    "        ax.text(p.get_x() + p.get_width() / 2, height + 0.5, '', ha=\"center\") \n",
    "    else:\n",
    "        ax.text(p.get_x() + p.get_width() / 2, height + 0.5, '{:1.2f}%'.format(height), ha=\"center\") "
   ]
  },
  {
   "cell_type": "code",
   "execution_count": 87,
   "metadata": {},
   "outputs": [
    {
     "data": {
      "image/png": "[encoded data removed]",
      "text/plain": [
       "<matplotlib.figure.Figure at 0x1a19b3c438>"
      ]
     },
     "metadata": {},
     "output_type": "display_data"
    }
   ],
   "source": [
    "fig = plt.subplots(figsize=(10, 8))\n",
    "ax = sns.barplot(x='variable', y='value', hue='condition', data=disruption_value_data,\n",
    "                 hue_order=['Opp at Location', '4X', 'Opp at Distance'])\n",
    "ax.set_title('Self-Reported Disruption and Value')\n",
    "ax.set_xlabel('')\n",
    "ax.set_ylabel('Average Rating')\n",
    "ax.set_ylim(0, 5)\n",
    "\n",
    "for p in ax.patches:\n",
    "    height = p.get_height()\n",
    "    ax.text(p.get_x() + p.get_width() / 2, height + 0.4, '{:1.2f}'.format(height), ha=\"center\") "
   ]
  },
  {
   "cell_type": "markdown",
   "metadata": {},
   "source": [
    "## Info vs No Info Disruption"
   ]
  },
  {
   "cell_type": "code",
   "execution_count": 88,
   "metadata": {},
   "outputs": [],
   "source": [
    "info_noinfo_plot_melted_dfs = [\n",
    "    pd.DataFrame({'condition': 'Opp at Location', 'at location': post_study_opp_loc['explore_disruption']}).melt(id_vars=['condition']),\n",
    "    pd.DataFrame({'condition': '4X', 'at location': post_study_4x['explore_disruption'], 'info included': post_study_4x['expand_info_disruption']}).melt(id_vars=['condition']),\n",
    "    pd.DataFrame({'condition': 'Opp at Distance', 'at location': post_study_opp_dist['explore_disruption'], 'no info included': post_study_opp_dist['expand_noinfo_disruption'], 'info included': post_study_opp_dist['expand_info_disruption']}).melt(id_vars=['condition'])\n",
    "]\n",
    "info_disruption_plot_data = pd.concat(info_noinfo_plot_melted_dfs)\n",
    "info_disruption_plot_data = info_disruption_plot_data[info_disruption_plot_data['value'] > 0] # dont include any responses that werent filled or were NA"
   ]
  },
  {
   "cell_type": "code",
   "execution_count": 89,
   "metadata": {},
   "outputs": [
    {
     "data": {
      "text/plain": [
       "Text(0,0.5,'Value on 5-Point Likert Scale')"
      ]
     },
     "execution_count": 89,
     "metadata": {},
     "output_type": "execute_result"
    },
    {
     "data": {
      "image/png": "[encoded data removed]",
      "text/plain": [
       "<matplotlib.figure.Figure at 0x1a19a50438>"
      ]
     },
     "metadata": {},
     "output_type": "display_data"
    }
   ],
   "source": [
    "fig = plt.subplots(figsize=(12, 8))\n",
    "ax = sns.boxplot(x='condition', y='value', hue='variable', data=info_disruption_plot_data,\n",
    "                 hue_order=['at location', 'info included', 'no info included'])\n",
    "ax.set_title('Notification Disruptiveness by Notification Type')\n",
    "ax.set_xlabel('Study Condition')\n",
    "ax.set_ylabel('Value on 5-Point Likert Scale')"
   ]
  },
  {
   "cell_type": "code",
   "execution_count": 90,
   "metadata": {},
   "outputs": [],
   "source": [
    "info_noinfo_count_plot_melted_dfs = [\n",
    "    pd.DataFrame({'condition': '4X', 'info included': post_study_4x['expand_info_disruption'], 'info included count': post_study_4x['expand_info_number_notif']}).melt(id_vars=['condition']),\n",
    "    pd.DataFrame({'condition': 'Opp at Distance', 'no info included': post_study_opp_dist['expand_noinfo_disruption'], 'no info included count': post_study_opp_dist['expand_noinfo_number_notif'],\n",
    "                  'info included': post_study_opp_dist['expand_info_disruption'], 'info included count': post_study_opp_dist['expand_info_number_notif']}).melt(id_vars=['condition'])\n",
    "]\n",
    "info_disruption_count_plot_data = pd.concat(info_noinfo_count_plot_melted_dfs)\n",
    "info_disruption_count_plot_data = info_disruption_count_plot_data[info_disruption_count_plot_data['value'] > 0] # dont include any responses that werent filled or were NA"
   ]
  },
  {
   "cell_type": "code",
   "execution_count": 91,
   "metadata": {},
   "outputs": [
    {
     "data": {
      "text/plain": [
       "Text(0.5,1,'Disruptiveness and Desired Count')"
      ]
     },
     "execution_count": 91,
     "metadata": {},
     "output_type": "execute_result"
    },
    {
     "data": {
      "image/png": "[encoded data removed]",
      "text/plain": [
       "<matplotlib.figure.Figure at 0x1a22c84eb8>"
      ]
     },
     "metadata": {},
     "output_type": "display_data"
    }
   ],
   "source": [
    "fig = plt.subplots(figsize=(15, 8))\n",
    "ax = sns.boxplot(x='condition', y='value', hue='variable', data=info_disruption_count_plot_data,\n",
    "                 hue_order=['info included', 'info included count', 'no info included', 'no info included count'])\n",
    "ax.set_title('Disruptiveness and Desired Count')"
   ]
  },
  {
   "cell_type": "markdown",
   "metadata": {},
   "source": [
    "## Notification Rates over Time"
   ]
  },
  {
   "cell_type": "code",
   "execution_count": null,
   "metadata": {},
   "outputs": [],
   "source": []
  }
 ],
 "metadata": {
  "kernelspec": {
   "display_name": "Python 3",
   "language": "python",
   "name": "python3"
  },
  "language_info": {
   "codemirror_mode": {
    "name": "ipython",
    "version": 3
   },
   "file_extension": ".py",
   "mimetype": "text/x-python",
   "name": "python",
   "nbconvert_exporter": "python",
   "pygments_lexer": "ipython3",
   "version": "3.6.4"
  }
 },
 "nbformat": 4,
 "nbformat_minor": 2
}
