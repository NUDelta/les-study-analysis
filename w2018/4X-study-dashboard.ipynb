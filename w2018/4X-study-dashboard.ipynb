{
 "cells": [
  {
   "cell_type": "markdown",
   "metadata": {},
   "source": [
    "# 4X Study Dashboard\n",
    "This notebook is used to analyze data from the 4X study conducted in March 2018."
   ]
  },
  {
   "cell_type": "markdown",
   "metadata": {},
   "source": [
    "# Imports and Global Setup"
   ]
  },
  {
   "cell_type": "code",
   "execution_count": 1,
   "metadata": {},
   "outputs": [],
   "source": [
    "import json\n",
    "from functools import reduce\n",
    "from collections import Counter\n",
    "\n",
    "import requests\n",
    "import pandas as pd\n",
    "import numpy as np\n",
    "\n",
    "from datetime import datetime, timezone\n",
    "from copy import deepcopy\n",
    "from tqdm import *"
   ]
  },
  {
   "cell_type": "code",
   "execution_count": 2,
   "metadata": {},
   "outputs": [],
   "source": [
    "import seaborn as sns\n",
    "import matplotlib.pyplot as plt\n",
    "from matplotlib.colors import ListedColormap\n",
    "%matplotlib inline"
   ]
  },
  {
   "cell_type": "code",
   "execution_count": 3,
   "metadata": {},
   "outputs": [
    {
     "data": {
      "image/png": "[encoded data removed]",
      "text/plain": [
       "<matplotlib.figure.Figure at 0x1a0b1f15f8>"
      ]
     },
     "metadata": {},
     "output_type": "display_data"
    }
   ],
   "source": [
    "# defining colors\n",
    "COLORS = {\n",
    "    'ORANGE': '#E88D67',\n",
    "    'PINK': '#BB999C',\n",
    "    'VIOLET': '#9999C3',\n",
    "    'BLUE': '#7B8CDE',\n",
    "    'GREEN': '#C0E6DE'\n",
    "}\n",
    "\n",
    "# palette\n",
    "sns.set_palette(COLORS.values())\n",
    "sns.palplot(sns.color_palette())\n",
    "sns.set(font_scale=1.5, style='whitegrid')"
   ]
  },
  {
   "cell_type": "markdown",
   "metadata": {},
   "source": [
    "# Load in data"
   ]
  },
  {
   "cell_type": "code",
   "execution_count": 4,
   "metadata": {},
   "outputs": [
    {
     "name": "stdout",
     "output_type": "stream",
     "text": [
      "Study Length: 13 days, 23:00:00\n"
     ]
    }
   ],
   "source": [
    "# URLs for different conditions\n",
    "url_4x = 'https://les-4x.herokuapp.com/parse/classes/'\n",
    "url_opp_location = 'https://les-opplocation.herokuapp.com/parse/classes/'\n",
    "url_opp_distance = 'https://les-oppdistance.herokuapp.com/parse/classes/'\n",
    "\n",
    "# shared header and data\n",
    "header = {'X-Parse-Application-Id': 'PkngqKtJygU9WiQ1GXM9eC0a17tKmioKKmpWftYr'}\n",
    "data = {'limit': '10000'}\n",
    "\n",
    "# study start and end\n",
    "start_time = '2018-03-05 06:00:00'\n",
    "end_time = '2018-03-19 05:00:00'\n",
    "print('Study Length: {}'.format(datetime.strptime(end_time, '%Y-%m-%d %H:%M:%S') - datetime.strptime(start_time, '%Y-%m-%d %H:%M:%S')))"
   ]
  },
  {
   "cell_type": "code",
   "execution_count": 5,
   "metadata": {},
   "outputs": [],
   "source": [
    "def load_data(base_url, header, data, start_time, end_time):\n",
    "    \"\"\"\n",
    "    Loads in all needed tables from database, given url.\n",
    "    \n",
    "    Input: \n",
    "        base_url (string): url to pull data from\n",
    "        header (dict): application id and other auth\n",
    "        data (dict): data to pass into query\n",
    "        start_time (datetime): start time for data\n",
    "        end_time (datetime): end time for data \n",
    "    \n",
    "    Return:\n",
    "        (dict): dict where keys are collection names and values are Pandas objects containing data\n",
    "    \"\"\"\n",
    "    # declare collection list\n",
    "    collection_list = ['_User', 'ServerLog', 'DebugLog', 'ForYouViewLog', 'ApplicationHeartbeat',\n",
    "                       'TaskLocations', 'LocationTypeMetadata', 'beacons', 'EnRouteLocations',\n",
    "                       'AtLocationNotificationsSent', 'AtLocationNotificationResponses',\n",
    "                       'EnRouteNotificationsSent', 'EnRouteNotificationResponses',\n",
    "                       'AtDistanceNotificationsSent', 'AtDistanceNotificationResponses']\n",
    "    \n",
    "    # loop through and load data for each collection\n",
    "    output = {}\n",
    "    for collection in tqdm(collection_list):\n",
    "        current_response = requests.get(base_url + collection, headers=header, data=data)\n",
    "\n",
    "        current_data = pd.DataFrame(current_response.json()['results'])\n",
    "        if len(current_data) != 0 and collection not in ['LocationTypeMetadata', 'EnRouteLocations']:\n",
    "            current_data['createdAt'] = pd.to_datetime(current_data['createdAt'])\n",
    "            current_data['updatedAt'] = pd.to_datetime(current_data['updatedAt'])\n",
    "            \n",
    "            if collection != '_User':\n",
    "                current_data = current_data[(current_data['createdAt'] >= start_time) & (current_data['createdAt'] < end_time)]\n",
    "\n",
    "        output[collection] = current_data\n",
    "    \n",
    "    return output"
   ]
  },
  {
   "cell_type": "code",
   "execution_count": 6,
   "metadata": {},
   "outputs": [
    {
     "name": "stderr",
     "output_type": "stream",
     "text": [
      "100%|██████████| 15/15 [00:05<00:00,  2.95it/s]\n"
     ]
    }
   ],
   "source": [
    "data_4x = load_data(url_4x, header, data, start_time, end_time)"
   ]
  },
  {
   "cell_type": "code",
   "execution_count": 7,
   "metadata": {},
   "outputs": [
    {
     "name": "stderr",
     "output_type": "stream",
     "text": [
      "100%|██████████| 15/15 [00:05<00:00,  2.58it/s]\n"
     ]
    }
   ],
   "source": [
    "data_opp_loc = load_data(url_opp_location, header, data, start_time, end_time)"
   ]
  },
  {
   "cell_type": "code",
   "execution_count": 8,
   "metadata": {},
   "outputs": [
    {
     "name": "stderr",
     "output_type": "stream",
     "text": [
      "100%|██████████| 15/15 [00:04<00:00,  3.46it/s]\n"
     ]
    }
   ],
   "source": [
    "data_opp_dist = load_data(url_opp_distance, header, data, start_time, end_time)"
   ]
  },
  {
   "cell_type": "markdown",
   "metadata": {},
   "source": [
    "# Data Setup\n",
    "This section of the notebook is used to monitor the data coming in from the study. Some measures we see here may be used within the paper"
   ]
  },
  {
   "cell_type": "markdown",
   "metadata": {},
   "source": [
    "## Common Functions and Data"
   ]
  },
  {
   "cell_type": "code",
   "execution_count": 9,
   "metadata": {},
   "outputs": [],
   "source": [
    "def get_merged_at_location(tasklocations, atlocnotif, atlocresp):\n",
    "    \"\"\"\n",
    "    Sets up a Pandas DataFrame with (1) TaskLocation, (2) NotificationSent, and (3) NotificationResponse data\n",
    "    merged together for AtLocation case.\n",
    "    \n",
    "    Input:\n",
    "        tasklocations (DataFrame): DataFrame of TaskLocations\n",
    "        atlocnotif (DataFrame): DataFrame of AtLocationNotificationsSent\n",
    "        atlocresp (DataFrame): DataFrame of AtLocationNotificationResponses\n",
    "    \n",
    "    Return:\n",
    "        (DataFrame): merged DataFrame of inputs\n",
    "    \"\"\"\n",
    "    # get AtLocationNotifications without duplicates\n",
    "    atlocnotif.drop_duplicates(subset=['taskLocationId', 'vendorId'], keep='last', inplace=True)\n",
    "    atlocnotif.drop(['objectId', 'createdAt', 'updatedAt'], axis=1, inplace=True)\n",
    "\n",
    "    # get AtLocationNotificationResponses without duplicates\n",
    "    atlocresp.drop_duplicates(subset=['taskLocationId', 'vendorId'], keep='last', inplace=True)\n",
    "    atlocresp.drop(['objectId', 'createdAt', 'updatedAt'], axis=1, inplace=True)\n",
    "    \n",
    "    # combine AtLocation notifications and responses, with some data from TaskLocations\n",
    "    atloc = atlocnotif.merge(tasklocations[['objectId', 'locationType', 'locationName', 'beaconId']],\n",
    "                             how='inner', left_on='taskLocationId', right_on='objectId')\n",
    "    atloc = atloc.merge(atlocresp[['question', 'response', 'timestamp', 'taskLocationId', 'vendorId']],\n",
    "                        how='left', on=['taskLocationId', 'vendorId'])\n",
    "    \n",
    "    # clean columns\n",
    "    del atloc['objectId']\n",
    "    atloc.rename(columns={'timestamp_x': 'notificationTimestamp', 'timestamp_y': 'responseTimestamp'},\n",
    "                 inplace=True)\n",
    "    \n",
    "    # fill blank columns\n",
    "    atloc[['question', 'response']] = atloc[['question', 'response']].fillna(value='missed notification')\n",
    "    atloc[['distanceToLocation', 'responseTimestamp']] = atloc[['distanceToLocation', 'responseTimestamp']].fillna(value=-1)\n",
    "\n",
    "    # type columns\n",
    "    atloc_int_cols = ['gmtOffset','notificationTimestamp', 'responseTimestamp']\n",
    "    atloc[atloc_int_cols] = atloc[atloc_int_cols].apply(lambda x: x.astype(np.int64))\n",
    "    \n",
    "    # add remappedResponses column \n",
    "    invalid_responses = ['I don\\'t know', 'com.apple.UNNotificationDismissActionIdentifier', 'missed notification']\n",
    "    atloc['remappedResponses'] = atloc['response']\n",
    "    atloc.loc[~atloc['remappedResponses'].isin(invalid_responses), 'remappedResponses'] = 'valid response'\n",
    "    atloc.loc[atloc['remappedResponses'] == 'com.apple.UNNotificationDismissActionIdentifier', 'remappedResponses'] = 'dismissed notification'\n",
    "    \n",
    "    # reorder columns\n",
    "    atloc_col_ordering = ['taskLocationId', 'vendorId', 'beaconId', 'distanceToLocation',\n",
    "                          'locationType', 'locationName','gmtOffset', 'notificationTimestamp', 'notificationString',\n",
    "                          'question', 'response', 'remappedResponses', 'responseTimestamp']\n",
    "    atloc = atloc[atloc_col_ordering]\n",
    "    \n",
    "    return atloc"
   ]
  },
  {
   "cell_type": "code",
   "execution_count": 10,
   "metadata": {},
   "outputs": [],
   "source": [
    "def get_merged_at_distance(tasklocations, atdistnotif, atdistresp):\n",
    "    \"\"\"\n",
    "    Sets up a Pandas DataFrame with (1) TaskLocation, (2) NotificationSent, and (3) NotificationResponse data\n",
    "    merged together for AtDistance case.\n",
    "    \n",
    "    Input:\n",
    "        tasklocations (DataFrame): DataFrame of TaskLocations\n",
    "        atdistnotif (DataFrame): DataFrame of AtDistanceNotificationsSent\n",
    "        atdistresp (DataFrame): DataFrame of AtDistanceNotificationResponses\n",
    "    \n",
    "    Return:\n",
    "        (DataFrame): merged DataFrame of inputs\n",
    "    \"\"\"\n",
    "    # get AtDistanceNotifications without duplicates\n",
    "    atdistnotif.drop_duplicates(subset=['taskLocationId', 'vendorId'], keep='last', inplace=True)\n",
    "    atdistnotif.drop(['objectId', 'createdAt', 'updatedAt'], axis=1, inplace=True)\n",
    "\n",
    "    # get AtDistanceNotificationResponses without duplicates\n",
    "    atdistresp.drop_duplicates(subset=['taskLocationId', 'vendorId'], keep='last', inplace=True)\n",
    "    atdistresp.drop(['objectId', 'createdAt', 'updatedAt'], axis=1, inplace=True)\n",
    "    \n",
    "    # combine AtDistance notifications and responses, with some data from TaskLocations\n",
    "    atdist = atdistnotif.merge(tasklocations[['objectId', 'beaconId', 'locationName']],\n",
    "                               how='inner', left_on='taskLocationId', right_on='objectId')\n",
    "    atdist = atdist.merge(atdistresp[['emaResponse', 'timestamp', 'taskLocationId', 'vendorId']],\n",
    "                          how='left', on=['taskLocationId', 'vendorId'])\n",
    "    \n",
    "    # clean columns\n",
    "    del atdist['objectId']\n",
    "    atdist.rename(columns={'timestamp_x': 'notificationTimestamp', 'timestamp_y': 'responseTimestamp'}, inplace=True)\n",
    "\n",
    "    atdist_col_ordering = ['taskLocationId', 'vendorId', 'beaconId', 'distanceToLocation', 'bearingToLocation',\n",
    "                           'locationType', 'locationName', 'notificationDistance', 'sentBy', 'infoIncluded',\n",
    "                           'gmtOffset', 'notificationTimestamp', 'emaResponse', 'responseTimestamp']\n",
    "    atdist = atdist[atdist_col_ordering]\n",
    "    \n",
    "    # fill blank columns\n",
    "    atdist['emaResponse'] = atdist['emaResponse'].fillna(value='missed notification')\n",
    "    atdist.loc[atdist['emaResponse'] == 'com.apple.UNNotificationDismissActionIdentifier', 'emaResponse'] = 'dismissed notification'\n",
    "    \n",
    "    atdist['responseTimestamp'] = atdist['responseTimestamp'].fillna(value=-1)\n",
    "\n",
    "    # type columns\n",
    "    atdist_int_cols = ['gmtOffset','notificationTimestamp', 'responseTimestamp']\n",
    "    atdist[atdist_int_cols] = atdist[atdist_int_cols].apply(lambda x: x.astype(np.int64))\n",
    "    \n",
    "    return atdist"
   ]
  },
  {
   "cell_type": "code",
   "execution_count": 11,
   "metadata": {},
   "outputs": [],
   "source": [
    "def get_merged_en_route(enroutelocations, enroutenotif, enrouteresp):\n",
    "    \"\"\"\n",
    "    Sets up a Pandas DataFrame with (1) EnRouteLocations, (2) NotificationSent, and (3) NotificationResponse data\n",
    "    merged together for EnRoute case.\n",
    "    \n",
    "    Input:\n",
    "        enroutelocations (DataFrame): DataFrame of EnRouteLocations\n",
    "        enroutenotif (DataFrame): DataFrame of EnRouteNotificationsSent\n",
    "        enrouteresp (DataFrame): DataFrame of EnRouteNotificationResponses\n",
    "    \n",
    "    Return:\n",
    "        (DataFrame): merged DataFrame of inputs\n",
    "    \"\"\"\n",
    "    # get EnRouteNotifications without duplicates\n",
    "    enroutenotif.drop_duplicates(subset=['enRouteLocationId', 'vendorId'], keep='last', inplace=True)\n",
    "    enroutenotif.drop(['objectId', 'createdAt', 'updatedAt'], axis=1, inplace=True)\n",
    "\n",
    "    # get AtDistanceNotificationResponses without duplicates\n",
    "    enrouteresp.drop_duplicates(subset=['enRouteLocationId', 'vendorId'], keep='last', inplace=True)\n",
    "    enrouteresp.drop(['objectId', 'createdAt', 'updatedAt'], axis=1, inplace=True)\n",
    "    \n",
    "    # combine EnRouteNotifications and responses, with some data from EnRouteLocations\n",
    "    enroute = enroutenotif.merge(enroutelocations[['objectId', 'locationName', 'locationType']],\n",
    "                               how='inner', left_on='enRouteLocationId', right_on='objectId')\n",
    "    enroute = enroute.merge(enrouteresp[['questionResponse', 'timestamp', 'enRouteLocationId', 'vendorId']],\n",
    "                            how='left', on=['enRouteLocationId', 'vendorId'])\n",
    "    \n",
    "    # clean columns\n",
    "    del enroute['objectId']\n",
    "    enroute.rename(columns={'timestamp_x': 'notificationTimestamp', 'timestamp_y': 'responseTimestamp'}, inplace=True)\n",
    "\n",
    "    enroute_col_ordering = ['enRouteLocationId', 'vendorId', 'distanceToLocation', 'locationType', 'locationName',\n",
    "                           'gmtOffset', 'notificationTimestamp', 'questionResponse', 'responseTimestamp']\n",
    "    enroute = enroute[enroute_col_ordering]\n",
    "    \n",
    "    # fill blank columns\n",
    "    enroute['questionResponse'] = enroute['questionResponse'].fillna(value='missed notification')\n",
    "    enroute.loc[enroute['questionResponse'] == 'com.apple.UNNotificationDismissActionIdentifier', 'questionResponse'] = 'dismissed notification'\n",
    "    \n",
    "    enroute['responseTimestamp'] = enroute['responseTimestamp'].fillna(value=-1)\n",
    "    \n",
    "     # add validResponse column \n",
    "    invalid_responses = ['I don\\'t know', 'com.apple.UNNotificationDismissActionIdentifier', 'missed notification']\n",
    "    enroute['remappedResponses'] = enroute['questionResponse']\n",
    "    enroute.loc[~enroute['remappedResponses'].isin(invalid_responses), 'remappedResponses'] = 'valid response'\n",
    "    enroute.loc[enroute['remappedResponses'] == 'com.apple.UNNotificationDismissActionIdentifier', 'remappedResponses'] = 'dismissed notification'\n",
    "\n",
    "    # type columns\n",
    "    enroute_int_cols = ['gmtOffset','notificationTimestamp', 'responseTimestamp']\n",
    "    enroute[enroute_int_cols] = enroute[enroute_int_cols].apply(lambda x: x.astype(np.int64))\n",
    "    \n",
    "    return enroute"
   ]
  },
  {
   "cell_type": "code",
   "execution_count": 12,
   "metadata": {},
   "outputs": [],
   "source": [
    "def get_dead_apps(serverlog):\n",
    "    \"\"\"\n",
    "    Returns a list of lists for dead apps that server has notified.\n",
    "    \n",
    "    Input: \n",
    "        server (DataFrame): DataFrame of ServerLog\n",
    "    \n",
    "    Return:\n",
    "        (list of lists of strings): all dead applications notified via push\n",
    "    \"\"\"\n",
    "    notify_log_strings = serverlog[serverlog['logString'].str.contains('Notified dead')]['logString']\n",
    "    deadapp_notif_list = list(notify_log_strings.apply(lambda x: x[x.find('[') + 1:-1].split(', ')))\n",
    "    return deadapp_notif_list"
   ]
  },
  {
   "cell_type": "code",
   "execution_count": 13,
   "metadata": {},
   "outputs": [
    {
     "data": {
      "text/plain": [
       "{'coffeeshop': {'privateseating': '',\n",
       "  'privateseatingoutlets': '',\n",
       "  'privateseatingwindows': '',\n",
       "  'sharedseating': '',\n",
       "  'sharedseatingoutlets': '',\n",
       "  'sharedseatingwindows': ''},\n",
       " 'freefood': {'foodtype': '', 'stillleft': ''},\n",
       " 'gym': {'ellipticals': '',\n",
       "  'freeweights': '',\n",
       "  'freeweightsbenches': '',\n",
       "  'freeweightssquatracks': '',\n",
       "  'stretch': '',\n",
       "  'stretchmats': '',\n",
       "  'stretchrollers': '',\n",
       "  'treadmills': ''},\n",
       " 'workspace': {'privateseating': '',\n",
       "  'privateseatingoutlets': '',\n",
       "  'sharedseating': '',\n",
       "  'sharedseatingoutlets': '',\n",
       "  'whiteboards': '',\n",
       "  'whiteboardsmarkers': ''}}"
      ]
     },
     "execution_count": 13,
     "metadata": {},
     "output_type": "execute_result"
    }
   ],
   "source": [
    "location_scaffolds = {}\n",
    "for index, row in data_4x['LocationTypeMetadata'].iterrows():\n",
    "    location_scaffolds[row['locationType']] = row['scaffold']\n",
    "location_scaffolds"
   ]
  },
  {
   "cell_type": "markdown",
   "metadata": {},
   "source": [
    "## 4X Data Setup"
   ]
  },
  {
   "cell_type": "code",
   "execution_count": 14,
   "metadata": {},
   "outputs": [],
   "source": [
    "users_4x = deepcopy(data_4x['_User'])\n",
    "users_4x = users_4x[users_4x['vendorId'] != '']"
   ]
  },
  {
   "cell_type": "code",
   "execution_count": 15,
   "metadata": {},
   "outputs": [
    {
     "name": "stdout",
     "output_type": "stream",
     "text": [
      "Last dead apps notified (count = 16): \n",
      "B58B0DF7-8DA5-4A22-98EF-2AE712D4DB10\n",
      "4B4115BA-BF8C-4F05-9B6E-7862FA08FC5F\n",
      "F57CB6D4-09B3-4796-AE91-2F31BADEE832\n",
      "79CCD350-AAC5-4586-A6FC-1948B49A4B10\n",
      "A0288977-976D-4831-93D4-8472FC842621\n",
      "95674A2B-6954-49C6-9456-A7F865CE686E\n",
      "437A2325-CA4D-4426-9F1A-F89E412A00AC\n",
      "E89FDDC1-0ADA-4249-B9AD-40F24FD9DE30\n",
      "4D412B42-A080-49E7-A091-74C42D2778BF\n",
      "6E3825DB-09C2-4C6C-B3BC-62DBFFD6F7EE\n",
      "B0686F52-978C-4925-A466-E7A6A765B258\n",
      "53F61BDE-FFC0-476A-AF7B-D592F4155AC8\n",
      "D3D3D1E2-1F39-4AB8-917D-52876AA63830\n",
      "E78771C1-08B3-4483-99D8-4A081E98DABC\n",
      "C89DDEDC-F459-40BA-8073-EAFF7FC53C34\n",
      "FDEFE367-350F-4B8B-898E-710487D51BF4\n"
     ]
    },
    {
     "data": {
      "text/plain": [
       "Counter({'0EC5DDE3-5D78-4025-AC41-EF6EEF9612FC': 1,\n",
       "         '203FE158-68A6-496F-B72E-274A4417983A': 2,\n",
       "         '437A2325-CA4D-4426-9F1A-F89E412A00AC': 2,\n",
       "         '4B4115BA-BF8C-4F05-9B6E-7862FA08FC5F': 4,\n",
       "         '4D412B42-A080-49E7-A091-74C42D2778BF': 1,\n",
       "         '4DFAD945-87C6-4219-B237-7345E7600105': 2,\n",
       "         '53F61BDE-FFC0-476A-AF7B-D592F4155AC8': 4,\n",
       "         '6E3825DB-09C2-4C6C-B3BC-62DBFFD6F7EE': 1,\n",
       "         '79CCD350-AAC5-4586-A6FC-1948B49A4B10': 4,\n",
       "         '8617CA10-E2AD-4420-B92B-AF170930FDB1': 2,\n",
       "         '95674A2B-6954-49C6-9456-A7F865CE686E': 4,\n",
       "         'A0288977-976D-4831-93D4-8472FC842621': 1,\n",
       "         'B0686F52-978C-4925-A466-E7A6A765B258': 4,\n",
       "         'B58B0DF7-8DA5-4A22-98EF-2AE712D4DB10': 4,\n",
       "         'C89DDEDC-F459-40BA-8073-EAFF7FC53C34': 4,\n",
       "         'D3D3D1E2-1F39-4AB8-917D-52876AA63830': 4,\n",
       "         'E78771C1-08B3-4483-99D8-4A081E98DABC': 4,\n",
       "         'E89FDDC1-0ADA-4249-B9AD-40F24FD9DE30': 4,\n",
       "         'F57CB6D4-09B3-4796-AE91-2F31BADEE832': 3,\n",
       "         'F869C396-591A-4F19-895B-5E5871924B45': 1,\n",
       "         'FDEFE367-350F-4B8B-898E-710487D51BF4': 4})"
      ]
     },
     "execution_count": 15,
     "metadata": {},
     "output_type": "execute_result"
    }
   ],
   "source": [
    "serverlog_4x = deepcopy(data_4x['ServerLog'])\n",
    "deadapp_notify_4x = get_dead_apps(serverlog_4x)\n",
    "print('Last dead apps notified (count = {}): \\n{}'.format(len(deadapp_notify_4x[-1]),\n",
    "                                                          '\\n'.join(deadapp_notify_4x[-1])))\n",
    "\n",
    "flattened_deadapps_4x = reduce(lambda x, y: x + y, deadapp_notify_4x, [])\n",
    "Counter(flattened_deadapps_4x)"
   ]
  },
  {
   "cell_type": "code",
   "execution_count": 16,
   "metadata": {},
   "outputs": [],
   "source": [
    "tasklocations_4x = deepcopy(data_4x['TaskLocations'])\n",
    "enroutelocations_4x = deepcopy(data_4x['EnRouteLocations'])\n",
    "\n",
    "atlocnotif_4x = deepcopy(data_4x['AtLocationNotificationsSent'])\n",
    "atlocresp_4x = deepcopy(data_4x['AtLocationNotificationResponses'])\n",
    "\n",
    "atdistnotif_4x = deepcopy(data_4x['AtDistanceNotificationsSent'])\n",
    "atdistresp_4x = deepcopy(data_4x['AtDistanceNotificationResponses'])\n",
    "\n",
    "enroutenotif_4x = deepcopy(data_4x['EnRouteNotificationsSent'])\n",
    "enrouteresp_4x = deepcopy(data_4x['EnRouteNotificationResponses'])"
   ]
  },
  {
   "cell_type": "code",
   "execution_count": 17,
   "metadata": {},
   "outputs": [],
   "source": [
    "# merged data frame with all AtLocation data\n",
    "atloc_4x = get_merged_at_location(deepcopy(tasklocations_4x),\n",
    "                                  deepcopy(atlocnotif_4x),\n",
    "                                  deepcopy(atlocresp_4x))"
   ]
  },
  {
   "cell_type": "code",
   "execution_count": 18,
   "metadata": {},
   "outputs": [],
   "source": [
    "# merged data frame with all AtDistance data\n",
    "atdist_4x = get_merged_at_distance(deepcopy(tasklocations_4x),\n",
    "                                   deepcopy(atdistnotif_4x),\n",
    "                                   deepcopy(atdistresp_4x))\n",
    "atdist_4x = atdist_4x[atdist_4x['infoIncluded']] # 4X Only: remove cases without info"
   ]
  },
  {
   "cell_type": "code",
   "execution_count": 19,
   "metadata": {},
   "outputs": [],
   "source": [
    "# merged data from with all EnRoute data\n",
    "enroute_4x = get_merged_en_route(deepcopy(enroutelocations_4x),\n",
    "                                 deepcopy(enroutenotif_4x),\n",
    "                                 deepcopy(enrouteresp_4x))"
   ]
  },
  {
   "cell_type": "markdown",
   "metadata": {},
   "source": [
    "## Opp at Distance Data Setup"
   ]
  },
  {
   "cell_type": "code",
   "execution_count": 20,
   "metadata": {},
   "outputs": [],
   "source": [
    "users_opp_dist = deepcopy(data_opp_dist['_User'])\n",
    "users_opp_dist = users_opp_dist[users_opp_dist['vendorId'] != '']"
   ]
  },
  {
   "cell_type": "code",
   "execution_count": 21,
   "metadata": {},
   "outputs": [
    {
     "name": "stdout",
     "output_type": "stream",
     "text": [
      "Last dead apps notified (count = 18): \n",
      "D1338E4F-A39D-4D48-9E13-0C9535B27DA4\n",
      "EA5C3169-A161-4909-8FFE-E7AD76A3CD3F\n",
      "A376DA22-0D0E-4E61-B554-BB011B20C205\n",
      "64F010DE-D544-4F83-944A-6551C9998E91\n",
      "8EE01978-8AD4-410E-9F5F-B20E93875ACD\n",
      "B40B49C0-B139-49B3-A36D-52EEB62932FF\n",
      "2D6F0F67-8F47-4A28-9AB0-7EE0BC7F137A\n",
      "B2F59A67-D682-4367-AE96-632E3EA75D06\n",
      "35CAF927-52EC-4AD9-AB9A-57A8A12CCAB3\n",
      "6E39791E-43F3-48BD-88AD-1E50EAB27E2B\n",
      "B3342593-A72F-4715-B728-F82852432A4C\n",
      "EBF44F57-9592-4E01-9EDE-62AA5B47C7DA\n",
      "2C92D8B2-025C-4D03-A52E-1C82AD780228\n",
      "F9E6F4F2-061C-4AD2-9EDD-5B448A2ACFD2\n",
      "EDB4A5DC-C43D-4064-BBB9-2C6BE19BF819\n",
      "1F8A8384-CF46-42E2-AECF-1427DB1CE7AF\n",
      "BA9EAAA9-D5F3-409B-B301-E14B30CE2ED7\n",
      "086AFB2A-294D-495E-9BD2-19B22C179C00\n"
     ]
    },
    {
     "data": {
      "text/plain": [
       "Counter({'086AFB2A-294D-495E-9BD2-19B22C179C00': 2,\n",
       "         '1F8A8384-CF46-42E2-AECF-1427DB1CE7AF': 4,\n",
       "         '2C92D8B2-025C-4D03-A52E-1C82AD780228': 4,\n",
       "         '2D6F0F67-8F47-4A28-9AB0-7EE0BC7F137A': 4,\n",
       "         '3153A147-D884-43E2-B37F-028A3C7A1F4C': 2,\n",
       "         '35CAF927-52EC-4AD9-AB9A-57A8A12CCAB3': 3,\n",
       "         '64C31BCA-FB95-4D89-9774-0DDE7FC1B63F': 1,\n",
       "         '64F010DE-D544-4F83-944A-6551C9998E91': 4,\n",
       "         '6E39791E-43F3-48BD-88AD-1E50EAB27E2B': 4,\n",
       "         '8EE01978-8AD4-410E-9F5F-B20E93875ACD': 4,\n",
       "         'A376DA22-0D0E-4E61-B554-BB011B20C205': 4,\n",
       "         'B2F59A67-D682-4367-AE96-632E3EA75D06': 4,\n",
       "         'B3342593-A72F-4715-B728-F82852432A4C': 4,\n",
       "         'B40B49C0-B139-49B3-A36D-52EEB62932FF': 4,\n",
       "         'BA9EAAA9-D5F3-409B-B301-E14B30CE2ED7': 4,\n",
       "         'C64D469A-DA02-42EC-BE97-B767F00C26CE': 3,\n",
       "         'CC2C3B56-3429-41E3-A575-C95B062FA175': 1,\n",
       "         'D1338E4F-A39D-4D48-9E13-0C9535B27DA4': 4,\n",
       "         'EA5C3169-A161-4909-8FFE-E7AD76A3CD3F': 4,\n",
       "         'EBF44F57-9592-4E01-9EDE-62AA5B47C7DA': 4,\n",
       "         'EDB4A5DC-C43D-4064-BBB9-2C6BE19BF819': 4,\n",
       "         'F9E6F4F2-061C-4AD2-9EDD-5B448A2ACFD2': 4})"
      ]
     },
     "execution_count": 21,
     "metadata": {},
     "output_type": "execute_result"
    }
   ],
   "source": [
    "serverlog_opp_dist = deepcopy(data_opp_dist['ServerLog'])\n",
    "deadapp_notify_opp_dist = get_dead_apps(serverlog_opp_dist)\n",
    "print('Last dead apps notified (count = {}): \\n{}'.format(len(deadapp_notify_opp_dist[-1]),\n",
    "                                                          '\\n'.join(deadapp_notify_opp_dist[-1])))\n",
    "\n",
    "flattened_deadapps_opp_dist = reduce(lambda x, y: x + y, deadapp_notify_opp_dist, [])\n",
    "Counter(flattened_deadapps_opp_dist)"
   ]
  },
  {
   "cell_type": "code",
   "execution_count": 22,
   "metadata": {},
   "outputs": [],
   "source": [
    "tasklocations_opp_dist = deepcopy(data_opp_dist['TaskLocations'])\n",
    "\n",
    "atlocnotif_opp_dist = deepcopy(data_opp_dist['AtLocationNotificationsSent'])\n",
    "atlocresp_opp_dist = deepcopy(data_opp_dist['AtLocationNotificationResponses'])\n",
    "\n",
    "atdistnotif_opp_dist = deepcopy(data_opp_dist['AtDistanceNotificationsSent'])\n",
    "atdistresp_opp_dist = deepcopy(data_opp_dist['AtDistanceNotificationResponses'])"
   ]
  },
  {
   "cell_type": "code",
   "execution_count": 23,
   "metadata": {},
   "outputs": [],
   "source": [
    "# merged data frame with all AtLocation data\n",
    "atloc_opp_dist = get_merged_at_location(deepcopy(tasklocations_opp_dist),\n",
    "                                        deepcopy(atlocnotif_opp_dist),\n",
    "                                        deepcopy(atlocresp_opp_dist))"
   ]
  },
  {
   "cell_type": "code",
   "execution_count": 24,
   "metadata": {},
   "outputs": [],
   "source": [
    "# merged data frame with all AtDistance data\n",
    "atdist_opp_dist = get_merged_at_distance(deepcopy(tasklocations_opp_dist),\n",
    "                                         deepcopy(atdistnotif_opp_dist),\n",
    "                                         deepcopy(atdistresp_opp_dist))"
   ]
  },
  {
   "cell_type": "markdown",
   "metadata": {},
   "source": [
    "## Opp at Location Data Setup"
   ]
  },
  {
   "cell_type": "code",
   "execution_count": 25,
   "metadata": {},
   "outputs": [],
   "source": [
    "users_opp_loc = deepcopy(data_opp_loc['_User'])\n",
    "users_opp_loc = users_opp_loc[users_opp_loc['vendorId'] != '']"
   ]
  },
  {
   "cell_type": "code",
   "execution_count": 26,
   "metadata": {},
   "outputs": [
    {
     "name": "stdout",
     "output_type": "stream",
     "text": [
      "Last dead apps notified (count = 13): \n",
      "B2ABB039-3AD4-4C69-BC1E-3917A843EA9A\n",
      "566EBB40-146B-4C6C-BA3E-49E5FB735E87\n",
      "4D948452-9913-4A94-BFF2-67039C8B86AE\n",
      "4D09BB7A-921E-43C3-B2A9-E65784776B57\n",
      "280C2DFC-22B7-436F-B964-F4D7A4329F05\n",
      "44152338-7684-47F8-B18B-0CB1D965A8C3\n",
      "AD19F67D-AE65-4B59-BD66-B9FA2D4AEF82\n",
      "316B7E89-E085-44B3-ACD0-EAA3E4B815C5\n",
      "FFC6D8AB-EA05-46D6-9701-68A49BB2A556\n",
      "9EF07688-0D43-4E38-970A-F09D2D4CAF36\n",
      "9E65FEFD-F7CA-4647-A3B8-8C35E9D00699\n",
      "A7345311-5DC8-4C0A-B882-FD78ED62AE1B\n",
      "15DF333A-774A-492A-9E83-7FAD841F2B65\n"
     ]
    },
    {
     "data": {
      "text/plain": [
       "Counter({'15DF333A-774A-492A-9E83-7FAD841F2B65': 4,\n",
       "         '280C2DFC-22B7-436F-B964-F4D7A4329F05': 1,\n",
       "         '316B7E89-E085-44B3-ACD0-EAA3E4B815C5': 3,\n",
       "         '44152338-7684-47F8-B18B-0CB1D965A8C3': 2,\n",
       "         '46EA14E9-CC43-45CD-8858-7244118F61F1': 1,\n",
       "         '4D09BB7A-921E-43C3-B2A9-E65784776B57': 4,\n",
       "         '4D948452-9913-4A94-BFF2-67039C8B86AE': 4,\n",
       "         '4EA8A226-13F4-4015-BEAF-657D948E8839': 2,\n",
       "         '566EBB40-146B-4C6C-BA3E-49E5FB735E87': 4,\n",
       "         '8617CA10-E2AD-4420-B92B-AF170930FDB1': 1,\n",
       "         '91237D64-CE23-46F5-B622-59FC927DA643': 3,\n",
       "         '9E65FEFD-F7CA-4647-A3B8-8C35E9D00699': 4,\n",
       "         '9EF07688-0D43-4E38-970A-F09D2D4CAF36': 4,\n",
       "         'A7345311-5DC8-4C0A-B882-FD78ED62AE1B': 4,\n",
       "         'AD19F67D-AE65-4B59-BD66-B9FA2D4AEF82': 1,\n",
       "         'B2ABB039-3AD4-4C69-BC1E-3917A843EA9A': 3,\n",
       "         'B5A1599B-18DB-4842-86BB-F1D6E938FFD2': 1,\n",
       "         'C62677A5-66FF-42F4-8F06-DD63BF8ADCB7': 1,\n",
       "         'CD759DCB-AA44-4130-A246-703F1AD5DBB9': 1,\n",
       "         'FFC6D8AB-EA05-46D6-9701-68A49BB2A556': 4})"
      ]
     },
     "execution_count": 26,
     "metadata": {},
     "output_type": "execute_result"
    }
   ],
   "source": [
    "serverlog_opp_loc = deepcopy(data_opp_loc['ServerLog'])\n",
    "deadapp_notify_opp_loc = get_dead_apps(serverlog_opp_loc)\n",
    "print('Last dead apps notified (count = {}): \\n{}'.format(len(deadapp_notify_opp_loc[-1]),\n",
    "                                                          '\\n'.join(deadapp_notify_opp_loc[-1])))\n",
    "\n",
    "flattened_deadapps_opp_loc = reduce(lambda x, y: x + y, deadapp_notify_opp_loc, [])\n",
    "Counter(flattened_deadapps_opp_loc)"
   ]
  },
  {
   "cell_type": "code",
   "execution_count": 27,
   "metadata": {},
   "outputs": [],
   "source": [
    "tasklocations_opp_loc = deepcopy(data_opp_loc['TaskLocations'])\n",
    "\n",
    "atlocnotif_opp_loc = deepcopy(data_opp_loc['AtLocationNotificationsSent'])\n",
    "atlocresp_opp_loc = deepcopy(data_opp_loc['AtLocationNotificationResponses'])"
   ]
  },
  {
   "cell_type": "code",
   "execution_count": 28,
   "metadata": {},
   "outputs": [],
   "source": [
    "# merged data frame with all AtLocation data\n",
    "atloc_opp_loc = get_merged_at_location(deepcopy(tasklocations_opp_loc),\n",
    "                                        deepcopy(atlocnotif_opp_loc),\n",
    "                                        deepcopy(atlocresp_opp_loc))"
   ]
  },
  {
   "cell_type": "markdown",
   "metadata": {},
   "source": [
    "# Preference-User Counts \n",
    "Determine how many users could potentially be notified, given the preferences they specified. We want to see how different our ordering vs. the ordering that may be determined by preference might be."
   ]
  },
  {
   "cell_type": "code",
   "execution_count": 29,
   "metadata": {},
   "outputs": [],
   "source": [
    "def compute_preference_count(pref_dict, users):\n",
    "    \"\"\"\n",
    "    Counts the number of people who would prefer each piece of information in the scaffold.\n",
    "    \n",
    "    Input:\n",
    "        pref_dict (dict): dictionary of location type : questions that contains scaffold structure\n",
    "        users (DataFrame): users and their preferences\n",
    "    \n",
    "    Return:\n",
    "        (dict) pref_dict with counts for each question\n",
    "    \"\"\"\n",
    "    for index, row in users.iterrows():\n",
    "        curr_preferences = row['preferences']\n",
    "        \n",
    "        for location_type, location_prefs in curr_preferences.items():\n",
    "            for question, pref_array in location_prefs.items():\n",
    "                if pref_dict[location_type][question] == '':\n",
    "                    pref_dict[location_type][question] = 1 if len(pref_array) > 0 else 0\n",
    "                else: \n",
    "                    pref_dict[location_type][question] += 1 if len(pref_array) > 0 else 0\n",
    "    \n",
    "    return pref_dict"
   ]
  },
  {
   "cell_type": "code",
   "execution_count": 30,
   "metadata": {},
   "outputs": [
    {
     "data": {
      "text/plain": [
       "{'coffeeshop': {'privateseating': 22,\n",
       "  'privateseatingoutlets': 18,\n",
       "  'privateseatingwindows': 11,\n",
       "  'sharedseating': 15,\n",
       "  'sharedseatingoutlets': 12,\n",
       "  'sharedseatingwindows': 8},\n",
       " 'freefood': {'foodtype': 30, 'stillleft': 0},\n",
       " 'gym': {'ellipticals': 11,\n",
       "  'freeweights': 11,\n",
       "  'freeweightsbenches': 6,\n",
       "  'freeweightssquatracks': 3,\n",
       "  'stretch': 14,\n",
       "  'stretchmats': 11,\n",
       "  'stretchrollers': 7,\n",
       "  'treadmills': 17},\n",
       " 'workspace': {'privateseating': 26,\n",
       "  'privateseatingoutlets': 19,\n",
       "  'sharedseating': 11,\n",
       "  'sharedseatingoutlets': 9,\n",
       "  'whiteboards': 10,\n",
       "  'whiteboardsmarkers': 3}}"
      ]
     },
     "execution_count": 30,
     "metadata": {},
     "output_type": "execute_result"
    }
   ],
   "source": [
    "compute_preference_count(deepcopy(location_scaffolds), users_4x)"
   ]
  },
  {
   "cell_type": "code",
   "execution_count": 31,
   "metadata": {},
   "outputs": [
    {
     "data": {
      "text/plain": [
       "{'coffeeshop': {'privateseating': 26,\n",
       "  'privateseatingoutlets': 20,\n",
       "  'privateseatingwindows': 10,\n",
       "  'sharedseating': 17,\n",
       "  'sharedseatingoutlets': 13,\n",
       "  'sharedseatingwindows': 6},\n",
       " 'freefood': {'foodtype': 29, 'stillleft': 0},\n",
       " 'gym': {'ellipticals': 8,\n",
       "  'freeweights': 10,\n",
       "  'freeweightsbenches': 3,\n",
       "  'freeweightssquatracks': 7,\n",
       "  'stretch': 9,\n",
       "  'stretchmats': 6,\n",
       "  'stretchrollers': 2,\n",
       "  'treadmills': 14},\n",
       " 'workspace': {'privateseating': 23,\n",
       "  'privateseatingoutlets': 17,\n",
       "  'sharedseating': 12,\n",
       "  'sharedseatingoutlets': 8,\n",
       "  'whiteboards': 6,\n",
       "  'whiteboardsmarkers': 2}}"
      ]
     },
     "execution_count": 31,
     "metadata": {},
     "output_type": "execute_result"
    }
   ],
   "source": [
    "compute_preference_count(deepcopy(location_scaffolds), users_opp_dist)"
   ]
  },
  {
   "cell_type": "code",
   "execution_count": 32,
   "metadata": {},
   "outputs": [
    {
     "data": {
      "text/plain": [
       "{'coffeeshop': {'privateseating': 25,\n",
       "  'privateseatingoutlets': 22,\n",
       "  'privateseatingwindows': 10,\n",
       "  'sharedseating': 10,\n",
       "  'sharedseatingoutlets': 8,\n",
       "  'sharedseatingwindows': 5},\n",
       " 'freefood': {'foodtype': 30, 'stillleft': 0},\n",
       " 'gym': {'ellipticals': 11,\n",
       "  'freeweights': 9,\n",
       "  'freeweightsbenches': 5,\n",
       "  'freeweightssquatracks': 3,\n",
       "  'stretch': 14,\n",
       "  'stretchmats': 11,\n",
       "  'stretchrollers': 1,\n",
       "  'treadmills': 16},\n",
       " 'workspace': {'privateseating': 27,\n",
       "  'privateseatingoutlets': 21,\n",
       "  'sharedseating': 16,\n",
       "  'sharedseatingoutlets': 13,\n",
       "  'whiteboards': 10,\n",
       "  'whiteboardsmarkers': 5}}"
      ]
     },
     "execution_count": 32,
     "metadata": {},
     "output_type": "execute_result"
    }
   ],
   "source": [
    "compute_preference_count(deepcopy(location_scaffolds), users_opp_loc)"
   ]
  },
  {
   "cell_type": "markdown",
   "metadata": {},
   "source": [
    "# Data Dashboard\n",
    "This section of the notebook is used to monitor the data coming in from the study. Some measures we see here may be used within the paper, but the core purpose of this section is for monitoring the study."
   ]
  },
  {
   "cell_type": "code",
   "execution_count": 33,
   "metadata": {},
   "outputs": [],
   "source": [
    "def compute_count_prop_byloc(data, location_col, response_col):\n",
    "    \"\"\"\n",
    "    Computes and returns a groupby DataFrame with counts and proportions of responses, by location type.\n",
    "    \n",
    "    Input:\n",
    "        data (DataFrame): must include columns for locationType and remappedResponses to aggregate on.\n",
    "        location_col (string): location column to aggregate on (e.g. locationType, locationName)\n",
    "        response_col (string): response to aggregate (e.g. remappedResponses, emaResponse)\n",
    "    \n",
    "    Output:\n",
    "        (groupby DataFrame): aggregated data, by location\n",
    "    \"\"\"\n",
    "    count_byloc = data.groupby([location_col, response_col]).apply(lambda x: pd.Series({'count': x[response_col].count()},\n",
    "                                                                                       index=['count']))\n",
    "    prop_byloc = count_byloc.groupby(level=0, as_index=False).apply(lambda x: 100 * x / float(x.sum())).add_suffix('_proportion')\n",
    "\n",
    "    # combine count and proportion\n",
    "    combined_byloc = pd.concat([count_byloc, prop_byloc], axis=1 )\n",
    "    \n",
    "    return combined_byloc"
   ]
  },
  {
   "cell_type": "code",
   "execution_count": 34,
   "metadata": {},
   "outputs": [],
   "source": [
    "def compute_count_prop_overall(data, response_col):\n",
    "    \"\"\"\n",
    "    Computes and returns a DataFrame with counts and proportions of responses.\n",
    "    \n",
    "    Input:\n",
    "        data (DataFrame): must include columns for locationType and remappedResponses to aggregate on\n",
    "        response_col (string): response to aggregate (e.g. remappedResponses, emaResponse)\n",
    "    \n",
    "    Output:\n",
    "        (DataFrame): aggregated data\n",
    "    \"\"\"\n",
    "    combined_overall = data.groupby([response_col])[response_col].count().reset_index(name='count')\n",
    "    combined_overall['percentage'] = 100.0 * combined_overall['count'] / sum(combined_overall['count'])\n",
    "    combined_overall.loc[len(combined_overall)] = ['total', sum(combined_overall['count']), 100.0]\n",
    "    \n",
    "    return combined_overall"
   ]
  },
  {
   "cell_type": "markdown",
   "metadata": {},
   "source": [
    "## 4X: At Location"
   ]
  },
  {
   "cell_type": "code",
   "execution_count": 35,
   "metadata": {},
   "outputs": [
    {
     "data": {
      "text/html": [
       "<div>\n",
       "<style scoped>\n",
       "    .dataframe tbody tr th:only-of-type {\n",
       "        vertical-align: middle;\n",
       "    }\n",
       "\n",
       "    .dataframe tbody tr th {\n",
       "        vertical-align: top;\n",
       "    }\n",
       "\n",
       "    .dataframe thead th {\n",
       "        text-align: right;\n",
       "    }\n",
       "</style>\n",
       "<table border=\"1\" class=\"dataframe\">\n",
       "  <thead>\n",
       "    <tr style=\"text-align: right;\">\n",
       "      <th></th>\n",
       "      <th></th>\n",
       "      <th>count</th>\n",
       "      <th>count_proportion</th>\n",
       "    </tr>\n",
       "    <tr>\n",
       "      <th>locationType</th>\n",
       "      <th>remappedResponses</th>\n",
       "      <th></th>\n",
       "      <th></th>\n",
       "    </tr>\n",
       "  </thead>\n",
       "  <tbody>\n",
       "    <tr>\n",
       "      <th rowspan=\"3\" valign=\"top\">coffeeshop</th>\n",
       "      <th>I don't know</th>\n",
       "      <td>19</td>\n",
       "      <td>36.538462</td>\n",
       "    </tr>\n",
       "    <tr>\n",
       "      <th>missed notification</th>\n",
       "      <td>13</td>\n",
       "      <td>25.000000</td>\n",
       "    </tr>\n",
       "    <tr>\n",
       "      <th>valid response</th>\n",
       "      <td>20</td>\n",
       "      <td>38.461538</td>\n",
       "    </tr>\n",
       "    <tr>\n",
       "      <th rowspan=\"3\" valign=\"top\">freefood</th>\n",
       "      <th>I don't know</th>\n",
       "      <td>4</td>\n",
       "      <td>28.571429</td>\n",
       "    </tr>\n",
       "    <tr>\n",
       "      <th>missed notification</th>\n",
       "      <td>3</td>\n",
       "      <td>21.428571</td>\n",
       "    </tr>\n",
       "    <tr>\n",
       "      <th>valid response</th>\n",
       "      <td>7</td>\n",
       "      <td>50.000000</td>\n",
       "    </tr>\n",
       "    <tr>\n",
       "      <th rowspan=\"2\" valign=\"top\">gym</th>\n",
       "      <th>missed notification</th>\n",
       "      <td>5</td>\n",
       "      <td>27.777778</td>\n",
       "    </tr>\n",
       "    <tr>\n",
       "      <th>valid response</th>\n",
       "      <td>13</td>\n",
       "      <td>72.222222</td>\n",
       "    </tr>\n",
       "    <tr>\n",
       "      <th rowspan=\"2\" valign=\"top\">workspace</th>\n",
       "      <th>missed notification</th>\n",
       "      <td>9</td>\n",
       "      <td>30.000000</td>\n",
       "    </tr>\n",
       "    <tr>\n",
       "      <th>valid response</th>\n",
       "      <td>21</td>\n",
       "      <td>70.000000</td>\n",
       "    </tr>\n",
       "  </tbody>\n",
       "</table>\n",
       "</div>"
      ],
      "text/plain": [
       "                                  count  count_proportion\n",
       "locationType remappedResponses                           \n",
       "coffeeshop   I don't know            19         36.538462\n",
       "             missed notification     13         25.000000\n",
       "             valid response          20         38.461538\n",
       "freefood     I don't know             4         28.571429\n",
       "             missed notification      3         21.428571\n",
       "             valid response           7         50.000000\n",
       "gym          missed notification      5         27.777778\n",
       "             valid response          13         72.222222\n",
       "workspace    missed notification      9         30.000000\n",
       "             valid response          21         70.000000"
      ]
     },
     "execution_count": 35,
     "metadata": {},
     "output_type": "execute_result"
    }
   ],
   "source": [
    "atloc_4x_count_prop_byloc = compute_count_prop_byloc(atloc_4x, 'locationType', 'remappedResponses')\n",
    "atloc_4x_count_prop_byloc"
   ]
  },
  {
   "cell_type": "code",
   "execution_count": 36,
   "metadata": {},
   "outputs": [
    {
     "data": {
      "text/html": [
       "<div>\n",
       "<style scoped>\n",
       "    .dataframe tbody tr th:only-of-type {\n",
       "        vertical-align: middle;\n",
       "    }\n",
       "\n",
       "    .dataframe tbody tr th {\n",
       "        vertical-align: top;\n",
       "    }\n",
       "\n",
       "    .dataframe thead th {\n",
       "        text-align: right;\n",
       "    }\n",
       "</style>\n",
       "<table border=\"1\" class=\"dataframe\">\n",
       "  <thead>\n",
       "    <tr style=\"text-align: right;\">\n",
       "      <th></th>\n",
       "      <th>remappedResponses</th>\n",
       "      <th>count</th>\n",
       "      <th>percentage</th>\n",
       "    </tr>\n",
       "  </thead>\n",
       "  <tbody>\n",
       "    <tr>\n",
       "      <th>0</th>\n",
       "      <td>I don't know</td>\n",
       "      <td>23</td>\n",
       "      <td>20.175439</td>\n",
       "    </tr>\n",
       "    <tr>\n",
       "      <th>1</th>\n",
       "      <td>missed notification</td>\n",
       "      <td>30</td>\n",
       "      <td>26.315789</td>\n",
       "    </tr>\n",
       "    <tr>\n",
       "      <th>2</th>\n",
       "      <td>valid response</td>\n",
       "      <td>61</td>\n",
       "      <td>53.508772</td>\n",
       "    </tr>\n",
       "    <tr>\n",
       "      <th>3</th>\n",
       "      <td>total</td>\n",
       "      <td>114</td>\n",
       "      <td>100.000000</td>\n",
       "    </tr>\n",
       "  </tbody>\n",
       "</table>\n",
       "</div>"
      ],
      "text/plain": [
       "     remappedResponses  count  percentage\n",
       "0         I don't know     23   20.175439\n",
       "1  missed notification     30   26.315789\n",
       "2       valid response     61   53.508772\n",
       "3                total    114  100.000000"
      ]
     },
     "execution_count": 36,
     "metadata": {},
     "output_type": "execute_result"
    }
   ],
   "source": [
    "atloc_4x_count_prop_overall = compute_count_prop_overall(atloc_4x, 'remappedResponses')\n",
    "atloc_4x_count_prop_overall"
   ]
  },
  {
   "cell_type": "code",
   "execution_count": 37,
   "metadata": {},
   "outputs": [
    {
     "name": "stdout",
     "output_type": "stream",
     "text": [
      "Unique number of users notified: 27\n"
     ]
    }
   ],
   "source": [
    "print('Unique number of users notified: {}'.format(len(atloc_4x['vendorId'].unique())))"
   ]
  },
  {
   "cell_type": "markdown",
   "metadata": {},
   "source": [
    "## 4X: At Distance (with info)"
   ]
  },
  {
   "cell_type": "code",
   "execution_count": 38,
   "metadata": {},
   "outputs": [
    {
     "data": {
      "text/html": [
       "<div>\n",
       "<style scoped>\n",
       "    .dataframe tbody tr th:only-of-type {\n",
       "        vertical-align: middle;\n",
       "    }\n",
       "\n",
       "    .dataframe tbody tr th {\n",
       "        vertical-align: top;\n",
       "    }\n",
       "\n",
       "    .dataframe thead th {\n",
       "        text-align: right;\n",
       "    }\n",
       "</style>\n",
       "<table border=\"1\" class=\"dataframe\">\n",
       "  <thead>\n",
       "    <tr style=\"text-align: right;\">\n",
       "      <th></th>\n",
       "      <th></th>\n",
       "      <th>count</th>\n",
       "      <th>count_proportion</th>\n",
       "    </tr>\n",
       "    <tr>\n",
       "      <th>locationType</th>\n",
       "      <th>emaResponse</th>\n",
       "      <th></th>\n",
       "      <th></th>\n",
       "    </tr>\n",
       "  </thead>\n",
       "  <tbody>\n",
       "    <tr>\n",
       "      <th rowspan=\"3\" valign=\"top\">coffeeshop</th>\n",
       "      <th>No. This info is useful but I have to be somewhere.</th>\n",
       "      <td>4</td>\n",
       "      <td>66.666667</td>\n",
       "    </tr>\n",
       "    <tr>\n",
       "      <th>Yes. This info is useful but I'm already going there.</th>\n",
       "      <td>1</td>\n",
       "      <td>16.666667</td>\n",
       "    </tr>\n",
       "    <tr>\n",
       "      <th>missed notification</th>\n",
       "      <td>1</td>\n",
       "      <td>16.666667</td>\n",
       "    </tr>\n",
       "    <tr>\n",
       "      <th rowspan=\"4\" valign=\"top\">freefood</th>\n",
       "      <th>No. This info isn't useful to me.</th>\n",
       "      <td>2</td>\n",
       "      <td>28.571429</td>\n",
       "    </tr>\n",
       "    <tr>\n",
       "      <th>Yes! This info is useful, I'm going now.</th>\n",
       "      <td>3</td>\n",
       "      <td>42.857143</td>\n",
       "    </tr>\n",
       "    <tr>\n",
       "      <th>Yes. This info is useful but I'm already going there.</th>\n",
       "      <td>1</td>\n",
       "      <td>14.285714</td>\n",
       "    </tr>\n",
       "    <tr>\n",
       "      <th>missed notification</th>\n",
       "      <td>1</td>\n",
       "      <td>14.285714</td>\n",
       "    </tr>\n",
       "    <tr>\n",
       "      <th rowspan=\"3\" valign=\"top\">gym</th>\n",
       "      <th>No. This info is useful but I have to be somewhere.</th>\n",
       "      <td>8</td>\n",
       "      <td>47.058824</td>\n",
       "    </tr>\n",
       "    <tr>\n",
       "      <th>No. This info isn't useful to me.</th>\n",
       "      <td>5</td>\n",
       "      <td>29.411765</td>\n",
       "    </tr>\n",
       "    <tr>\n",
       "      <th>missed notification</th>\n",
       "      <td>4</td>\n",
       "      <td>23.529412</td>\n",
       "    </tr>\n",
       "    <tr>\n",
       "      <th rowspan=\"3\" valign=\"top\">workspace</th>\n",
       "      <th>No. This info is useful but I have to be somewhere.</th>\n",
       "      <td>4</td>\n",
       "      <td>30.769231</td>\n",
       "    </tr>\n",
       "    <tr>\n",
       "      <th>No. This info isn't useful to me.</th>\n",
       "      <td>2</td>\n",
       "      <td>15.384615</td>\n",
       "    </tr>\n",
       "    <tr>\n",
       "      <th>missed notification</th>\n",
       "      <td>7</td>\n",
       "      <td>53.846154</td>\n",
       "    </tr>\n",
       "  </tbody>\n",
       "</table>\n",
       "</div>"
      ],
      "text/plain": [
       "                                                                 count  \\\n",
       "locationType emaResponse                                                 \n",
       "coffeeshop   No. This info is useful but I have to be somewh...      4   \n",
       "             Yes. This info is useful but I'm already going ...      1   \n",
       "             missed notification                                     1   \n",
       "freefood     No. This info isn't useful to me.                       2   \n",
       "             Yes! This info is useful, I'm going now.                3   \n",
       "             Yes. This info is useful but I'm already going ...      1   \n",
       "             missed notification                                     1   \n",
       "gym          No. This info is useful but I have to be somewh...      8   \n",
       "             No. This info isn't useful to me.                       5   \n",
       "             missed notification                                     4   \n",
       "workspace    No. This info is useful but I have to be somewh...      4   \n",
       "             No. This info isn't useful to me.                       2   \n",
       "             missed notification                                     7   \n",
       "\n",
       "                                                                 count_proportion  \n",
       "locationType emaResponse                                                           \n",
       "coffeeshop   No. This info is useful but I have to be somewh...         66.666667  \n",
       "             Yes. This info is useful but I'm already going ...         16.666667  \n",
       "             missed notification                                        16.666667  \n",
       "freefood     No. This info isn't useful to me.                          28.571429  \n",
       "             Yes! This info is useful, I'm going now.                   42.857143  \n",
       "             Yes. This info is useful but I'm already going ...         14.285714  \n",
       "             missed notification                                        14.285714  \n",
       "gym          No. This info is useful but I have to be somewh...         47.058824  \n",
       "             No. This info isn't useful to me.                          29.411765  \n",
       "             missed notification                                        23.529412  \n",
       "workspace    No. This info is useful but I have to be somewh...         30.769231  \n",
       "             No. This info isn't useful to me.                          15.384615  \n",
       "             missed notification                                        53.846154  "
      ]
     },
     "execution_count": 38,
     "metadata": {},
     "output_type": "execute_result"
    }
   ],
   "source": [
    "atdist_4x_count_prop_byloc = compute_count_prop_byloc(atdist_4x, 'locationType', 'emaResponse')\n",
    "atdist_4x_count_prop_byloc"
   ]
  },
  {
   "cell_type": "code",
   "execution_count": 39,
   "metadata": {},
   "outputs": [
    {
     "data": {
      "text/html": [
       "<div>\n",
       "<style scoped>\n",
       "    .dataframe tbody tr th:only-of-type {\n",
       "        vertical-align: middle;\n",
       "    }\n",
       "\n",
       "    .dataframe tbody tr th {\n",
       "        vertical-align: top;\n",
       "    }\n",
       "\n",
       "    .dataframe thead th {\n",
       "        text-align: right;\n",
       "    }\n",
       "</style>\n",
       "<table border=\"1\" class=\"dataframe\">\n",
       "  <thead>\n",
       "    <tr style=\"text-align: right;\">\n",
       "      <th></th>\n",
       "      <th>emaResponse</th>\n",
       "      <th>count</th>\n",
       "      <th>percentage</th>\n",
       "    </tr>\n",
       "  </thead>\n",
       "  <tbody>\n",
       "    <tr>\n",
       "      <th>0</th>\n",
       "      <td>No. This info is useful but I have to be somew...</td>\n",
       "      <td>16</td>\n",
       "      <td>37.209302</td>\n",
       "    </tr>\n",
       "    <tr>\n",
       "      <th>1</th>\n",
       "      <td>No. This info isn't useful to me.</td>\n",
       "      <td>9</td>\n",
       "      <td>20.930233</td>\n",
       "    </tr>\n",
       "    <tr>\n",
       "      <th>2</th>\n",
       "      <td>Yes! This info is useful, I'm going now.</td>\n",
       "      <td>3</td>\n",
       "      <td>6.976744</td>\n",
       "    </tr>\n",
       "    <tr>\n",
       "      <th>3</th>\n",
       "      <td>Yes. This info is useful but I'm already going...</td>\n",
       "      <td>2</td>\n",
       "      <td>4.651163</td>\n",
       "    </tr>\n",
       "    <tr>\n",
       "      <th>4</th>\n",
       "      <td>missed notification</td>\n",
       "      <td>13</td>\n",
       "      <td>30.232558</td>\n",
       "    </tr>\n",
       "    <tr>\n",
       "      <th>5</th>\n",
       "      <td>total</td>\n",
       "      <td>43</td>\n",
       "      <td>100.000000</td>\n",
       "    </tr>\n",
       "  </tbody>\n",
       "</table>\n",
       "</div>"
      ],
      "text/plain": [
       "                                         emaResponse  count  percentage\n",
       "0  No. This info is useful but I have to be somew...     16   37.209302\n",
       "1                  No. This info isn't useful to me.      9   20.930233\n",
       "2           Yes! This info is useful, I'm going now.      3    6.976744\n",
       "3  Yes. This info is useful but I'm already going...      2    4.651163\n",
       "4                                missed notification     13   30.232558\n",
       "5                                              total     43  100.000000"
      ]
     },
     "execution_count": 39,
     "metadata": {},
     "output_type": "execute_result"
    }
   ],
   "source": [
    "atdist_4x_count_prop_overall = compute_count_prop_overall(atdist_4x, 'emaResponse')\n",
    "atdist_4x_count_prop_overall"
   ]
  },
  {
   "cell_type": "code",
   "execution_count": 40,
   "metadata": {},
   "outputs": [
    {
     "name": "stdout",
     "output_type": "stream",
     "text": [
      "Unique number of users notified: 23\n"
     ]
    }
   ],
   "source": [
    "print('Unique number of users notified: {}'.format(len(atdist_4x['vendorId'].unique())))"
   ]
  },
  {
   "cell_type": "markdown",
   "metadata": {},
   "source": [
    "## 4X: En Route"
   ]
  },
  {
   "cell_type": "code",
   "execution_count": 41,
   "metadata": {},
   "outputs": [
    {
     "data": {
      "text/html": [
       "<div>\n",
       "<style scoped>\n",
       "    .dataframe tbody tr th:only-of-type {\n",
       "        vertical-align: middle;\n",
       "    }\n",
       "\n",
       "    .dataframe tbody tr th {\n",
       "        vertical-align: top;\n",
       "    }\n",
       "\n",
       "    .dataframe thead th {\n",
       "        text-align: right;\n",
       "    }\n",
       "</style>\n",
       "<table border=\"1\" class=\"dataframe\">\n",
       "  <thead>\n",
       "    <tr style=\"text-align: right;\">\n",
       "      <th></th>\n",
       "      <th>remappedResponses</th>\n",
       "      <th>count</th>\n",
       "      <th>percentage</th>\n",
       "    </tr>\n",
       "  </thead>\n",
       "  <tbody>\n",
       "    <tr>\n",
       "      <th>0</th>\n",
       "      <td>valid response</td>\n",
       "      <td>1</td>\n",
       "      <td>100.0</td>\n",
       "    </tr>\n",
       "    <tr>\n",
       "      <th>1</th>\n",
       "      <td>total</td>\n",
       "      <td>1</td>\n",
       "      <td>100.0</td>\n",
       "    </tr>\n",
       "  </tbody>\n",
       "</table>\n",
       "</div>"
      ],
      "text/plain": [
       "  remappedResponses  count  percentage\n",
       "0    valid response      1       100.0\n",
       "1             total      1       100.0"
      ]
     },
     "execution_count": 41,
     "metadata": {},
     "output_type": "execute_result"
    }
   ],
   "source": [
    "enroute_4x_count_prop_overall = compute_count_prop_overall(enroute_4x, 'remappedResponses')\n",
    "enroute_4x_count_prop_overall"
   ]
  },
  {
   "cell_type": "code",
   "execution_count": 42,
   "metadata": {},
   "outputs": [
    {
     "name": "stdout",
     "output_type": "stream",
     "text": [
      "Unique number of users notified: 1\n"
     ]
    }
   ],
   "source": [
    "print('Unique number of users notified: {}'.format(len(enroute_4x['vendorId'].unique())))"
   ]
  },
  {
   "cell_type": "markdown",
   "metadata": {},
   "source": [
    "## Opp at Distance: At Location"
   ]
  },
  {
   "cell_type": "code",
   "execution_count": 43,
   "metadata": {},
   "outputs": [
    {
     "data": {
      "text/html": [
       "<div>\n",
       "<style scoped>\n",
       "    .dataframe tbody tr th:only-of-type {\n",
       "        vertical-align: middle;\n",
       "    }\n",
       "\n",
       "    .dataframe tbody tr th {\n",
       "        vertical-align: top;\n",
       "    }\n",
       "\n",
       "    .dataframe thead th {\n",
       "        text-align: right;\n",
       "    }\n",
       "</style>\n",
       "<table border=\"1\" class=\"dataframe\">\n",
       "  <thead>\n",
       "    <tr style=\"text-align: right;\">\n",
       "      <th></th>\n",
       "      <th></th>\n",
       "      <th>count</th>\n",
       "      <th>count_proportion</th>\n",
       "    </tr>\n",
       "    <tr>\n",
       "      <th>locationType</th>\n",
       "      <th>remappedResponses</th>\n",
       "      <th></th>\n",
       "      <th></th>\n",
       "    </tr>\n",
       "  </thead>\n",
       "  <tbody>\n",
       "    <tr>\n",
       "      <th rowspan=\"4\" valign=\"top\">coffeeshop</th>\n",
       "      <th>I don't know</th>\n",
       "      <td>4</td>\n",
       "      <td>8.333333</td>\n",
       "    </tr>\n",
       "    <tr>\n",
       "      <th>dismissed notification</th>\n",
       "      <td>1</td>\n",
       "      <td>2.083333</td>\n",
       "    </tr>\n",
       "    <tr>\n",
       "      <th>missed notification</th>\n",
       "      <td>19</td>\n",
       "      <td>39.583333</td>\n",
       "    </tr>\n",
       "    <tr>\n",
       "      <th>valid response</th>\n",
       "      <td>24</td>\n",
       "      <td>50.000000</td>\n",
       "    </tr>\n",
       "    <tr>\n",
       "      <th rowspan=\"2\" valign=\"top\">freefood</th>\n",
       "      <th>missed notification</th>\n",
       "      <td>1</td>\n",
       "      <td>16.666667</td>\n",
       "    </tr>\n",
       "    <tr>\n",
       "      <th>valid response</th>\n",
       "      <td>5</td>\n",
       "      <td>83.333333</td>\n",
       "    </tr>\n",
       "    <tr>\n",
       "      <th rowspan=\"3\" valign=\"top\">gym</th>\n",
       "      <th>I don't know</th>\n",
       "      <td>1</td>\n",
       "      <td>9.090909</td>\n",
       "    </tr>\n",
       "    <tr>\n",
       "      <th>missed notification</th>\n",
       "      <td>1</td>\n",
       "      <td>9.090909</td>\n",
       "    </tr>\n",
       "    <tr>\n",
       "      <th>valid response</th>\n",
       "      <td>9</td>\n",
       "      <td>81.818182</td>\n",
       "    </tr>\n",
       "    <tr>\n",
       "      <th rowspan=\"3\" valign=\"top\">workspace</th>\n",
       "      <th>I don't know</th>\n",
       "      <td>1</td>\n",
       "      <td>3.125000</td>\n",
       "    </tr>\n",
       "    <tr>\n",
       "      <th>missed notification</th>\n",
       "      <td>9</td>\n",
       "      <td>28.125000</td>\n",
       "    </tr>\n",
       "    <tr>\n",
       "      <th>valid response</th>\n",
       "      <td>22</td>\n",
       "      <td>68.750000</td>\n",
       "    </tr>\n",
       "  </tbody>\n",
       "</table>\n",
       "</div>"
      ],
      "text/plain": [
       "                                     count  count_proportion\n",
       "locationType remappedResponses                              \n",
       "coffeeshop   I don't know                4          8.333333\n",
       "             dismissed notification      1          2.083333\n",
       "             missed notification        19         39.583333\n",
       "             valid response             24         50.000000\n",
       "freefood     missed notification         1         16.666667\n",
       "             valid response              5         83.333333\n",
       "gym          I don't know                1          9.090909\n",
       "             missed notification         1          9.090909\n",
       "             valid response              9         81.818182\n",
       "workspace    I don't know                1          3.125000\n",
       "             missed notification         9         28.125000\n",
       "             valid response             22         68.750000"
      ]
     },
     "execution_count": 43,
     "metadata": {},
     "output_type": "execute_result"
    }
   ],
   "source": [
    "atloc_opp_dist_count_prop_byloc = compute_count_prop_byloc(atloc_opp_dist, 'locationType', 'remappedResponses')\n",
    "atloc_opp_dist_count_prop_byloc"
   ]
  },
  {
   "cell_type": "code",
   "execution_count": 44,
   "metadata": {},
   "outputs": [
    {
     "data": {
      "text/html": [
       "<div>\n",
       "<style scoped>\n",
       "    .dataframe tbody tr th:only-of-type {\n",
       "        vertical-align: middle;\n",
       "    }\n",
       "\n",
       "    .dataframe tbody tr th {\n",
       "        vertical-align: top;\n",
       "    }\n",
       "\n",
       "    .dataframe thead th {\n",
       "        text-align: right;\n",
       "    }\n",
       "</style>\n",
       "<table border=\"1\" class=\"dataframe\">\n",
       "  <thead>\n",
       "    <tr style=\"text-align: right;\">\n",
       "      <th></th>\n",
       "      <th>remappedResponses</th>\n",
       "      <th>count</th>\n",
       "      <th>percentage</th>\n",
       "    </tr>\n",
       "  </thead>\n",
       "  <tbody>\n",
       "    <tr>\n",
       "      <th>0</th>\n",
       "      <td>I don't know</td>\n",
       "      <td>6</td>\n",
       "      <td>6.185567</td>\n",
       "    </tr>\n",
       "    <tr>\n",
       "      <th>1</th>\n",
       "      <td>dismissed notification</td>\n",
       "      <td>1</td>\n",
       "      <td>1.030928</td>\n",
       "    </tr>\n",
       "    <tr>\n",
       "      <th>2</th>\n",
       "      <td>missed notification</td>\n",
       "      <td>30</td>\n",
       "      <td>30.927835</td>\n",
       "    </tr>\n",
       "    <tr>\n",
       "      <th>3</th>\n",
       "      <td>valid response</td>\n",
       "      <td>60</td>\n",
       "      <td>61.855670</td>\n",
       "    </tr>\n",
       "    <tr>\n",
       "      <th>4</th>\n",
       "      <td>total</td>\n",
       "      <td>97</td>\n",
       "      <td>100.000000</td>\n",
       "    </tr>\n",
       "  </tbody>\n",
       "</table>\n",
       "</div>"
      ],
      "text/plain": [
       "        remappedResponses  count  percentage\n",
       "0            I don't know      6    6.185567\n",
       "1  dismissed notification      1    1.030928\n",
       "2     missed notification     30   30.927835\n",
       "3          valid response     60   61.855670\n",
       "4                   total     97  100.000000"
      ]
     },
     "execution_count": 44,
     "metadata": {},
     "output_type": "execute_result"
    }
   ],
   "source": [
    "atloc_opp_dist_count_prop_overall = compute_count_prop_overall(atloc_opp_dist, 'remappedResponses')\n",
    "atloc_opp_dist_count_prop_overall"
   ]
  },
  {
   "cell_type": "code",
   "execution_count": 45,
   "metadata": {},
   "outputs": [
    {
     "name": "stdout",
     "output_type": "stream",
     "text": [
      "Unique number of users notified: 24\n"
     ]
    }
   ],
   "source": [
    "print('Unique number of users notified: {}'.format(len(atloc_opp_dist['vendorId'].unique())))"
   ]
  },
  {
   "cell_type": "markdown",
   "metadata": {},
   "source": [
    "## Opp at Distance: At Distance (with info)"
   ]
  },
  {
   "cell_type": "code",
   "execution_count": 46,
   "metadata": {},
   "outputs": [
    {
     "data": {
      "text/html": [
       "<div>\n",
       "<style scoped>\n",
       "    .dataframe tbody tr th:only-of-type {\n",
       "        vertical-align: middle;\n",
       "    }\n",
       "\n",
       "    .dataframe tbody tr th {\n",
       "        vertical-align: top;\n",
       "    }\n",
       "\n",
       "    .dataframe thead th {\n",
       "        text-align: right;\n",
       "    }\n",
       "</style>\n",
       "<table border=\"1\" class=\"dataframe\">\n",
       "  <thead>\n",
       "    <tr style=\"text-align: right;\">\n",
       "      <th></th>\n",
       "      <th></th>\n",
       "      <th>count</th>\n",
       "      <th>count_proportion</th>\n",
       "    </tr>\n",
       "    <tr>\n",
       "      <th>locationType</th>\n",
       "      <th>emaResponse</th>\n",
       "      <th></th>\n",
       "      <th></th>\n",
       "    </tr>\n",
       "  </thead>\n",
       "  <tbody>\n",
       "    <tr>\n",
       "      <th rowspan=\"3\" valign=\"top\">coffeeshop</th>\n",
       "      <th>No. This info is useful but I have to be somewhere.</th>\n",
       "      <td>4</td>\n",
       "      <td>36.363636</td>\n",
       "    </tr>\n",
       "    <tr>\n",
       "      <th>No. This info isn't useful to me.</th>\n",
       "      <td>2</td>\n",
       "      <td>18.181818</td>\n",
       "    </tr>\n",
       "    <tr>\n",
       "      <th>missed notification</th>\n",
       "      <td>5</td>\n",
       "      <td>45.454545</td>\n",
       "    </tr>\n",
       "    <tr>\n",
       "      <th rowspan=\"2\" valign=\"top\">freefood</th>\n",
       "      <th>Yes. This info is useful but I'm already going there.</th>\n",
       "      <td>1</td>\n",
       "      <td>33.333333</td>\n",
       "    </tr>\n",
       "    <tr>\n",
       "      <th>missed notification</th>\n",
       "      <td>2</td>\n",
       "      <td>66.666667</td>\n",
       "    </tr>\n",
       "    <tr>\n",
       "      <th rowspan=\"2\" valign=\"top\">gym</th>\n",
       "      <th>No. This info is useful but I have to be somewhere.</th>\n",
       "      <td>1</td>\n",
       "      <td>33.333333</td>\n",
       "    </tr>\n",
       "    <tr>\n",
       "      <th>missed notification</th>\n",
       "      <td>2</td>\n",
       "      <td>66.666667</td>\n",
       "    </tr>\n",
       "    <tr>\n",
       "      <th rowspan=\"4\" valign=\"top\">workspace</th>\n",
       "      <th>No. This info is useful but I have to be somewhere.</th>\n",
       "      <td>12</td>\n",
       "      <td>63.157895</td>\n",
       "    </tr>\n",
       "    <tr>\n",
       "      <th>No. This info isn't useful to me.</th>\n",
       "      <td>1</td>\n",
       "      <td>5.263158</td>\n",
       "    </tr>\n",
       "    <tr>\n",
       "      <th>Yes. This info is useful but I'm already going there.</th>\n",
       "      <td>1</td>\n",
       "      <td>5.263158</td>\n",
       "    </tr>\n",
       "    <tr>\n",
       "      <th>missed notification</th>\n",
       "      <td>5</td>\n",
       "      <td>26.315789</td>\n",
       "    </tr>\n",
       "  </tbody>\n",
       "</table>\n",
       "</div>"
      ],
      "text/plain": [
       "                                                                 count  \\\n",
       "locationType emaResponse                                                 \n",
       "coffeeshop   No. This info is useful but I have to be somewh...      4   \n",
       "             No. This info isn't useful to me.                       2   \n",
       "             missed notification                                     5   \n",
       "freefood     Yes. This info is useful but I'm already going ...      1   \n",
       "             missed notification                                     2   \n",
       "gym          No. This info is useful but I have to be somewh...      1   \n",
       "             missed notification                                     2   \n",
       "workspace    No. This info is useful but I have to be somewh...     12   \n",
       "             No. This info isn't useful to me.                       1   \n",
       "             Yes. This info is useful but I'm already going ...      1   \n",
       "             missed notification                                     5   \n",
       "\n",
       "                                                                 count_proportion  \n",
       "locationType emaResponse                                                           \n",
       "coffeeshop   No. This info is useful but I have to be somewh...         36.363636  \n",
       "             No. This info isn't useful to me.                          18.181818  \n",
       "             missed notification                                        45.454545  \n",
       "freefood     Yes. This info is useful but I'm already going ...         33.333333  \n",
       "             missed notification                                        66.666667  \n",
       "gym          No. This info is useful but I have to be somewh...         33.333333  \n",
       "             missed notification                                        66.666667  \n",
       "workspace    No. This info is useful but I have to be somewh...         63.157895  \n",
       "             No. This info isn't useful to me.                           5.263158  \n",
       "             Yes. This info is useful but I'm already going ...          5.263158  \n",
       "             missed notification                                        26.315789  "
      ]
     },
     "execution_count": 46,
     "metadata": {},
     "output_type": "execute_result"
    }
   ],
   "source": [
    "atdist_opp_dist_info_count_prop_byloc = compute_count_prop_byloc(atdist_opp_dist[atdist_opp_dist['infoIncluded']], 'locationType', 'emaResponse')\n",
    "atdist_opp_dist_info_count_prop_byloc"
   ]
  },
  {
   "cell_type": "code",
   "execution_count": 47,
   "metadata": {},
   "outputs": [
    {
     "data": {
      "text/html": [
       "<div>\n",
       "<style scoped>\n",
       "    .dataframe tbody tr th:only-of-type {\n",
       "        vertical-align: middle;\n",
       "    }\n",
       "\n",
       "    .dataframe tbody tr th {\n",
       "        vertical-align: top;\n",
       "    }\n",
       "\n",
       "    .dataframe thead th {\n",
       "        text-align: right;\n",
       "    }\n",
       "</style>\n",
       "<table border=\"1\" class=\"dataframe\">\n",
       "  <thead>\n",
       "    <tr style=\"text-align: right;\">\n",
       "      <th></th>\n",
       "      <th>emaResponse</th>\n",
       "      <th>count</th>\n",
       "      <th>percentage</th>\n",
       "    </tr>\n",
       "  </thead>\n",
       "  <tbody>\n",
       "    <tr>\n",
       "      <th>0</th>\n",
       "      <td>No. This info is useful but I have to be somew...</td>\n",
       "      <td>17</td>\n",
       "      <td>47.222222</td>\n",
       "    </tr>\n",
       "    <tr>\n",
       "      <th>1</th>\n",
       "      <td>No. This info isn't useful to me.</td>\n",
       "      <td>3</td>\n",
       "      <td>8.333333</td>\n",
       "    </tr>\n",
       "    <tr>\n",
       "      <th>2</th>\n",
       "      <td>Yes. This info is useful but I'm already going...</td>\n",
       "      <td>2</td>\n",
       "      <td>5.555556</td>\n",
       "    </tr>\n",
       "    <tr>\n",
       "      <th>3</th>\n",
       "      <td>missed notification</td>\n",
       "      <td>14</td>\n",
       "      <td>38.888889</td>\n",
       "    </tr>\n",
       "    <tr>\n",
       "      <th>4</th>\n",
       "      <td>total</td>\n",
       "      <td>36</td>\n",
       "      <td>100.000000</td>\n",
       "    </tr>\n",
       "  </tbody>\n",
       "</table>\n",
       "</div>"
      ],
      "text/plain": [
       "                                         emaResponse  count  percentage\n",
       "0  No. This info is useful but I have to be somew...     17   47.222222\n",
       "1                  No. This info isn't useful to me.      3    8.333333\n",
       "2  Yes. This info is useful but I'm already going...      2    5.555556\n",
       "3                                missed notification     14   38.888889\n",
       "4                                              total     36  100.000000"
      ]
     },
     "execution_count": 47,
     "metadata": {},
     "output_type": "execute_result"
    }
   ],
   "source": [
    "atdist_opp_dist_info_count_prop_overall = compute_count_prop_overall(atdist_opp_dist[atdist_opp_dist['infoIncluded']], 'emaResponse')\n",
    "atdist_opp_dist_info_count_prop_overall"
   ]
  },
  {
   "cell_type": "code",
   "execution_count": 48,
   "metadata": {},
   "outputs": [
    {
     "name": "stdout",
     "output_type": "stream",
     "text": [
      "Unique number of users notified: 17\n"
     ]
    }
   ],
   "source": [
    "print('Unique number of users notified: {}'.format(len(atdist_opp_dist[atdist_opp_dist['infoIncluded']]['vendorId'].unique())))"
   ]
  },
  {
   "cell_type": "markdown",
   "metadata": {},
   "source": [
    "## Opp at Distance: At Distance (without info)"
   ]
  },
  {
   "cell_type": "code",
   "execution_count": 49,
   "metadata": {},
   "outputs": [
    {
     "data": {
      "text/html": [
       "<div>\n",
       "<style scoped>\n",
       "    .dataframe tbody tr th:only-of-type {\n",
       "        vertical-align: middle;\n",
       "    }\n",
       "\n",
       "    .dataframe tbody tr th {\n",
       "        vertical-align: top;\n",
       "    }\n",
       "\n",
       "    .dataframe thead th {\n",
       "        text-align: right;\n",
       "    }\n",
       "</style>\n",
       "<table border=\"1\" class=\"dataframe\">\n",
       "  <thead>\n",
       "    <tr style=\"text-align: right;\">\n",
       "      <th></th>\n",
       "      <th></th>\n",
       "      <th>count</th>\n",
       "      <th>count_proportion</th>\n",
       "    </tr>\n",
       "    <tr>\n",
       "      <th>locationType</th>\n",
       "      <th>emaResponse</th>\n",
       "      <th></th>\n",
       "      <th></th>\n",
       "    </tr>\n",
       "  </thead>\n",
       "  <tbody>\n",
       "    <tr>\n",
       "      <th rowspan=\"6\" valign=\"top\">coffeeshop</th>\n",
       "      <th>No. I don't want to go out of my way there.</th>\n",
       "      <td>22</td>\n",
       "      <td>22.916667</td>\n",
       "    </tr>\n",
       "    <tr>\n",
       "      <th>No. Other reason.</th>\n",
       "      <td>11</td>\n",
       "      <td>11.458333</td>\n",
       "    </tr>\n",
       "    <tr>\n",
       "      <th>Sure! I would be happy to go out of my way!</th>\n",
       "      <td>2</td>\n",
       "      <td>2.083333</td>\n",
       "    </tr>\n",
       "    <tr>\n",
       "      <th>Sure, but I was going to walk past it anyway.</th>\n",
       "      <td>3</td>\n",
       "      <td>3.125000</td>\n",
       "    </tr>\n",
       "    <tr>\n",
       "      <th>dismissed notification</th>\n",
       "      <td>3</td>\n",
       "      <td>3.125000</td>\n",
       "    </tr>\n",
       "    <tr>\n",
       "      <th>missed notification</th>\n",
       "      <td>55</td>\n",
       "      <td>57.291667</td>\n",
       "    </tr>\n",
       "    <tr>\n",
       "      <th rowspan=\"5\" valign=\"top\">gym</th>\n",
       "      <th>No. I don't want to go out of my way there.</th>\n",
       "      <td>37</td>\n",
       "      <td>37.000000</td>\n",
       "    </tr>\n",
       "    <tr>\n",
       "      <th>No. Other reason.</th>\n",
       "      <td>10</td>\n",
       "      <td>10.000000</td>\n",
       "    </tr>\n",
       "    <tr>\n",
       "      <th>Sure! I would be happy to go out of my way!</th>\n",
       "      <td>1</td>\n",
       "      <td>1.000000</td>\n",
       "    </tr>\n",
       "    <tr>\n",
       "      <th>dismissed notification</th>\n",
       "      <td>5</td>\n",
       "      <td>5.000000</td>\n",
       "    </tr>\n",
       "    <tr>\n",
       "      <th>missed notification</th>\n",
       "      <td>47</td>\n",
       "      <td>47.000000</td>\n",
       "    </tr>\n",
       "    <tr>\n",
       "      <th rowspan=\"5\" valign=\"top\">workspace</th>\n",
       "      <th>No. I don't want to go out of my way there.</th>\n",
       "      <td>22</td>\n",
       "      <td>24.719101</td>\n",
       "    </tr>\n",
       "    <tr>\n",
       "      <th>No. Other reason.</th>\n",
       "      <td>16</td>\n",
       "      <td>17.977528</td>\n",
       "    </tr>\n",
       "    <tr>\n",
       "      <th>Sure, but I was going to walk past it anyway.</th>\n",
       "      <td>3</td>\n",
       "      <td>3.370787</td>\n",
       "    </tr>\n",
       "    <tr>\n",
       "      <th>dismissed notification</th>\n",
       "      <td>4</td>\n",
       "      <td>4.494382</td>\n",
       "    </tr>\n",
       "    <tr>\n",
       "      <th>missed notification</th>\n",
       "      <td>44</td>\n",
       "      <td>49.438202</td>\n",
       "    </tr>\n",
       "  </tbody>\n",
       "</table>\n",
       "</div>"
      ],
      "text/plain": [
       "                                                            count  \\\n",
       "locationType emaResponse                                            \n",
       "coffeeshop   No. I don't want to go out of my way there.       22   \n",
       "             No. Other reason.                                 11   \n",
       "             Sure! I would be happy to go out of my way!        2   \n",
       "             Sure, but I was going to walk past it anyway.      3   \n",
       "             dismissed notification                             3   \n",
       "             missed notification                               55   \n",
       "gym          No. I don't want to go out of my way there.       37   \n",
       "             No. Other reason.                                 10   \n",
       "             Sure! I would be happy to go out of my way!        1   \n",
       "             dismissed notification                             5   \n",
       "             missed notification                               47   \n",
       "workspace    No. I don't want to go out of my way there.       22   \n",
       "             No. Other reason.                                 16   \n",
       "             Sure, but I was going to walk past it anyway.      3   \n",
       "             dismissed notification                             4   \n",
       "             missed notification                               44   \n",
       "\n",
       "                                                            count_proportion  \n",
       "locationType emaResponse                                                      \n",
       "coffeeshop   No. I don't want to go out of my way there.           22.916667  \n",
       "             No. Other reason.                                     11.458333  \n",
       "             Sure! I would be happy to go out of my way!            2.083333  \n",
       "             Sure, but I was going to walk past it anyway.          3.125000  \n",
       "             dismissed notification                                 3.125000  \n",
       "             missed notification                                   57.291667  \n",
       "gym          No. I don't want to go out of my way there.           37.000000  \n",
       "             No. Other reason.                                     10.000000  \n",
       "             Sure! I would be happy to go out of my way!            1.000000  \n",
       "             dismissed notification                                 5.000000  \n",
       "             missed notification                                   47.000000  \n",
       "workspace    No. I don't want to go out of my way there.           24.719101  \n",
       "             No. Other reason.                                     17.977528  \n",
       "             Sure, but I was going to walk past it anyway.          3.370787  \n",
       "             dismissed notification                                 4.494382  \n",
       "             missed notification                                   49.438202  "
      ]
     },
     "execution_count": 49,
     "metadata": {},
     "output_type": "execute_result"
    }
   ],
   "source": [
    "atdist_opp_dist_noinfo_count_prop_byloc = compute_count_prop_byloc(atdist_opp_dist[~atdist_opp_dist['infoIncluded']], 'locationType', 'emaResponse')\n",
    "atdist_opp_dist_noinfo_count_prop_byloc"
   ]
  },
  {
   "cell_type": "code",
   "execution_count": 50,
   "metadata": {},
   "outputs": [
    {
     "data": {
      "text/html": [
       "<div>\n",
       "<style scoped>\n",
       "    .dataframe tbody tr th:only-of-type {\n",
       "        vertical-align: middle;\n",
       "    }\n",
       "\n",
       "    .dataframe tbody tr th {\n",
       "        vertical-align: top;\n",
       "    }\n",
       "\n",
       "    .dataframe thead th {\n",
       "        text-align: right;\n",
       "    }\n",
       "</style>\n",
       "<table border=\"1\" class=\"dataframe\">\n",
       "  <thead>\n",
       "    <tr style=\"text-align: right;\">\n",
       "      <th></th>\n",
       "      <th>emaResponse</th>\n",
       "      <th>count</th>\n",
       "      <th>percentage</th>\n",
       "    </tr>\n",
       "  </thead>\n",
       "  <tbody>\n",
       "    <tr>\n",
       "      <th>0</th>\n",
       "      <td>No. I don't want to go out of my way there.</td>\n",
       "      <td>81</td>\n",
       "      <td>28.421053</td>\n",
       "    </tr>\n",
       "    <tr>\n",
       "      <th>1</th>\n",
       "      <td>No. Other reason.</td>\n",
       "      <td>37</td>\n",
       "      <td>12.982456</td>\n",
       "    </tr>\n",
       "    <tr>\n",
       "      <th>2</th>\n",
       "      <td>Sure! I would be happy to go out of my way!</td>\n",
       "      <td>3</td>\n",
       "      <td>1.052632</td>\n",
       "    </tr>\n",
       "    <tr>\n",
       "      <th>3</th>\n",
       "      <td>Sure, but I was going to walk past it anyway.</td>\n",
       "      <td>6</td>\n",
       "      <td>2.105263</td>\n",
       "    </tr>\n",
       "    <tr>\n",
       "      <th>4</th>\n",
       "      <td>dismissed notification</td>\n",
       "      <td>12</td>\n",
       "      <td>4.210526</td>\n",
       "    </tr>\n",
       "    <tr>\n",
       "      <th>5</th>\n",
       "      <td>missed notification</td>\n",
       "      <td>146</td>\n",
       "      <td>51.228070</td>\n",
       "    </tr>\n",
       "    <tr>\n",
       "      <th>6</th>\n",
       "      <td>total</td>\n",
       "      <td>285</td>\n",
       "      <td>100.000000</td>\n",
       "    </tr>\n",
       "  </tbody>\n",
       "</table>\n",
       "</div>"
      ],
      "text/plain": [
       "                                     emaResponse  count  percentage\n",
       "0    No. I don't want to go out of my way there.     81   28.421053\n",
       "1                              No. Other reason.     37   12.982456\n",
       "2    Sure! I would be happy to go out of my way!      3    1.052632\n",
       "3  Sure, but I was going to walk past it anyway.      6    2.105263\n",
       "4                         dismissed notification     12    4.210526\n",
       "5                            missed notification    146   51.228070\n",
       "6                                          total    285  100.000000"
      ]
     },
     "execution_count": 50,
     "metadata": {},
     "output_type": "execute_result"
    }
   ],
   "source": [
    "atdist_opp_dist_noinfo_count_prop_overall = compute_count_prop_overall(atdist_opp_dist[~atdist_opp_dist['infoIncluded']], 'emaResponse')\n",
    "atdist_opp_dist_noinfo_count_prop_overall"
   ]
  },
  {
   "cell_type": "code",
   "execution_count": 51,
   "metadata": {},
   "outputs": [
    {
     "name": "stdout",
     "output_type": "stream",
     "text": [
      "Unique number of users notified: 31\n"
     ]
    }
   ],
   "source": [
    "print('Unique number of users notified: {}'.format(len(atdist_opp_dist[~atdist_opp_dist['infoIncluded']]['vendorId'].unique())))"
   ]
  },
  {
   "cell_type": "markdown",
   "metadata": {},
   "source": [
    "## Opp at Location: At Location"
   ]
  },
  {
   "cell_type": "code",
   "execution_count": 52,
   "metadata": {},
   "outputs": [
    {
     "data": {
      "text/html": [
       "<div>\n",
       "<style scoped>\n",
       "    .dataframe tbody tr th:only-of-type {\n",
       "        vertical-align: middle;\n",
       "    }\n",
       "\n",
       "    .dataframe tbody tr th {\n",
       "        vertical-align: top;\n",
       "    }\n",
       "\n",
       "    .dataframe thead th {\n",
       "        text-align: right;\n",
       "    }\n",
       "</style>\n",
       "<table border=\"1\" class=\"dataframe\">\n",
       "  <thead>\n",
       "    <tr style=\"text-align: right;\">\n",
       "      <th></th>\n",
       "      <th></th>\n",
       "      <th>count</th>\n",
       "      <th>count_proportion</th>\n",
       "    </tr>\n",
       "    <tr>\n",
       "      <th>locationType</th>\n",
       "      <th>remappedResponses</th>\n",
       "      <th></th>\n",
       "      <th></th>\n",
       "    </tr>\n",
       "  </thead>\n",
       "  <tbody>\n",
       "    <tr>\n",
       "      <th rowspan=\"4\" valign=\"top\">coffeeshop</th>\n",
       "      <th>I don't know</th>\n",
       "      <td>16</td>\n",
       "      <td>25.806452</td>\n",
       "    </tr>\n",
       "    <tr>\n",
       "      <th>dismissed notification</th>\n",
       "      <td>5</td>\n",
       "      <td>8.064516</td>\n",
       "    </tr>\n",
       "    <tr>\n",
       "      <th>missed notification</th>\n",
       "      <td>9</td>\n",
       "      <td>14.516129</td>\n",
       "    </tr>\n",
       "    <tr>\n",
       "      <th>valid response</th>\n",
       "      <td>32</td>\n",
       "      <td>51.612903</td>\n",
       "    </tr>\n",
       "    <tr>\n",
       "      <th rowspan=\"3\" valign=\"top\">freefood</th>\n",
       "      <th>I don't know</th>\n",
       "      <td>3</td>\n",
       "      <td>33.333333</td>\n",
       "    </tr>\n",
       "    <tr>\n",
       "      <th>missed notification</th>\n",
       "      <td>1</td>\n",
       "      <td>11.111111</td>\n",
       "    </tr>\n",
       "    <tr>\n",
       "      <th>valid response</th>\n",
       "      <td>5</td>\n",
       "      <td>55.555556</td>\n",
       "    </tr>\n",
       "    <tr>\n",
       "      <th rowspan=\"3\" valign=\"top\">gym</th>\n",
       "      <th>I don't know</th>\n",
       "      <td>1</td>\n",
       "      <td>5.882353</td>\n",
       "    </tr>\n",
       "    <tr>\n",
       "      <th>missed notification</th>\n",
       "      <td>6</td>\n",
       "      <td>35.294118</td>\n",
       "    </tr>\n",
       "    <tr>\n",
       "      <th>valid response</th>\n",
       "      <td>10</td>\n",
       "      <td>58.823529</td>\n",
       "    </tr>\n",
       "    <tr>\n",
       "      <th rowspan=\"3\" valign=\"top\">workspace</th>\n",
       "      <th>I don't know</th>\n",
       "      <td>4</td>\n",
       "      <td>8.695652</td>\n",
       "    </tr>\n",
       "    <tr>\n",
       "      <th>missed notification</th>\n",
       "      <td>10</td>\n",
       "      <td>21.739130</td>\n",
       "    </tr>\n",
       "    <tr>\n",
       "      <th>valid response</th>\n",
       "      <td>32</td>\n",
       "      <td>69.565217</td>\n",
       "    </tr>\n",
       "  </tbody>\n",
       "</table>\n",
       "</div>"
      ],
      "text/plain": [
       "                                     count  count_proportion\n",
       "locationType remappedResponses                              \n",
       "coffeeshop   I don't know               16         25.806452\n",
       "             dismissed notification      5          8.064516\n",
       "             missed notification         9         14.516129\n",
       "             valid response             32         51.612903\n",
       "freefood     I don't know                3         33.333333\n",
       "             missed notification         1         11.111111\n",
       "             valid response              5         55.555556\n",
       "gym          I don't know                1          5.882353\n",
       "             missed notification         6         35.294118\n",
       "             valid response             10         58.823529\n",
       "workspace    I don't know                4          8.695652\n",
       "             missed notification        10         21.739130\n",
       "             valid response             32         69.565217"
      ]
     },
     "execution_count": 52,
     "metadata": {},
     "output_type": "execute_result"
    }
   ],
   "source": [
    "atloc_opp_loc_count_prop_byloc = compute_count_prop_byloc(atloc_opp_loc, 'locationType', 'remappedResponses')\n",
    "atloc_opp_loc_count_prop_byloc"
   ]
  },
  {
   "cell_type": "code",
   "execution_count": 53,
   "metadata": {},
   "outputs": [
    {
     "data": {
      "text/html": [
       "<div>\n",
       "<style scoped>\n",
       "    .dataframe tbody tr th:only-of-type {\n",
       "        vertical-align: middle;\n",
       "    }\n",
       "\n",
       "    .dataframe tbody tr th {\n",
       "        vertical-align: top;\n",
       "    }\n",
       "\n",
       "    .dataframe thead th {\n",
       "        text-align: right;\n",
       "    }\n",
       "</style>\n",
       "<table border=\"1\" class=\"dataframe\">\n",
       "  <thead>\n",
       "    <tr style=\"text-align: right;\">\n",
       "      <th></th>\n",
       "      <th>remappedResponses</th>\n",
       "      <th>count</th>\n",
       "      <th>percentage</th>\n",
       "    </tr>\n",
       "  </thead>\n",
       "  <tbody>\n",
       "    <tr>\n",
       "      <th>0</th>\n",
       "      <td>I don't know</td>\n",
       "      <td>24</td>\n",
       "      <td>17.910448</td>\n",
       "    </tr>\n",
       "    <tr>\n",
       "      <th>1</th>\n",
       "      <td>dismissed notification</td>\n",
       "      <td>5</td>\n",
       "      <td>3.731343</td>\n",
       "    </tr>\n",
       "    <tr>\n",
       "      <th>2</th>\n",
       "      <td>missed notification</td>\n",
       "      <td>26</td>\n",
       "      <td>19.402985</td>\n",
       "    </tr>\n",
       "    <tr>\n",
       "      <th>3</th>\n",
       "      <td>valid response</td>\n",
       "      <td>79</td>\n",
       "      <td>58.955224</td>\n",
       "    </tr>\n",
       "    <tr>\n",
       "      <th>4</th>\n",
       "      <td>total</td>\n",
       "      <td>134</td>\n",
       "      <td>100.000000</td>\n",
       "    </tr>\n",
       "  </tbody>\n",
       "</table>\n",
       "</div>"
      ],
      "text/plain": [
       "        remappedResponses  count  percentage\n",
       "0            I don't know     24   17.910448\n",
       "1  dismissed notification      5    3.731343\n",
       "2     missed notification     26   19.402985\n",
       "3          valid response     79   58.955224\n",
       "4                   total    134  100.000000"
      ]
     },
     "execution_count": 53,
     "metadata": {},
     "output_type": "execute_result"
    }
   ],
   "source": [
    "atloc_opp_dist_info_count_prop_overall = compute_count_prop_overall(atloc_opp_loc, 'remappedResponses')\n",
    "atloc_opp_dist_info_count_prop_overall"
   ]
  },
  {
   "cell_type": "code",
   "execution_count": 54,
   "metadata": {},
   "outputs": [
    {
     "name": "stdout",
     "output_type": "stream",
     "text": [
      "Unique number of users notified: 28\n"
     ]
    }
   ],
   "source": [
    "print('Unique number of users notified: {}'.format(len(atloc_opp_loc['vendorId'].unique())))"
   ]
  }
 ],
 "metadata": {
  "kernelspec": {
   "display_name": "Python 3",
   "language": "python",
   "name": "python3"
  },
  "language_info": {
   "codemirror_mode": {
    "name": "ipython",
    "version": 3
   },
   "file_extension": ".py",
   "mimetype": "text/x-python",
   "name": "python",
   "nbconvert_exporter": "python",
   "pygments_lexer": "ipython3",
   "version": "3.6.4"
  }
 },
 "nbformat": 4,
 "nbformat_minor": 2
}
