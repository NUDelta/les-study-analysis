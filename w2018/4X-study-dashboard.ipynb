{
 "cells": [
  {
   "cell_type": "markdown",
   "metadata": {},
   "source": [
    "# 4X User Study Analysis\n",
    "This notebook is used to analyze data from the 4X study conducted in March 2018."
   ]
  },
  {
   "cell_type": "markdown",
   "metadata": {},
   "source": [
    "# Imports and Global Setup"
   ]
  },
  {
   "cell_type": "code",
   "execution_count": 1,
   "metadata": {},
   "outputs": [],
   "source": [
    "import requests\n",
    "import json\n",
    "import pandas as pd\n",
    "import numpy as np\n",
    "import datetime\n",
    "\n",
    "from copy import deepcopy\n",
    "from tqdm import *"
   ]
  },
  {
   "cell_type": "code",
   "execution_count": 2,
   "metadata": {},
   "outputs": [
    {
     "name": "stderr",
     "output_type": "stream",
     "text": [
      "/Users/kapilgarg/miniconda3/envs/les/lib/python3.6/site-packages/matplotlib/font_manager.py:281: UserWarning: Matplotlib is building the font cache using fc-list. This may take a moment.\n",
      "  'Matplotlib is building the font cache using fc-list. '\n"
     ]
    }
   ],
   "source": [
    "import seaborn as sns\n",
    "import matplotlib.pyplot as plt\n",
    "from matplotlib.colors import ListedColormap\n",
    "%matplotlib inline"
   ]
  },
  {
   "cell_type": "code",
   "execution_count": 3,
   "metadata": {},
   "outputs": [
    {
     "data": {
      "image/png": "[encoded data removed]",
      "text/plain": [
       "<matplotlib.figure.Figure at 0x1a1054af98>"
      ]
     },
     "metadata": {},
     "output_type": "display_data"
    }
   ],
   "source": [
    "# defining colors\n",
    "COLORS = {\n",
    "    'ORANGE': '#E88D67',\n",
    "    'PINK': '#BB999C',\n",
    "    'VIOLET': '#9999C3',\n",
    "    'BLUE': '#7B8CDE',\n",
    "    'GREEN': '#C0E6DE'\n",
    "}\n",
    "\n",
    "# palette\n",
    "sns.set_palette(COLORS.values())\n",
    "sns.palplot(sns.color_palette())\n",
    "sns.set(font_scale=1.5, style='whitegrid')"
   ]
  },
  {
   "cell_type": "markdown",
   "metadata": {},
   "source": [
    "# Load in data"
   ]
  },
  {
   "cell_type": "code",
   "execution_count": 29,
   "metadata": {},
   "outputs": [],
   "source": [
    "# URLs for different conditions\n",
    "url_4x = 'https://les-4x.herokuapp.com/parse/classes/'\n",
    "url_opp_location = 'https://les-opplocation.herokuapp.com/parse/classes/'\n",
    "url_opp_distance = 'https://les-oppdistance.herokuapp.com/parse/classes/'\n",
    "\n",
    "# shared header and data\n",
    "header = {'X-Parse-Application-Id': 'PkngqKtJygU9WiQ1GXM9eC0a17tKmioKKmpWftYr'}\n",
    "data = {'limit': '10000'}"
   ]
  },
  {
   "cell_type": "code",
   "execution_count": 30,
   "metadata": {},
   "outputs": [],
   "source": [
    "def load_data(base_url, header, data):\n",
    "    \"\"\"\n",
    "    Loads in all needed tables from database, given url.\n",
    "    \n",
    "    Inputs: \n",
    "        base_url (string): url to pull data from\n",
    "        header (dict): application id and other auth\n",
    "        data (dict): data to pass into query\n",
    "    \n",
    "    Return:\n",
    "        (dict): dict where keys are collection names and values are Pandas objects containing data\n",
    "    \"\"\"\n",
    "    # declare collection list\n",
    "    collection_list = ['_User', 'ServerLog', 'DebugLog', 'ForYouViewLog', 'ApplicationHeartbeat',\n",
    "                       'TaskLocations', 'LocationTypeMetadata', 'beacons', 'EnRouteLocations',\n",
    "                       'AtLocationNotificationsSent', 'AtLocationNotificationResponses',\n",
    "                       'EnRouteNotificationsSent', 'EnRouteNotificationResponses',\n",
    "                       'AtDistanceNotificationsSent', 'AtDistanceNotificationResponses']\n",
    "    \n",
    "    # loop through and load data for each collection\n",
    "    output = {}\n",
    "    for collection in tqdm(collection_list):\n",
    "        current_response = requests.get(base_url + collection, headers=header, data=data)\n",
    "\n",
    "        current_data = pd.DataFrame(current_response.json()['results'])\n",
    "        if len(current_data) != 0:\n",
    "            current_data['createdAt'] = (pd.to_datetime(current_data['createdAt']).astype(np.int64) // 10**9)\n",
    "            current_data['updatedAt'] = (pd.to_datetime(current_data['updatedAt']).astype(np.int64) // 10**9)\n",
    "        \n",
    "        output[collection] = current_data\n",
    "    \n",
    "    return output"
   ]
  },
  {
   "cell_type": "code",
   "execution_count": 31,
   "metadata": {},
   "outputs": [
    {
     "name": "stderr",
     "output_type": "stream",
     "text": [
      "100%|██████████| 15/15 [00:03<00:00,  4.95it/s]\n"
     ]
    }
   ],
   "source": [
    "data_4x = load_data(url_4x, header, data)"
   ]
  },
  {
   "cell_type": "code",
   "execution_count": 32,
   "metadata": {},
   "outputs": [
    {
     "name": "stderr",
     "output_type": "stream",
     "text": [
      "100%|██████████| 15/15 [00:04<00:00,  3.74it/s]\n"
     ]
    }
   ],
   "source": [
    "data_opp_location = load_data(url_opp_location, header, data)"
   ]
  },
  {
   "cell_type": "code",
   "execution_count": 33,
   "metadata": {},
   "outputs": [
    {
     "name": "stderr",
     "output_type": "stream",
     "text": [
      "100%|██████████| 15/15 [00:03<00:00,  3.99it/s]\n"
     ]
    }
   ],
   "source": [
    "data_opp_distance = load_data(url_opp_distance, header, data)"
   ]
  },
  {
   "cell_type": "markdown",
   "metadata": {},
   "source": [
    "# Data Monitor\n",
    "This section of the notebook is used to monitor the data coming in from the study. Some measures we see here may be used within the paper"
   ]
  },
  {
   "cell_type": "code",
   "execution_count": null,
   "metadata": {},
   "outputs": [],
   "source": []
  }
 ],
 "metadata": {
  "kernelspec": {
   "display_name": "Python 3",
   "language": "python",
   "name": "python3"
  },
  "language_info": {
   "codemirror_mode": {
    "name": "ipython",
    "version": 3
   },
   "file_extension": ".py",
   "mimetype": "text/x-python",
   "name": "python",
   "nbconvert_exporter": "python",
   "pygments_lexer": "ipython3",
   "version": "3.6.4"
  }
 },
 "nbformat": 4,
 "nbformat_minor": 2
}
