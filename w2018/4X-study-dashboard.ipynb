{
 "cells": [
  {
   "cell_type": "markdown",
   "metadata": {},
   "source": [
    "# 4X User Study Analysis\n",
    "This notebook is used to analyze data from the 4X study conducted in March 2018."
   ]
  },
  {
   "cell_type": "markdown",
   "metadata": {},
   "source": [
    "# Imports and Global Setup"
   ]
  },
  {
   "cell_type": "code",
   "execution_count": 1,
   "metadata": {},
   "outputs": [],
   "source": [
    "import requests\n",
    "import json\n",
    "import pandas as pd\n",
    "import numpy as np\n",
    "\n",
    "from datetime import datetime, timezone\n",
    "from copy import deepcopy\n",
    "from tqdm import *"
   ]
  },
  {
   "cell_type": "code",
   "execution_count": 2,
   "metadata": {},
   "outputs": [],
   "source": [
    "import seaborn as sns\n",
    "import matplotlib.pyplot as plt\n",
    "from matplotlib.colors import ListedColormap\n",
    "%matplotlib inline"
   ]
  },
  {
   "cell_type": "code",
   "execution_count": 3,
   "metadata": {},
   "outputs": [
    {
     "data": {
      "image/png": "[encoded data removed]",
      "text/plain": [
       "<matplotlib.figure.Figure at 0x110361c88>"
      ]
     },
     "metadata": {},
     "output_type": "display_data"
    }
   ],
   "source": [
    "# defining colors\n",
    "COLORS = {\n",
    "    'ORANGE': '#E88D67',\n",
    "    'PINK': '#BB999C',\n",
    "    'VIOLET': '#9999C3',\n",
    "    'BLUE': '#7B8CDE',\n",
    "    'GREEN': '#C0E6DE'\n",
    "}\n",
    "\n",
    "# palette\n",
    "sns.set_palette(COLORS.values())\n",
    "sns.palplot(sns.color_palette())\n",
    "sns.set(font_scale=1.5, style='whitegrid')"
   ]
  },
  {
   "cell_type": "markdown",
   "metadata": {},
   "source": [
    "# Load in data"
   ]
  },
  {
   "cell_type": "code",
   "execution_count": 4,
   "metadata": {},
   "outputs": [
    {
     "name": "stdout",
     "output_type": "stream",
     "text": [
      "Study Length: 13 days, 23:00:00\n"
     ]
    }
   ],
   "source": [
    "# URLs for different conditions\n",
    "url_4x = 'https://les-4x.herokuapp.com/parse/classes/'\n",
    "url_opp_location = 'https://les-opplocation.herokuapp.com/parse/classes/'\n",
    "url_opp_distance = 'https://les-oppdistance.herokuapp.com/parse/classes/'\n",
    "\n",
    "# shared header and data\n",
    "header = {'X-Parse-Application-Id': 'PkngqKtJygU9WiQ1GXM9eC0a17tKmioKKmpWftYr'}\n",
    "data = {'limit': '10000'}\n",
    "\n",
    "# study start and end\n",
    "start_time = '2018-03-05 06:00:00'\n",
    "end_time = '2018-03-19 05:00:00'\n",
    "print('Study Length: {}'.format(datetime.strptime(end_time, '%Y-%m-%d %H:%M:%S') - datetime.strptime(start_time, '%Y-%m-%d %H:%M:%S')))"
   ]
  },
  {
   "cell_type": "code",
   "execution_count": 5,
   "metadata": {},
   "outputs": [],
   "source": [
    "def load_data(base_url, header, data, start_time, end_time):\n",
    "    \"\"\"\n",
    "    Loads in all needed tables from database, given url.\n",
    "    \n",
    "    Input: \n",
    "        base_url (string): url to pull data from\n",
    "        header (dict): application id and other auth\n",
    "        data (dict): data to pass into query\n",
    "        start_time (datetime): start time for data\n",
    "        end_time (datetime): end time for data \n",
    "    \n",
    "    Return:\n",
    "        (dict): dict where keys are collection names and values are Pandas objects containing data\n",
    "    \"\"\"\n",
    "    # declare collection list\n",
    "    collection_list = ['_User', 'ServerLog', 'DebugLog', 'ForYouViewLog', 'ApplicationHeartbeat',\n",
    "                       'TaskLocations', 'LocationTypeMetadata', 'beacons', 'EnRouteLocations',\n",
    "                       'AtLocationNotificationsSent', 'AtLocationNotificationResponses',\n",
    "                       'EnRouteNotificationsSent', 'EnRouteNotificationResponses',\n",
    "                       'AtDistanceNotificationsSent', 'AtDistanceNotificationResponses']\n",
    "    \n",
    "    # loop through and load data for each collection\n",
    "    output = {}\n",
    "    for collection in tqdm(collection_list):\n",
    "        current_response = requests.get(base_url + collection, headers=header, data=data)\n",
    "\n",
    "        current_data = pd.DataFrame(current_response.json()['results'])\n",
    "        if len(current_data) != 0:\n",
    "            current_data['createdAt'] = pd.to_datetime(current_data['createdAt'])\n",
    "            current_data['updatedAt'] = pd.to_datetime(current_data['updatedAt'])\n",
    "            \n",
    "            if collection != '_User':\n",
    "                current_data = current_data[(current_data['createdAt'] >= start_time) & (current_data['createdAt'] < end_time)]\n",
    "\n",
    "        output[collection] = current_data\n",
    "    \n",
    "    return output"
   ]
  },
  {
   "cell_type": "code",
   "execution_count": 6,
   "metadata": {},
   "outputs": [
    {
     "name": "stderr",
     "output_type": "stream",
     "text": [
      "100%|██████████| 15/15 [00:04<00:00,  3.68it/s]\n"
     ]
    }
   ],
   "source": [
    "data_4x = load_data(url_4x, header, data, start_time, end_time)"
   ]
  },
  {
   "cell_type": "code",
   "execution_count": 7,
   "metadata": {},
   "outputs": [
    {
     "name": "stderr",
     "output_type": "stream",
     "text": [
      "100%|██████████| 15/15 [00:04<00:00,  3.27it/s]\n"
     ]
    }
   ],
   "source": [
    "data_opp_loc = load_data(url_opp_location, header, data, start_time, end_time)"
   ]
  },
  {
   "cell_type": "code",
   "execution_count": 8,
   "metadata": {},
   "outputs": [
    {
     "name": "stderr",
     "output_type": "stream",
     "text": [
      "100%|██████████| 15/15 [00:04<00:00,  3.45it/s]\n"
     ]
    }
   ],
   "source": [
    "data_opp_dist = load_data(url_opp_distance, header, data, start_time, end_time)"
   ]
  },
  {
   "cell_type": "markdown",
   "metadata": {},
   "source": [
    "# Data Dashboard\n",
    "This section of the notebook is used to monitor the data coming in from the study. Some measures we see here may be used within the paper"
   ]
  },
  {
   "cell_type": "markdown",
   "metadata": {},
   "source": [
    "## Common Functions"
   ]
  },
  {
   "cell_type": "code",
   "execution_count": 9,
   "metadata": {},
   "outputs": [],
   "source": [
    "def get_merged_at_location(tasklocations, atlocnotif, atlocresp):\n",
    "    \"\"\"\n",
    "    Sets up a Pandas DataFrame with (1) TaskLocation, (2) NotificationSent, and (3) NotificationResponse data\n",
    "    merged together for AtLocation case.\n",
    "    \n",
    "    Input:\n",
    "        tasklocations (DataFrame): DataFrame of TaskLocations\n",
    "        atlocnotif (DataFrame): DataFrame of AtLocationNotificationsSent\n",
    "        atlocresp (DataFrame): DataFrame of AtLocationNotificationResponses\n",
    "    \n",
    "    Return:\n",
    "        (DataFrame): merged DataFrame of inputs\n",
    "    \"\"\"\n",
    "    # get AtLocationNotifications\n",
    "    atlocnotif.drop_duplicates(subset=['taskLocationId', 'vendorId'], inplace=True)\n",
    "    atlocnotif.drop(['objectId', 'createdAt', 'updatedAt'], axis=1, inplace=True)\n",
    "\n",
    "    # get AtLocationNotificationResponses\n",
    "    atlocresp.drop_duplicates(subset=['taskLocationId', 'vendorId'], inplace=True)\n",
    "    atlocresp.drop(['objectId', 'createdAt', 'updatedAt'], axis=1, inplace=True)\n",
    "    \n",
    "    # combine AtLocation notifications and responses, with some data from TaskLocations\n",
    "    atloc = atlocnotif.merge(tasklocations[['objectId', 'locationType', 'locationName', 'beaconId']],\n",
    "                             how='inner', left_on='taskLocationId', right_on='objectId')\n",
    "    atloc = atloc.merge(atlocresp[['question', 'response', 'timestamp', 'taskLocationId', 'vendorId']],\n",
    "                        how='left', on=['taskLocationId', 'vendorId'])\n",
    "    \n",
    "    # clean columns\n",
    "    del atloc['objectId']\n",
    "    atloc.rename(columns={'timestamp_x': 'notificationTimestamp', 'timestamp_y': 'responseTimestamp'},\n",
    "                 inplace=True)\n",
    "    \n",
    "    # fill blank columns\n",
    "    atloc[['question', 'response']] = atloc[['question', 'response']].fillna(value='missed notification')\n",
    "    atloc[['distanceToLocation', 'responseTimestamp']] = atloc[['distanceToLocation', 'responseTimestamp']].fillna(value=-1)\n",
    "\n",
    "    # type columns\n",
    "    atloc_int_cols = ['gmtOffset','notificationTimestamp', 'responseTimestamp']\n",
    "    atloc[atloc_int_cols] = atloc[atloc_int_cols].apply(lambda x: x.astype(np.int64))\n",
    "    \n",
    "    # add validResponse column \n",
    "    invalid_responses = ['I don\\'t know', 'com.apple.UNNotificationDismissActionIdentifier', 'missed notification']\n",
    "    atloc['remappedResponses'] = atloc['response']\n",
    "    atloc.loc[~atloc['remappedResponses'].isin(invalid_responses), 'remappedResponses'] = 'valid response'\n",
    "    atloc.loc[atloc['remappedResponses'] == 'com.apple.UNNotificationDismissActionIdentifier', 'remappedResponses'] = 'dismissed notification'\n",
    "    \n",
    "    # reorder columns\n",
    "    atloc_col_ordering = ['taskLocationId', 'vendorId', 'beaconId', 'distanceToLocation',\n",
    "                          'locationType', 'locationName','gmtOffset', 'notificationTimestamp', 'notificationString',\n",
    "                          'question', 'response', 'remappedResponses', 'responseTimestamp']\n",
    "    atloc = atloc[atloc_col_ordering]\n",
    "    \n",
    "    return atloc"
   ]
  },
  {
   "cell_type": "code",
   "execution_count": 10,
   "metadata": {},
   "outputs": [],
   "source": [
    "def get_merged_at_distance(tasklocations, atdistnotif, atdistresp):\n",
    "    \"\"\"\n",
    "    Sets up a Pandas DataFrame with (1) TaskLocation, (2) NotificationSent, and (3) NotificationResponse data\n",
    "    merged together for AtDistance case.\n",
    "    \n",
    "    Input:\n",
    "        tasklocations (DataFrame): DataFrame of TaskLocations\n",
    "        atdistnotif (DataFrame): DataFrame of AtDistanceNotificationsSent\n",
    "        atdistresp (DataFrame): DataFrame of AtDistanceNotificationResponses\n",
    "    \n",
    "    Return:\n",
    "        (DataFrame): merged DataFrame of inputs\n",
    "    \"\"\"\n",
    "    # get AtDistanceNotifications\n",
    "    atdistnotif.drop_duplicates(subset=['taskLocationId', 'vendorId'], inplace=True)\n",
    "    atdistnotif.drop(['objectId', 'createdAt', 'updatedAt'], axis=1, inplace=True)\n",
    "\n",
    "    # get AtDistanceNotificationResponses\n",
    "    atdistresp.drop_duplicates(subset=['taskLocationId', 'vendorId'], inplace=True)\n",
    "    atdistresp.drop(['objectId', 'createdAt', 'updatedAt'], axis=1, inplace=True)\n",
    "    \n",
    "    # combine AtDistance notifications and responses, with some data from TaskLocations\n",
    "    atdist = atdistnotif.merge(tasklocations[['objectId', 'beaconId', 'locationName']],\n",
    "                               how='inner', left_on='taskLocationId', right_on='objectId')\n",
    "    atdist = atdist.merge(atdistresp[['emaResponse', 'timestamp', 'taskLocationId', 'vendorId']],\n",
    "                          how='left', on=['taskLocationId', 'vendorId'])\n",
    "    \n",
    "    # clean columns\n",
    "    del atdist['objectId']\n",
    "    atdist.rename(columns={'timestamp_x': 'notificationTimestamp', 'timestamp_y': 'responseTimestamp'}, inplace=True)\n",
    "\n",
    "    atdist_col_ordering = ['taskLocationId', 'vendorId', 'beaconId', 'distanceToLocation', 'bearingToLocation',\n",
    "                           'locationType', 'locationName', 'notificationDistance', 'sentBy', 'infoIncluded',\n",
    "                           'gmtOffset', 'notificationTimestamp', 'emaResponse', 'responseTimestamp']\n",
    "    atdist = atdist[atdist_col_ordering]\n",
    "    \n",
    "    # fill blank columns\n",
    "    atdist['emaResponse'] = atdist['emaResponse'].fillna(value='missed notification')\n",
    "    atdist.loc[atdist['emaResponse'] == 'com.apple.UNNotificationDismissActionIdentifier', 'emaResponse'] = 'dismissed notification'\n",
    "    \n",
    "    atdist['responseTimestamp'] = atdist['responseTimestamp'].fillna(value=-1)\n",
    "\n",
    "    # type columns\n",
    "    atdist_int_cols = ['gmtOffset','notificationTimestamp', 'responseTimestamp']\n",
    "    atdist[atdist_int_cols] = atdist[atdist_int_cols].apply(lambda x: x.astype(np.int64))\n",
    "    \n",
    "    return atdist"
   ]
  },
  {
   "cell_type": "code",
   "execution_count": 11,
   "metadata": {},
   "outputs": [],
   "source": [
    "def get_merged_en_route(tasklocations, enroutenotif, enrouteresp):\n",
    "    \"\"\"\n",
    "    Sets up a Pandas DataFrame with (1) TaskLocation, (2) NotificationSent, and (3) NotificationResponse data\n",
    "    merged together for EnRoute case.\n",
    "    \n",
    "    Input:\n",
    "        tasklocations (DataFrame): DataFrame of TaskLocations\n",
    "        enroutenotif (DataFrame): DataFrame of EnRouteNotificationsSent\n",
    "        enrouteresp (DataFrame): DataFrame of EnRouteNotificationResponses\n",
    "    \n",
    "    Return:\n",
    "        (DataFrame): merged DataFrame of inputs\n",
    "    \"\"\"\n",
    "    pass"
   ]
  },
  {
   "cell_type": "markdown",
   "metadata": {},
   "source": [
    "## 4X"
   ]
  },
  {
   "cell_type": "markdown",
   "metadata": {},
   "source": [
    "### Setup Data"
   ]
  },
  {
   "cell_type": "code",
   "execution_count": 12,
   "metadata": {},
   "outputs": [],
   "source": [
    "users_4x = deepcopy(data_4x['_User'])\n",
    "users_4x = users_4x[users_4x['vendorId'] != '']"
   ]
  },
  {
   "cell_type": "code",
   "execution_count": 13,
   "metadata": {},
   "outputs": [],
   "source": [
    "tasklocations_4x = deepcopy(data_4x['TaskLocations'])\n",
    "\n",
    "atlocnotif_4x = deepcopy(data_4x['AtLocationNotificationsSent'])\n",
    "atlocresp_4x = deepcopy(data_4x['AtLocationNotificationResponses'])\n",
    "\n",
    "atdistnotif_4x = deepcopy(data_4x['AtDistanceNotificationsSent'])\n",
    "atdistresp_4x = deepcopy(data_4x['AtDistanceNotificationResponses'])\n",
    "\n",
    "enroutenotif_4x = deepcopy(data_4x['EnRouteNotificationsSent'])\n",
    "enrouteresp_4x = deepcopy(data_4x['EnRouteNotificationResponses'])"
   ]
  },
  {
   "cell_type": "code",
   "execution_count": 14,
   "metadata": {},
   "outputs": [],
   "source": [
    "# merged data frame with all AtLocation data\n",
    "atloc_4x = get_merged_at_location(deepcopy(tasklocations_4x),\n",
    "                                  deepcopy(atlocnotif_4x),\n",
    "                                  deepcopy(atlocresp_4x))"
   ]
  },
  {
   "cell_type": "code",
   "execution_count": 15,
   "metadata": {},
   "outputs": [],
   "source": [
    "# merged data frame with all AtDistance data\n",
    "atdist_4x = get_merged_at_distance(deepcopy(tasklocations_4x),\n",
    "                                   deepcopy(atdistnotif_4x),\n",
    "                                   deepcopy(atdistresp_4x))\n",
    "atdist_4x = atdist_4x[atdist_4x['infoIncluded']] # 4X Only: remove cases without info"
   ]
  },
  {
   "cell_type": "markdown",
   "metadata": {},
   "source": [
    "### Analyze Response Rates"
   ]
  },
  {
   "cell_type": "markdown",
   "metadata": {},
   "source": [
    "#### At Location"
   ]
  },
  {
   "cell_type": "code",
   "execution_count": 16,
   "metadata": {},
   "outputs": [
    {
     "data": {
      "text/html": [
       "<div>\n",
       "<style scoped>\n",
       "    .dataframe tbody tr th:only-of-type {\n",
       "        vertical-align: middle;\n",
       "    }\n",
       "\n",
       "    .dataframe tbody tr th {\n",
       "        vertical-align: top;\n",
       "    }\n",
       "\n",
       "    .dataframe thead th {\n",
       "        text-align: right;\n",
       "    }\n",
       "</style>\n",
       "<table border=\"1\" class=\"dataframe\">\n",
       "  <thead>\n",
       "    <tr style=\"text-align: right;\">\n",
       "      <th></th>\n",
       "      <th>remappedResponses</th>\n",
       "      <th>count</th>\n",
       "      <th>percentage</th>\n",
       "    </tr>\n",
       "  </thead>\n",
       "  <tbody>\n",
       "    <tr>\n",
       "      <th>0</th>\n",
       "      <td>I don't know</td>\n",
       "      <td>6</td>\n",
       "      <td>20.000000</td>\n",
       "    </tr>\n",
       "    <tr>\n",
       "      <th>1</th>\n",
       "      <td>missed notification</td>\n",
       "      <td>11</td>\n",
       "      <td>36.666667</td>\n",
       "    </tr>\n",
       "    <tr>\n",
       "      <th>2</th>\n",
       "      <td>valid response</td>\n",
       "      <td>13</td>\n",
       "      <td>43.333333</td>\n",
       "    </tr>\n",
       "  </tbody>\n",
       "</table>\n",
       "</div>"
      ],
      "text/plain": [
       "     remappedResponses  count  percentage\n",
       "0         I don't know      6   20.000000\n",
       "1  missed notification     11   36.666667\n",
       "2       valid response     13   43.333333"
      ]
     },
     "execution_count": 16,
     "metadata": {},
     "output_type": "execute_result"
    }
   ],
   "source": [
    "atloc_4x_prop = atloc_4x.groupby(['remappedResponses'])['remappedResponses'].count().reset_index(name='count')\n",
    "atloc_4x_prop['percentage'] = 100.0 * atloc_4x_prop['count'] / sum(atloc_4x_prop['count'])\n",
    "atloc_4x_prop"
   ]
  },
  {
   "cell_type": "markdown",
   "metadata": {},
   "source": [
    "#### At Distance"
   ]
  },
  {
   "cell_type": "code",
   "execution_count": 17,
   "metadata": {},
   "outputs": [
    {
     "data": {
      "text/html": [
       "<div>\n",
       "<style scoped>\n",
       "    .dataframe tbody tr th:only-of-type {\n",
       "        vertical-align: middle;\n",
       "    }\n",
       "\n",
       "    .dataframe tbody tr th {\n",
       "        vertical-align: top;\n",
       "    }\n",
       "\n",
       "    .dataframe thead th {\n",
       "        text-align: right;\n",
       "    }\n",
       "</style>\n",
       "<table border=\"1\" class=\"dataframe\">\n",
       "  <thead>\n",
       "    <tr style=\"text-align: right;\">\n",
       "      <th></th>\n",
       "      <th>emaResponse</th>\n",
       "      <th>count</th>\n",
       "      <th>percentage</th>\n",
       "    </tr>\n",
       "  </thead>\n",
       "  <tbody>\n",
       "    <tr>\n",
       "      <th>0</th>\n",
       "      <td>No. This info is useful but I have to be somew...</td>\n",
       "      <td>2</td>\n",
       "      <td>33.333333</td>\n",
       "    </tr>\n",
       "    <tr>\n",
       "      <th>1</th>\n",
       "      <td>No. This info isn't useful to me.</td>\n",
       "      <td>1</td>\n",
       "      <td>16.666667</td>\n",
       "    </tr>\n",
       "    <tr>\n",
       "      <th>2</th>\n",
       "      <td>Yes! This info is useful, I'm going now.</td>\n",
       "      <td>2</td>\n",
       "      <td>33.333333</td>\n",
       "    </tr>\n",
       "    <tr>\n",
       "      <th>3</th>\n",
       "      <td>missed notification</td>\n",
       "      <td>1</td>\n",
       "      <td>16.666667</td>\n",
       "    </tr>\n",
       "  </tbody>\n",
       "</table>\n",
       "</div>"
      ],
      "text/plain": [
       "                                         emaResponse  count  percentage\n",
       "0  No. This info is useful but I have to be somew...      2   33.333333\n",
       "1                  No. This info isn't useful to me.      1   16.666667\n",
       "2           Yes! This info is useful, I'm going now.      2   33.333333\n",
       "3                                missed notification      1   16.666667"
      ]
     },
     "execution_count": 17,
     "metadata": {},
     "output_type": "execute_result"
    }
   ],
   "source": [
    "atdist_4x_prop = atdist_4x.groupby(['emaResponse'])['emaResponse'].count().reset_index(name='count')\n",
    "atdist_4x_prop['percentage'] = 100.0 * atdist_4x_prop['count'] / sum(atdist_4x_prop['count'])\n",
    "atdist_4x_prop"
   ]
  },
  {
   "cell_type": "markdown",
   "metadata": {},
   "source": [
    "## Opp at Distance"
   ]
  },
  {
   "cell_type": "markdown",
   "metadata": {},
   "source": [
    "### Setup Data"
   ]
  },
  {
   "cell_type": "code",
   "execution_count": 18,
   "metadata": {},
   "outputs": [],
   "source": [
    "users_opp_dist = deepcopy(data_opp_dist['_User'])\n",
    "users_opp_dist = users_opp_dist[users_opp_dist['vendorId'] != '']"
   ]
  },
  {
   "cell_type": "code",
   "execution_count": 19,
   "metadata": {},
   "outputs": [],
   "source": [
    "tasklocations_opp_dist = deepcopy(data_opp_dist['TaskLocations'])\n",
    "\n",
    "atlocnotif_opp_dist = deepcopy(data_opp_dist['AtLocationNotificationsSent'])\n",
    "atlocresp_opp_dist = deepcopy(data_opp_dist['AtLocationNotificationResponses'])\n",
    "\n",
    "atdistnotif_opp_dist = deepcopy(data_opp_dist['AtDistanceNotificationsSent'])\n",
    "atdistresp_opp_dist = deepcopy(data_opp_dist['AtDistanceNotificationResponses'])"
   ]
  },
  {
   "cell_type": "code",
   "execution_count": 20,
   "metadata": {},
   "outputs": [],
   "source": [
    "# merged data frame with all AtLocation data\n",
    "atloc_opp_dist = get_merged_at_location(deepcopy(tasklocations_opp_dist),\n",
    "                                        deepcopy(atlocnotif_opp_dist),\n",
    "                                        deepcopy(atlocresp_opp_dist))"
   ]
  },
  {
   "cell_type": "code",
   "execution_count": 21,
   "metadata": {},
   "outputs": [],
   "source": [
    "# merged data frame with all AtDistance data\n",
    "atdist_opp_dist = get_merged_at_distance(deepcopy(tasklocations_opp_dist),\n",
    "                                         deepcopy(atdistnotif_opp_dist),\n",
    "                                         deepcopy(atdistresp_opp_dist))"
   ]
  },
  {
   "cell_type": "markdown",
   "metadata": {},
   "source": [
    "### Analyze Response Rate"
   ]
  },
  {
   "cell_type": "markdown",
   "metadata": {},
   "source": [
    "#### At Location"
   ]
  },
  {
   "cell_type": "code",
   "execution_count": 22,
   "metadata": {},
   "outputs": [
    {
     "data": {
      "text/html": [
       "<div>\n",
       "<style scoped>\n",
       "    .dataframe tbody tr th:only-of-type {\n",
       "        vertical-align: middle;\n",
       "    }\n",
       "\n",
       "    .dataframe tbody tr th {\n",
       "        vertical-align: top;\n",
       "    }\n",
       "\n",
       "    .dataframe thead th {\n",
       "        text-align: right;\n",
       "    }\n",
       "</style>\n",
       "<table border=\"1\" class=\"dataframe\">\n",
       "  <thead>\n",
       "    <tr style=\"text-align: right;\">\n",
       "      <th></th>\n",
       "      <th>remappedResponses</th>\n",
       "      <th>count</th>\n",
       "      <th>percentage</th>\n",
       "    </tr>\n",
       "  </thead>\n",
       "  <tbody>\n",
       "    <tr>\n",
       "      <th>0</th>\n",
       "      <td>I don't know</td>\n",
       "      <td>2</td>\n",
       "      <td>6.451613</td>\n",
       "    </tr>\n",
       "    <tr>\n",
       "      <th>1</th>\n",
       "      <td>missed notification</td>\n",
       "      <td>7</td>\n",
       "      <td>22.580645</td>\n",
       "    </tr>\n",
       "    <tr>\n",
       "      <th>2</th>\n",
       "      <td>valid response</td>\n",
       "      <td>22</td>\n",
       "      <td>70.967742</td>\n",
       "    </tr>\n",
       "  </tbody>\n",
       "</table>\n",
       "</div>"
      ],
      "text/plain": [
       "     remappedResponses  count  percentage\n",
       "0         I don't know      2    6.451613\n",
       "1  missed notification      7   22.580645\n",
       "2       valid response     22   70.967742"
      ]
     },
     "execution_count": 22,
     "metadata": {},
     "output_type": "execute_result"
    }
   ],
   "source": [
    "atloc_opp_dist_prop = atloc_opp_dist.groupby(['remappedResponses'])['remappedResponses'].count().reset_index(name='count')\n",
    "atloc_opp_dist_prop['percentage'] = 100.0 * atloc_opp_dist_prop['count'] / sum(atloc_opp_dist_prop['count'])\n",
    "atloc_opp_dist_prop"
   ]
  },
  {
   "cell_type": "markdown",
   "metadata": {},
   "source": [
    "#### At Distance"
   ]
  },
  {
   "cell_type": "code",
   "execution_count": 23,
   "metadata": {},
   "outputs": [
    {
     "data": {
      "text/html": [
       "<div>\n",
       "<style scoped>\n",
       "    .dataframe tbody tr th:only-of-type {\n",
       "        vertical-align: middle;\n",
       "    }\n",
       "\n",
       "    .dataframe tbody tr th {\n",
       "        vertical-align: top;\n",
       "    }\n",
       "\n",
       "    .dataframe thead th {\n",
       "        text-align: right;\n",
       "    }\n",
       "</style>\n",
       "<table border=\"1\" class=\"dataframe\">\n",
       "  <thead>\n",
       "    <tr style=\"text-align: right;\">\n",
       "      <th></th>\n",
       "      <th>emaResponse</th>\n",
       "      <th>count</th>\n",
       "      <th>percentage</th>\n",
       "    </tr>\n",
       "  </thead>\n",
       "  <tbody>\n",
       "    <tr>\n",
       "      <th>0</th>\n",
       "      <td>No. This info is useful but I have to be somew...</td>\n",
       "      <td>11</td>\n",
       "      <td>55.0</td>\n",
       "    </tr>\n",
       "    <tr>\n",
       "      <th>1</th>\n",
       "      <td>No. This info isn't useful to me.</td>\n",
       "      <td>2</td>\n",
       "      <td>10.0</td>\n",
       "    </tr>\n",
       "    <tr>\n",
       "      <th>2</th>\n",
       "      <td>missed notification</td>\n",
       "      <td>7</td>\n",
       "      <td>35.0</td>\n",
       "    </tr>\n",
       "  </tbody>\n",
       "</table>\n",
       "</div>"
      ],
      "text/plain": [
       "                                         emaResponse  count  percentage\n",
       "0  No. This info is useful but I have to be somew...     11        55.0\n",
       "1                  No. This info isn't useful to me.      2        10.0\n",
       "2                                missed notification      7        35.0"
      ]
     },
     "execution_count": 23,
     "metadata": {},
     "output_type": "execute_result"
    }
   ],
   "source": [
    "atdist_opp_dist_prop_info = atdist_opp_dist[atdist_opp_dist['infoIncluded']].groupby(['emaResponse'])['emaResponse'].count().reset_index(name='count')\n",
    "atdist_opp_dist_prop_info['percentage'] = 100.0 * atdist_opp_dist_prop_info['count'] / sum(atdist_opp_dist_prop_info['count'])\n",
    "atdist_opp_dist_prop_info"
   ]
  },
  {
   "cell_type": "code",
   "execution_count": 24,
   "metadata": {},
   "outputs": [
    {
     "data": {
      "text/html": [
       "<div>\n",
       "<style scoped>\n",
       "    .dataframe tbody tr th:only-of-type {\n",
       "        vertical-align: middle;\n",
       "    }\n",
       "\n",
       "    .dataframe tbody tr th {\n",
       "        vertical-align: top;\n",
       "    }\n",
       "\n",
       "    .dataframe thead th {\n",
       "        text-align: right;\n",
       "    }\n",
       "</style>\n",
       "<table border=\"1\" class=\"dataframe\">\n",
       "  <thead>\n",
       "    <tr style=\"text-align: right;\">\n",
       "      <th></th>\n",
       "      <th>emaResponse</th>\n",
       "      <th>count</th>\n",
       "      <th>percentage</th>\n",
       "    </tr>\n",
       "  </thead>\n",
       "  <tbody>\n",
       "    <tr>\n",
       "      <th>0</th>\n",
       "      <td>No. I don't want to go out of my way there.</td>\n",
       "      <td>10</td>\n",
       "      <td>30.303030</td>\n",
       "    </tr>\n",
       "    <tr>\n",
       "      <th>1</th>\n",
       "      <td>No. Other reason.</td>\n",
       "      <td>4</td>\n",
       "      <td>12.121212</td>\n",
       "    </tr>\n",
       "    <tr>\n",
       "      <th>2</th>\n",
       "      <td>Sure! I would be happy to go out of my way!</td>\n",
       "      <td>1</td>\n",
       "      <td>3.030303</td>\n",
       "    </tr>\n",
       "    <tr>\n",
       "      <th>3</th>\n",
       "      <td>Sure, but I was going to walk past it anyway.</td>\n",
       "      <td>1</td>\n",
       "      <td>3.030303</td>\n",
       "    </tr>\n",
       "    <tr>\n",
       "      <th>4</th>\n",
       "      <td>missed notification</td>\n",
       "      <td>17</td>\n",
       "      <td>51.515152</td>\n",
       "    </tr>\n",
       "  </tbody>\n",
       "</table>\n",
       "</div>"
      ],
      "text/plain": [
       "                                     emaResponse  count  percentage\n",
       "0    No. I don't want to go out of my way there.     10   30.303030\n",
       "1                              No. Other reason.      4   12.121212\n",
       "2    Sure! I would be happy to go out of my way!      1    3.030303\n",
       "3  Sure, but I was going to walk past it anyway.      1    3.030303\n",
       "4                            missed notification     17   51.515152"
      ]
     },
     "execution_count": 24,
     "metadata": {},
     "output_type": "execute_result"
    }
   ],
   "source": [
    "atdist_opp_dist_prop_no_info = atdist_opp_dist[~atdist_opp_dist['infoIncluded']].groupby(['emaResponse'])['emaResponse'].count().reset_index(name='count')\n",
    "atdist_opp_dist_prop_no_info['percentage'] = 100.0 * atdist_opp_dist_prop_no_info['count'] / sum(atdist_opp_dist_prop_no_info['count'])\n",
    "atdist_opp_dist_prop_no_info"
   ]
  },
  {
   "cell_type": "markdown",
   "metadata": {},
   "source": [
    "## Opp at Location"
   ]
  },
  {
   "cell_type": "markdown",
   "metadata": {},
   "source": [
    "### Setup Data"
   ]
  },
  {
   "cell_type": "code",
   "execution_count": 25,
   "metadata": {},
   "outputs": [],
   "source": [
    "users_opp_loc = deepcopy(data_opp_loc['_User'])\n",
    "users_opp_loc = users_opp_loc[users_opp_loc['vendorId'] != '']"
   ]
  },
  {
   "cell_type": "code",
   "execution_count": 26,
   "metadata": {},
   "outputs": [],
   "source": [
    "tasklocations_opp_loc = deepcopy(data_opp_loc['TaskLocations'])\n",
    "\n",
    "atlocnotif_opp_loc = deepcopy(data_opp_loc['AtLocationNotificationsSent'])\n",
    "atlocresp_opp_loc = deepcopy(data_opp_loc['AtLocationNotificationResponses'])"
   ]
  },
  {
   "cell_type": "code",
   "execution_count": 27,
   "metadata": {},
   "outputs": [],
   "source": [
    "# merged data frame with all AtLocation data\n",
    "atloc_opp_loc = get_merged_at_location(deepcopy(tasklocations_opp_loc),\n",
    "                                        deepcopy(atlocnotif_opp_loc),\n",
    "                                        deepcopy(atlocresp_opp_loc))"
   ]
  },
  {
   "cell_type": "markdown",
   "metadata": {},
   "source": [
    "### Analyze Response Rate"
   ]
  },
  {
   "cell_type": "markdown",
   "metadata": {},
   "source": [
    "#### At Location"
   ]
  },
  {
   "cell_type": "code",
   "execution_count": 28,
   "metadata": {},
   "outputs": [
    {
     "data": {
      "text/html": [
       "<div>\n",
       "<style scoped>\n",
       "    .dataframe tbody tr th:only-of-type {\n",
       "        vertical-align: middle;\n",
       "    }\n",
       "\n",
       "    .dataframe tbody tr th {\n",
       "        vertical-align: top;\n",
       "    }\n",
       "\n",
       "    .dataframe thead th {\n",
       "        text-align: right;\n",
       "    }\n",
       "</style>\n",
       "<table border=\"1\" class=\"dataframe\">\n",
       "  <thead>\n",
       "    <tr style=\"text-align: right;\">\n",
       "      <th></th>\n",
       "      <th>remappedResponses</th>\n",
       "      <th>count</th>\n",
       "      <th>percentage</th>\n",
       "    </tr>\n",
       "  </thead>\n",
       "  <tbody>\n",
       "    <tr>\n",
       "      <th>0</th>\n",
       "      <td>I don't know</td>\n",
       "      <td>6</td>\n",
       "      <td>17.142857</td>\n",
       "    </tr>\n",
       "    <tr>\n",
       "      <th>1</th>\n",
       "      <td>dismissed notification</td>\n",
       "      <td>1</td>\n",
       "      <td>2.857143</td>\n",
       "    </tr>\n",
       "    <tr>\n",
       "      <th>2</th>\n",
       "      <td>missed notification</td>\n",
       "      <td>4</td>\n",
       "      <td>11.428571</td>\n",
       "    </tr>\n",
       "    <tr>\n",
       "      <th>3</th>\n",
       "      <td>valid response</td>\n",
       "      <td>24</td>\n",
       "      <td>68.571429</td>\n",
       "    </tr>\n",
       "  </tbody>\n",
       "</table>\n",
       "</div>"
      ],
      "text/plain": [
       "        remappedResponses  count  percentage\n",
       "0            I don't know      6   17.142857\n",
       "1  dismissed notification      1    2.857143\n",
       "2     missed notification      4   11.428571\n",
       "3          valid response     24   68.571429"
      ]
     },
     "execution_count": 28,
     "metadata": {},
     "output_type": "execute_result"
    }
   ],
   "source": [
    "atloc_opp_loc_prop = atloc_opp_loc.groupby(['remappedResponses'])['remappedResponses'].count().reset_index(name='count')\n",
    "atloc_opp_loc_prop['percentage'] = 100.0 * atloc_opp_loc_prop['count'] / sum(atloc_opp_loc_prop['count'])\n",
    "atloc_opp_loc_prop"
   ]
  }
 ],
 "metadata": {
  "kernelspec": {
   "display_name": "Python 3",
   "language": "python",
   "name": "python3"
  },
  "language_info": {
   "codemirror_mode": {
    "name": "ipython",
    "version": 3
   },
   "file_extension": ".py",
   "mimetype": "text/x-python",
   "name": "python",
   "nbconvert_exporter": "python",
   "pygments_lexer": "ipython3",
   "version": "3.6.4"
  }
 },
 "nbformat": 4,
 "nbformat_minor": 2
}
