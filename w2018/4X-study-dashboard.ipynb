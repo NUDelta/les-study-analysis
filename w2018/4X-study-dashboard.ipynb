{
 "cells": [
  {
   "cell_type": "markdown",
   "metadata": {},
   "source": [
    "# 4X User Study Analysis\n",
    "This notebook is used to analyze data from the 4X study conducted in March 2018."
   ]
  },
  {
   "cell_type": "markdown",
   "metadata": {},
   "source": [
    "# Imports and Global Setup"
   ]
  },
  {
   "cell_type": "code",
   "execution_count": 1,
   "metadata": {},
   "outputs": [],
   "source": [
    "import json\n",
    "from functools import reduce\n",
    "from collections import Counter\n",
    "\n",
    "import requests\n",
    "import pandas as pd\n",
    "import numpy as np\n",
    "\n",
    "from datetime import datetime, timezone\n",
    "from copy import deepcopy\n",
    "from tqdm import *"
   ]
  },
  {
   "cell_type": "code",
   "execution_count": 2,
   "metadata": {},
   "outputs": [],
   "source": [
    "import seaborn as sns\n",
    "import matplotlib.pyplot as plt\n",
    "from matplotlib.colors import ListedColormap\n",
    "%matplotlib inline"
   ]
  },
  {
   "cell_type": "code",
   "execution_count": 3,
   "metadata": {},
   "outputs": [
    {
     "data": {
      "image/png": "[encoded data removed]",
      "text/plain": [
       "<matplotlib.figure.Figure at 0x1a146f8ba8>"
      ]
     },
     "metadata": {},
     "output_type": "display_data"
    }
   ],
   "source": [
    "# defining colors\n",
    "COLORS = {\n",
    "    'ORANGE': '#E88D67',\n",
    "    'PINK': '#BB999C',\n",
    "    'VIOLET': '#9999C3',\n",
    "    'BLUE': '#7B8CDE',\n",
    "    'GREEN': '#C0E6DE'\n",
    "}\n",
    "\n",
    "# palette\n",
    "sns.set_palette(COLORS.values())\n",
    "sns.palplot(sns.color_palette())\n",
    "sns.set(font_scale=1.5, style='whitegrid')"
   ]
  },
  {
   "cell_type": "markdown",
   "metadata": {},
   "source": [
    "# Load in data"
   ]
  },
  {
   "cell_type": "code",
   "execution_count": 4,
   "metadata": {},
   "outputs": [
    {
     "name": "stdout",
     "output_type": "stream",
     "text": [
      "Study Length: 13 days, 23:00:00\n"
     ]
    }
   ],
   "source": [
    "# URLs for different conditions\n",
    "url_4x = 'https://les-4x.herokuapp.com/parse/classes/'\n",
    "url_opp_location = 'https://les-opplocation.herokuapp.com/parse/classes/'\n",
    "url_opp_distance = 'https://les-oppdistance.herokuapp.com/parse/classes/'\n",
    "\n",
    "# shared header and data\n",
    "header = {'X-Parse-Application-Id': 'PkngqKtJygU9WiQ1GXM9eC0a17tKmioKKmpWftYr'}\n",
    "data = {'limit': '10000'}\n",
    "\n",
    "# study start and end\n",
    "start_time = '2018-03-05 06:00:00'\n",
    "end_time = '2018-03-19 05:00:00'\n",
    "print('Study Length: {}'.format(datetime.strptime(end_time, '%Y-%m-%d %H:%M:%S') - datetime.strptime(start_time, '%Y-%m-%d %H:%M:%S')))"
   ]
  },
  {
   "cell_type": "code",
   "execution_count": 5,
   "metadata": {},
   "outputs": [],
   "source": [
    "def load_data(base_url, header, data, start_time, end_time):\n",
    "    \"\"\"\n",
    "    Loads in all needed tables from database, given url.\n",
    "    \n",
    "    Input: \n",
    "        base_url (string): url to pull data from\n",
    "        header (dict): application id and other auth\n",
    "        data (dict): data to pass into query\n",
    "        start_time (datetime): start time for data\n",
    "        end_time (datetime): end time for data \n",
    "    \n",
    "    Return:\n",
    "        (dict): dict where keys are collection names and values are Pandas objects containing data\n",
    "    \"\"\"\n",
    "    # declare collection list\n",
    "    collection_list = ['_User', 'ServerLog', 'DebugLog', 'ForYouViewLog', 'ApplicationHeartbeat',\n",
    "                       'TaskLocations', 'LocationTypeMetadata', 'beacons', 'EnRouteLocations',\n",
    "                       'AtLocationNotificationsSent', 'AtLocationNotificationResponses',\n",
    "                       'EnRouteNotificationsSent', 'EnRouteNotificationResponses',\n",
    "                       'AtDistanceNotificationsSent', 'AtDistanceNotificationResponses']\n",
    "    \n",
    "    # loop through and load data for each collection\n",
    "    output = {}\n",
    "    for collection in tqdm(collection_list):\n",
    "        current_response = requests.get(base_url + collection, headers=header, data=data)\n",
    "\n",
    "        current_data = pd.DataFrame(current_response.json()['results'])\n",
    "        if len(current_data) != 0:\n",
    "            current_data['createdAt'] = pd.to_datetime(current_data['createdAt'])\n",
    "            current_data['updatedAt'] = pd.to_datetime(current_data['updatedAt'])\n",
    "            \n",
    "            if collection != '_User':\n",
    "                current_data = current_data[(current_data['createdAt'] >= start_time) & (current_data['createdAt'] < end_time)]\n",
    "\n",
    "        output[collection] = current_data\n",
    "    \n",
    "    return output"
   ]
  },
  {
   "cell_type": "code",
   "execution_count": 6,
   "metadata": {},
   "outputs": [
    {
     "name": "stderr",
     "output_type": "stream",
     "text": [
      "100%|██████████| 15/15 [00:04<00:00,  3.41it/s]\n"
     ]
    }
   ],
   "source": [
    "data_4x = load_data(url_4x, header, data, start_time, end_time)"
   ]
  },
  {
   "cell_type": "code",
   "execution_count": 7,
   "metadata": {},
   "outputs": [
    {
     "name": "stderr",
     "output_type": "stream",
     "text": [
      "100%|██████████| 15/15 [00:03<00:00,  3.82it/s]\n"
     ]
    }
   ],
   "source": [
    "data_opp_loc = load_data(url_opp_location, header, data, start_time, end_time)"
   ]
  },
  {
   "cell_type": "code",
   "execution_count": 8,
   "metadata": {},
   "outputs": [
    {
     "name": "stderr",
     "output_type": "stream",
     "text": [
      "100%|██████████| 15/15 [00:03<00:00,  4.55it/s]\n"
     ]
    }
   ],
   "source": [
    "data_opp_dist = load_data(url_opp_distance, header, data, start_time, end_time)"
   ]
  },
  {
   "cell_type": "markdown",
   "metadata": {},
   "source": [
    "# Data Dashboard\n",
    "This section of the notebook is used to monitor the data coming in from the study. Some measures we see here may be used within the paper"
   ]
  },
  {
   "cell_type": "markdown",
   "metadata": {},
   "source": [
    "## Common Functions"
   ]
  },
  {
   "cell_type": "code",
   "execution_count": 9,
   "metadata": {},
   "outputs": [],
   "source": [
    "def get_merged_at_location(tasklocations, atlocnotif, atlocresp):\n",
    "    \"\"\"\n",
    "    Sets up a Pandas DataFrame with (1) TaskLocation, (2) NotificationSent, and (3) NotificationResponse data\n",
    "    merged together for AtLocation case.\n",
    "    \n",
    "    Input:\n",
    "        tasklocations (DataFrame): DataFrame of TaskLocations\n",
    "        atlocnotif (DataFrame): DataFrame of AtLocationNotificationsSent\n",
    "        atlocresp (DataFrame): DataFrame of AtLocationNotificationResponses\n",
    "    \n",
    "    Return:\n",
    "        (DataFrame): merged DataFrame of inputs\n",
    "    \"\"\"\n",
    "    # get AtLocationNotifications\n",
    "    atlocnotif.drop_duplicates(subset=['taskLocationId', 'vendorId'], inplace=True)\n",
    "    atlocnotif.drop(['objectId', 'createdAt', 'updatedAt'], axis=1, inplace=True)\n",
    "\n",
    "    # get AtLocationNotificationResponses\n",
    "    atlocresp.drop_duplicates(subset=['taskLocationId', 'vendorId'], inplace=True)\n",
    "    atlocresp.drop(['objectId', 'createdAt', 'updatedAt'], axis=1, inplace=True)\n",
    "    \n",
    "    # combine AtLocation notifications and responses, with some data from TaskLocations\n",
    "    atloc = atlocnotif.merge(tasklocations[['objectId', 'locationType', 'locationName', 'beaconId']],\n",
    "                             how='inner', left_on='taskLocationId', right_on='objectId')\n",
    "    atloc = atloc.merge(atlocresp[['question', 'response', 'timestamp', 'taskLocationId', 'vendorId']],\n",
    "                        how='left', on=['taskLocationId', 'vendorId'])\n",
    "    \n",
    "    # clean columns\n",
    "    del atloc['objectId']\n",
    "    atloc.rename(columns={'timestamp_x': 'notificationTimestamp', 'timestamp_y': 'responseTimestamp'},\n",
    "                 inplace=True)\n",
    "    \n",
    "    # fill blank columns\n",
    "    atloc[['question', 'response']] = atloc[['question', 'response']].fillna(value='missed notification')\n",
    "    atloc[['distanceToLocation', 'responseTimestamp']] = atloc[['distanceToLocation', 'responseTimestamp']].fillna(value=-1)\n",
    "\n",
    "    # type columns\n",
    "    atloc_int_cols = ['gmtOffset','notificationTimestamp', 'responseTimestamp']\n",
    "    atloc[atloc_int_cols] = atloc[atloc_int_cols].apply(lambda x: x.astype(np.int64))\n",
    "    \n",
    "    # add validResponse column \n",
    "    invalid_responses = ['I don\\'t know', 'com.apple.UNNotificationDismissActionIdentifier', 'missed notification']\n",
    "    atloc['remappedResponses'] = atloc['response']\n",
    "    atloc.loc[~atloc['remappedResponses'].isin(invalid_responses), 'remappedResponses'] = 'valid response'\n",
    "    atloc.loc[atloc['remappedResponses'] == 'com.apple.UNNotificationDismissActionIdentifier', 'remappedResponses'] = 'dismissed notification'\n",
    "    \n",
    "    # reorder columns\n",
    "    atloc_col_ordering = ['taskLocationId', 'vendorId', 'beaconId', 'distanceToLocation',\n",
    "                          'locationType', 'locationName','gmtOffset', 'notificationTimestamp', 'notificationString',\n",
    "                          'question', 'response', 'remappedResponses', 'responseTimestamp']\n",
    "    atloc = atloc[atloc_col_ordering]\n",
    "    \n",
    "    return atloc"
   ]
  },
  {
   "cell_type": "code",
   "execution_count": 10,
   "metadata": {},
   "outputs": [],
   "source": [
    "def get_merged_at_distance(tasklocations, atdistnotif, atdistresp):\n",
    "    \"\"\"\n",
    "    Sets up a Pandas DataFrame with (1) TaskLocation, (2) NotificationSent, and (3) NotificationResponse data\n",
    "    merged together for AtDistance case.\n",
    "    \n",
    "    Input:\n",
    "        tasklocations (DataFrame): DataFrame of TaskLocations\n",
    "        atdistnotif (DataFrame): DataFrame of AtDistanceNotificationsSent\n",
    "        atdistresp (DataFrame): DataFrame of AtDistanceNotificationResponses\n",
    "    \n",
    "    Return:\n",
    "        (DataFrame): merged DataFrame of inputs\n",
    "    \"\"\"\n",
    "    # get AtDistanceNotifications\n",
    "    atdistnotif.drop_duplicates(subset=['taskLocationId', 'vendorId'], inplace=True)\n",
    "    atdistnotif.drop(['objectId', 'createdAt', 'updatedAt'], axis=1, inplace=True)\n",
    "\n",
    "    # get AtDistanceNotificationResponses\n",
    "    atdistresp.drop_duplicates(subset=['taskLocationId', 'vendorId'], inplace=True)\n",
    "    atdistresp.drop(['objectId', 'createdAt', 'updatedAt'], axis=1, inplace=True)\n",
    "    \n",
    "    # combine AtDistance notifications and responses, with some data from TaskLocations\n",
    "    atdist = atdistnotif.merge(tasklocations[['objectId', 'beaconId', 'locationName']],\n",
    "                               how='inner', left_on='taskLocationId', right_on='objectId')\n",
    "    atdist = atdist.merge(atdistresp[['emaResponse', 'timestamp', 'taskLocationId', 'vendorId']],\n",
    "                          how='left', on=['taskLocationId', 'vendorId'])\n",
    "    \n",
    "    # clean columns\n",
    "    del atdist['objectId']\n",
    "    atdist.rename(columns={'timestamp_x': 'notificationTimestamp', 'timestamp_y': 'responseTimestamp'}, inplace=True)\n",
    "\n",
    "    atdist_col_ordering = ['taskLocationId', 'vendorId', 'beaconId', 'distanceToLocation', 'bearingToLocation',\n",
    "                           'locationType', 'locationName', 'notificationDistance', 'sentBy', 'infoIncluded',\n",
    "                           'gmtOffset', 'notificationTimestamp', 'emaResponse', 'responseTimestamp']\n",
    "    atdist = atdist[atdist_col_ordering]\n",
    "    \n",
    "    # fill blank columns\n",
    "    atdist['emaResponse'] = atdist['emaResponse'].fillna(value='missed notification')\n",
    "    atdist.loc[atdist['emaResponse'] == 'com.apple.UNNotificationDismissActionIdentifier', 'emaResponse'] = 'dismissed notification'\n",
    "    \n",
    "    atdist['responseTimestamp'] = atdist['responseTimestamp'].fillna(value=-1)\n",
    "\n",
    "    # type columns\n",
    "    atdist_int_cols = ['gmtOffset','notificationTimestamp', 'responseTimestamp']\n",
    "    atdist[atdist_int_cols] = atdist[atdist_int_cols].apply(lambda x: x.astype(np.int64))\n",
    "    \n",
    "    return atdist"
   ]
  },
  {
   "cell_type": "code",
   "execution_count": 11,
   "metadata": {},
   "outputs": [],
   "source": [
    "def get_merged_en_route(tasklocations, enroutenotif, enrouteresp):\n",
    "    \"\"\"\n",
    "    Sets up a Pandas DataFrame with (1) TaskLocation, (2) NotificationSent, and (3) NotificationResponse data\n",
    "    merged together for EnRoute case.\n",
    "    \n",
    "    Input:\n",
    "        tasklocations (DataFrame): DataFrame of TaskLocations\n",
    "        enroutenotif (DataFrame): DataFrame of EnRouteNotificationsSent\n",
    "        enrouteresp (DataFrame): DataFrame of EnRouteNotificationResponses\n",
    "    \n",
    "    Return:\n",
    "        (DataFrame): merged DataFrame of inputs\n",
    "    \"\"\"\n",
    "    pass"
   ]
  },
  {
   "cell_type": "code",
   "execution_count": 12,
   "metadata": {},
   "outputs": [],
   "source": [
    "def get_dead_apps(serverlog):\n",
    "    \"\"\"\n",
    "    Returns a list of lists for dead apps that server has notified.\n",
    "    \n",
    "    Input: \n",
    "        server (DataFrame): DataFrame of ServerLog\n",
    "    \n",
    "    Return:\n",
    "        (list of lists of strings): all dead applications notified via push\n",
    "    \"\"\"\n",
    "    notify_log_strings = serverlog[serverlog['logString'].str.contains('Notified dead')]['logString']\n",
    "    deadapp_notif_list = list(notify_log_strings.apply(lambda x: x[x.find('[') + 1:-1].split(', ')))\n",
    "    return deadapp_notif_list"
   ]
  },
  {
   "cell_type": "markdown",
   "metadata": {},
   "source": [
    "## 4X"
   ]
  },
  {
   "cell_type": "markdown",
   "metadata": {},
   "source": [
    "### Setup Data"
   ]
  },
  {
   "cell_type": "code",
   "execution_count": 13,
   "metadata": {},
   "outputs": [],
   "source": [
    "users_4x = deepcopy(data_4x['_User'])\n",
    "users_4x = users_4x[users_4x['vendorId'] != '']"
   ]
  },
  {
   "cell_type": "code",
   "execution_count": 14,
   "metadata": {},
   "outputs": [
    {
     "name": "stdout",
     "output_type": "stream",
     "text": [
      "Last dead apps notified (count = 15): \n",
      "B58B0DF7-8DA5-4A22-98EF-2AE712D4DB10\n",
      "4B4115BA-BF8C-4F05-9B6E-7862FA08FC5F\n",
      "F57CB6D4-09B3-4796-AE91-2F31BADEE832\n",
      "79CCD350-AAC5-4586-A6FC-1948B49A4B10\n",
      "95674A2B-6954-49C6-9456-A7F865CE686E\n",
      "437A2325-CA4D-4426-9F1A-F89E412A00AC\n",
      "E89FDDC1-0ADA-4249-B9AD-40F24FD9DE30\n",
      "B0686F52-978C-4925-A466-E7A6A765B258\n",
      "53F61BDE-FFC0-476A-AF7B-D592F4155AC8\n",
      "D3D3D1E2-1F39-4AB8-917D-52876AA63830\n",
      "E78771C1-08B3-4483-99D8-4A081E98DABC\n",
      "C89DDEDC-F459-40BA-8073-EAFF7FC53C34\n",
      "FDEFE367-350F-4B8B-898E-710487D51BF4\n",
      "8617CA10-E2AD-4420-B92B-AF170930FDB1\n",
      "203FE158-68A6-496F-B72E-274A4417983A\n"
     ]
    },
    {
     "data": {
      "text/plain": [
       "Counter({'0EC5DDE3-5D78-4025-AC41-EF6EEF9612FC': 1,\n",
       "         '203FE158-68A6-496F-B72E-274A4417983A': 1,\n",
       "         '437A2325-CA4D-4426-9F1A-F89E412A00AC': 1,\n",
       "         '4B4115BA-BF8C-4F05-9B6E-7862FA08FC5F': 2,\n",
       "         '4DFAD945-87C6-4219-B237-7345E7600105': 1,\n",
       "         '53F61BDE-FFC0-476A-AF7B-D592F4155AC8': 2,\n",
       "         '79CCD350-AAC5-4586-A6FC-1948B49A4B10': 2,\n",
       "         '8617CA10-E2AD-4420-B92B-AF170930FDB1': 1,\n",
       "         '95674A2B-6954-49C6-9456-A7F865CE686E': 2,\n",
       "         'B0686F52-978C-4925-A466-E7A6A765B258': 2,\n",
       "         'B58B0DF7-8DA5-4A22-98EF-2AE712D4DB10': 2,\n",
       "         'C89DDEDC-F459-40BA-8073-EAFF7FC53C34': 2,\n",
       "         'D3D3D1E2-1F39-4AB8-917D-52876AA63830': 2,\n",
       "         'E78771C1-08B3-4483-99D8-4A081E98DABC': 2,\n",
       "         'E89FDDC1-0ADA-4249-B9AD-40F24FD9DE30': 2,\n",
       "         'F57CB6D4-09B3-4796-AE91-2F31BADEE832': 2,\n",
       "         'FDEFE367-350F-4B8B-898E-710487D51BF4': 2})"
      ]
     },
     "execution_count": 14,
     "metadata": {},
     "output_type": "execute_result"
    }
   ],
   "source": [
    "serverlog_4x = deepcopy(data_4x['ServerLog'])\n",
    "deadapp_notify_4x = get_dead_apps(serverlog_4x)\n",
    "print('Last dead apps notified (count = {}): \\n{}'.format(len(deadapp_notify_4x[-1]),\n",
    "                                                          '\\n'.join(deadapp_notify_4x[-1])))\n",
    "\n",
    "flattened_deadapps_4x = reduce(lambda x, y: x + y, deadapp_notify_4x, [])\n",
    "Counter(flattened_deadapps_4x)"
   ]
  },
  {
   "cell_type": "code",
   "execution_count": 15,
   "metadata": {},
   "outputs": [],
   "source": [
    "tasklocations_4x = deepcopy(data_4x['TaskLocations'])\n",
    "\n",
    "atlocnotif_4x = deepcopy(data_4x['AtLocationNotificationsSent'])\n",
    "atlocresp_4x = deepcopy(data_4x['AtLocationNotificationResponses'])\n",
    "\n",
    "atdistnotif_4x = deepcopy(data_4x['AtDistanceNotificationsSent'])\n",
    "atdistresp_4x = deepcopy(data_4x['AtDistanceNotificationResponses'])\n",
    "\n",
    "enroutenotif_4x = deepcopy(data_4x['EnRouteNotificationsSent'])\n",
    "enrouteresp_4x = deepcopy(data_4x['EnRouteNotificationResponses'])"
   ]
  },
  {
   "cell_type": "code",
   "execution_count": 16,
   "metadata": {},
   "outputs": [],
   "source": [
    "# merged data frame with all AtLocation data\n",
    "atloc_4x = get_merged_at_location(deepcopy(tasklocations_4x),\n",
    "                                  deepcopy(atlocnotif_4x),\n",
    "                                  deepcopy(atlocresp_4x))"
   ]
  },
  {
   "cell_type": "code",
   "execution_count": 17,
   "metadata": {},
   "outputs": [],
   "source": [
    "# merged data frame with all AtDistance data\n",
    "atdist_4x = get_merged_at_distance(deepcopy(tasklocations_4x),\n",
    "                                   deepcopy(atdistnotif_4x),\n",
    "                                   deepcopy(atdistresp_4x))\n",
    "atdist_4x = atdist_4x[atdist_4x['infoIncluded']] # 4X Only: remove cases without info"
   ]
  },
  {
   "cell_type": "markdown",
   "metadata": {},
   "source": [
    "### Analyze Response Rates"
   ]
  },
  {
   "cell_type": "markdown",
   "metadata": {},
   "source": [
    "#### At Location"
   ]
  },
  {
   "cell_type": "code",
   "execution_count": 18,
   "metadata": {},
   "outputs": [
    {
     "data": {
      "text/html": [
       "<div>\n",
       "<style scoped>\n",
       "    .dataframe tbody tr th:only-of-type {\n",
       "        vertical-align: middle;\n",
       "    }\n",
       "\n",
       "    .dataframe tbody tr th {\n",
       "        vertical-align: top;\n",
       "    }\n",
       "\n",
       "    .dataframe thead th {\n",
       "        text-align: right;\n",
       "    }\n",
       "</style>\n",
       "<table border=\"1\" class=\"dataframe\">\n",
       "  <thead>\n",
       "    <tr style=\"text-align: right;\">\n",
       "      <th></th>\n",
       "      <th>remappedResponses</th>\n",
       "      <th>count</th>\n",
       "      <th>percentage</th>\n",
       "    </tr>\n",
       "  </thead>\n",
       "  <tbody>\n",
       "    <tr>\n",
       "      <th>0</th>\n",
       "      <td>I don't know</td>\n",
       "      <td>10</td>\n",
       "      <td>22.222222</td>\n",
       "    </tr>\n",
       "    <tr>\n",
       "      <th>1</th>\n",
       "      <td>missed notification</td>\n",
       "      <td>14</td>\n",
       "      <td>31.111111</td>\n",
       "    </tr>\n",
       "    <tr>\n",
       "      <th>2</th>\n",
       "      <td>valid response</td>\n",
       "      <td>21</td>\n",
       "      <td>46.666667</td>\n",
       "    </tr>\n",
       "    <tr>\n",
       "      <th>3</th>\n",
       "      <td>total</td>\n",
       "      <td>45</td>\n",
       "      <td>100.000000</td>\n",
       "    </tr>\n",
       "  </tbody>\n",
       "</table>\n",
       "</div>"
      ],
      "text/plain": [
       "     remappedResponses  count  percentage\n",
       "0         I don't know     10   22.222222\n",
       "1  missed notification     14   31.111111\n",
       "2       valid response     21   46.666667\n",
       "3                total     45  100.000000"
      ]
     },
     "execution_count": 18,
     "metadata": {},
     "output_type": "execute_result"
    }
   ],
   "source": [
    "atloc_4x_prop = atloc_4x.groupby(['remappedResponses'])['remappedResponses'].count().reset_index(name='count')\n",
    "atloc_4x_prop['percentage'] = 100.0 * atloc_4x_prop['count'] / sum(atloc_4x_prop['count'])\n",
    "atloc_4x_prop.loc[len(atloc_4x_prop)] = ['total', sum(atloc_4x_prop['count']), 100.0]\n",
    "atloc_4x_prop"
   ]
  },
  {
   "cell_type": "code",
   "execution_count": 19,
   "metadata": {},
   "outputs": [
    {
     "name": "stdout",
     "output_type": "stream",
     "text": [
      "Unique number of users notified: 20\n"
     ]
    }
   ],
   "source": [
    "print('Unique number of users notified: {}'.format(len(atloc_4x['vendorId'].unique())))"
   ]
  },
  {
   "cell_type": "markdown",
   "metadata": {},
   "source": [
    "#### At Distance"
   ]
  },
  {
   "cell_type": "code",
   "execution_count": 20,
   "metadata": {},
   "outputs": [
    {
     "data": {
      "text/html": [
       "<div>\n",
       "<style scoped>\n",
       "    .dataframe tbody tr th:only-of-type {\n",
       "        vertical-align: middle;\n",
       "    }\n",
       "\n",
       "    .dataframe tbody tr th {\n",
       "        vertical-align: top;\n",
       "    }\n",
       "\n",
       "    .dataframe thead th {\n",
       "        text-align: right;\n",
       "    }\n",
       "</style>\n",
       "<table border=\"1\" class=\"dataframe\">\n",
       "  <thead>\n",
       "    <tr style=\"text-align: right;\">\n",
       "      <th></th>\n",
       "      <th>emaResponse</th>\n",
       "      <th>count</th>\n",
       "      <th>percentage</th>\n",
       "    </tr>\n",
       "  </thead>\n",
       "  <tbody>\n",
       "    <tr>\n",
       "      <th>0</th>\n",
       "      <td>No. This info is useful but I have to be somew...</td>\n",
       "      <td>4</td>\n",
       "      <td>40.0</td>\n",
       "    </tr>\n",
       "    <tr>\n",
       "      <th>1</th>\n",
       "      <td>No. This info isn't useful to me.</td>\n",
       "      <td>2</td>\n",
       "      <td>20.0</td>\n",
       "    </tr>\n",
       "    <tr>\n",
       "      <th>2</th>\n",
       "      <td>Yes! This info is useful, I'm going now.</td>\n",
       "      <td>2</td>\n",
       "      <td>20.0</td>\n",
       "    </tr>\n",
       "    <tr>\n",
       "      <th>3</th>\n",
       "      <td>missed notification</td>\n",
       "      <td>2</td>\n",
       "      <td>20.0</td>\n",
       "    </tr>\n",
       "    <tr>\n",
       "      <th>4</th>\n",
       "      <td>total</td>\n",
       "      <td>10</td>\n",
       "      <td>100.0</td>\n",
       "    </tr>\n",
       "  </tbody>\n",
       "</table>\n",
       "</div>"
      ],
      "text/plain": [
       "                                         emaResponse  count  percentage\n",
       "0  No. This info is useful but I have to be somew...      4        40.0\n",
       "1                  No. This info isn't useful to me.      2        20.0\n",
       "2           Yes! This info is useful, I'm going now.      2        20.0\n",
       "3                                missed notification      2        20.0\n",
       "4                                              total     10       100.0"
      ]
     },
     "execution_count": 20,
     "metadata": {},
     "output_type": "execute_result"
    }
   ],
   "source": [
    "atdist_4x_prop = atdist_4x.groupby(['emaResponse'])['emaResponse'].count().reset_index(name='count')\n",
    "atdist_4x_prop['percentage'] = 100.0 * atdist_4x_prop['count'] / sum(atdist_4x_prop['count'])\n",
    "atdist_4x_prop.loc[len(atdist_4x_prop)] = ['total', sum(atdist_4x_prop['count']), 100.0]\n",
    "atdist_4x_prop"
   ]
  },
  {
   "cell_type": "code",
   "execution_count": 21,
   "metadata": {},
   "outputs": [
    {
     "name": "stdout",
     "output_type": "stream",
     "text": [
      "Unique number of users notified: 9\n"
     ]
    }
   ],
   "source": [
    "print('Unique number of users notified: {}'.format(len(atdist_4x['vendorId'].unique())))"
   ]
  },
  {
   "cell_type": "markdown",
   "metadata": {},
   "source": [
    "## Opp at Distance"
   ]
  },
  {
   "cell_type": "markdown",
   "metadata": {},
   "source": [
    "### Setup Data"
   ]
  },
  {
   "cell_type": "code",
   "execution_count": 22,
   "metadata": {},
   "outputs": [],
   "source": [
    "users_opp_dist = deepcopy(data_opp_dist['_User'])\n",
    "users_opp_dist = users_opp_dist[users_opp_dist['vendorId'] != '']"
   ]
  },
  {
   "cell_type": "code",
   "execution_count": 23,
   "metadata": {},
   "outputs": [
    {
     "name": "stdout",
     "output_type": "stream",
     "text": [
      "Last dead apps notified (count = 20): \n",
      "D1338E4F-A39D-4D48-9E13-0C9535B27DA4\n",
      "EA5C3169-A161-4909-8FFE-E7AD76A3CD3F\n",
      "A376DA22-0D0E-4E61-B554-BB011B20C205\n",
      "64F010DE-D544-4F83-944A-6551C9998E91\n",
      "8EE01978-8AD4-410E-9F5F-B20E93875ACD\n",
      "B40B49C0-B139-49B3-A36D-52EEB62932FF\n",
      "2D6F0F67-8F47-4A28-9AB0-7EE0BC7F137A\n",
      "B2F59A67-D682-4367-AE96-632E3EA75D06\n",
      "35CAF927-52EC-4AD9-AB9A-57A8A12CCAB3\n",
      "6E39791E-43F3-48BD-88AD-1E50EAB27E2B\n",
      "B3342593-A72F-4715-B728-F82852432A4C\n",
      "EBF44F57-9592-4E01-9EDE-62AA5B47C7DA\n",
      "2C92D8B2-025C-4D03-A52E-1C82AD780228\n",
      "C64D469A-DA02-42EC-BE97-B767F00C26CE\n",
      "F9E6F4F2-061C-4AD2-9EDD-5B448A2ACFD2\n",
      "64C31BCA-FB95-4D89-9774-0DDE7FC1B63F\n",
      "3153A147-D884-43E2-B37F-028A3C7A1F4C\n",
      "EDB4A5DC-C43D-4064-BBB9-2C6BE19BF819\n",
      "1F8A8384-CF46-42E2-AECF-1427DB1CE7AF\n",
      "BA9EAAA9-D5F3-409B-B301-E14B30CE2ED7\n"
     ]
    },
    {
     "data": {
      "text/plain": [
       "Counter({'1F8A8384-CF46-42E2-AECF-1427DB1CE7AF': 2,\n",
       "         '2C92D8B2-025C-4D03-A52E-1C82AD780228': 2,\n",
       "         '2D6F0F67-8F47-4A28-9AB0-7EE0BC7F137A': 2,\n",
       "         '3153A147-D884-43E2-B37F-028A3C7A1F4C': 2,\n",
       "         '35CAF927-52EC-4AD9-AB9A-57A8A12CCAB3': 1,\n",
       "         '64C31BCA-FB95-4D89-9774-0DDE7FC1B63F': 1,\n",
       "         '64F010DE-D544-4F83-944A-6551C9998E91': 2,\n",
       "         '6E39791E-43F3-48BD-88AD-1E50EAB27E2B': 2,\n",
       "         '8EE01978-8AD4-410E-9F5F-B20E93875ACD': 2,\n",
       "         'A376DA22-0D0E-4E61-B554-BB011B20C205': 2,\n",
       "         'B2F59A67-D682-4367-AE96-632E3EA75D06': 2,\n",
       "         'B3342593-A72F-4715-B728-F82852432A4C': 2,\n",
       "         'B40B49C0-B139-49B3-A36D-52EEB62932FF': 2,\n",
       "         'BA9EAAA9-D5F3-409B-B301-E14B30CE2ED7': 2,\n",
       "         'C64D469A-DA02-42EC-BE97-B767F00C26CE': 2,\n",
       "         'CC2C3B56-3429-41E3-A575-C95B062FA175': 1,\n",
       "         'D1338E4F-A39D-4D48-9E13-0C9535B27DA4': 2,\n",
       "         'EA5C3169-A161-4909-8FFE-E7AD76A3CD3F': 2,\n",
       "         'EBF44F57-9592-4E01-9EDE-62AA5B47C7DA': 2,\n",
       "         'EDB4A5DC-C43D-4064-BBB9-2C6BE19BF819': 2,\n",
       "         'F9E6F4F2-061C-4AD2-9EDD-5B448A2ACFD2': 2})"
      ]
     },
     "execution_count": 23,
     "metadata": {},
     "output_type": "execute_result"
    }
   ],
   "source": [
    "serverlog_opp_dist = deepcopy(data_opp_dist['ServerLog'])\n",
    "deadapp_notify_opp_dist = get_dead_apps(serverlog_opp_dist)\n",
    "print('Last dead apps notified (count = {}): \\n{}'.format(len(deadapp_notify_opp_dist[-1]),\n",
    "                                                          '\\n'.join(deadapp_notify_opp_dist[-1])))\n",
    "\n",
    "flattened_deadapps_opp_dist = reduce(lambda x, y: x + y, deadapp_notify_opp_dist, [])\n",
    "Counter(flattened_deadapps_opp_dist)"
   ]
  },
  {
   "cell_type": "code",
   "execution_count": 24,
   "metadata": {},
   "outputs": [],
   "source": [
    "tasklocations_opp_dist = deepcopy(data_opp_dist['TaskLocations'])\n",
    "\n",
    "atlocnotif_opp_dist = deepcopy(data_opp_dist['AtLocationNotificationsSent'])\n",
    "atlocresp_opp_dist = deepcopy(data_opp_dist['AtLocationNotificationResponses'])\n",
    "\n",
    "atdistnotif_opp_dist = deepcopy(data_opp_dist['AtDistanceNotificationsSent'])\n",
    "atdistresp_opp_dist = deepcopy(data_opp_dist['AtDistanceNotificationResponses'])"
   ]
  },
  {
   "cell_type": "code",
   "execution_count": 25,
   "metadata": {},
   "outputs": [],
   "source": [
    "# merged data frame with all AtLocation data\n",
    "atloc_opp_dist = get_merged_at_location(deepcopy(tasklocations_opp_dist),\n",
    "                                        deepcopy(atlocnotif_opp_dist),\n",
    "                                        deepcopy(atlocresp_opp_dist))"
   ]
  },
  {
   "cell_type": "code",
   "execution_count": 26,
   "metadata": {},
   "outputs": [],
   "source": [
    "# merged data frame with all AtDistance data\n",
    "atdist_opp_dist = get_merged_at_distance(deepcopy(tasklocations_opp_dist),\n",
    "                                         deepcopy(atdistnotif_opp_dist),\n",
    "                                         deepcopy(atdistresp_opp_dist))"
   ]
  },
  {
   "cell_type": "markdown",
   "metadata": {},
   "source": [
    "### Analyze Response Rate"
   ]
  },
  {
   "cell_type": "markdown",
   "metadata": {},
   "source": [
    "#### At Location"
   ]
  },
  {
   "cell_type": "code",
   "execution_count": 27,
   "metadata": {},
   "outputs": [
    {
     "data": {
      "text/html": [
       "<div>\n",
       "<style scoped>\n",
       "    .dataframe tbody tr th:only-of-type {\n",
       "        vertical-align: middle;\n",
       "    }\n",
       "\n",
       "    .dataframe tbody tr th {\n",
       "        vertical-align: top;\n",
       "    }\n",
       "\n",
       "    .dataframe thead th {\n",
       "        text-align: right;\n",
       "    }\n",
       "</style>\n",
       "<table border=\"1\" class=\"dataframe\">\n",
       "  <thead>\n",
       "    <tr style=\"text-align: right;\">\n",
       "      <th></th>\n",
       "      <th>remappedResponses</th>\n",
       "      <th>count</th>\n",
       "      <th>percentage</th>\n",
       "    </tr>\n",
       "  </thead>\n",
       "  <tbody>\n",
       "    <tr>\n",
       "      <th>0</th>\n",
       "      <td>I don't know</td>\n",
       "      <td>3</td>\n",
       "      <td>6.250000</td>\n",
       "    </tr>\n",
       "    <tr>\n",
       "      <th>1</th>\n",
       "      <td>missed notification</td>\n",
       "      <td>11</td>\n",
       "      <td>22.916667</td>\n",
       "    </tr>\n",
       "    <tr>\n",
       "      <th>2</th>\n",
       "      <td>valid response</td>\n",
       "      <td>34</td>\n",
       "      <td>70.833333</td>\n",
       "    </tr>\n",
       "    <tr>\n",
       "      <th>3</th>\n",
       "      <td>total</td>\n",
       "      <td>48</td>\n",
       "      <td>100.000000</td>\n",
       "    </tr>\n",
       "  </tbody>\n",
       "</table>\n",
       "</div>"
      ],
      "text/plain": [
       "     remappedResponses  count  percentage\n",
       "0         I don't know      3    6.250000\n",
       "1  missed notification     11   22.916667\n",
       "2       valid response     34   70.833333\n",
       "3                total     48  100.000000"
      ]
     },
     "execution_count": 27,
     "metadata": {},
     "output_type": "execute_result"
    }
   ],
   "source": [
    "atloc_opp_dist_prop = atloc_opp_dist.groupby(['remappedResponses'])['remappedResponses'].count().reset_index(name='count')\n",
    "atloc_opp_dist_prop['percentage'] = 100.0 * atloc_opp_dist_prop['count'] / sum(atloc_opp_dist_prop['count'])\n",
    "atloc_opp_dist_prop.loc[len(atloc_opp_dist_prop)] = ['total', sum(atloc_opp_dist_prop['count']), 100.0]\n",
    "atloc_opp_dist_prop"
   ]
  },
  {
   "cell_type": "code",
   "execution_count": 28,
   "metadata": {},
   "outputs": [
    {
     "name": "stdout",
     "output_type": "stream",
     "text": [
      "Unique number of users notified: 17\n"
     ]
    }
   ],
   "source": [
    "print('Unique number of users notified: {}'.format(len(atloc_opp_dist['vendorId'].unique())))"
   ]
  },
  {
   "cell_type": "markdown",
   "metadata": {},
   "source": [
    "#### At Distance (with info)"
   ]
  },
  {
   "cell_type": "code",
   "execution_count": 29,
   "metadata": {},
   "outputs": [
    {
     "data": {
      "text/html": [
       "<div>\n",
       "<style scoped>\n",
       "    .dataframe tbody tr th:only-of-type {\n",
       "        vertical-align: middle;\n",
       "    }\n",
       "\n",
       "    .dataframe tbody tr th {\n",
       "        vertical-align: top;\n",
       "    }\n",
       "\n",
       "    .dataframe thead th {\n",
       "        text-align: right;\n",
       "    }\n",
       "</style>\n",
       "<table border=\"1\" class=\"dataframe\">\n",
       "  <thead>\n",
       "    <tr style=\"text-align: right;\">\n",
       "      <th></th>\n",
       "      <th>emaResponse</th>\n",
       "      <th>count</th>\n",
       "      <th>percentage</th>\n",
       "    </tr>\n",
       "  </thead>\n",
       "  <tbody>\n",
       "    <tr>\n",
       "      <th>0</th>\n",
       "      <td>No. This info is useful but I have to be somew...</td>\n",
       "      <td>12</td>\n",
       "      <td>54.545455</td>\n",
       "    </tr>\n",
       "    <tr>\n",
       "      <th>1</th>\n",
       "      <td>No. This info isn't useful to me.</td>\n",
       "      <td>2</td>\n",
       "      <td>9.090909</td>\n",
       "    </tr>\n",
       "    <tr>\n",
       "      <th>2</th>\n",
       "      <td>missed notification</td>\n",
       "      <td>8</td>\n",
       "      <td>36.363636</td>\n",
       "    </tr>\n",
       "    <tr>\n",
       "      <th>3</th>\n",
       "      <td>total</td>\n",
       "      <td>22</td>\n",
       "      <td>100.000000</td>\n",
       "    </tr>\n",
       "  </tbody>\n",
       "</table>\n",
       "</div>"
      ],
      "text/plain": [
       "                                         emaResponse  count  percentage\n",
       "0  No. This info is useful but I have to be somew...     12   54.545455\n",
       "1                  No. This info isn't useful to me.      2    9.090909\n",
       "2                                missed notification      8   36.363636\n",
       "3                                              total     22  100.000000"
      ]
     },
     "execution_count": 29,
     "metadata": {},
     "output_type": "execute_result"
    }
   ],
   "source": [
    "atdist_opp_dist_prop_info = atdist_opp_dist[atdist_opp_dist['infoIncluded']].groupby(['emaResponse'])['emaResponse'].count().reset_index(name='count')\n",
    "atdist_opp_dist_prop_info['percentage'] = 100.0 * atdist_opp_dist_prop_info['count'] / sum(atdist_opp_dist_prop_info['count'])\n",
    "atdist_opp_dist_prop_info.loc[len(atdist_opp_dist_prop_info)] = ['total', sum(atdist_opp_dist_prop_info['count']), 100.0]\n",
    "atdist_opp_dist_prop_info"
   ]
  },
  {
   "cell_type": "code",
   "execution_count": 30,
   "metadata": {},
   "outputs": [
    {
     "name": "stdout",
     "output_type": "stream",
     "text": [
      "Unique number of users notified: 14\n"
     ]
    }
   ],
   "source": [
    "print('Unique number of users notified: {}'.format(len(atdist_opp_dist[atdist_opp_dist['infoIncluded']]['vendorId'].unique())))"
   ]
  },
  {
   "cell_type": "markdown",
   "metadata": {},
   "source": [
    "#### At Distance (no info)"
   ]
  },
  {
   "cell_type": "code",
   "execution_count": 31,
   "metadata": {},
   "outputs": [
    {
     "data": {
      "text/html": [
       "<div>\n",
       "<style scoped>\n",
       "    .dataframe tbody tr th:only-of-type {\n",
       "        vertical-align: middle;\n",
       "    }\n",
       "\n",
       "    .dataframe tbody tr th {\n",
       "        vertical-align: top;\n",
       "    }\n",
       "\n",
       "    .dataframe thead th {\n",
       "        text-align: right;\n",
       "    }\n",
       "</style>\n",
       "<table border=\"1\" class=\"dataframe\">\n",
       "  <thead>\n",
       "    <tr style=\"text-align: right;\">\n",
       "      <th></th>\n",
       "      <th>emaResponse</th>\n",
       "      <th>count</th>\n",
       "      <th>percentage</th>\n",
       "    </tr>\n",
       "  </thead>\n",
       "  <tbody>\n",
       "    <tr>\n",
       "      <th>0</th>\n",
       "      <td>No. I don't want to go out of my way there.</td>\n",
       "      <td>28</td>\n",
       "      <td>28.571429</td>\n",
       "    </tr>\n",
       "    <tr>\n",
       "      <th>1</th>\n",
       "      <td>No. Other reason.</td>\n",
       "      <td>12</td>\n",
       "      <td>12.244898</td>\n",
       "    </tr>\n",
       "    <tr>\n",
       "      <th>2</th>\n",
       "      <td>Sure! I would be happy to go out of my way!</td>\n",
       "      <td>1</td>\n",
       "      <td>1.020408</td>\n",
       "    </tr>\n",
       "    <tr>\n",
       "      <th>3</th>\n",
       "      <td>Sure, but I was going to walk past it anyway.</td>\n",
       "      <td>3</td>\n",
       "      <td>3.061224</td>\n",
       "    </tr>\n",
       "    <tr>\n",
       "      <th>4</th>\n",
       "      <td>dismissed notification</td>\n",
       "      <td>4</td>\n",
       "      <td>4.081633</td>\n",
       "    </tr>\n",
       "    <tr>\n",
       "      <th>5</th>\n",
       "      <td>missed notification</td>\n",
       "      <td>50</td>\n",
       "      <td>51.020408</td>\n",
       "    </tr>\n",
       "    <tr>\n",
       "      <th>6</th>\n",
       "      <td>total</td>\n",
       "      <td>98</td>\n",
       "      <td>100.000000</td>\n",
       "    </tr>\n",
       "  </tbody>\n",
       "</table>\n",
       "</div>"
      ],
      "text/plain": [
       "                                     emaResponse  count  percentage\n",
       "0    No. I don't want to go out of my way there.     28   28.571429\n",
       "1                              No. Other reason.     12   12.244898\n",
       "2    Sure! I would be happy to go out of my way!      1    1.020408\n",
       "3  Sure, but I was going to walk past it anyway.      3    3.061224\n",
       "4                         dismissed notification      4    4.081633\n",
       "5                            missed notification     50   51.020408\n",
       "6                                          total     98  100.000000"
      ]
     },
     "execution_count": 31,
     "metadata": {},
     "output_type": "execute_result"
    }
   ],
   "source": [
    "atdist_opp_dist_prop_no_info = atdist_opp_dist[~atdist_opp_dist['infoIncluded']].groupby(['emaResponse'])['emaResponse'].count().reset_index(name='count')\n",
    "atdist_opp_dist_prop_no_info['percentage'] = 100.0 * atdist_opp_dist_prop_no_info['count'] / sum(atdist_opp_dist_prop_no_info['count'])\n",
    "atdist_opp_dist_prop_no_info.loc[len(atdist_opp_dist_prop_no_info)] = ['total', sum(atdist_opp_dist_prop_no_info['count']), 100.0]\n",
    "atdist_opp_dist_prop_no_info"
   ]
  },
  {
   "cell_type": "code",
   "execution_count": 32,
   "metadata": {},
   "outputs": [
    {
     "name": "stdout",
     "output_type": "stream",
     "text": [
      "Unique number of users notified: 28\n"
     ]
    }
   ],
   "source": [
    "print('Unique number of users notified: {}'.format(len(atdist_opp_dist[~atdist_opp_dist['infoIncluded']]['vendorId'].unique())))"
   ]
  },
  {
   "cell_type": "markdown",
   "metadata": {},
   "source": [
    "## Opp at Location"
   ]
  },
  {
   "cell_type": "markdown",
   "metadata": {},
   "source": [
    "### Setup Data"
   ]
  },
  {
   "cell_type": "code",
   "execution_count": 33,
   "metadata": {},
   "outputs": [],
   "source": [
    "users_opp_loc = deepcopy(data_opp_loc['_User'])\n",
    "users_opp_loc = users_opp_loc[users_opp_loc['vendorId'] != '']"
   ]
  },
  {
   "cell_type": "code",
   "execution_count": 34,
   "metadata": {},
   "outputs": [
    {
     "name": "stdout",
     "output_type": "stream",
     "text": [
      "Last dead apps notified (count = 13): \n",
      "CD759DCB-AA44-4130-A246-703F1AD5DBB9\n",
      "91237D64-CE23-46F5-B622-59FC927DA643\n",
      "B2ABB039-3AD4-4C69-BC1E-3917A843EA9A\n",
      "566EBB40-146B-4C6C-BA3E-49E5FB735E87\n",
      "4D948452-9913-4A94-BFF2-67039C8B86AE\n",
      "4D09BB7A-921E-43C3-B2A9-E65784776B57\n",
      "316B7E89-E085-44B3-ACD0-EAA3E4B815C5\n",
      "FFC6D8AB-EA05-46D6-9701-68A49BB2A556\n",
      "4EA8A226-13F4-4015-BEAF-657D948E8839\n",
      "9EF07688-0D43-4E38-970A-F09D2D4CAF36\n",
      "9E65FEFD-F7CA-4647-A3B8-8C35E9D00699\n",
      "A7345311-5DC8-4C0A-B882-FD78ED62AE1B\n",
      "15DF333A-774A-492A-9E83-7FAD841F2B65\n"
     ]
    },
    {
     "data": {
      "text/plain": [
       "Counter({'15DF333A-774A-492A-9E83-7FAD841F2B65': 2,\n",
       "         '316B7E89-E085-44B3-ACD0-EAA3E4B815C5': 1,\n",
       "         '4D09BB7A-921E-43C3-B2A9-E65784776B57': 2,\n",
       "         '4D948452-9913-4A94-BFF2-67039C8B86AE': 2,\n",
       "         '4EA8A226-13F4-4015-BEAF-657D948E8839': 2,\n",
       "         '566EBB40-146B-4C6C-BA3E-49E5FB735E87': 2,\n",
       "         '8617CA10-E2AD-4420-B92B-AF170930FDB1': 1,\n",
       "         '91237D64-CE23-46F5-B622-59FC927DA643': 2,\n",
       "         '9E65FEFD-F7CA-4647-A3B8-8C35E9D00699': 2,\n",
       "         '9EF07688-0D43-4E38-970A-F09D2D4CAF36': 2,\n",
       "         'A7345311-5DC8-4C0A-B882-FD78ED62AE1B': 2,\n",
       "         'B2ABB039-3AD4-4C69-BC1E-3917A843EA9A': 1,\n",
       "         'B5A1599B-18DB-4842-86BB-F1D6E938FFD2': 1,\n",
       "         'C62677A5-66FF-42F4-8F06-DD63BF8ADCB7': 1,\n",
       "         'CD759DCB-AA44-4130-A246-703F1AD5DBB9': 1,\n",
       "         'FFC6D8AB-EA05-46D6-9701-68A49BB2A556': 2})"
      ]
     },
     "execution_count": 34,
     "metadata": {},
     "output_type": "execute_result"
    }
   ],
   "source": [
    "serverlog_opp_loc = deepcopy(data_opp_loc['ServerLog'])\n",
    "deadapp_notify_opp_loc = get_dead_apps(serverlog_opp_loc)\n",
    "print('Last dead apps notified (count = {}): \\n{}'.format(len(deadapp_notify_opp_loc[-1]),\n",
    "                                                          '\\n'.join(deadapp_notify_opp_loc[-1])))\n",
    "\n",
    "flattened_deadapps_opp_loc = reduce(lambda x, y: x + y, deadapp_notify_opp_loc, [])\n",
    "Counter(flattened_deadapps_opp_loc)"
   ]
  },
  {
   "cell_type": "code",
   "execution_count": 35,
   "metadata": {},
   "outputs": [],
   "source": [
    "tasklocations_opp_loc = deepcopy(data_opp_loc['TaskLocations'])\n",
    "\n",
    "atlocnotif_opp_loc = deepcopy(data_opp_loc['AtLocationNotificationsSent'])\n",
    "atlocresp_opp_loc = deepcopy(data_opp_loc['AtLocationNotificationResponses'])"
   ]
  },
  {
   "cell_type": "code",
   "execution_count": 36,
   "metadata": {},
   "outputs": [],
   "source": [
    "# merged data frame with all AtLocation data\n",
    "atloc_opp_loc = get_merged_at_location(deepcopy(tasklocations_opp_loc),\n",
    "                                        deepcopy(atlocnotif_opp_loc),\n",
    "                                        deepcopy(atlocresp_opp_loc))"
   ]
  },
  {
   "cell_type": "markdown",
   "metadata": {},
   "source": [
    "### Analyze Response Rate"
   ]
  },
  {
   "cell_type": "markdown",
   "metadata": {},
   "source": [
    "#### At Location"
   ]
  },
  {
   "cell_type": "code",
   "execution_count": 37,
   "metadata": {},
   "outputs": [
    {
     "data": {
      "text/html": [
       "<div>\n",
       "<style scoped>\n",
       "    .dataframe tbody tr th:only-of-type {\n",
       "        vertical-align: middle;\n",
       "    }\n",
       "\n",
       "    .dataframe tbody tr th {\n",
       "        vertical-align: top;\n",
       "    }\n",
       "\n",
       "    .dataframe thead th {\n",
       "        text-align: right;\n",
       "    }\n",
       "</style>\n",
       "<table border=\"1\" class=\"dataframe\">\n",
       "  <thead>\n",
       "    <tr style=\"text-align: right;\">\n",
       "      <th></th>\n",
       "      <th>remappedResponses</th>\n",
       "      <th>count</th>\n",
       "      <th>percentage</th>\n",
       "    </tr>\n",
       "  </thead>\n",
       "  <tbody>\n",
       "    <tr>\n",
       "      <th>0</th>\n",
       "      <td>I don't know</td>\n",
       "      <td>10</td>\n",
       "      <td>17.543860</td>\n",
       "    </tr>\n",
       "    <tr>\n",
       "      <th>1</th>\n",
       "      <td>dismissed notification</td>\n",
       "      <td>3</td>\n",
       "      <td>5.263158</td>\n",
       "    </tr>\n",
       "    <tr>\n",
       "      <th>2</th>\n",
       "      <td>missed notification</td>\n",
       "      <td>8</td>\n",
       "      <td>14.035088</td>\n",
       "    </tr>\n",
       "    <tr>\n",
       "      <th>3</th>\n",
       "      <td>valid response</td>\n",
       "      <td>36</td>\n",
       "      <td>63.157895</td>\n",
       "    </tr>\n",
       "    <tr>\n",
       "      <th>4</th>\n",
       "      <td>total</td>\n",
       "      <td>57</td>\n",
       "      <td>100.000000</td>\n",
       "    </tr>\n",
       "  </tbody>\n",
       "</table>\n",
       "</div>"
      ],
      "text/plain": [
       "        remappedResponses  count  percentage\n",
       "0            I don't know     10   17.543860\n",
       "1  dismissed notification      3    5.263158\n",
       "2     missed notification      8   14.035088\n",
       "3          valid response     36   63.157895\n",
       "4                   total     57  100.000000"
      ]
     },
     "execution_count": 37,
     "metadata": {},
     "output_type": "execute_result"
    }
   ],
   "source": [
    "atloc_opp_loc_prop = atloc_opp_loc.groupby(['remappedResponses'])['remappedResponses'].count().reset_index(name='count')\n",
    "atloc_opp_loc_prop['percentage'] = 100.0 * atloc_opp_loc_prop['count'] / sum(atloc_opp_loc_prop['count'])\n",
    "atloc_opp_loc_prop.loc[len(atloc_opp_loc_prop)] = ['total', sum(atloc_opp_loc_prop['count']), 100.0]\n",
    "atloc_opp_loc_prop"
   ]
  },
  {
   "cell_type": "code",
   "execution_count": 38,
   "metadata": {},
   "outputs": [
    {
     "name": "stdout",
     "output_type": "stream",
     "text": [
      "Unique number of users notified: 25\n"
     ]
    }
   ],
   "source": [
    "print('Unique number of users notified: {}'.format(len(atloc_opp_loc['vendorId'].unique())))"
   ]
  }
 ],
 "metadata": {
  "kernelspec": {
   "display_name": "Python 3",
   "language": "python",
   "name": "python3"
  },
  "language_info": {
   "codemirror_mode": {
    "name": "ipython",
    "version": 3
   },
   "file_extension": ".py",
   "mimetype": "text/x-python",
   "name": "python",
   "nbconvert_exporter": "python",
   "pygments_lexer": "ipython3",
   "version": "3.6.4"
  }
 },
 "nbformat": 4,
 "nbformat_minor": 2
}
