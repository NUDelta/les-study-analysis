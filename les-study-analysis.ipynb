{
 "cells": [
  {
   "cell_type": "code",
   "execution_count": 9,
   "metadata": {
    "collapsed": true
   },
   "outputs": [],
   "source": [
    "import requests\n",
    "import json\n",
    "import pandas as pd\n",
    "import numpy as np\n",
    "import datetime\n",
    "\n",
    "from __future__ import division"
   ]
  },
  {
   "cell_type": "markdown",
   "metadata": {},
   "source": [
    "# Load in all data\n",
    "### Read in data from database and configure column types."
   ]
  },
  {
   "cell_type": "code",
   "execution_count": 10,
   "metadata": {
    "collapsed": false
   },
   "outputs": [],
   "source": [
    "# URL and header for Parse\n",
    "base_url = 'https://api.parse.com/1/classes/'\n",
    "header = {'X-Parse-Application-Id': 'PkngqKtJygU9WiQ1GXM9eC0a17tKmioKKmpWftYr',\n",
    "          'X-Parse-REST-API-Key': 'ptZAL499EEcmwIrghLTyg3IDB2jqHA3vV4AFp0Bh'}\n",
    "data = {'limit': '1000'}\n",
    "\n",
    "# hotspots\n",
    "resp = requests.get(base_url + 'hotspot', headers=header, data=data)\n",
    "hotspots = pd.DataFrame(resp.json()['results'])\n",
    "\n",
    "hotspot_string_cols = ['objectId', 'vendorId', 'archiver', 'locationCommonName', \\\n",
    "                       'tag', 'submissionMethod', 'beaconId']\n",
    "hotspots['createdAt'] = (pd.to_datetime(hotspots['createdAt']).astype(np.int64) // 10**9) + hotspots['gmtOffset']\n",
    "hotspots['updatedAt'] = (pd.to_datetime(hotspots['updatedAt']).astype(np.int64) // 10**9) + hotspots['gmtOffset']\n",
    "hotspots[hotspot_string_cols] = hotspots[hotspot_string_cols].astype(str)\n",
    "\n",
    "# sent notifications\n",
    "resp = requests.get(base_url + 'notificationSent', headers=header, data = {'limit': '1000'})\n",
    "notification_sent = pd.DataFrame(resp.json()['results'])\n",
    "\n",
    "notification_sent_string_cols = ['objectId', 'vendorId', 'hotspotId', 'notificationString']\n",
    "notification_sent['createdAt'] = (pd.to_datetime(notification_sent['createdAt']).astype(np.int64) // 10**9) + \\\n",
    "                                  notification_sent['gmtOffset']\n",
    "notification_sent['updatedAt'] = (pd.to_datetime(notification_sent['updatedAt']).astype(np.int64) // 10**9) + \\\n",
    "                                  notification_sent['gmtOffset']\n",
    "notification_sent[notification_sent_string_cols] = notification_sent[notification_sent_string_cols].astype(str)\n",
    "\n",
    "# notification responses\n",
    "resp = requests.get(base_url + 'pingResponse', headers=header, data = {'limit': '1000'})\n",
    "notification_responses = pd.DataFrame(resp.json()['results'])\n",
    "\n",
    "notification_responses_string_cols = ['objectId', 'hotspotId', 'vendorId', 'question', 'response', 'tag']\n",
    "notification_responses['createdAt'] = (pd.to_datetime(notification_responses['createdAt']).astype(np.int64) \\\n",
    "                                       // 10**9) + notification_responses['gmtOffset']\n",
    "notification_responses['updatedAt'] = (pd.to_datetime(notification_responses['updatedAt']).astype(np.int64) \\\n",
    "                                       // 10**9) + notification_responses['gmtOffset']\n",
    "notification_responses[notification_responses_string_cols] = \\\n",
    "    notification_responses[notification_responses_string_cols].astype(str)\n",
    "\n",
    "# users\n",
    "resp = requests.get(base_url + 'user', headers=header, data = {'limit': '1000'})\n",
    "users = pd.DataFrame(resp.json()['results'])\n",
    "\n",
    "user_string_cols = ['objectId', 'firstName', 'lastName', 'vendorId', \\\n",
    "                    'firstPreference', 'secondPreference', 'thirdPreference', 'fourthPreference']\n",
    "users['createdAt'] = (pd.to_datetime(users['createdAt']).astype(np.int64) // 10**9) + (-18000)\n",
    "users['updatedAt'] = (pd.to_datetime(users['updatedAt']).astype(np.int64) // 10**9) + (-18000)\n",
    "users[user_string_cols] = users[user_string_cols].astype(str)"
   ]
  },
  {
   "cell_type": "markdown",
   "metadata": {
    "collapsed": true
   },
   "source": [
    "### Select data between start and end time of study"
   ]
  },
  {
   "cell_type": "code",
   "execution_count": 11,
   "metadata": {
    "collapsed": false
   },
   "outputs": [],
   "source": [
    "# declare start and end times \n",
    "start_time_date = pd.to_datetime('12-05-2016 16:00:00')\n",
    "end_time_date = pd.to_datetime('12-09-2016 00:00:00')\n",
    "\n",
    "start_time = (start_time_date - datetime.datetime(1970,1,1)).total_seconds()\n",
    "end_time = (end_time_date - datetime.datetime(1970,1,1)).total_seconds()\n",
    "\n",
    "# subset each data frame\n",
    "hotspots = hotspots[(hotspots.createdAt >= start_time) & (hotspots.createdAt <= end_time)]\n",
    "notification_sent = notification_sent[(notification_sent.createdAt >= start_time) & \\\n",
    "                                      (notification_sent.createdAt <= end_time)]\n",
    "notification_responses = notification_responses[(notification_responses.createdAt >= start_time) & \\\n",
    "                                                (notification_responses.createdAt <= end_time)]\n",
    "users = users[(users.createdAt >= start_time) & (users.createdAt <= end_time)]"
   ]
  },
  {
   "cell_type": "markdown",
   "metadata": {},
   "source": [
    "# Compute metrics from study"
   ]
  },
  {
   "cell_type": "markdown",
   "metadata": {},
   "source": [
    "### Basic demographic info from study"
   ]
  },
  {
   "cell_type": "code",
   "execution_count": 12,
   "metadata": {
    "collapsed": false
   },
   "outputs": [
    {
     "name": "stdout",
     "output_type": "stream",
     "text": [
      "Study Length: 3 days 08:00:00\n",
      "Number of users: 8\n",
      "Male: 2, Female: 6\n"
     ]
    }
   ],
   "source": [
    "print 'Study Length: ' + str((end_time_date - start_time_date))\n",
    "print 'Number of users: ' + str(len(users))\n",
    "print 'Male: 2, Female: 6'"
   ]
  },
  {
   "cell_type": "markdown",
   "metadata": {},
   "source": [
    "### Number regions, notifications, and responses"
   ]
  },
  {
   "cell_type": "code",
   "execution_count": 19,
   "metadata": {
    "collapsed": false
   },
   "outputs": [
    {
     "name": "stdout",
     "output_type": "stream",
     "text": [
      "Number regions: 13\n",
      "Number Regions pre-marked: 11\n",
      "Number User-marked regions: 2\n",
      "Number User-marked regions by category: {'guestevent': 2}\n"
     ]
    }
   ],
   "source": [
    "kapil_vendor_id = 'F1AE595D-F244-4367-8744-27CA60450F0D'\n",
    "total_regions_count = len(hotspots)\n",
    "premarked_regions_count = len(hotspots[(hotspots.locationCommonName != '') | \\\n",
    "                                 (hotspots.vendorId == kapil_vendor_id)])\n",
    "usermarked_regions_count = total_regions_count - premarked_regions_count\n",
    "\n",
    "usermarked_regions_agg = hotspots[(hotspots.locationCommonName == '') & \\\n",
    "                                 (hotspots.vendorId != kapil_vendor_id)].groupby('tag').size()\n",
    "\n",
    "print 'Number regions: ' + str(total_regions_count)\n",
    "print 'Number Regions pre-marked: ' + str(premarked_regions_count)\n",
    "print 'Number User-marked regions: ' + str(usermarked_regions_count)\n",
    "print 'Number User-marked regions by category: ' + str(dict(usermarked_regions_agg))"
   ]
  },
  {
   "cell_type": "code",
   "execution_count": 14,
   "metadata": {
    "collapsed": false
   },
   "outputs": [
    {
     "name": "stdout",
     "output_type": "stream",
     "text": [
      "Number notifications sent: 56\n",
      "Number notifications responded to: 16\n",
      "Notification response rate: 0.285714285714\n",
      "Median notification response time in minutes: 1.06666666667\n"
     ]
    }
   ],
   "source": [
    "invalid_responses = ['com.apple.UNNotificationDefaultActionIdentifier', \n",
    "                     'com.apple.UNNotificationDismissActionIdentifier']\n",
    "cleaned_notification_responses = notification_responses[~notification_responses.response.isin(invalid_responses)]\n",
    "notifications_responded_to = pd.merge(notification_sent[['hotspotId', 'vendorId']], \n",
    "                                      cleaned_notification_responses[['hotspotId', 'vendorId']], how='inner')\n",
    "notification_merged = pd.merge(notification_sent, cleaned_notification_responses, \\\n",
    "                               on=['hotspotId', 'vendorId'], how='inner')\n",
    "notification_merged['timediff'] = notification_merged['createdAt_y'] - notification_merged['createdAt_x']\n",
    "\n",
    "print 'Number notifications sent: ' + str(len(notification_sent))\n",
    "print 'Number notifications responded to: ' + str(len(notifications_responded_to))\n",
    "print 'Notification response rate: ' + str(len(notifications_responded_to) / len(notification_sent))\n",
    "print 'Median notification response time in minutes: ' + str(notification_merged['timediff'].median() / 60)"
   ]
  },
  {
   "cell_type": "markdown",
   "metadata": {},
   "source": [
    "### Compute average percentage of region info filled"
   ]
  },
  {
   "cell_type": "code",
   "execution_count": 15,
   "metadata": {
    "collapsed": false
   },
   "outputs": [
    {
     "name": "stdout",
     "output_type": "stream",
     "text": [
      "Average number of entries filled in info: 0.286458333333\n"
     ]
    }
   ],
   "source": [
    "def proportion_filled(info_dict):\n",
    "    \"\"\"\n",
    "    Compute the amount of a info_dict that is filled (i.e. value(key) != '')\n",
    "    \n",
    "    Input:\n",
    "        info_dict (dict): dictionary containing info\n",
    "       \n",
    "    Output: \n",
    "        (float): proportion of info_dict filled\n",
    "    \"\"\"\n",
    "    n_keys = len(info_dict.keys())\n",
    "    used_keys = 0\n",
    "    \n",
    "    for key, value in info_dict.iteritems():\n",
    "        if value != '':\n",
    "            used_keys += 1\n",
    "    \n",
    "    return used_keys / n_keys\n",
    "\n",
    "proportions_for_hotspots = [proportion_filled(x) for x in hotspots['info']]\n",
    "avg_filled = np.average([x for x in proportions_for_hotspots if x > 0])\n",
    "\n",
    "print 'Average number of entries filled in info: ' + str(avg_filled)"
   ]
  }
 ],
 "metadata": {
  "kernelspec": {
   "display_name": "Python 2",
   "language": "python",
   "name": "python2"
  },
  "language_info": {
   "codemirror_mode": {
    "name": "ipython",
    "version": 2
   },
   "file_extension": ".py",
   "mimetype": "text/x-python",
   "name": "python",
   "nbconvert_exporter": "python",
   "pygments_lexer": "ipython2",
   "version": "2.7.11"
  }
 },
 "nbformat": 4,
 "nbformat_minor": 0
}
