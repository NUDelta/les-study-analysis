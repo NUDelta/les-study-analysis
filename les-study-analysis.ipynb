{
 "cells": [
  {
   "cell_type": "code",
   "execution_count": 3,
   "metadata": {
    "collapsed": false
   },
   "outputs": [],
   "source": [
    "import requests\n",
    "import json\n",
    "import pandas as pd\n",
    "import numpy as np\n",
    "import datetime"
   ]
  },
  {
   "cell_type": "markdown",
   "metadata": {},
   "source": [
    "# Load in all data\n",
    "### Read in data from database and configure column types."
   ]
  },
  {
   "cell_type": "code",
   "execution_count": 21,
   "metadata": {
    "collapsed": false
   },
   "outputs": [],
   "source": [
    "# URL and header for Parse\n",
    "base_url = 'https://dtr-les.herokuapp.com/parse/classes/'\n",
    "header = {'X-Parse-Application-Id': 'PkngqKtJygU9WiQ1GXM9eC0a17tKmioKKmpWftYr'}\n",
    "data = {'limit': '1000'}\n",
    "\n",
    "# hotspots\n",
    "resp = requests.get(base_url + 'hotspot', headers=header, data=data)\n",
    "hotspots = pd.DataFrame(resp.json()['results'])\n",
    "\n",
    "hotspot_string_cols = ['objectId', 'vendorId', 'archiver', 'locationCommonName', \\\n",
    "                       'tag', 'submissionMethod', 'beaconId']\n",
    "hotspots['createdAt'] = (pd.to_datetime(hotspots['createdAt']).astype(np.int64) // 10**9) + hotspots['gmtOffset']\n",
    "hotspots['updatedAt'] = (pd.to_datetime(hotspots['updatedAt']).astype(np.int64) // 10**9) + hotspots['gmtOffset']\n",
    "hotspots[hotspot_string_cols] = hotspots[hotspot_string_cols].astype(str)\n",
    "\n",
    "# sent notifications\n",
    "resp = requests.get(base_url + 'notificationSent', headers=header, data = {'limit': '1000'})\n",
    "notification_sent = pd.DataFrame(resp.json()['results'])\n",
    "\n",
    "notification_sent_string_cols = ['objectId', 'vendorId', 'hotspotId', 'notificationString']\n",
    "notification_sent['createdAt'] = (pd.to_datetime(notification_sent['createdAt']).astype(np.int64) // 10**9) + \\\n",
    "                                  notification_sent['gmtOffset']\n",
    "notification_sent['updatedAt'] = (pd.to_datetime(notification_sent['updatedAt']).astype(np.int64) // 10**9) + \\\n",
    "                                  notification_sent['gmtOffset']\n",
    "notification_sent[notification_sent_string_cols] = notification_sent[notification_sent_string_cols].astype(str)\n",
    "\n",
    "# notification responses\n",
    "resp = requests.get(base_url + 'pingResponse', headers=header, data = {'limit': '1000'})\n",
    "notification_responses = pd.DataFrame(resp.json()['results'])\n",
    "\n",
    "notification_responses_string_cols = ['objectId', 'hotspotId', 'vendorId', 'question', 'response', 'tag']\n",
    "notification_responses['createdAt'] = (pd.to_datetime(notification_responses['createdAt']).astype(np.int64) \\\n",
    "                                       // 10**9) + notification_responses['gmtOffset']\n",
    "notification_responses['updatedAt'] = (pd.to_datetime(notification_responses['updatedAt']).astype(np.int64) \\\n",
    "                                       // 10**9) + notification_responses['gmtOffset']\n",
    "notification_responses[notification_responses_string_cols] = \\\n",
    "    notification_responses[notification_responses_string_cols].astype(str)\n",
    "\n",
    "# users\n",
    "resp = requests.get(base_url + 'user', headers=header, data = {'limit': '1000'})\n",
    "users = pd.DataFrame(resp.json()['results'])\n",
    "\n",
    "user_string_cols = ['objectId', 'firstName', 'lastName', 'vendorId', \\\n",
    "                    'firstPreference', 'secondPreference', 'thirdPreference', 'fourthPreference']\n",
    "users['createdAt'] = (pd.to_datetime(users['createdAt']).astype(np.int64) // 10**9) + (-18000)\n",
    "users['updatedAt'] = (pd.to_datetime(users['updatedAt']).astype(np.int64) // 10**9) + (-18000)\n",
    "users[user_string_cols] = users[user_string_cols].astype(str)"
   ]
  },
  {
   "cell_type": "markdown",
   "metadata": {
    "collapsed": true
   },
   "source": [
    "### Select data between start and end time of study"
   ]
  },
  {
   "cell_type": "code",
   "execution_count": 22,
   "metadata": {
    "collapsed": false
   },
   "outputs": [],
   "source": [
    "# declare start and end times \n",
    "start_time_date = pd.to_datetime('02-02-2017 16:00:00')\n",
    "end_time_date = pd.to_datetime('02-10-2017 00:00:00')\n",
    "\n",
    "start_time = (start_time_date - datetime.datetime(1970,1,1)).total_seconds()\n",
    "end_time = (end_time_date - datetime.datetime(1970,1,1)).total_seconds()\n",
    "\n",
    "# subset each data frame\n",
    "hotspots = hotspots[(hotspots.createdAt >= start_time) & (hotspots.createdAt <= end_time)]\n",
    "notification_sent = notification_sent[(notification_sent.createdAt >= start_time) & \\\n",
    "                                      (notification_sent.createdAt <= end_time)]\n",
    "notification_responses = notification_responses[(notification_responses.createdAt >= start_time) & \\\n",
    "                                                (notification_responses.createdAt <= end_time)]\n",
    "users = users[(users.createdAt >= start_time) & (users.createdAt <= end_time)]"
   ]
  },
  {
   "cell_type": "markdown",
   "metadata": {},
   "source": [
    "# Compute metrics from study"
   ]
  },
  {
   "cell_type": "markdown",
   "metadata": {},
   "source": [
    "### Basic demographic info from study"
   ]
  },
  {
   "cell_type": "code",
   "execution_count": 23,
   "metadata": {
    "collapsed": false
   },
   "outputs": [
    {
     "name": "stdout",
     "output_type": "stream",
     "text": [
      "Study Length: 7 days 08:00:00\n",
      "Number of users: 8\n",
      "Male: 2, Female: 6\n"
     ]
    }
   ],
   "source": [
    "print('Study Length: ' + str((end_time_date - start_time_date)))\n",
    "print('Number of users: ' + str(len(users)))\n",
    "print('Male: 2, Female: 6')"
   ]
  },
  {
   "cell_type": "markdown",
   "metadata": {},
   "source": [
    "### Number regions, notifications, and responses"
   ]
  },
  {
   "cell_type": "code",
   "execution_count": 24,
   "metadata": {
    "collapsed": false
   },
   "outputs": [
    {
     "name": "stdout",
     "output_type": "stream",
     "text": [
      "Number regions: 5\n",
      "Number Regions pre-marked: 5\n",
      "Number User-marked regions: 0\n",
      "Number User-marked regions by category: {}\n"
     ]
    }
   ],
   "source": [
    "kapil_vendor_id = 'F1AE595D-F244-4367-8744-27CA60450F0D'\n",
    "total_regions_count = len(hotspots)\n",
    "premarked_regions_count = len(hotspots[(hotspots.locationCommonName != '') | \\\n",
    "                                 (hotspots.vendorId == kapil_vendor_id)])\n",
    "usermarked_regions_count = total_regions_count - premarked_regions_count\n",
    "\n",
    "usermarked_regions_agg = hotspots[(hotspots.locationCommonName == '') & \\\n",
    "                                 (hotspots.vendorId != kapil_vendor_id)].groupby('tag').size()\n",
    "\n",
    "print('Number regions: ' + str(total_regions_count))\n",
    "print('Number Regions pre-marked: ' + str(premarked_regions_count))\n",
    "print('Number User-marked regions: ' + str(usermarked_regions_count))\n",
    "print('Number User-marked regions by category: ' + str(dict(usermarked_regions_agg)))"
   ]
  },
  {
   "cell_type": "code",
   "execution_count": 25,
   "metadata": {
    "collapsed": false
   },
   "outputs": [
    {
     "name": "stdout",
     "output_type": "stream",
     "text": [
      "Number notifications sent: 13\n",
      "Number notifications responded to: 7\n",
      "Notification response rate: 0.5384615384615384\n",
      "Median notification response time in minutes: 6.866666666666666\n"
     ]
    }
   ],
   "source": [
    "invalid_responses = ['com.apple.UNNotificationDefaultActionIdentifier', \n",
    "                     'com.apple.UNNotificationDismissActionIdentifier']\n",
    "cleaned_notification_responses = notification_responses[~notification_responses.response.isin(invalid_responses)]\n",
    "notifications_responded_to = pd.merge(notification_sent[['hotspotId', 'vendorId']], \n",
    "                                      cleaned_notification_responses[['hotspotId', 'vendorId']], how='inner')\n",
    "notification_merged = pd.merge(notification_sent, cleaned_notification_responses, \\\n",
    "                               on=['hotspotId', 'vendorId'], how='inner')\n",
    "notification_merged['timediff'] = notification_merged['createdAt_y'] - notification_merged['createdAt_x']\n",
    "\n",
    "print('Number notifications sent: ' + str(len(notification_sent)))\n",
    "print('Number notifications responded to: ' + str(len(notifications_responded_to)))\n",
    "print('Notification response rate: ' + str(len(notifications_responded_to) / len(notification_sent)))\n",
    "print('Median notification response time in minutes: ' + str(notification_merged['timediff'].median() / 60))"
   ]
  },
  {
   "cell_type": "code",
   "execution_count": 26,
   "metadata": {
    "collapsed": false
   },
   "outputs": [
    {
     "name": "stdout",
     "output_type": "stream",
     "text": [
      "      createdAt  gmtOffset   hotspotId  \\\n",
      "15   1486392548     -21600  1Oe3VvnkuA   \n",
      "79   1486136181     -21600  1Oe3VvnkuA   \n",
      "335  1486136147     -21600  1Oe3VvnkuA   \n",
      "438  1486122582     -21600  vE4k73uRkZ   \n",
      "439  1486249240     -21600  vE4k73uRkZ   \n",
      "440  1486326320     -21600  vE4k73uRkZ   \n",
      "441  1486334800     -21600  vE4k73uRkZ   \n",
      "442  1486388931     -21600  vE4k73uRkZ   \n",
      "443  1486414081     -21600  vE4k73uRkZ   \n",
      "444  1486486458     -21600  We2Kav6DYE   \n",
      "445  1486486506     -21600  We2Kav6DYE   \n",
      "446  1486487082     -21600  We2Kav6DYE   \n",
      "447  1486500450     -21600  We2Kav6DYE   \n",
      "\n",
      "                                    notificationString    objectId  \\\n",
      "15               Notified for beacon region sJlkSUIKVR  8KY0EorjFD   \n",
      "79               Notified for beacon region sJlkSUIKVR  TBn5Ug8dIL   \n",
      "335              Notified for beacon region sJlkSUIKVR  iun37TSbC5   \n",
      "438  Notified for vE4k73uRkZ (42.05833, -87.683644)...  06RXIyw9GW   \n",
      "439  Notified for vE4k73uRkZ (42.05833, -87.683644)...  NOX47qmdxF   \n",
      "440  Notified for vE4k73uRkZ (42.05833, -87.683644)...  CHeBH0H4XW   \n",
      "441  Notified for vE4k73uRkZ (42.05833, -87.683644)...  gWJwLmKHIP   \n",
      "442  Notified for vE4k73uRkZ (42.05833, -87.683644)...  C1gBDUl8Ex   \n",
      "443  Notified for vE4k73uRkZ (42.05833, -87.683644)...  wnRHtg8YDl   \n",
      "444  Notified for We2Kav6DYE (42.05833, -87.683644)...  1V1CfHzHaT   \n",
      "445  Notified for We2Kav6DYE (42.05833, -87.683644)...  zwEXsFG0LU   \n",
      "446  Notified for We2Kav6DYE (42.05833, -87.683644)...  BixB9AszQy   \n",
      "447  Notified for We2Kav6DYE (42.05833, -87.683644)...  0xJIzml3Zy   \n",
      "\n",
      "      timestamp   updatedAt                              vendorId  \n",
      "15   1486414139  1486392548  57DB09A8-068E-4315-B208-D82E24BC7F6D  \n",
      "79   1486157781  1486136181  082918FC-40D0-4E15-916F-B0DC4DCE8A7A  \n",
      "335  1486157747  1486136147  C3243C1F-EFCD-408B-8762-D8E697BABD3F  \n",
      "438  1486144182  1486122582  F1AE595D-F244-4367-8744-27CA60450F0D  \n",
      "439  1486270833  1486249240  1CC1DD34-17BC-4878-A204-7B6CAAF343AD  \n",
      "440  1486347920  1486326320  AE2691E1-AE5B-4069-972D-1D4CCB6C48D4  \n",
      "441  1486356400  1486334800  57DB09A8-068E-4315-B208-D82E24BC7F6D  \n",
      "442  1486410531  1486388931  F1AE595D-F244-4367-8744-27CA60450F0D  \n",
      "443  1486435680  1486414081  F1AE595D-F244-4367-8744-27CA60450F0D  \n",
      "444  1486508058  1486486458  F1AE595D-F244-4367-8744-27CA60450F0D  \n",
      "445  1486508105  1486486506  F1AE595D-F244-4367-8744-27CA60450F0D  \n",
      "446  1486508681  1486487082  F1AE595D-F244-4367-8744-27CA60450F0D  \n",
      "447  1486522050  1486500450  F1AE595D-F244-4367-8744-27CA60450F0D  \n"
     ]
    }
   ],
   "source": [
    "print(notification_sent)"
   ]
  },
  {
   "cell_type": "code",
   "execution_count": 28,
   "metadata": {
    "collapsed": false
   },
   "outputs": [
    {
     "name": "stdout",
     "output_type": "stream",
     "text": [
      "    archived archiver    beaconId   createdAt  gmtOffset  \\\n",
      "207    False           sJlkSUIKVR  1486472208     -21600   \n",
      "229    False           sJlkSUIKVR  1486512346     -21600   \n",
      "261    False                       1486512172     -18000   \n",
      "269     True   system  sJlkSUIKVR  1486392950     -21600   \n",
      "289     True   system              1486468907     -18000   \n",
      "\n",
      "                                                  info  \\\n",
      "207  {'valueright': '', 'objectleft': '', 'colorlef...   \n",
      "229  {'frosted': '', 'plain': '', 'markercolor': ''...   \n",
      "261  {'event': '', 'manypeople': '', 'seatingnearpo...   \n",
      "269  {'valueright': '', 'objectleft': '', 'colorlef...   \n",
      "289  {'event': '', 'manypeople': '', 'seatingnearpo...   \n",
      "\n",
      "                                              location locationCommonName  \\\n",
      "207  {'latitude': 42.05697360918117, '__type': 'Geo...                      \n",
      "229  {'latitude': 42.05633193258387, '__type': 'Geo...                      \n",
      "261  {'latitude': 42.05833, '__type': 'GeoPoint', '...         Coffee Lab   \n",
      "269  {'latitude': 42.05700453840387, '__type': 'Geo...                      \n",
      "289  {'latitude': 42.05833, '__type': 'GeoPoint', '...         Coffee Lab   \n",
      "\n",
      "       objectId                                saveTimeForQuestion  \\\n",
      "207  NQUvnLTWQq  {'valueright': 1486493808, 'objectleft': 14864...   \n",
      "229  PQGIueFwaH  {'frosted': 1486533946, 'plain': 1486533946, '...   \n",
      "261  TAln5gsanl  {'event': 1486530172, 'manypeople': 1486530172...   \n",
      "269  U4ZNqzkJqs  {'valueright': 1486414549, 'objectleft': 14864...   \n",
      "289  We2Kav6DYE  {'event': 1486486908, 'manypeople': 1486486908...   \n",
      "\n",
      "    submissionMethod            tag  timestampCreated  timestampLastUpdate  \\\n",
      "207     today_widget  windowdrawing        1486493808           1486493808   \n",
      "229     today_widget       dtrdonut        1486533946           1486533946   \n",
      "261                           space        1486530172           1486530172   \n",
      "269     today_widget  windowdrawing        1486414549           1486414549   \n",
      "289                           space        1486486908           1486486908   \n",
      "\n",
      "      updatedAt                              vendorId  \n",
      "207  1486472208  F1AE595D-F244-4367-8744-27CA60450F0D  \n",
      "229  1486512346  F1AE595D-F244-4367-8744-27CA60450F0D  \n",
      "261  1486512172                                        \n",
      "269  1486465308  F1AE595D-F244-4367-8744-27CA60450F0D  \n",
      "289  1486512172                                        \n"
     ]
    }
   ],
   "source": [
    "print(hotspots)"
   ]
  },
  {
   "cell_type": "code",
   "execution_count": 13,
   "metadata": {
    "collapsed": false
   },
   "outputs": [
    {
     "name": "stdout",
     "output_type": "stream",
     "text": [
      "    hotspotId                              vendorId\n",
      "0  1Oe3VvnkuA  57DB09A8-068E-4315-B208-D82E24BC7F6D\n",
      "1  vE4k73uRkZ  F1AE595D-F244-4367-8744-27CA60450F0D\n",
      "2  vE4k73uRkZ  F1AE595D-F244-4367-8744-27CA60450F0D\n",
      "3  vE4k73uRkZ  F1AE595D-F244-4367-8744-27CA60450F0D\n",
      "4  vE4k73uRkZ  F1AE595D-F244-4367-8744-27CA60450F0D\n"
     ]
    }
   ],
   "source": [
    "print(notifications_responded_to)\n",
    "print()"
   ]
  },
  {
   "cell_type": "markdown",
   "metadata": {},
   "source": [
    "### Compute average percentage of region info filled"
   ]
  },
  {
   "cell_type": "code",
   "execution_count": 10,
   "metadata": {
    "collapsed": false
   },
   "outputs": [
    {
     "name": "stdout",
     "output_type": "stream",
     "text": [
      "Average number of entries filled in info: nan\n"
     ]
    },
    {
     "name": "stderr",
     "output_type": "stream",
     "text": [
      "/Users/kapilgarg/miniconda3/envs/smearenv/lib/python3.5/site-packages/numpy/core/_methods.py:59: RuntimeWarning: Mean of empty slice.\n",
      "  warnings.warn(\"Mean of empty slice.\", RuntimeWarning)\n",
      "/Users/kapilgarg/miniconda3/envs/smearenv/lib/python3.5/site-packages/numpy/core/_methods.py:70: RuntimeWarning: invalid value encountered in double_scalars\n",
      "  ret = ret.dtype.type(ret / rcount)\n"
     ]
    }
   ],
   "source": [
    "def proportion_filled(info_dict):\n",
    "    \"\"\"\n",
    "    Compute the amount of a info_dict that is filled (i.e. value(key) != '')\n",
    "    \n",
    "    Input:\n",
    "        info_dict (dict): dictionary containing info\n",
    "       \n",
    "    Output: \n",
    "        (float): proportion of info_dict filled\n",
    "    \"\"\"\n",
    "    n_keys = len(info_dict.keys())\n",
    "    used_keys = 0\n",
    "    \n",
    "    for key, value in info_dict.items():\n",
    "        if value != '':\n",
    "            used_keys += 1\n",
    "    \n",
    "    return used_keys / n_keys\n",
    "\n",
    "proportions_for_hotspots = [proportion_filled(x) for x in hotspots['info']]\n",
    "avg_filled = np.average([x for x in proportions_for_hotspots if x > 0])\n",
    "\n",
    "print('Average number of entries filled in info: ' + str(avg_filled))"
   ]
  }
 ],
 "metadata": {
  "kernelspec": {
   "display_name": "Python 3",
   "language": "python",
   "name": "python3"
  },
  "language_info": {
   "codemirror_mode": {
    "name": "ipython",
    "version": 3
   },
   "file_extension": ".py",
   "mimetype": "text/x-python",
   "name": "python",
   "nbconvert_exporter": "python",
   "pygments_lexer": "ipython3",
   "version": "3.5.2"
  }
 },
 "nbformat": 4,
 "nbformat_minor": 0
}
