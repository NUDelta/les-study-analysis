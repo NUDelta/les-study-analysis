{
 "cells": [
  {
   "cell_type": "code",
   "execution_count": 1,
   "metadata": {
    "collapsed": false
   },
   "outputs": [],
   "source": [
    "import requests\n",
    "import json\n",
    "import pandas as pd\n",
    "import numpy as np\n",
    "import datetime"
   ]
  },
  {
   "cell_type": "markdown",
   "metadata": {},
   "source": [
    "# Load in all data\n",
    "### Read in data from database and configure column types."
   ]
  },
  {
   "cell_type": "code",
   "execution_count": 2,
   "metadata": {
    "collapsed": false
   },
   "outputs": [],
   "source": [
    "# TODO: query with start and end time b/c query size limit\n",
    "\n",
    "# URL and header for Parse\n",
    "base_url = 'https://dtr-les.herokuapp.com/parse/classes/'\n",
    "header = {'X-Parse-Application-Id': 'PkngqKtJygU9WiQ1GXM9eC0a17tKmioKKmpWftYr'}\n",
    "data = {'limit': '1000'}\n",
    "\n",
    "# hotspots\n",
    "resp = requests.get(base_url + 'hotspot', headers=header, data=data)\n",
    "hotspots = pd.DataFrame(resp.json()['results'])\n",
    "\n",
    "hotspot_string_cols = ['objectId', 'vendorId', 'archiver', 'locationCommonName', \\\n",
    "                       'tag', 'submissionMethod', 'beaconId']\n",
    "hotspots['createdAt'] = (pd.to_datetime(hotspots['createdAt']).astype(np.int64) // 10**9) + hotspots['gmtOffset']\n",
    "hotspots['updatedAt'] = (pd.to_datetime(hotspots['updatedAt']).astype(np.int64) // 10**9) + hotspots['gmtOffset']\n",
    "hotspots[hotspot_string_cols] = hotspots[hotspot_string_cols].astype(str)\n",
    "\n",
    "# sent notifications\n",
    "resp = requests.get(base_url + 'notificationSent', headers=header, data=data)\n",
    "notification_sent = pd.DataFrame(resp.json()['results'])\n",
    "\n",
    "notification_sent_string_cols = ['objectId', 'vendorId', 'hotspotId', 'notificationString']\n",
    "notification_sent['createdAt'] = (pd.to_datetime(notification_sent['createdAt']).astype(np.int64) // 10**9) + \\\n",
    "                                  notification_sent['gmtOffset']\n",
    "notification_sent['updatedAt'] = (pd.to_datetime(notification_sent['updatedAt']).astype(np.int64) // 10**9) + \\\n",
    "                                  notification_sent['gmtOffset']\n",
    "notification_sent[notification_sent_string_cols] = notification_sent[notification_sent_string_cols].astype(str)\n",
    "\n",
    "# notification responses\n",
    "resp = requests.get(base_url + 'pingResponse', headers=header, data=data)\n",
    "notification_responses = pd.DataFrame(resp.json()['results'])\n",
    "\n",
    "notification_responses_string_cols = ['objectId', 'hotspotId', 'vendorId', 'question', 'response', 'tag']\n",
    "notification_responses['createdAt'] = (pd.to_datetime(notification_responses['createdAt']).astype(np.int64) \\\n",
    "                                       // 10**9) + notification_responses['gmtOffset']\n",
    "notification_responses['updatedAt'] = (pd.to_datetime(notification_responses['updatedAt']).astype(np.int64) \\\n",
    "                                       // 10**9) + notification_responses['gmtOffset']\n",
    "notification_responses[notification_responses_string_cols] = \\\n",
    "    notification_responses[notification_responses_string_cols].astype(str)\n",
    "\n",
    "# users\n",
    "resp = requests.get(base_url + 'user', headers=header, data=data)\n",
    "users = pd.DataFrame(resp.json()['results'])\n",
    "\n",
    "user_string_cols = ['objectId', 'firstName', 'lastName', 'vendorId', \\\n",
    "                    'firstPreference', 'secondPreference', 'thirdPreference', 'fourthPreference']\n",
    "users['createdAt'] = (pd.to_datetime(users['createdAt']).astype(np.int64) // 10**9) + (-18000)\n",
    "users['updatedAt'] = (pd.to_datetime(users['updatedAt']).astype(np.int64) // 10**9) + (-18000)\n",
    "users[user_string_cols] = users[user_string_cols].astype(str)\n",
    "\n",
    "# pretracking debug (to see app terminations) \n",
    "resp = requests.get(base_url + 'pretracking_debug', headers=header, data=data)\n",
    "debug = pd.DataFrame(resp.json()['results'])\n",
    "\n",
    "debug_string_cols = ['objectId', 'vendor_id', 'console_string']\n",
    "debug['createdAt'] = (pd.to_datetime(debug['createdAt']).astype(np.int64) // 10**9) + (-18000)\n",
    "debug['updatedAt'] = (pd.to_datetime(debug['updatedAt']).astype(np.int64) // 10**9) + (-18000)\n",
    "debug[debug_string_cols] = debug[debug_string_cols].astype(str)"
   ]
  },
  {
   "cell_type": "markdown",
   "metadata": {
    "collapsed": true
   },
   "source": [
    "### Select data between start and end time of study"
   ]
  },
  {
   "cell_type": "code",
   "execution_count": 8,
   "metadata": {
    "collapsed": false
   },
   "outputs": [],
   "source": [
    "# declare start and end times \n",
    "start_time_date = pd.to_datetime('05-08-2017 16:00:00')\n",
    "end_time_date = pd.to_datetime('05-15-2017 00:00:00')\n",
    "\n",
    "start_time = (start_time_date - datetime.datetime(1970,1,1)).total_seconds()\n",
    "end_time = (end_time_date - datetime.datetime(1970,1,1)).total_seconds()\n",
    "\n",
    "# subset each data frame\n",
    "hotspots = hotspots[(hotspots.createdAt >= start_time) & \\\n",
    "                    (hotspots.createdAt <= end_time)]\n",
    "notification_sent = notification_sent[(notification_sent.createdAt >= start_time) & \\\n",
    "                                      (notification_sent.createdAt <= end_time) & \\\n",
    "                                      (notification_sent.vendorId != 'F1AE595D-F244-4367-8744-27CA60450F0D')]\n",
    "notification_responses = notification_responses[(notification_responses.createdAt >= start_time) & \\\n",
    "                                                (notification_responses.createdAt <= end_time) &\n",
    "                                                (notification_responses.vendorId != 'F1AE595D-F244-4367-8744-27CA60450F0D')]\n",
    "users = users[(users.createdAt >= start_time) & \\\n",
    "              (users.createdAt <= end_time) & \\\n",
    "              (users.vendorId != 'F1AE595D-F244-4367-8744-27CA60450F0D')]\n",
    "\n",
    "debug = debug[(debug.createdAt >= start_time) & \\\n",
    "              (debug.createdAt <= end_time)]"
   ]
  },
  {
   "cell_type": "code",
   "execution_count": 9,
   "metadata": {
    "collapsed": false
   },
   "outputs": [
    {
     "name": "stdout",
     "output_type": "stream",
     "text": [
      "     createdAt    firstName firstPreference fourthPreference     lastName  \\\n",
      "80  1494341187         Alex      surprising             food     Kaldjian   \n",
      "81  1494338280        Emily            food       surprising        Baker   \n",
      "82  1494328678        Grace            food       surprising    Alexander   \n",
      "83  1494277723       Jennie            food       surprising       Werner   \n",
      "84  1494276848        Isaac            food       surprising          Lee   \n",
      "85  1494276650          Meg      surprising            queue       Grasse   \n",
      "86  1494276562         Lily            food       surprising        Zhang   \n",
      "88  1494498963  Christopher           space            queue      Hartman   \n",
      "89  1494366278      Melissa      surprising            queue       Calica   \n",
      "90  1494366093      Allison            food       surprising          Sun   \n",
      "91  1494358831       Eunice            food       surprising          Lee   \n",
      "92  1494351978       Armaan           space             food         Shah   \n",
      "93  1494346145        Jacob            food       surprising      Jones     \n",
      "94  1494411800       Ulyana      surprising            queue      Kurylo    \n",
      "95  1494410933       Bomani            food            queue    McClendon   \n",
      "96  1494413559          Max            food       surprising           Sa   \n",
      "97  1494408354     Abhishek            food       surprising  Chaturvedi    \n",
      "98  1494367663       Leesha            food       surprising            M   \n",
      "\n",
      "      objectId                                          pushToken  \\\n",
      "80  UCA77aF3g3  57AE473AB588D939D9D81E3206EEA1824436EA4A38DCE2...   \n",
      "81  kQNkhwowrB  8339D501B0605521EDBDACA1E63A501F683C32DBF5C3C8...   \n",
      "82  5pcz9jhqO6  D8E2522BB600EABB127C6CAF88F749FEFD979AF5068FAA...   \n",
      "83  pP8Dh6RXwx  5B35EC2138D1DD2E2DC8C433F8D0197C330D6457882A75...   \n",
      "84  9jUQJDFp1J  1BEC7121C1071C05F6409913FFEF611CCB6161ADFB6358...   \n",
      "85  GKgu4lHQrQ  091373B1B937408BA6E8346458B671008FE05F190EFD81...   \n",
      "86  p5HSDFvSDP  0D29598033D2BF8E4E4F56D4508FCD0AE23FD2A3F32937...   \n",
      "88  yfZCNcwipk  CB7CB35AA1BAE7CF6CDEC9AADD91F6ACE599B0E59814A6...   \n",
      "89  4rpH1BRBSA  DF5627E4E4F5860744EC324FFC05271A19B5D9448F3D51...   \n",
      "90  l1X7brqTjt  DCD72CA2D5EB8148833D59F0AAD21E3854A5B3160932B5...   \n",
      "91  9ZjnAxTRjc                                                NaN   \n",
      "92  mtnXRmDUq9  E215F041AB2EBFC8EE937129B9CC01BBB17379B45A2730...   \n",
      "93  LlOLIL5wZj  8554E793C070FD6CEB9980AC63699819AB187113904770...   \n",
      "94  H6Tj0YuPv2  46710519376230B3886E07B9B0C76BAF8D01A6980BD95A...   \n",
      "95  845HED02X9  CAE98E6B822F0EA47AE24A64CBC21FBC2413CD762D518C...   \n",
      "96  Pr6Jyc5SZI  E7BBF61E011A2D84BEEC8C83C67CE25F5576F50B638377...   \n",
      "97  VibnS09HCr  E9DC66272CAE5822F3A20F37A8E830C5DFB2015E71DCC7...   \n",
      "98  qcQbsh7sek  ECFD97849753D6045A66914DE3F80AAFA068D76EE5A03A...   \n",
      "\n",
      "   secondPreference thirdPreference   updatedAt  \\\n",
      "80            space           queue  1494341187   \n",
      "81            queue           space  1494338280   \n",
      "82            queue           space  1494328678   \n",
      "83            queue           space  1494277723   \n",
      "84            queue           space  1494276848   \n",
      "85             food           space  1494276650   \n",
      "86            space           queue  1494276562   \n",
      "88       surprising            food  1494498963   \n",
      "89             food           space  1494366278   \n",
      "90            queue           space  1494366093   \n",
      "91            queue           space  1494358831   \n",
      "92       surprising           queue  1494351978   \n",
      "93            queue           space  1494346145   \n",
      "94            space            food  1494411800   \n",
      "95       surprising           space  1494410933   \n",
      "96            queue           space  1494413559   \n",
      "97            queue           space  1494408354   \n",
      "98            queue           space  1494367663   \n",
      "\n",
      "                                vendorId  \n",
      "80  F2F4A0A8-98C7-474C-91DF-B6CA1A22B59B  \n",
      "81  0C721061-87DC-4E4B-8859-37D322BE4055  \n",
      "82  068CDB9B-7221-4338-AE5A-52E37EF48554  \n",
      "83  082918FC-40D0-4E15-916F-B0DC4DCE8A7A  \n",
      "84  83FF9726-945C-4D9B-9475-A41DC2A41CF4  \n",
      "85  ADDD9CDC-AFFE-4958-8AB4-70E8D28E45E1  \n",
      "86  99E23CD7-BD40-4D8F-AD8B-61BC3FD36B80  \n",
      "88  6FCA799C-3F56-425F-96B2-47CF72B84BC5  \n",
      "89  E7912D3B-B358-48FA-A54E-95394B54EB9C  \n",
      "90  B0256437-4D84-431D-A122-EADD5B8CD452  \n",
      "91  75200C4F-8F36-42BB-8412-CC61CAC749C1  \n",
      "92  02709131-3988-49D1-9BA5-10B3C425A5F3  \n",
      "93  00BF36C5-3E54-4BA3-8886-8D94942F6053  \n",
      "94  5488636D-BF26-4667-B0D2-A3054A217D89  \n",
      "95  78659B14-AE81-4217-BDCF-7E9E857A031C  \n",
      "96  95226853-68CB-4A29-9281-4307F09FE0AD  \n",
      "97  A0967570-7F46-48BF-9CB4-0EB542582FAA  \n",
      "98  FDFE420C-04ED-47D6-AADF-8909DD559659  \n"
     ]
    }
   ],
   "source": [
    "print(users)"
   ]
  },
  {
   "cell_type": "code",
   "execution_count": 10,
   "metadata": {
    "collapsed": false
   },
   "outputs": [
    {
     "name": "stdout",
     "output_type": "stream",
     "text": [
      "Empty DataFrame\n",
      "Columns: [console_string, createdAt, objectId, timestamp_epoch, timestamp_string, updatedAt, vendor_id]\n",
      "Index: []\n"
     ]
    }
   ],
   "source": [
    "print(debug)"
   ]
  },
  {
   "cell_type": "markdown",
   "metadata": {},
   "source": [
    "# Compute metrics from study"
   ]
  },
  {
   "cell_type": "markdown",
   "metadata": {},
   "source": [
    "### Basic demographic info from study"
   ]
  },
  {
   "cell_type": "code",
   "execution_count": 6,
   "metadata": {
    "collapsed": false
   },
   "outputs": [
    {
     "name": "stdout",
     "output_type": "stream",
     "text": [
      "Study Length: 17 days 08:00:00\n",
      "Number of users: 15\n",
      "Male: 2, Female: 6\n"
     ]
    }
   ],
   "source": [
    "print('Study Length: ' + str((end_time_date - start_time_date)))\n",
    "print('Number of users: ' + str(len(users)))\n",
    "print('Male: 2, Female: 6')"
   ]
  },
  {
   "cell_type": "code",
   "execution_count": 7,
   "metadata": {
    "collapsed": false
   },
   "outputs": [
    {
     "name": "stdout",
     "output_type": "stream",
     "text": [
      "     createdAt  gmtOffset   hotspotId    objectId     question  \\\n",
      "52  1486334812     -21600  vE4k73uRkZ  rdjEUjAJ4J      isspace   \n",
      "54  1486392699     -21600  1Oe3VvnkuA  sFk6DUNdiL  objectright   \n",
      "\n",
      "                                           response            tag  \\\n",
      "52  com.apple.UNNotificationDefaultActionIdentifier          space   \n",
      "54                                     I don't know  windowdrawing   \n",
      "\n",
      "     timestamp   updatedAt                              vendorId  \n",
      "52  1486356411  1486334812  57DB09A8-068E-4315-B208-D82E24BC7F6D  \n",
      "54  1486414298  1486392699  57DB09A8-068E-4315-B208-D82E24BC7F6D  \n"
     ]
    }
   ],
   "source": [
    "print(notification_responses)"
   ]
  },
  {
   "cell_type": "markdown",
   "metadata": {},
   "source": [
    "### Number regions, notifications, and responses"
   ]
  },
  {
   "cell_type": "code",
   "execution_count": 11,
   "metadata": {
    "collapsed": false
   },
   "outputs": [
    {
     "name": "stdout",
     "output_type": "stream",
     "text": [
      "Number regions: 96\n",
      "Number Regions pre-marked: 95\n",
      "Number User-marked regions: 1\n",
      "Number User-marked regions by category: {'food': 1}\n"
     ]
    }
   ],
   "source": [
    "kapil_vendor_id = 'F1AE595D-F244-4367-8744-27CA60450F0D'\n",
    "total_regions_count = len(hotspots)\n",
    "premarked_regions_count = len(hotspots[(hotspots.locationCommonName != '') | \\\n",
    "                                 (hotspots.vendorId == kapil_vendor_id)])\n",
    "usermarked_regions_count = total_regions_count - premarked_regions_count\n",
    "\n",
    "usermarked_regions_agg = hotspots[(hotspots.locationCommonName == '') & \\\n",
    "                                 (hotspots.vendorId != kapil_vendor_id)].groupby('tag').size()\n",
    "\n",
    "print('Number regions: ' + str(total_regions_count))\n",
    "print('Number Regions pre-marked: ' + str(premarked_regions_count))\n",
    "print('Number User-marked regions: ' + str(usermarked_regions_count))\n",
    "print('Number User-marked regions by category: ' + str(dict(usermarked_regions_agg)))"
   ]
  },
  {
   "cell_type": "code",
   "execution_count": 13,
   "metadata": {
    "collapsed": false
   },
   "outputs": [
    {
     "name": "stdout",
     "output_type": "stream",
     "text": [
      "Number notifications sent: 0\n",
      "Number notifications responded to: 0\n"
     ]
    }
   ],
   "source": [
    "invalid_responses = ['com.apple.UNNotificationDefaultActionIdentifier', \n",
    "                     'com.apple.UNNotificationDismissActionIdentifier']\n",
    "cleaned_notification_responses = notification_responses[~notification_responses.response.isin(invalid_responses)]\n",
    "notifications_responded_to = pd.merge(notification_sent[['hotspotId', 'vendorId']], \n",
    "                                      cleaned_notification_responses[['hotspotId', 'vendorId']], how='inner')\n",
    "notification_merged = pd.merge(notification_sent, cleaned_notification_responses, \\\n",
    "                               on=['hotspotId', 'vendorId'], how='inner')\n",
    "notification_merged['timediff'] = notification_merged['createdAt_y'] - notification_merged['createdAt_x']\n",
    "\n",
    "print('Number notifications sent: ' + str(len(notification_sent)))\n",
    "print('Number notifications responded to: ' + str(len(notifications_responded_to)))\n",
    "# print('Notification response rate: ' + str(len(notifications_responded_to) / len(notification_sent)))\n",
    "# print('Median notification response time in minutes: ' + str(notification_merged['timediff'].median() / 60))"
   ]
  },
  {
   "cell_type": "code",
   "execution_count": 17,
   "metadata": {
    "collapsed": false
   },
   "outputs": [
    {
     "data": {
      "text/html": [
       "<div>\n",
       "<table border=\"1\" class=\"dataframe\">\n",
       "  <thead>\n",
       "    <tr style=\"text-align: right;\">\n",
       "      <th></th>\n",
       "      <th>createdAt</th>\n",
       "      <th>gmtOffset</th>\n",
       "      <th>hotspotId</th>\n",
       "      <th>locationKey</th>\n",
       "      <th>notificationLevel</th>\n",
       "      <th>notificationString</th>\n",
       "      <th>objectId</th>\n",
       "      <th>timestamp</th>\n",
       "      <th>updatedAt</th>\n",
       "      <th>vendorId</th>\n",
       "    </tr>\n",
       "  </thead>\n",
       "  <tbody>\n",
       "  </tbody>\n",
       "</table>\n",
       "</div>"
      ],
      "text/plain": [
       "Empty DataFrame\n",
       "Columns: [createdAt, gmtOffset, hotspotId, locationKey, notificationLevel, notificationString, objectId, timestamp, updatedAt, vendorId]\n",
       "Index: []"
      ]
     },
     "execution_count": 17,
     "metadata": {},
     "output_type": "execute_result"
    }
   ],
   "source": [
    "notification_sent"
   ]
  },
  {
   "cell_type": "code",
   "execution_count": 10,
   "metadata": {
    "collapsed": false
   },
   "outputs": [
    {
     "name": "stdout",
     "output_type": "stream",
     "text": [
      "      createdAt  gmtOffset   hotspotId  \\\n",
      "15   1486392548     -21600  1Oe3VvnkuA   \n",
      "79   1486136181     -21600  1Oe3VvnkuA   \n",
      "335  1486136147     -21600  1Oe3VvnkuA   \n",
      "439  1486249240     -21600  vE4k73uRkZ   \n",
      "440  1486326320     -21600  vE4k73uRkZ   \n",
      "441  1486334800     -21600  vE4k73uRkZ   \n",
      "450  1486573834     -21600  vqcVF4hRDl   \n",
      "451  1486641403     -21600  u53PY5cXsn   \n",
      "452  1486659580     -21600  usWlN02wyT   \n",
      "455  1486731382     -21600  46qQR6CWyW   \n",
      "456  1486742604     -21600  46qQR6CWyW   \n",
      "461  1486832498     -21600  YsiYqXbeVo   \n",
      "462  1487005744     -21600  kRMEZTjy7m   \n",
      "\n",
      "                                    notificationString    objectId  \\\n",
      "15               Notified for beacon region sJlkSUIKVR  8KY0EorjFD   \n",
      "79               Notified for beacon region sJlkSUIKVR  TBn5Ug8dIL   \n",
      "335              Notified for beacon region sJlkSUIKVR  iun37TSbC5   \n",
      "439  Notified for vE4k73uRkZ (42.05833, -87.683644)...  NOX47qmdxF   \n",
      "440  Notified for vE4k73uRkZ (42.05833, -87.683644)...  CHeBH0H4XW   \n",
      "441  Notified for vE4k73uRkZ (42.05833, -87.683644)...  gWJwLmKHIP   \n",
      "450  Notified for vqcVF4hRDl (42.05833, -87.683644)...  LPNJnHEFfE   \n",
      "451  Notified for u53PY5cXsn (42.05833, -87.683644)...  REKPGVybwL   \n",
      "452  Notified for usWlN02wyT (42.05833, -87.683644)...  XaLhp4SBD1   \n",
      "455  Notified for 46qQR6CWyW (42.0569803985227, -87...  b6DoB3ux2U   \n",
      "456  Notified for 46qQR6CWyW (42.0569803985227, -87...  kcB2VR44Hx   \n",
      "461  Notified for YsiYqXbeVo (42.05833, -87.683644)...  NxiDHEuHP1   \n",
      "462  Notified for kRMEZTjy7m (42.05833, -87.683644)...  w8myNMONPz   \n",
      "\n",
      "      timestamp   updatedAt                              vendorId  \n",
      "15   1486414139  1486392548  57DB09A8-068E-4315-B208-D82E24BC7F6D  \n",
      "79   1486157781  1486136181  082918FC-40D0-4E15-916F-B0DC4DCE8A7A  \n",
      "335  1486157747  1486136147  C3243C1F-EFCD-408B-8762-D8E697BABD3F  \n",
      "439  1486270833  1486249240  1CC1DD34-17BC-4878-A204-7B6CAAF343AD  \n",
      "440  1486347920  1486326320  AE2691E1-AE5B-4069-972D-1D4CCB6C48D4  \n",
      "441  1486356400  1486334800  57DB09A8-068E-4315-B208-D82E24BC7F6D  \n",
      "450  1486595434  1486573834  1CC1DD34-17BC-4878-A204-7B6CAAF343AD  \n",
      "451  1486663003  1486641403  1CC1DD34-17BC-4878-A204-7B6CAAF343AD  \n",
      "452  1486681180  1486659580  1CC1DD34-17BC-4878-A204-7B6CAAF343AD  \n",
      "455  1486752982  1486731382  1CC1DD34-17BC-4878-A204-7B6CAAF343AD  \n",
      "456  1486764202  1486742604  98CF6FCE-E603-4796-9593-E331879CBB75  \n",
      "461  1486854098  1486832498  57DB09A8-068E-4315-B208-D82E24BC7F6D  \n",
      "462  1487027343  1487005744  1CC1DD34-17BC-4878-A204-7B6CAAF343AD  \n"
     ]
    }
   ],
   "source": [
    "print(notification_sent)"
   ]
  },
  {
   "cell_type": "code",
   "execution_count": 11,
   "metadata": {
    "collapsed": false
   },
   "outputs": [
    {
     "name": "stdout",
     "output_type": "stream",
     "text": [
      "    archived archiver    beaconId   createdAt  gmtOffset  \\\n",
      "38      True   system              1486720275     -21600   \n",
      "60      True   system              1487192577     -18000   \n",
      "61      True   system              1487239457     -18000   \n",
      "86      True   system              1487145768     -18000   \n",
      "103     True   system              1486915337     -18000   \n",
      "133     True   system              1486778519     -18000   \n",
      "155     True   system              1487099406     -18000   \n",
      "214     True   system  sJlkSUIKVR  1486472208     -21600   \n",
      "236     True   system  sJlkSUIKVR  1486512346     -21600   \n",
      "242     True   system              1486681371     -21600   \n",
      "269     True   system              1486512172     -18000   \n",
      "270     True   system              1486733056     -18000   \n",
      "273     True   system              1486554216     -21600   \n",
      "279     True   system  sJlkSUIKVR  1486392950     -21600   \n",
      "299     True   system              1486468907     -18000   \n",
      "323     True   system              1486688579     -18000   \n",
      "326     True   system              1486825307     -18000   \n",
      "411     True   system              1486868517     -18000   \n",
      "431     True   system              1487052144     -18000   \n",
      "434     True   system              1487005353     -18000   \n",
      "442     True   system              1487286166     -18000   \n",
      "478     True   system              1486962135     -18000   \n",
      "522     True   system              1486633225     -21600   \n",
      "523     True   system              1486602117     -18000   \n",
      "531     True   system              1486645331     -18000   \n",
      "542     True   system              1486555375     -18000   \n",
      "580     True   system              1486681317     -21600   \n",
      "581    False                       1487332952     -18000   \n",
      "\n",
      "                                                  info  \\\n",
      "38   {'objectleft': '', 'objectright': '', 'valueri...   \n",
      "60   {'event': '', 'iswifi': '', 'seatingnearpower'...   \n",
      "61   {'event': '', 'iswifi': '', 'seatingnearpower'...   \n",
      "86   {'event': '', 'iswifi': '', 'seatingnearpower'...   \n",
      "103  {'event': '', 'iswifi': '', 'seatingnearpower'...   \n",
      "133  {'event': '', 'iswifi': '', 'seatingnearpower'...   \n",
      "155  {'event': '', 'iswifi': '', 'seatingnearpower'...   \n",
      "214  {'objectleft': '', 'objectright': '', 'valueri...   \n",
      "236  {'room': '', 'markercolor': '', 'frosted': '',...   \n",
      "242  {'objectleft': '', 'objectright': '', 'valueri...   \n",
      "269  {'event': '', 'iswifi': '', 'seatingnearpower'...   \n",
      "270  {'event': '', 'iswifi': '', 'seatingnearpower'...   \n",
      "273  {'objectleft': '', 'objectright': '', 'valueri...   \n",
      "279  {'objectleft': '', 'objectright': '', 'valueri...   \n",
      "299  {'event': '', 'iswifi': '', 'seatingnearpower'...   \n",
      "323  {'event': '', 'iswifi': '', 'seatingnearpower'...   \n",
      "326  {'event': '', 'iswifi': '', 'seatingnearpower'...   \n",
      "411  {'event': '', 'iswifi': '', 'seatingnearpower'...   \n",
      "431  {'event': '', 'iswifi': '', 'seatingnearpower'...   \n",
      "434  {'event': '', 'iswifi': '', 'seatingnearpower'...   \n",
      "442  {'event': '', 'iswifi': '', 'seatingnearpower'...   \n",
      "478  {'event': '', 'iswifi': '', 'seatingnearpower'...   \n",
      "522  {'objectleft': '', 'objectright': '', 'valueri...   \n",
      "523  {'event': '', 'iswifi': '', 'seatingnearpower'...   \n",
      "531  {'event': '', 'iswifi': '', 'seatingnearpower'...   \n",
      "542  {'event': '', 'iswifi': '', 'seatingnearpower'...   \n",
      "580  {'isfood': '', 'foodkind': '', 'foodleft': '',...   \n",
      "581  {'event': '', 'iswifi': '', 'seatingnearpower'...   \n",
      "\n",
      "                                              location locationCommonName  \\\n",
      "38   {'__type': 'GeoPoint', 'latitude': 42.05698039...                      \n",
      "60   {'__type': 'GeoPoint', 'latitude': 42.05833, '...         Coffee Lab   \n",
      "61   {'__type': 'GeoPoint', 'latitude': 42.05833, '...         Coffee Lab   \n",
      "86   {'__type': 'GeoPoint', 'latitude': 42.05833, '...         Coffee Lab   \n",
      "103  {'__type': 'GeoPoint', 'latitude': 42.05833, '...         Coffee Lab   \n",
      "133  {'__type': 'GeoPoint', 'latitude': 42.05833, '...         Coffee Lab   \n",
      "155  {'__type': 'GeoPoint', 'latitude': 42.05833, '...         Coffee Lab   \n",
      "214  {'__type': 'GeoPoint', 'latitude': 42.05697360...                      \n",
      "236  {'__type': 'GeoPoint', 'latitude': 42.05633193...                      \n",
      "242  {'__type': 'GeoPoint', 'latitude': 42.055859, ...                      \n",
      "269  {'__type': 'GeoPoint', 'latitude': 42.05833, '...         Coffee Lab   \n",
      "270  {'__type': 'GeoPoint', 'latitude': 42.05833, '...         Coffee Lab   \n",
      "273  {'__type': 'GeoPoint', 'latitude': 42.05697880...                      \n",
      "279  {'__type': 'GeoPoint', 'latitude': 42.05700453...                      \n",
      "299  {'__type': 'GeoPoint', 'latitude': 42.05833, '...         Coffee Lab   \n",
      "323  {'__type': 'GeoPoint', 'latitude': 42.05833, '...         Coffee Lab   \n",
      "326  {'__type': 'GeoPoint', 'latitude': 42.05833, '...         Coffee Lab   \n",
      "411  {'__type': 'GeoPoint', 'latitude': 42.05833, '...         Coffee Lab   \n",
      "431  {'__type': 'GeoPoint', 'latitude': 42.05833, '...         Coffee Lab   \n",
      "434  {'__type': 'GeoPoint', 'latitude': 42.05833, '...         Coffee Lab   \n",
      "442  {'__type': 'GeoPoint', 'latitude': 42.05833, '...         Coffee Lab   \n",
      "478  {'__type': 'GeoPoint', 'latitude': 42.05833, '...         Coffee Lab   \n",
      "522  {'__type': 'GeoPoint', 'latitude': 42.05697147...                      \n",
      "523  {'__type': 'GeoPoint', 'latitude': 42.05833, '...         Coffee Lab   \n",
      "531  {'__type': 'GeoPoint', 'latitude': 42.05833, '...         Coffee Lab   \n",
      "542  {'__type': 'GeoPoint', 'latitude': 42.05833, '...         Coffee Lab   \n",
      "580  {'__type': 'GeoPoint', 'latitude': 42.05624836...                      \n",
      "581  {'__type': 'GeoPoint', 'latitude': 42.05833, '...         Coffee Lab   \n",
      "\n",
      "       objectId                                saveTimeForQuestion  \\\n",
      "38   46qQR6CWyW  {'objectleft': 1486741874, 'objectright': 1486...   \n",
      "60   62dEwhOobu  {'event': 1487210578, 'iswifi': 1487210578, 's...   \n",
      "61   69NoTCjxFs  {'event': 1487257457, 'iswifi': 1487257457, 's...   \n",
      "86   8r7kFjWgaD  {'event': 1487163769, 'iswifi': 1487163769, 's...   \n",
      "103  B8VYjWwDK8  {'event': 1486933338, 'iswifi': 1486933338, 's...   \n",
      "133  DpRJcGpTNV  {'event': 1486796519, 'iswifi': 1486796519, 's...   \n",
      "155  GDymFHPYFF  {'event': 1487117406, 'iswifi': 1487117406, 's...   \n",
      "214  NQUvnLTWQq  {'objectleft': 1486493808, 'objectright': 1486...   \n",
      "236  PQGIueFwaH  {'room': 1486533946, 'markercolor': 1486533946...   \n",
      "242  Q5J9ErZKlq  {'objectleft': 1486702970, 'objectright': 1486...   \n",
      "269  TAln5gsanl  {'event': 1486530172, 'iswifi': 1486530172, 's...   \n",
      "270  TEUXYlbWwd  {'event': 1486751056, 'iswifi': 1486751056, 's...   \n",
      "273  TdHQyZG9dF  {'objectleft': 1486575815, 'objectright': 1486...   \n",
      "279  U4ZNqzkJqs  {'objectleft': 1486414549, 'objectright': 1486...   \n",
      "299  We2Kav6DYE  {'event': 1486486908, 'iswifi': 1486486908, 's...   \n",
      "323  YeKSST6rh3  {'event': 1486706579, 'iswifi': 1486706579, 's...   \n",
      "326  YsiYqXbeVo  {'event': 1486843307, 'iswifi': 1486843307, 's...   \n",
      "411  hsBD1cju03  {'event': 1486886517, 'iswifi': 1486886517, 's...   \n",
      "431  kKOBStrm5U  {'event': 1487070145, 'iswifi': 1487070145, 's...   \n",
      "434  kRMEZTjy7m  {'event': 1487023353, 'iswifi': 1487023353, 's...   \n",
      "442  l5OzUiwTCf  {'event': 1487304167, 'iswifi': 1487304167, 's...   \n",
      "478  pANOlaNGFC  {'event': 1486980136, 'iswifi': 1486980136, 's...   \n",
      "522  u43XZxaR8L  {'objectleft': 1486654825, 'objectright': 1486...   \n",
      "523  u53PY5cXsn  {'event': 1486620117, 'iswifi': 1486620117, 's...   \n",
      "531  usWlN02wyT  {'event': 1486663332, 'iswifi': 1486663332, 's...   \n",
      "542  vqcVF4hRDl  {'event': 1486573375, 'iswifi': 1486573375, 's...   \n",
      "580  zsdCQc2cHe  {'isfood': 1486702917, 'foodkind': 1486702917,...   \n",
      "581  zu4ae7g1qd  {'event': 1487350953, 'iswifi': 1487350953, 's...   \n",
      "\n",
      "    submissionMethod            tag  timestampCreated  timestampLastUpdate  \\\n",
      "38      today_widget  windowdrawing        1486741874           1486741874   \n",
      "60                            space        1487210578           1487210578   \n",
      "61                            space        1487257457           1487257457   \n",
      "86                            space        1487163769           1487163769   \n",
      "103                           space        1486933338           1486933338   \n",
      "133                           space        1486796519           1486796519   \n",
      "155                           space        1487117406           1487117406   \n",
      "214     today_widget  windowdrawing        1486493808           1486493808   \n",
      "236     today_widget       dtrdonut        1486533946           1486533946   \n",
      "242     today_widget  windowdrawing        1486702970           1486702970   \n",
      "269                           space        1486530172           1486530172   \n",
      "270                           space        1486751056           1486751056   \n",
      "273     today_widget  windowdrawing        1486575815           1486575815   \n",
      "279     today_widget  windowdrawing        1486414549           1486414549   \n",
      "299                           space        1486486908           1486486908   \n",
      "323                           space        1486706579           1486706579   \n",
      "326                           space        1486843307           1486843307   \n",
      "411                           space        1486886517           1486886517   \n",
      "431                           space        1487070145           1487070145   \n",
      "434                           space        1487023353           1487023353   \n",
      "442                           space        1487304167           1487304167   \n",
      "478                           space        1486980136           1486980136   \n",
      "522     today_widget  windowdrawing        1486654825           1486654825   \n",
      "523                           space        1486620117           1486620117   \n",
      "531                           space        1486663332           1486663332   \n",
      "542                           space        1486573375           1486573375   \n",
      "580     today_widget     guestevent        1486702917           1486702917   \n",
      "581                           space        1487350953           1487350953   \n",
      "\n",
      "      updatedAt                              vendorId  \n",
      "38   1486764120  F1AE595D-F244-4367-8744-27CA6045TEST  \n",
      "60   1487239457                                        \n",
      "61   1487286166                                        \n",
      "86   1487192577                                        \n",
      "103  1486962135                                        \n",
      "133  1486825307                                        \n",
      "155  1487145768                                        \n",
      "214  1486515751  F1AE595D-F244-4367-8744-27CA60450F0D  \n",
      "236  1486555753  F1AE595D-F244-4367-8744-27CA60450F0D  \n",
      "242  1486729456   F1AE595D-F244-4367-8744-27CA604TEST  \n",
      "269  1486555375                                        \n",
      "270  1486778519                                        \n",
      "273  1486598517  F1AE595D-F244-4367-8744-27CA60450F0D  \n",
      "279  1486465308  F1AE595D-F244-4367-8744-27CA60450F0D  \n",
      "299  1486512172                                        \n",
      "323  1486733056                                        \n",
      "326  1486868517                                        \n",
      "411  1486915337                                        \n",
      "431  1487099406                                        \n",
      "434  1487052144                                        \n",
      "442  1487332952                                        \n",
      "478  1487005353                                        \n",
      "522  1486677792  F1AE595D-F244-4367-8744-27CA60450F0D  \n",
      "523  1486645331                                        \n",
      "531  1486688579                                        \n",
      "542  1486602117                                        \n",
      "580  1486729456  F1AE595D-F244-4367-8744-27CA60450F0D  \n",
      "581  1487332952                                        \n"
     ]
    }
   ],
   "source": [
    "print(hotspots)"
   ]
  },
  {
   "cell_type": "code",
   "execution_count": 12,
   "metadata": {
    "collapsed": false
   },
   "outputs": [
    {
     "name": "stdout",
     "output_type": "stream",
     "text": [
      "    hotspotId                              vendorId\n",
      "0  1Oe3VvnkuA  57DB09A8-068E-4315-B208-D82E24BC7F6D\n"
     ]
    }
   ],
   "source": [
    "print(notifications_responded_to)"
   ]
  },
  {
   "cell_type": "markdown",
   "metadata": {},
   "source": [
    "### Compute average percentage of region info filled"
   ]
  },
  {
   "cell_type": "code",
   "execution_count": 75,
   "metadata": {
    "collapsed": false
   },
   "outputs": [
    {
     "name": "stdout",
     "output_type": "stream",
     "text": [
      "Average number of entries filled in info: nan\n"
     ]
    },
    {
     "name": "stderr",
     "output_type": "stream",
     "text": [
      "/Users/kapilgarg/miniconda3/envs/smearenv/lib/python3.5/site-packages/numpy/core/_methods.py:59: RuntimeWarning: Mean of empty slice.\n",
      "  warnings.warn(\"Mean of empty slice.\", RuntimeWarning)\n",
      "/Users/kapilgarg/miniconda3/envs/smearenv/lib/python3.5/site-packages/numpy/core/_methods.py:70: RuntimeWarning: invalid value encountered in double_scalars\n",
      "  ret = ret.dtype.type(ret / rcount)\n"
     ]
    }
   ],
   "source": [
    "def proportion_filled(info_dict):\n",
    "    \"\"\"\n",
    "    Compute the amount of a info_dict that is filled (i.e. value(key) != '')\n",
    "    \n",
    "    Input:\n",
    "        info_dict (dict): dictionary containing info\n",
    "       \n",
    "    Output: \n",
    "        (float): proportion of info_dict filled\n",
    "    \"\"\"\n",
    "    n_keys = len(info_dict.keys())\n",
    "    used_keys = 0\n",
    "    \n",
    "    for key, value in info_dict.items():\n",
    "        if value != '':\n",
    "            used_keys += 1\n",
    "    \n",
    "    return used_keys / n_keys\n",
    "\n",
    "proportions_for_hotspots = [proportion_filled(x) for x in hotspots['info']]\n",
    "avg_filled = np.average([x for x in proportions_for_hotspots if x > 0])\n",
    "\n",
    "print('Average number of entries filled in info: ' + str(avg_filled))"
   ]
  },
  {
   "cell_type": "code",
   "execution_count": 33,
   "metadata": {
    "collapsed": false
   },
   "outputs": [
    {
     "name": "stdout",
     "output_type": "stream",
     "text": [
      "[\n",
      "    {\n",
      "        \"__type\": \"Object\",\n",
      "        \"archived\": false,\n",
      "        \"archiver\": \"\",\n",
      "        \"beaconId\": \"\",\n",
      "        \"className\": \"hotspot\",\n",
      "        \"createdAt\": \"2017-02-10T05:02:51.382Z\",\n",
      "        \"gmtOffset\": -21600,\n",
      "        \"info\": {\n",
      "            \"colorleft\": \"\",\n",
      "            \"colorright\": \"\",\n",
      "            \"objectleft\": \"\",\n",
      "            \"objectright\": \"\",\n",
      "            \"valueleft\": \"\",\n",
      "            \"valueright\": \"\"\n",
      "        },\n",
      "        \"location\": {\n",
      "            \"__type\": \"GeoPoint\",\n",
      "            \"latitude\": 42.05633281268371,\n",
      "            \"longitude\": -87.68606565900862\n",
      "        },\n",
      "        \"locationCommonName\": \"\",\n",
      "        \"objectId\": \"Q5J9ErZKlq\",\n",
      "        \"saveTimeForQuestion\": {\n",
      "            \"colorleft\": 1486702970,\n",
      "            \"colorright\": 1486702970,\n",
      "            \"objectleft\": 1486702970,\n",
      "            \"objectright\": 1486702970,\n",
      "            \"valueleft\": 1486702970,\n",
      "            \"valueright\": 1486702970\n",
      "        },\n",
      "        \"submissionMethod\": \"today_widget\",\n",
      "        \"tag\": \"windowdrawing\",\n",
      "        \"timestampCreated\": 1486702970,\n",
      "        \"timestampLastUpdate\": 1486702970,\n",
      "        \"updatedAt\": \"2017-02-10T05:02:51.382Z\",\n",
      "        \"vendorId\": \"F1AE595D-F244-4367-8744-27CA604TEST\"\n",
      "    },\n",
      "    {\n",
      "        \"__type\": \"Object\",\n",
      "        \"archived\": false,\n",
      "        \"archiver\": \"\",\n",
      "        \"beaconId\": \"\",\n",
      "        \"className\": \"hotspot\",\n",
      "        \"createdAt\": \"2017-02-10T06:02:59.483Z\",\n",
      "        \"gmtOffset\": -18000,\n",
      "        \"info\": {\n",
      "            \"event\": \"\",\n",
      "            \"isavailable\": \"\",\n",
      "            \"isspace\": \"\",\n",
      "            \"iswifi\": \"\",\n",
      "            \"loudness\": \"\",\n",
      "            \"manypeople\": \"\",\n",
      "            \"seatingnearpower\": \"\",\n",
      "            \"seatingtype\": \"\"\n",
      "        },\n",
      "        \"location\": {\n",
      "            \"__type\": \"GeoPoint\",\n",
      "            \"latitude\": 42.05833,\n",
      "            \"longitude\": -87.683644\n",
      "        },\n",
      "        \"locationCommonName\": \"Coffee Lab\",\n",
      "        \"objectId\": \"YeKSST6rh3\",\n",
      "        \"saveTimeForQuestion\": {\n",
      "            \"event\": 1486706579,\n",
      "            \"isavailable\": 1486706579,\n",
      "            \"isspace\": 1486706579,\n",
      "            \"iswifi\": 1486706579,\n",
      "            \"loudness\": 1486706579,\n",
      "            \"manypeople\": 1486706579,\n",
      "            \"seatingnearpower\": 1486706579,\n",
      "            \"seatingtype\": 1486706579\n",
      "        },\n",
      "        \"submissionMethod\": \"\",\n",
      "        \"tag\": \"space\",\n",
      "        \"timestampCreated\": 1486706579,\n",
      "        \"timestampLastUpdate\": 1486706579,\n",
      "        \"updatedAt\": \"2017-02-10T06:02:59.483Z\",\n",
      "        \"vendorId\": \"\"\n",
      "    }\n",
      "]\n"
     ]
    }
   ],
   "source": [
    "base_url = 'https://dtr-les.herokuapp.com/parse/functions/'\n",
    "header = {'X-Parse-Application-Id': 'PkngqKtJygU9WiQ1GXM9eC0a17tKmioKKmpWftYr'}\n",
    "data = {'latitude': 42.063333,\n",
    "       'longitude':  -87.683778,\n",
    "       'vendorId': 'F1AE595D-F244-4367-8744-27CA60450F0D'}\n",
    "resp = requests.post(base_url + 'naivelyRetrieveLocationsForTracking', headers=header, data=data)\n",
    "print(json.dumps(resp.json()[\"result\"], indent=4, sort_keys=True))"
   ]
  },
  {
   "cell_type": "code",
   "execution_count": 39,
   "metadata": {
    "collapsed": false
   },
   "outputs": [
    {
     "name": "stdout",
     "output_type": "stream",
     "text": [
      "{\n",
      "    \"contributionCount\": 16,\n",
      "    \"contributionLocations\": [\n",
      "        {\n",
      "            \"category\": \"windowdrawing\",\n",
      "            \"contributionType\": \"marked\",\n",
      "            \"hotspotId\": \"46qQR6CWyW\",\n",
      "            \"latitude\": 42.05698039852274,\n",
      "            \"longitude\": -87.67700272620439,\n",
      "            \"timestamp\": 1486720274\n",
      "        },\n",
      "        {\n",
      "            \"category\": \"guestevent\",\n",
      "            \"contributionType\": \"marked\",\n",
      "            \"hotspotId\": \"zsdCQc2cHe\",\n",
      "            \"latitude\": 42.05624836500925,\n",
      "            \"longitude\": -87.68599994488775,\n",
      "            \"timestamp\": 1486681317\n",
      "        },\n",
      "        {\n",
      "            \"category\": \"windowdrawing\",\n",
      "            \"contributionType\": \"marked\",\n",
      "            \"hotspotId\": \"u43XZxaR8L\",\n",
      "            \"latitude\": 42.05697147179586,\n",
      "            \"longitude\": -87.67696542673528,\n",
      "            \"timestamp\": 1486633225\n",
      "        },\n",
      "        {\n",
      "            \"category\": \"windowdrawing\",\n",
      "            \"contributionType\": \"marked\",\n",
      "            \"hotspotId\": \"TdHQyZG9dF\",\n",
      "            \"latitude\": 42.05697880596114,\n",
      "            \"longitude\": -87.67701244921207,\n",
      "            \"timestamp\": 1486554215\n",
      "        },\n",
      "        {\n",
      "            \"category\": \"dtrdonut\",\n",
      "            \"contributionType\": \"marked\",\n",
      "            \"hotspotId\": \"PQGIueFwaH\",\n",
      "            \"latitude\": 42.05633193258387,\n",
      "            \"longitude\": -87.68609885134518,\n",
      "            \"timestamp\": 1486512346\n",
      "        },\n",
      "        {\n",
      "            \"category\": \"windowdrawing\",\n",
      "            \"contributionType\": \"marked\",\n",
      "            \"hotspotId\": \"NQUvnLTWQq\",\n",
      "            \"latitude\": 42.05697360918117,\n",
      "            \"longitude\": -87.6769921650064,\n",
      "            \"timestamp\": 1486472208\n",
      "        },\n",
      "        {\n",
      "            \"category\": \"windowdrawing\",\n",
      "            \"contributionType\": \"marked\",\n",
      "            \"hotspotId\": \"U4ZNqzkJqs\",\n",
      "            \"latitude\": 42.05700453840387,\n",
      "            \"longitude\": -87.67689669512927,\n",
      "            \"timestamp\": 1486392949\n",
      "        },\n",
      "        {\n",
      "            \"category\": \"space\",\n",
      "            \"contributionType\": \"response\",\n",
      "            \"hotspotId\": \"vE4k73uRkZ\",\n",
      "            \"latitude\": 42.05833,\n",
      "            \"longitude\": -87.683644,\n",
      "            \"timestamp\": 1486436092\n",
      "        },\n",
      "        {\n",
      "            \"category\": \"space\",\n",
      "            \"contributionType\": \"response\",\n",
      "            \"hotspotId\": \"vE4k73uRkZ\",\n",
      "            \"latitude\": 42.05833,\n",
      "            \"longitude\": -87.683644,\n",
      "            \"timestamp\": 1486410593\n",
      "        },\n",
      "        {\n",
      "            \"category\": \"space\",\n",
      "            \"contributionType\": \"response\",\n",
      "            \"hotspotId\": \"vE4k73uRkZ\",\n",
      "            \"latitude\": 42.05833,\n",
      "            \"longitude\": -87.683644,\n",
      "            \"timestamp\": 1485898723\n",
      "        }\n",
      "    ],\n",
      "    \"initials\": \"AN\",\n",
      "    \"markedLocationCount\": 38,\n",
      "    \"peopleHelped\": 5,\n",
      "    \"username\": \"anonymous\"\n",
      "}\n"
     ]
    }
   ],
   "source": [
    "base_url = 'https://dtr-les.herokuapp.com/parse/functions/'\n",
    "header = {'X-Parse-Application-Id': 'PkngqKtJygU9WiQ1GXM9eC0a17tKmioKKmpWftYr'}\n",
    "data = {'vendorId': 'F1AE595D-F244-4367-8744-27CA60450F0D'}\n",
    "resp = requests.post(base_url + 'fetchUserProfileData', headers=header, data=data)\n",
    "print(json.dumps(resp.json()[\"result\"], indent=4, sort_keys=True))"
   ]
  },
  {
   "cell_type": "code",
   "execution_count": 7,
   "metadata": {
    "collapsed": false
   },
   "outputs": [
    {
     "name": "stdout",
     "output_type": "stream",
     "text": [
      "<Response [200]>\n"
     ]
    }
   ],
   "source": [
    "base_url = 'https://dtr-les.herokuapp.com/parse/functions/'\n",
    "header = {'X-Parse-Application-Id': 'PkngqKtJygU9WiQ1GXM9eC0a17tKmioKKmpWftYr'}\n",
    "data = {'vendorId': 'F1AE595D-F244-4367-8744-27CA60450F0D'}\n",
    "resp = requests.post(base_url + 'fetchUserProfileData', headers=header, data=data)\n",
    "print(resp)"
   ]
  },
  {
   "cell_type": "code",
   "execution_count": 11,
   "metadata": {
    "collapsed": false
   },
   "outputs": [
    {
     "name": "stdout",
     "output_type": "stream",
     "text": [
      "<Response [201]>\n"
     ]
    }
   ],
   "source": [
    "import requests\n",
    "base_url = 'https://crowdcheerdb.herokuapp.com/parse/classes/CurrRunnerLocation/'\n",
    "header = {'X-Parse-Application-Id': 'QXRTROGsVaRn4a3kw4gaFnHGNOsZxXoZ8ULxwZmf'}\n",
    "data = {\"score\":1337, \"playerName\": \"Sean Plott\"}\n",
    "resp = requests.post(base_url, headers=header, data=data)\n",
    "print(resp)"
   ]
  },
  {
   "cell_type": "code",
   "execution_count": 14,
   "metadata": {
    "collapsed": false
   },
   "outputs": [
    {
     "ename": "gaierror",
     "evalue": "[Errno 8] nodename nor servname provided, or not known",
     "output_type": "error",
     "traceback": [
      "\u001b[0;31m---------------------------------------------------------------------------\u001b[0m",
      "\u001b[0;31mgaierror\u001b[0m                                  Traceback (most recent call last)",
      "\u001b[0;32m<ipython-input-14-4ff261440a23>\u001b[0m in \u001b[0;36m<module>\u001b[0;34m()\u001b[0m\n\u001b[1;32m      1\u001b[0m \u001b[0;32mimport\u001b[0m \u001b[0mhttp\u001b[0m\u001b[0;34m.\u001b[0m\u001b[0mclient\u001b[0m\u001b[0;34m\u001b[0m\u001b[0m\n\u001b[1;32m      2\u001b[0m \u001b[0mconnection\u001b[0m \u001b[0;34m=\u001b[0m \u001b[0mhttp\u001b[0m\u001b[0;34m.\u001b[0m\u001b[0mclient\u001b[0m\u001b[0;34m.\u001b[0m\u001b[0mHTTPSConnection\u001b[0m\u001b[0;34m(\u001b[0m\u001b[0;34m'https://crowdcheerdb.herokuapp.com/parse/classes/CurrRunnerLocation'\u001b[0m\u001b[0;34m,\u001b[0m \u001b[0;36m443\u001b[0m\u001b[0;34m)\u001b[0m\u001b[0;34m\u001b[0m\u001b[0m\n\u001b[0;32m----> 3\u001b[0;31m \u001b[0mconnection\u001b[0m\u001b[0;34m.\u001b[0m\u001b[0mconnect\u001b[0m\u001b[0;34m(\u001b[0m\u001b[0;34m)\u001b[0m\u001b[0;34m\u001b[0m\u001b[0m\n\u001b[0m",
      "\u001b[0;32m/Users/kapilgarg/miniconda3/envs/smearenv/lib/python3.5/http/client.py\u001b[0m in \u001b[0;36mconnect\u001b[0;34m(self)\u001b[0m\n\u001b[1;32m   1250\u001b[0m             \u001b[0;34m\"Connect to a host on a given (SSL) port.\"\u001b[0m\u001b[0;34m\u001b[0m\u001b[0m\n\u001b[1;32m   1251\u001b[0m \u001b[0;34m\u001b[0m\u001b[0m\n\u001b[0;32m-> 1252\u001b[0;31m             \u001b[0msuper\u001b[0m\u001b[0;34m(\u001b[0m\u001b[0;34m)\u001b[0m\u001b[0;34m.\u001b[0m\u001b[0mconnect\u001b[0m\u001b[0;34m(\u001b[0m\u001b[0;34m)\u001b[0m\u001b[0;34m\u001b[0m\u001b[0m\n\u001b[0m\u001b[1;32m   1253\u001b[0m \u001b[0;34m\u001b[0m\u001b[0m\n\u001b[1;32m   1254\u001b[0m             \u001b[0;32mif\u001b[0m \u001b[0mself\u001b[0m\u001b[0;34m.\u001b[0m\u001b[0m_tunnel_host\u001b[0m\u001b[0;34m:\u001b[0m\u001b[0;34m\u001b[0m\u001b[0m\n",
      "\u001b[0;32m/Users/kapilgarg/miniconda3/envs/smearenv/lib/python3.5/http/client.py\u001b[0m in \u001b[0;36mconnect\u001b[0;34m(self)\u001b[0m\n\u001b[1;32m    847\u001b[0m         \u001b[0;34m\"\"\"Connect to the host and port specified in __init__.\"\"\"\u001b[0m\u001b[0;34m\u001b[0m\u001b[0m\n\u001b[1;32m    848\u001b[0m         self.sock = self._create_connection(\n\u001b[0;32m--> 849\u001b[0;31m             (self.host,self.port), self.timeout, self.source_address)\n\u001b[0m\u001b[1;32m    850\u001b[0m         \u001b[0mself\u001b[0m\u001b[0;34m.\u001b[0m\u001b[0msock\u001b[0m\u001b[0;34m.\u001b[0m\u001b[0msetsockopt\u001b[0m\u001b[0;34m(\u001b[0m\u001b[0msocket\u001b[0m\u001b[0;34m.\u001b[0m\u001b[0mIPPROTO_TCP\u001b[0m\u001b[0;34m,\u001b[0m \u001b[0msocket\u001b[0m\u001b[0;34m.\u001b[0m\u001b[0mTCP_NODELAY\u001b[0m\u001b[0;34m,\u001b[0m \u001b[0;36m1\u001b[0m\u001b[0;34m)\u001b[0m\u001b[0;34m\u001b[0m\u001b[0m\n\u001b[1;32m    851\u001b[0m \u001b[0;34m\u001b[0m\u001b[0m\n",
      "\u001b[0;32m/Users/kapilgarg/miniconda3/envs/smearenv/lib/python3.5/socket.py\u001b[0m in \u001b[0;36mcreate_connection\u001b[0;34m(address, timeout, source_address)\u001b[0m\n\u001b[1;32m    691\u001b[0m     \u001b[0mhost\u001b[0m\u001b[0;34m,\u001b[0m \u001b[0mport\u001b[0m \u001b[0;34m=\u001b[0m \u001b[0maddress\u001b[0m\u001b[0;34m\u001b[0m\u001b[0m\n\u001b[1;32m    692\u001b[0m     \u001b[0merr\u001b[0m \u001b[0;34m=\u001b[0m \u001b[0;32mNone\u001b[0m\u001b[0;34m\u001b[0m\u001b[0m\n\u001b[0;32m--> 693\u001b[0;31m     \u001b[0;32mfor\u001b[0m \u001b[0mres\u001b[0m \u001b[0;32min\u001b[0m \u001b[0mgetaddrinfo\u001b[0m\u001b[0;34m(\u001b[0m\u001b[0mhost\u001b[0m\u001b[0;34m,\u001b[0m \u001b[0mport\u001b[0m\u001b[0;34m,\u001b[0m \u001b[0;36m0\u001b[0m\u001b[0;34m,\u001b[0m \u001b[0mSOCK_STREAM\u001b[0m\u001b[0;34m)\u001b[0m\u001b[0;34m:\u001b[0m\u001b[0;34m\u001b[0m\u001b[0m\n\u001b[0m\u001b[1;32m    694\u001b[0m         \u001b[0maf\u001b[0m\u001b[0;34m,\u001b[0m \u001b[0msocktype\u001b[0m\u001b[0;34m,\u001b[0m \u001b[0mproto\u001b[0m\u001b[0;34m,\u001b[0m \u001b[0mcanonname\u001b[0m\u001b[0;34m,\u001b[0m \u001b[0msa\u001b[0m \u001b[0;34m=\u001b[0m \u001b[0mres\u001b[0m\u001b[0;34m\u001b[0m\u001b[0m\n\u001b[1;32m    695\u001b[0m         \u001b[0msock\u001b[0m \u001b[0;34m=\u001b[0m \u001b[0;32mNone\u001b[0m\u001b[0;34m\u001b[0m\u001b[0m\n",
      "\u001b[0;32m/Users/kapilgarg/miniconda3/envs/smearenv/lib/python3.5/socket.py\u001b[0m in \u001b[0;36mgetaddrinfo\u001b[0;34m(host, port, family, type, proto, flags)\u001b[0m\n\u001b[1;32m    730\u001b[0m     \u001b[0;31m# and socket type values to enum constants.\u001b[0m\u001b[0;34m\u001b[0m\u001b[0;34m\u001b[0m\u001b[0m\n\u001b[1;32m    731\u001b[0m     \u001b[0maddrlist\u001b[0m \u001b[0;34m=\u001b[0m \u001b[0;34m[\u001b[0m\u001b[0;34m]\u001b[0m\u001b[0;34m\u001b[0m\u001b[0m\n\u001b[0;32m--> 732\u001b[0;31m     \u001b[0;32mfor\u001b[0m \u001b[0mres\u001b[0m \u001b[0;32min\u001b[0m \u001b[0m_socket\u001b[0m\u001b[0;34m.\u001b[0m\u001b[0mgetaddrinfo\u001b[0m\u001b[0;34m(\u001b[0m\u001b[0mhost\u001b[0m\u001b[0;34m,\u001b[0m \u001b[0mport\u001b[0m\u001b[0;34m,\u001b[0m \u001b[0mfamily\u001b[0m\u001b[0;34m,\u001b[0m \u001b[0mtype\u001b[0m\u001b[0;34m,\u001b[0m \u001b[0mproto\u001b[0m\u001b[0;34m,\u001b[0m \u001b[0mflags\u001b[0m\u001b[0;34m)\u001b[0m\u001b[0;34m:\u001b[0m\u001b[0;34m\u001b[0m\u001b[0m\n\u001b[0m\u001b[1;32m    733\u001b[0m         \u001b[0maf\u001b[0m\u001b[0;34m,\u001b[0m \u001b[0msocktype\u001b[0m\u001b[0;34m,\u001b[0m \u001b[0mproto\u001b[0m\u001b[0;34m,\u001b[0m \u001b[0mcanonname\u001b[0m\u001b[0;34m,\u001b[0m \u001b[0msa\u001b[0m \u001b[0;34m=\u001b[0m \u001b[0mres\u001b[0m\u001b[0;34m\u001b[0m\u001b[0m\n\u001b[1;32m    734\u001b[0m         addrlist.append((_intenum_converter(af, AddressFamily),\n",
      "\u001b[0;31mgaierror\u001b[0m: [Errno 8] nodename nor servname provided, or not known"
     ]
    }
   ],
   "source": [
    "import httplib\n",
    "connection = httplib.HTTPSConnection('https://crowdcheerdb.herokuapp.com/parse/classes/CurrRunnerLocation', 443)\n",
    "connection.connect()"
   ]
  },
  {
   "cell_type": "code",
   "execution_count": null,
   "metadata": {
    "collapsed": true
   },
   "outputs": [],
   "source": []
  }
 ],
 "metadata": {
  "kernelspec": {
   "display_name": "Python 3",
   "language": "python",
   "name": "python3"
  },
  "language_info": {
   "codemirror_mode": {
    "name": "ipython",
    "version": 3
   },
   "file_extension": ".py",
   "mimetype": "text/x-python",
   "name": "python",
   "nbconvert_exporter": "python",
   "pygments_lexer": "ipython3",
   "version": "3.6.0"
  }
 },
 "nbformat": 4,
 "nbformat_minor": 0
}
