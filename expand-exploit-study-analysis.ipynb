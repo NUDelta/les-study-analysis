{
 "cells": [
  {
   "cell_type": "markdown",
   "metadata": {},
   "source": [
    "# eXpand and eXploit Study Analysis\n",
    "This notebook is used to analyze data from the eXpand and eXploit study conducted during May 2017 - June 2017"
   ]
  },
  {
   "cell_type": "markdown",
   "metadata": {},
   "source": [
    "# Imports and Common Functions"
   ]
  },
  {
   "cell_type": "code",
   "execution_count": 1,
   "metadata": {
    "collapsed": true
   },
   "outputs": [],
   "source": [
    "import requests\n",
    "import json\n",
    "import pandas as pd\n",
    "import numpy as np\n",
    "import datetime"
   ]
  },
  {
   "cell_type": "code",
   "execution_count": 23,
   "metadata": {
    "collapsed": true
   },
   "outputs": [],
   "source": [
    "import seaborn as sns\n",
    "import matplotlib.pyplot as plt\n",
    "from matplotlib.colors import ListedColormap\n",
    "%matplotlib inline"
   ]
  },
  {
   "cell_type": "markdown",
   "metadata": {},
   "source": [
    "# Loading in data from Parse"
   ]
  },
  {
   "cell_type": "code",
   "execution_count": 2,
   "metadata": {
    "collapsed": true
   },
   "outputs": [],
   "source": [
    "# URL and header for Parse\n",
    "base_url = 'https://les-expand.herokuapp.com/parse/classes/'\n",
    "header = {'X-Parse-Application-Id': 'PkngqKtJygU9WiQ1GXM9eC0a17tKmioKKmpWftYr'}\n",
    "data = {'limit': '10000'}"
   ]
  },
  {
   "cell_type": "markdown",
   "metadata": {},
   "source": [
    "## eXpand data"
   ]
  },
  {
   "cell_type": "code",
   "execution_count": 3,
   "metadata": {
    "collapsed": true
   },
   "outputs": [],
   "source": [
    "# expand outer notifications\n",
    "resp = requests.get(base_url + 'expandNotifications', headers=header, data=data)\n",
    "expand_notfications = pd.DataFrame(resp.json()['results'])\n",
    "\n",
    "expand_notfications_string_cols = ['objectId', 'levelOfInformation', 'vendorId', \\\n",
    "                                   'tag', 'distanceCondition', 'hotspotId']\n",
    "expand_notfications['createdAt'] = (pd.to_datetime(expand_notfications['createdAt']).astype(np.int64) // 10**9)\n",
    "expand_notfications['updatedAt'] = (pd.to_datetime(expand_notfications['updatedAt']).astype(np.int64) // 10**9)\n",
    "expand_notfications[expand_notfications_string_cols] = expand_notfications[expand_notfications_string_cols].astype(str)\n",
    "\n",
    "# expand outer notifications response\n",
    "resp = requests.get(base_url + 'expandResponses', headers=header, data=data)\n",
    "expand_response = pd.DataFrame(resp.json()['results'])\n",
    "\n",
    "expand_response_string_cols = ['objectId', 'levelOfInformation', 'emaResponse', \\\n",
    "                                   'vendorId', 'distanceCondition', 'hotspotId']\n",
    "expand_response['createdAt'] = (pd.to_datetime(expand_response['createdAt']).astype(np.int64) // 10**9)\n",
    "expand_response['updatedAt'] = (pd.to_datetime(expand_response['updatedAt']).astype(np.int64) // 10**9)\n",
    "expand_response[expand_response_string_cols] = expand_response[expand_response_string_cols].astype(str)"
   ]
  },
  {
   "cell_type": "markdown",
   "metadata": {},
   "source": [
    "## At-location notification responses"
   ]
  },
  {
   "cell_type": "code",
   "execution_count": 4,
   "metadata": {
    "collapsed": true
   },
   "outputs": [],
   "source": [
    "# hotspots\n",
    "resp = requests.get(base_url + 'hotspot', headers=header, data=data)\n",
    "hotspots = pd.DataFrame(resp.json()['results'])\n",
    "\n",
    "hotspot_string_cols = ['objectId', 'vendorId', 'archiver', 'locationCommonName', \\\n",
    "                       'tag', 'submissionMethod', 'beaconId']\n",
    "hotspots['createdAt'] = (pd.to_datetime(hotspots['createdAt']).astype(np.int64) // 10**9)\n",
    "hotspots['updatedAt'] = (pd.to_datetime(hotspots['updatedAt']).astype(np.int64) // 10**9)\n",
    "hotspots[hotspot_string_cols] = hotspots[hotspot_string_cols].astype(str)\n",
    "\n",
    "# sent notifications\n",
    "resp = requests.get(base_url + 'notificationSent', headers=header, data=data)\n",
    "notification_sent = pd.DataFrame(resp.json()['results'])\n",
    "\n",
    "notification_sent_string_cols = ['objectId', 'vendorId', 'hotspotId', 'notificationString']\n",
    "notification_sent['createdAt'] = (pd.to_datetime(notification_sent['createdAt']).astype(np.int64) // 10**9)\n",
    "notification_sent['updatedAt'] = (pd.to_datetime(notification_sent['updatedAt']).astype(np.int64) // 10**9)\n",
    "notification_sent[notification_sent_string_cols] = notification_sent[notification_sent_string_cols].astype(str)\n",
    "\n",
    "# notification responses\n",
    "resp = requests.get(base_url + 'pingResponse', headers=header, data=data)\n",
    "notification_responses = pd.DataFrame(resp.json()['results'])\n",
    "\n",
    "notification_responses_string_cols = ['objectId', 'hotspotId', 'vendorId', 'question', 'response', 'tag']\n",
    "notification_responses['createdAt'] = (pd.to_datetime(notification_responses['createdAt']).astype(np.int64) // 10**9)\n",
    "notification_responses['updatedAt'] = (pd.to_datetime(notification_responses['updatedAt']).astype(np.int64) // 10**9)\n",
    "notification_responses[notification_responses_string_cols] = \\\n",
    "    notification_responses[notification_responses_string_cols].astype(str)\n",
    "\n",
    "# users\n",
    "resp = requests.get(base_url + 'user', headers=header, data=data)\n",
    "users = pd.DataFrame(resp.json()['results'])\n",
    "\n",
    "user_string_cols = ['objectId', 'firstName', 'lastName', 'vendorId', \\\n",
    "                    'firstPreference', 'secondPreference', 'thirdPreference', 'fourthPreference']\n",
    "users['createdAt'] = (pd.to_datetime(users['createdAt']).astype(np.int64) // 10**9)\n",
    "users['updatedAt'] = (pd.to_datetime(users['updatedAt']).astype(np.int64) // 10**9)\n",
    "users[user_string_cols] = users[user_string_cols].astype(str)\n",
    "\n",
    "# pretracking debug (to see app terminations) \n",
    "resp = requests.get(base_url + 'pretracking_debug', headers=header, data=data)\n",
    "debug = pd.DataFrame(resp.json()['results'])\n",
    "\n",
    "debug_string_cols = ['objectId', 'vendor_id', 'console_string']\n",
    "debug['createdAt'] = (pd.to_datetime(debug['createdAt']).astype(np.int64) // 10**9)\n",
    "debug['updatedAt'] = (pd.to_datetime(debug['updatedAt']).astype(np.int64) // 10**9)\n",
    "debug[debug_string_cols] = debug[debug_string_cols].astype(str)"
   ]
  },
  {
   "cell_type": "markdown",
   "metadata": {},
   "source": [
    "## eXploit data"
   ]
  },
  {
   "cell_type": "code",
   "execution_count": 5,
   "metadata": {
    "collapsed": true
   },
   "outputs": [],
   "source": [
    "# eXploit locations\n",
    "resp = requests.get(base_url + 'exploitLocations', headers=header, data=data)\n",
    "exploit_locations = pd.DataFrame(resp.json()['results'])\n",
    "\n",
    "exploit_locations_string_cols = ['objectId', 'vendorId', 'tag', 'question']\n",
    "exploit_locations['createdAt'] = (pd.to_datetime(exploit_locations['createdAt']).astype(np.int64) // 10**9)\n",
    "exploit_locations['updatedAt'] = (pd.to_datetime(exploit_locations['updatedAt']).astype(np.int64) // 10**9)\n",
    "exploit_locations[exploit_locations_string_cols] = exploit_locations[exploit_locations_string_cols].astype(str)\n",
    "\n",
    "# eXploit notifications\n",
    "resp = requests.get(base_url + 'exploitNotification', headers=header, data=data)\n",
    "exploit_notifications = pd.DataFrame(resp.json()['results'])\n",
    "\n",
    "exploit_notifications_string_cols = ['objectId', 'vendorId', 'exploitId']\n",
    "exploit_notifications['createdAt'] = (pd.to_datetime(exploit_notifications['createdAt']).astype(np.int64) // 10**9)\n",
    "exploit_notifications['updatedAt'] = (pd.to_datetime(exploit_notifications['updatedAt']).astype(np.int64) // 10**9)\n",
    "exploit_notifications[exploit_notifications_string_cols] = exploit_notifications[exploit_notifications_string_cols].astype(str)\n",
    "\n",
    "# eXploit responses\n",
    "resp = requests.get(base_url + 'exploitResponses', headers=header, data=data)\n",
    "exploit_responses = pd.DataFrame(resp.json()['results'])\n",
    "\n",
    "exploit_responses_string_cols = ['objectId', 'vendorId', 'exploitId', 'questionResponse']\n",
    "exploit_responses['createdAt'] = (pd.to_datetime(exploit_responses['createdAt']).astype(np.int64) // 10**9)\n",
    "exploit_responses['updatedAt'] = (pd.to_datetime(exploit_responses['updatedAt']).astype(np.int64) // 10**9)\n",
    "exploit_responses[exploit_responses_string_cols] = exploit_responses[exploit_responses_string_cols].astype(str)"
   ]
  },
  {
   "cell_type": "markdown",
   "metadata": {},
   "source": [
    "# Clean Data"
   ]
  },
  {
   "cell_type": "code",
   "execution_count": 6,
   "metadata": {},
   "outputs": [
    {
     "name": "stdout",
     "output_type": "stream",
     "text": [
      "Study Length: 12 days\n"
     ]
    }
   ],
   "source": [
    "# exclude researcher and dropped out subject\n",
    "researcher_vendor_id = 'F1AE595D-F244-4367-8744-27CA60450F0D'\n",
    "vendor_id_exclude_list = [researcher_vendor_id, '53C6A88A-8427-40D1-A4C5-103A47C655C2']\n",
    "\n",
    "# filter data for timestamps between CST start and end time\n",
    "start_time = 1495947600 # 05-28-2017 00:00:00\n",
    "end_time   = 1496984400 # 06-09-2017 00:00:00\n",
    "\n",
    "start_date = datetime.datetime.fromtimestamp(start_time)\n",
    "end_date = datetime.datetime.fromtimestamp(end_time)\n",
    "\n",
    "print('Study Length: {} days'.format((end_date - start_date).days))"
   ]
  },
  {
   "cell_type": "markdown",
   "metadata": {},
   "source": [
    "## Subset dates and remove invalid IDs"
   ]
  },
  {
   "cell_type": "code",
   "execution_count": 7,
   "metadata": {
    "collapsed": true
   },
   "outputs": [],
   "source": [
    "expand_notfications = expand_notfications[(expand_notfications['createdAt'] >= start_time) & (expand_notfications['createdAt'] < end_time) & \\\n",
    "                                          (~expand_notfications['vendorId'].isin(vendor_id_exclude_list))].reset_index(drop=True)\n",
    "expand_response = expand_response[(expand_response['createdAt'] >= start_time) & (expand_response['createdAt'] < end_time) & \\\n",
    "                                  (~expand_response['vendorId'].isin(vendor_id_exclude_list))].reset_index(drop=True)"
   ]
  },
  {
   "cell_type": "code",
   "execution_count": 8,
   "metadata": {
    "collapsed": true
   },
   "outputs": [],
   "source": [
    "hotspots = hotspots[(hotspots['createdAt'] >= start_time) & (hotspots['createdAt'] < end_time) & \\\n",
    "                    (~hotspots['vendorId'].isin(vendor_id_exclude_list))].reset_index(drop=True)\n",
    "\n",
    "notification_sent = notification_sent[(notification_sent['createdAt'] >= start_time) & (notification_sent['createdAt'] < end_time) & \\\n",
    "                                      (~notification_sent['vendorId'].isin(vendor_id_exclude_list))].reset_index(drop=True)\n",
    "\n",
    "notification_responses = notification_responses[(notification_responses['createdAt'] >= start_time) & (notification_responses['createdAt'] < end_time) & \\\n",
    "                                                (~notification_responses['vendorId'].isin(vendor_id_exclude_list))].reset_index(drop=True)\n",
    "\n",
    "users = users[(users['createdAt'] >= start_time) & (users['createdAt'] < end_time) & \\\n",
    "              (~users['vendorId'].isin(vendor_id_exclude_list))].reset_index(drop=True)\n",
    "\n",
    "debug = debug[(debug['createdAt'] >= start_time) & (debug['createdAt'] < end_time) & \\\n",
    "              (~debug['vendor_id'].isin(vendor_id_exclude_list))].reset_index(drop=True)"
   ]
  },
  {
   "cell_type": "code",
   "execution_count": 9,
   "metadata": {
    "collapsed": true
   },
   "outputs": [],
   "source": [
    "exploit_notifications = exploit_notifications[(exploit_notifications['createdAt'] >= start_time) & (exploit_notifications['createdAt'] < end_time) & \\\n",
    "                                              (~exploit_notifications['vendorId'].isin(vendor_id_exclude_list))].reset_index(drop=True)\n",
    "exploit_responses = exploit_responses[(exploit_responses['createdAt'] >= start_time) & (exploit_responses['createdAt'] < end_time) & \\\n",
    "                                      (~exploit_responses['vendorId'].isin(vendor_id_exclude_list))].reset_index(drop=True)"
   ]
  },
  {
   "cell_type": "markdown",
   "metadata": {},
   "source": [
    "## Remove responses where response is default Apple response"
   ]
  },
  {
   "cell_type": "code",
   "execution_count": 10,
   "metadata": {
    "collapsed": true
   },
   "outputs": [],
   "source": [
    "apple_responses = ['com.apple.UNNotificationDefaultActionIdentifier', 'com.apple.UNNotificationDismissActionIdentifier']\n",
    "\n",
    "expand_response = expand_response[~expand_response['emaResponse'].isin(apple_responses)]\n",
    "notification_responses = notification_responses[~notification_responses['response'].isin(apple_responses)]\n",
    "exploit_responses = exploit_responses[~exploit_responses['questionResponse'].isin(apple_responses)]"
   ]
  },
  {
   "cell_type": "markdown",
   "metadata": {},
   "source": [
    "# Analysis \n",
    "We segment the analysis into three sections.\n",
    "1. eXpand acceptance rate: here we analyze how many users said they would go to a location and why.\n",
    "2. At-location contribution rate: we conduct a eXplore like analysis of how people contribute when they go to the location.\n",
    "3. eXploit contribution rate: a simple analysis of how people contribute to eXploit notifications."
   ]
  },
  {
   "cell_type": "markdown",
   "metadata": {},
   "source": [
    "# eXpand acceptance rate"
   ]
  },
  {
   "cell_type": "code",
   "execution_count": 11,
   "metadata": {},
   "outputs": [
    {
     "data": {
      "text/html": [
       "<div>\n",
       "<style>\n",
       "    .dataframe thead tr:only-child th {\n",
       "        text-align: right;\n",
       "    }\n",
       "\n",
       "    .dataframe thead th {\n",
       "        text-align: left;\n",
       "    }\n",
       "\n",
       "    .dataframe tbody tr th {\n",
       "        vertical-align: top;\n",
       "    }\n",
       "</style>\n",
       "<table border=\"1\" class=\"dataframe\">\n",
       "  <thead>\n",
       "    <tr style=\"text-align: right;\">\n",
       "      <th></th>\n",
       "      <th>bearingToLocation</th>\n",
       "      <th>createdAt</th>\n",
       "      <th>distanceCondition</th>\n",
       "      <th>distanceToRegion</th>\n",
       "      <th>gmtOffset</th>\n",
       "      <th>hotspotId</th>\n",
       "      <th>levelOfInformation</th>\n",
       "      <th>objectId</th>\n",
       "      <th>tag</th>\n",
       "      <th>timestamp_sent</th>\n",
       "      <th>updatedAt</th>\n",
       "      <th>vendorId</th>\n",
       "      <th>timestamp_response</th>\n",
       "      <th>emaResponse</th>\n",
       "      <th>locationCommonName</th>\n",
       "    </tr>\n",
       "  </thead>\n",
       "  <tbody>\n",
       "    <tr>\n",
       "      <th>0</th>\n",
       "      <td>31.930153</td>\n",
       "      <td>1496337757</td>\n",
       "      <td>200</td>\n",
       "      <td>199.749421</td>\n",
       "      <td>-18000</td>\n",
       "      <td>K6l3pl851i</td>\n",
       "      <td>1</td>\n",
       "      <td>DikRa4Ry0l</td>\n",
       "      <td>food</td>\n",
       "      <td>1496337757</td>\n",
       "      <td>1496337757</td>\n",
       "      <td>6FCA799C-3F56-425F-96B2-47CF72B84BC5</td>\n",
       "      <td>1496337841</td>\n",
       "      <td>No, I have somewhere that I need to be.</td>\n",
       "      <td>McCormick Career Development Office (Ford 2nd ...</td>\n",
       "    </tr>\n",
       "    <tr>\n",
       "      <th>1</th>\n",
       "      <td>215.656448</td>\n",
       "      <td>1496337852</td>\n",
       "      <td>400</td>\n",
       "      <td>39.886554</td>\n",
       "      <td>-18000</td>\n",
       "      <td>K6l3pl851i</td>\n",
       "      <td>2</td>\n",
       "      <td>iVxWf4AVqg</td>\n",
       "      <td>food</td>\n",
       "      <td>1496337851</td>\n",
       "      <td>1496337852</td>\n",
       "      <td>FDFE420C-04ED-47D6-AADF-8909DD559659</td>\n",
       "      <td>1496337928</td>\n",
       "      <td>Yes! Great to know, I'm going to go now!</td>\n",
       "      <td>McCormick Career Development Office (Ford 2nd ...</td>\n",
       "    </tr>\n",
       "    <tr>\n",
       "      <th>2</th>\n",
       "      <td>17.015173</td>\n",
       "      <td>1496338500</td>\n",
       "      <td>200</td>\n",
       "      <td>255.780418</td>\n",
       "      <td>-18000</td>\n",
       "      <td>rR31iA8wvh</td>\n",
       "      <td>2</td>\n",
       "      <td>6rTelktdQi</td>\n",
       "      <td>coffeeshops</td>\n",
       "      <td>1496338500</td>\n",
       "      <td>1496338500</td>\n",
       "      <td>EB127CEF-FF56-47EE-99D2-F6F72D7725E1</td>\n",
       "      <td>1496338549</td>\n",
       "      <td>No, I'm not interested.</td>\n",
       "      <td>Norbucks</td>\n",
       "    </tr>\n",
       "    <tr>\n",
       "      <th>3</th>\n",
       "      <td>142.586681</td>\n",
       "      <td>1496338616</td>\n",
       "      <td>300</td>\n",
       "      <td>38.441369</td>\n",
       "      <td>-18000</td>\n",
       "      <td>K6l3pl851i</td>\n",
       "      <td>2</td>\n",
       "      <td>tIaz0yUHtz</td>\n",
       "      <td>food</td>\n",
       "      <td>1496338616</td>\n",
       "      <td>1496338616</td>\n",
       "      <td>082918FC-40D0-4E15-916F-B0DC4DCE8A7A</td>\n",
       "      <td>1496338862</td>\n",
       "      <td>Yes! Great to know, I'm going to go now!</td>\n",
       "      <td>McCormick Career Development Office (Ford 2nd ...</td>\n",
       "    </tr>\n",
       "    <tr>\n",
       "      <th>4</th>\n",
       "      <td>157.114694</td>\n",
       "      <td>1496339052</td>\n",
       "      <td>400</td>\n",
       "      <td>42.150502</td>\n",
       "      <td>-18000</td>\n",
       "      <td>rR31iA8wvh</td>\n",
       "      <td>2</td>\n",
       "      <td>tVrVLdjB5p</td>\n",
       "      <td>coffeeshops</td>\n",
       "      <td>1496339052</td>\n",
       "      <td>1496339052</td>\n",
       "      <td>8CB7207D-EFDB-495B-B460-FE0E268D695A</td>\n",
       "      <td>1496339088</td>\n",
       "      <td>No, I'm not interested.</td>\n",
       "      <td>Norbucks</td>\n",
       "    </tr>\n",
       "  </tbody>\n",
       "</table>\n",
       "</div>"
      ],
      "text/plain": [
       "   bearingToLocation   createdAt distanceCondition  distanceToRegion  \\\n",
       "0          31.930153  1496337757               200        199.749421   \n",
       "1         215.656448  1496337852               400         39.886554   \n",
       "2          17.015173  1496338500               200        255.780418   \n",
       "3         142.586681  1496338616               300         38.441369   \n",
       "4         157.114694  1496339052               400         42.150502   \n",
       "\n",
       "   gmtOffset   hotspotId levelOfInformation    objectId          tag  \\\n",
       "0     -18000  K6l3pl851i                  1  DikRa4Ry0l         food   \n",
       "1     -18000  K6l3pl851i                  2  iVxWf4AVqg         food   \n",
       "2     -18000  rR31iA8wvh                  2  6rTelktdQi  coffeeshops   \n",
       "3     -18000  K6l3pl851i                  2  tIaz0yUHtz         food   \n",
       "4     -18000  rR31iA8wvh                  2  tVrVLdjB5p  coffeeshops   \n",
       "\n",
       "   timestamp_sent   updatedAt                              vendorId  \\\n",
       "0      1496337757  1496337757  6FCA799C-3F56-425F-96B2-47CF72B84BC5   \n",
       "1      1496337851  1496337852  FDFE420C-04ED-47D6-AADF-8909DD559659   \n",
       "2      1496338500  1496338500  EB127CEF-FF56-47EE-99D2-F6F72D7725E1   \n",
       "3      1496338616  1496338616  082918FC-40D0-4E15-916F-B0DC4DCE8A7A   \n",
       "4      1496339052  1496339052  8CB7207D-EFDB-495B-B460-FE0E268D695A   \n",
       "\n",
       "   timestamp_response                               emaResponse  \\\n",
       "0          1496337841   No, I have somewhere that I need to be.   \n",
       "1          1496337928  Yes! Great to know, I'm going to go now!   \n",
       "2          1496338549                   No, I'm not interested.   \n",
       "3          1496338862  Yes! Great to know, I'm going to go now!   \n",
       "4          1496339088                   No, I'm not interested.   \n",
       "\n",
       "                                  locationCommonName  \n",
       "0  McCormick Career Development Office (Ford 2nd ...  \n",
       "1  McCormick Career Development Office (Ford 2nd ...  \n",
       "2                                           Norbucks  \n",
       "3  McCormick Career Development Office (Ford 2nd ...  \n",
       "4                                           Norbucks  "
      ]
     },
     "execution_count": 11,
     "metadata": {},
     "output_type": "execute_result"
    }
   ],
   "source": [
    "# merge expand_send and expand_response\n",
    "merged_expand = expand_notfications.merge(expand_response[['hotspotId', 'vendorId', 'timestamp', 'emaResponse']], \\\n",
    "                                          on=['hotspotId', 'vendorId'], how='left')\n",
    "\n",
    "# add in location data from hotspot df\n",
    "merged_expand = merged_expand.merge(hotspots[['objectId', 'locationCommonName']], \\\n",
    "                                    left_on='hotspotId', right_on='objectId', how='left')\n",
    "\n",
    "# delete extra columns and rename\n",
    "del merged_expand['objectId_y']\n",
    "merged_expand.rename(columns={'timestamp_x': 'timestamp_sent', 'timestamp_y': 'timestamp_response', 'objectId_x': 'objectId'}, inplace=True)\n",
    "\n",
    "# replace NAs\n",
    "merged_expand['timestamp_response'].fillna(-1, inplace=True)\n",
    "merged_expand['tag'].fillna('', inplace=True)\n",
    "merged_expand['emaResponse'].fillna('missed notification', inplace=True)\n",
    "\n",
    "# replace UNNotificationDefaultActionIdentifier and UNNotificationDismissActionIdentifier with missed notifications\n",
    "merged_expand['emaResponse'].replace(['com.apple.UNNotificationDefaultActionIdentifier', 'com.apple.UNNotificationDismissActionIdentifier'], 'missed notification', inplace=True)\n",
    "\n",
    "# type cast timestamp_response\n",
    "merged_expand['timestamp_response'] = merged_expand['timestamp_response'].astype(np.int64)\n",
    "\n",
    "# keep only last if there are duplicate rows\n",
    "merged_expand['vendor_hotspot_id'] = merged_expand['vendorId'] + '_' + merged_expand['hotspotId']\n",
    "merged_expand = merged_expand[~(merged_expand.duplicated(subset='vendor_hotspot_id', keep='last'))].reset_index(drop=True)\n",
    "del merged_expand['vendor_hotspot_id']\n",
    "\n",
    "# remove rows with NAs\n",
    "merged_expand.dropna(inplace=True)\n",
    "\n",
    "# show data frame\n",
    "merged_expand.head(5)"
   ]
  },
  {
   "cell_type": "code",
   "execution_count": 12,
   "metadata": {},
   "outputs": [
    {
     "name": "stdout",
     "output_type": "stream",
     "text": [
      "Number of eXpand notifications: 298\n"
     ]
    }
   ],
   "source": [
    "print('Number of eXpand notifications: {}'.format(len(merged_expand)))"
   ]
  },
  {
   "cell_type": "markdown",
   "metadata": {},
   "source": [
    "## Compute EMA responses by location category"
   ]
  },
  {
   "cell_type": "code",
   "execution_count": 13,
   "metadata": {},
   "outputs": [
    {
     "data": {
      "text/html": [
       "<div>\n",
       "<style>\n",
       "    .dataframe thead tr:only-child th {\n",
       "        text-align: right;\n",
       "    }\n",
       "\n",
       "    .dataframe thead th {\n",
       "        text-align: left;\n",
       "    }\n",
       "\n",
       "    .dataframe tbody tr th {\n",
       "        vertical-align: top;\n",
       "    }\n",
       "</style>\n",
       "<table border=\"1\" class=\"dataframe\">\n",
       "  <thead>\n",
       "    <tr style=\"text-align: right;\">\n",
       "      <th></th>\n",
       "      <th>emaResponse</th>\n",
       "      <th>count</th>\n",
       "    </tr>\n",
       "  </thead>\n",
       "  <tbody>\n",
       "    <tr>\n",
       "      <th>0</th>\n",
       "      <td>No, I have somewhere that I need to be.</td>\n",
       "      <td>80</td>\n",
       "    </tr>\n",
       "    <tr>\n",
       "      <th>1</th>\n",
       "      <td>No, I'm not interested.</td>\n",
       "      <td>60</td>\n",
       "    </tr>\n",
       "    <tr>\n",
       "      <th>2</th>\n",
       "      <td>No, other reason.</td>\n",
       "      <td>4</td>\n",
       "    </tr>\n",
       "    <tr>\n",
       "      <th>3</th>\n",
       "      <td>Yes! Great to know, I'm going to go now!</td>\n",
       "      <td>27</td>\n",
       "    </tr>\n",
       "    <tr>\n",
       "      <th>4</th>\n",
       "      <td>Yes, but I was already going there.</td>\n",
       "      <td>14</td>\n",
       "    </tr>\n",
       "    <tr>\n",
       "      <th>5</th>\n",
       "      <td>missed notification</td>\n",
       "      <td>113</td>\n",
       "    </tr>\n",
       "  </tbody>\n",
       "</table>\n",
       "</div>"
      ],
      "text/plain": [
       "                                emaResponse  count\n",
       "0   No, I have somewhere that I need to be.     80\n",
       "1                   No, I'm not interested.     60\n",
       "2                         No, other reason.      4\n",
       "3  Yes! Great to know, I'm going to go now!     27\n",
       "4       Yes, but I was already going there.     14\n",
       "5                       missed notification    113"
      ]
     },
     "execution_count": 13,
     "metadata": {},
     "output_type": "execute_result"
    }
   ],
   "source": [
    "merged_expand.groupby(['emaResponse'])['emaResponse'].count().reset_index(name='count')"
   ]
  },
  {
   "cell_type": "code",
   "execution_count": 14,
   "metadata": {},
   "outputs": [
    {
     "data": {
      "text/html": [
       "<div>\n",
       "<style>\n",
       "    .dataframe thead tr:only-child th {\n",
       "        text-align: right;\n",
       "    }\n",
       "\n",
       "    .dataframe thead th {\n",
       "        text-align: left;\n",
       "    }\n",
       "\n",
       "    .dataframe tbody tr th {\n",
       "        vertical-align: top;\n",
       "    }\n",
       "</style>\n",
       "<table border=\"1\" class=\"dataframe\">\n",
       "  <thead>\n",
       "    <tr>\n",
       "      <th></th>\n",
       "      <th colspan=\"2\" halign=\"left\">count</th>\n",
       "    </tr>\n",
       "    <tr>\n",
       "      <th>tag</th>\n",
       "      <th>coffeeshops</th>\n",
       "      <th>food</th>\n",
       "    </tr>\n",
       "    <tr>\n",
       "      <th>emaResponse</th>\n",
       "      <th></th>\n",
       "      <th></th>\n",
       "    </tr>\n",
       "  </thead>\n",
       "  <tbody>\n",
       "    <tr>\n",
       "      <th>No, I have somewhere that I need to be.</th>\n",
       "      <td>47</td>\n",
       "      <td>33</td>\n",
       "    </tr>\n",
       "    <tr>\n",
       "      <th>No, I'm not interested.</th>\n",
       "      <td>52</td>\n",
       "      <td>8</td>\n",
       "    </tr>\n",
       "    <tr>\n",
       "      <th>No, other reason.</th>\n",
       "      <td>3</td>\n",
       "      <td>1</td>\n",
       "    </tr>\n",
       "    <tr>\n",
       "      <th>Yes! Great to know, I'm going to go now!</th>\n",
       "      <td>9</td>\n",
       "      <td>18</td>\n",
       "    </tr>\n",
       "    <tr>\n",
       "      <th>Yes, but I was already going there.</th>\n",
       "      <td>6</td>\n",
       "      <td>8</td>\n",
       "    </tr>\n",
       "    <tr>\n",
       "      <th>missed notification</th>\n",
       "      <td>66</td>\n",
       "      <td>47</td>\n",
       "    </tr>\n",
       "  </tbody>\n",
       "</table>\n",
       "</div>"
      ],
      "text/plain": [
       "                                               count     \n",
       "tag                                      coffeeshops food\n",
       "emaResponse                                              \n",
       "No, I have somewhere that I need to be.           47   33\n",
       "No, I'm not interested.                           52    8\n",
       "No, other reason.                                  3    1\n",
       "Yes! Great to know, I'm going to go now!           9   18\n",
       "Yes, but I was already going there.                6    8\n",
       "missed notification                               66   47"
      ]
     },
     "execution_count": 14,
     "metadata": {},
     "output_type": "execute_result"
    }
   ],
   "source": [
    "ema_response_count = merged_expand.groupby(['emaResponse', 'tag'])['emaResponse'].count().reset_index(name='count')\n",
    "ema_response_count.pivot(index='emaResponse', columns='tag')"
   ]
  },
  {
   "cell_type": "markdown",
   "metadata": {},
   "source": [
    "## Compute acceptance rate by level of information vs distance"
   ]
  },
  {
   "cell_type": "markdown",
   "metadata": {},
   "source": [
    "Here, we take responses where the **EMA response was either 'Yes, but I was already going there.', 'Yes! Great to know, I\\'m going to go now!' as critera for users accepting the notification**. "
   ]
  },
  {
   "cell_type": "code",
   "execution_count": 15,
   "metadata": {},
   "outputs": [
    {
     "name": "stderr",
     "output_type": "stream",
     "text": [
      "/Users/kapilgarg/miniconda3/envs/les/lib/python3.6/site-packages/ipykernel_launcher.py:6: SettingWithCopyWarning: \n",
      "A value is trying to be set on a copy of a slice from a DataFrame.\n",
      "Try using .loc[row_indexer,col_indexer] = value instead\n",
      "\n",
      "See the caveats in the documentation: http://pandas.pydata.org/pandas-docs/stable/indexing.html#indexing-view-versus-copy\n",
      "  \n",
      "/Users/kapilgarg/miniconda3/envs/les/lib/python3.6/site-packages/pandas/core/indexing.py:179: SettingWithCopyWarning: \n",
      "A value is trying to be set on a copy of a slice from a DataFrame\n",
      "\n",
      "See the caveats in the documentation: http://pandas.pydata.org/pandas-docs/stable/indexing.html#indexing-view-versus-copy\n",
      "  self._setitem_with_indexer(indexer, value)\n",
      "/Users/kapilgarg/miniconda3/envs/les/lib/python3.6/site-packages/ipykernel_launcher.py:7: SettingWithCopyWarning: \n",
      "A value is trying to be set on a copy of a slice from a DataFrame\n",
      "\n",
      "See the caveats in the documentation: http://pandas.pydata.org/pandas-docs/stable/indexing.html#indexing-view-versus-copy\n",
      "  import sys\n"
     ]
    }
   ],
   "source": [
    "simplified_merged_expand = merged_expand[['distanceCondition', 'levelOfInformation', 'tag', 'emaResponse']]\n",
    "\n",
    "# UNCOMMENT TO IGNORE MISSED NOTIFICATIONS\n",
    "# simplified_merged_expand = simplified_merged_expand[simplified_merged_expand['emaResponse'] != 'missed notification']\n",
    "\n",
    "simplified_merged_expand['wantToGo'] = 'no'\n",
    "simplified_merged_expand.loc[simplified_merged_expand['emaResponse'].isin(['Yes, but I was already going there.', 'Yes! Great to know, I\\'m going to go now!']), 'wantToGo'] = 'yes'"
   ]
  },
  {
   "cell_type": "code",
   "execution_count": 16,
   "metadata": {},
   "outputs": [
    {
     "name": "stdout",
     "output_type": "stream",
     "text": [
      "Overall Acceptance Rate: 13.76%\n"
     ]
    }
   ],
   "source": [
    "# overall 'yes' proportion\n",
    "print('Overall Acceptance Rate: {}%'.format(round(100 * len(simplified_merged_expand[simplified_merged_expand['wantToGo'] == 'yes']) / len(simplified_merged_expand), 2)))"
   ]
  },
  {
   "cell_type": "markdown",
   "metadata": {},
   "source": [
    "### Missed notification by user histogram"
   ]
  },
  {
   "cell_type": "code",
   "execution_count": 72,
   "metadata": {},
   "outputs": [
    {
     "data": {
      "text/html": [
       "<div>\n",
       "<style>\n",
       "    .dataframe thead tr:only-child th {\n",
       "        text-align: right;\n",
       "    }\n",
       "\n",
       "    .dataframe thead th {\n",
       "        text-align: left;\n",
       "    }\n",
       "\n",
       "    .dataframe tbody tr th {\n",
       "        vertical-align: top;\n",
       "    }\n",
       "</style>\n",
       "<table border=\"1\" class=\"dataframe\">\n",
       "  <thead>\n",
       "    <tr style=\"text-align: right;\">\n",
       "      <th></th>\n",
       "      <th>vendorId</th>\n",
       "      <th>count</th>\n",
       "    </tr>\n",
       "  </thead>\n",
       "  <tbody>\n",
       "    <tr>\n",
       "      <th>0</th>\n",
       "      <td>D19F4706-30D0-4A02-8370-B7C18FA83C28</td>\n",
       "      <td>20</td>\n",
       "    </tr>\n",
       "    <tr>\n",
       "      <th>1</th>\n",
       "      <td>11B8092A-E445-4B65-AE36-38AD9CAA443A</td>\n",
       "      <td>15</td>\n",
       "    </tr>\n",
       "    <tr>\n",
       "      <th>2</th>\n",
       "      <td>61DEF3DC-F749-48D9-8B6E-C4F2992A9677</td>\n",
       "      <td>10</td>\n",
       "    </tr>\n",
       "    <tr>\n",
       "      <th>3</th>\n",
       "      <td>7595F08E-D7AB-425F-9014-B9036CF0D4BE</td>\n",
       "      <td>7</td>\n",
       "    </tr>\n",
       "    <tr>\n",
       "      <th>4</th>\n",
       "      <td>843BF7BA-B9C2-484B-88AF-D59DD25A3ED5</td>\n",
       "      <td>6</td>\n",
       "    </tr>\n",
       "    <tr>\n",
       "      <th>5</th>\n",
       "      <td>C6378548-C814-463E-B508-1832F9354819</td>\n",
       "      <td>5</td>\n",
       "    </tr>\n",
       "    <tr>\n",
       "      <th>6</th>\n",
       "      <td>7BFFD836-DA8F-495B-88CA-4AF0E5F37B6B</td>\n",
       "      <td>5</td>\n",
       "    </tr>\n",
       "    <tr>\n",
       "      <th>7</th>\n",
       "      <td>75200C4F-8F36-42BB-8412-CC61CAC749C1</td>\n",
       "      <td>4</td>\n",
       "    </tr>\n",
       "    <tr>\n",
       "      <th>8</th>\n",
       "      <td>C8EC3293-A8AA-426D-BF49-876CCB9D3224</td>\n",
       "      <td>3</td>\n",
       "    </tr>\n",
       "    <tr>\n",
       "      <th>9</th>\n",
       "      <td>ADDD9CDC-AFFE-4958-8AB4-70E8D28E45E1</td>\n",
       "      <td>3</td>\n",
       "    </tr>\n",
       "    <tr>\n",
       "      <th>10</th>\n",
       "      <td>8492E811-F848-4C50-B214-764A48142847</td>\n",
       "      <td>3</td>\n",
       "    </tr>\n",
       "    <tr>\n",
       "      <th>11</th>\n",
       "      <td>F2F4A0A8-98C7-474C-91DF-B6CA1A22B59B</td>\n",
       "      <td>3</td>\n",
       "    </tr>\n",
       "    <tr>\n",
       "      <th>12</th>\n",
       "      <td>5C9E3B24-544F-430D-80E0-B9D969D084EC</td>\n",
       "      <td>3</td>\n",
       "    </tr>\n",
       "    <tr>\n",
       "      <th>13</th>\n",
       "      <td>384671A9-42AE-4205-BE22-90AEEF2B2CCA</td>\n",
       "      <td>3</td>\n",
       "    </tr>\n",
       "    <tr>\n",
       "      <th>14</th>\n",
       "      <td>2585596A-8DB6-4D68-A12C-07A2DCA9EA2A</td>\n",
       "      <td>2</td>\n",
       "    </tr>\n",
       "    <tr>\n",
       "      <th>15</th>\n",
       "      <td>EB127CEF-FF56-47EE-99D2-F6F72D7725E1</td>\n",
       "      <td>2</td>\n",
       "    </tr>\n",
       "    <tr>\n",
       "      <th>16</th>\n",
       "      <td>7F61DFFD-C03C-46C3-BCEC-743B4EF8BAF5</td>\n",
       "      <td>2</td>\n",
       "    </tr>\n",
       "    <tr>\n",
       "      <th>17</th>\n",
       "      <td>439A6BBD-AF9D-4A5A-862E-A2E30D88FE72</td>\n",
       "      <td>2</td>\n",
       "    </tr>\n",
       "    <tr>\n",
       "      <th>18</th>\n",
       "      <td>1E866C32-4FF1-4F71-B6C1-34874BC58539</td>\n",
       "      <td>2</td>\n",
       "    </tr>\n",
       "    <tr>\n",
       "      <th>19</th>\n",
       "      <td>6FCA799C-3F56-425F-96B2-47CF72B84BC5</td>\n",
       "      <td>2</td>\n",
       "    </tr>\n",
       "    <tr>\n",
       "      <th>20</th>\n",
       "      <td>2B129AC5-804B-4AC3-BC65-4A01A872C061</td>\n",
       "      <td>2</td>\n",
       "    </tr>\n",
       "    <tr>\n",
       "      <th>21</th>\n",
       "      <td>D62D54F8-B69C-408C-8302-66DAF452E0E4</td>\n",
       "      <td>1</td>\n",
       "    </tr>\n",
       "    <tr>\n",
       "      <th>22</th>\n",
       "      <td>17CC25C7-18E8-4FC1-9CB4-EAEF265CE7D9</td>\n",
       "      <td>1</td>\n",
       "    </tr>\n",
       "    <tr>\n",
       "      <th>23</th>\n",
       "      <td>8CB7207D-EFDB-495B-B460-FE0E268D695A</td>\n",
       "      <td>1</td>\n",
       "    </tr>\n",
       "    <tr>\n",
       "      <th>24</th>\n",
       "      <td>B0256437-4D84-431D-A122-EADD5B8CD452</td>\n",
       "      <td>1</td>\n",
       "    </tr>\n",
       "    <tr>\n",
       "      <th>25</th>\n",
       "      <td>86F5C671-102A-413C-9BAF-99F04243C1B9</td>\n",
       "      <td>1</td>\n",
       "    </tr>\n",
       "    <tr>\n",
       "      <th>26</th>\n",
       "      <td>55355FC7-3F86-402E-A4CD-DC1060585BE5</td>\n",
       "      <td>1</td>\n",
       "    </tr>\n",
       "    <tr>\n",
       "      <th>27</th>\n",
       "      <td>5A6F87D9-A4DC-4C16-ABC5-7C5261370D73</td>\n",
       "      <td>1</td>\n",
       "    </tr>\n",
       "    <tr>\n",
       "      <th>28</th>\n",
       "      <td>5C7CE1E9-0F10-4AA0-93C0-A345D357A92F</td>\n",
       "      <td>1</td>\n",
       "    </tr>\n",
       "    <tr>\n",
       "      <th>29</th>\n",
       "      <td>082918FC-40D0-4E15-916F-B0DC4DCE8A7A</td>\n",
       "      <td>1</td>\n",
       "    </tr>\n",
       "  </tbody>\n",
       "</table>\n",
       "</div>"
      ],
      "text/plain": [
       "                                vendorId  count\n",
       "0   D19F4706-30D0-4A02-8370-B7C18FA83C28     20\n",
       "1   11B8092A-E445-4B65-AE36-38AD9CAA443A     15\n",
       "2   61DEF3DC-F749-48D9-8B6E-C4F2992A9677     10\n",
       "3   7595F08E-D7AB-425F-9014-B9036CF0D4BE      7\n",
       "4   843BF7BA-B9C2-484B-88AF-D59DD25A3ED5      6\n",
       "5   C6378548-C814-463E-B508-1832F9354819      5\n",
       "6   7BFFD836-DA8F-495B-88CA-4AF0E5F37B6B      5\n",
       "7   75200C4F-8F36-42BB-8412-CC61CAC749C1      4\n",
       "8   C8EC3293-A8AA-426D-BF49-876CCB9D3224      3\n",
       "9   ADDD9CDC-AFFE-4958-8AB4-70E8D28E45E1      3\n",
       "10  8492E811-F848-4C50-B214-764A48142847      3\n",
       "11  F2F4A0A8-98C7-474C-91DF-B6CA1A22B59B      3\n",
       "12  5C9E3B24-544F-430D-80E0-B9D969D084EC      3\n",
       "13  384671A9-42AE-4205-BE22-90AEEF2B2CCA      3\n",
       "14  2585596A-8DB6-4D68-A12C-07A2DCA9EA2A      2\n",
       "15  EB127CEF-FF56-47EE-99D2-F6F72D7725E1      2\n",
       "16  7F61DFFD-C03C-46C3-BCEC-743B4EF8BAF5      2\n",
       "17  439A6BBD-AF9D-4A5A-862E-A2E30D88FE72      2\n",
       "18  1E866C32-4FF1-4F71-B6C1-34874BC58539      2\n",
       "19  6FCA799C-3F56-425F-96B2-47CF72B84BC5      2\n",
       "20  2B129AC5-804B-4AC3-BC65-4A01A872C061      2\n",
       "21  D62D54F8-B69C-408C-8302-66DAF452E0E4      1\n",
       "22  17CC25C7-18E8-4FC1-9CB4-EAEF265CE7D9      1\n",
       "23  8CB7207D-EFDB-495B-B460-FE0E268D695A      1\n",
       "24  B0256437-4D84-431D-A122-EADD5B8CD452      1\n",
       "25  86F5C671-102A-413C-9BAF-99F04243C1B9      1\n",
       "26  55355FC7-3F86-402E-A4CD-DC1060585BE5      1\n",
       "27  5A6F87D9-A4DC-4C16-ABC5-7C5261370D73      1\n",
       "28  5C7CE1E9-0F10-4AA0-93C0-A345D357A92F      1\n",
       "29  082918FC-40D0-4E15-916F-B0DC4DCE8A7A      1"
      ]
     },
     "execution_count": 72,
     "metadata": {},
     "output_type": "execute_result"
    }
   ],
   "source": [
    "missed_notifications = merged_expand[merged_expand['emaResponse'] == 'missed notification']\n",
    "missed_by_user_count = missed_notifications.groupby('vendorId')['emaResponse'].count().reset_index(name='count')\n",
    "missed_by_user_count = missed_by_user_count.sort_values('count', ascending=False).reset_index(drop=True)\n",
    "missed_by_user_count"
   ]
  },
  {
   "cell_type": "code",
   "execution_count": 82,
   "metadata": {},
   "outputs": [
    {
     "data": {
      "text/plain": [
       "<matplotlib.axes._subplots.AxesSubplot at 0x11318feb8>"
      ]
     },
     "execution_count": 82,
     "metadata": {},
     "output_type": "execute_result"
    },
    {
     "data": {
      "image/png": "[encoded data removed]",
      "text/plain": [
       "<matplotlib.figure.Figure at 0x11354b240>"
      ]
     },
     "metadata": {},
     "output_type": "display_data"
    }
   ],
   "source": [
    "sns.distplot(missed_by_user_count['count'], kde=False)"
   ]
  },
  {
   "cell_type": "code",
   "execution_count": 77,
   "metadata": {},
   "outputs": [
    {
     "data": {
      "text/html": [
       "<div>\n",
       "<style>\n",
       "    .dataframe thead tr:only-child th {\n",
       "        text-align: right;\n",
       "    }\n",
       "\n",
       "    .dataframe thead th {\n",
       "        text-align: left;\n",
       "    }\n",
       "\n",
       "    .dataframe tbody tr th {\n",
       "        vertical-align: top;\n",
       "    }\n",
       "</style>\n",
       "<table border=\"1\" class=\"dataframe\">\n",
       "  <thead>\n",
       "    <tr style=\"text-align: right;\">\n",
       "      <th></th>\n",
       "      <th>vendorId</th>\n",
       "      <th>count</th>\n",
       "      <th>count_total</th>\n",
       "      <th>proportion</th>\n",
       "    </tr>\n",
       "  </thead>\n",
       "  <tbody>\n",
       "    <tr>\n",
       "      <th>0</th>\n",
       "      <td>D19F4706-30D0-4A02-8370-B7C18FA83C28</td>\n",
       "      <td>20</td>\n",
       "      <td>20</td>\n",
       "      <td>100.000000</td>\n",
       "    </tr>\n",
       "    <tr>\n",
       "      <th>1</th>\n",
       "      <td>75200C4F-8F36-42BB-8412-CC61CAC749C1</td>\n",
       "      <td>4</td>\n",
       "      <td>4</td>\n",
       "      <td>100.000000</td>\n",
       "    </tr>\n",
       "    <tr>\n",
       "      <th>2</th>\n",
       "      <td>D62D54F8-B69C-408C-8302-66DAF452E0E4</td>\n",
       "      <td>1</td>\n",
       "      <td>1</td>\n",
       "      <td>100.000000</td>\n",
       "    </tr>\n",
       "    <tr>\n",
       "      <th>3</th>\n",
       "      <td>11B8092A-E445-4B65-AE36-38AD9CAA443A</td>\n",
       "      <td>15</td>\n",
       "      <td>15</td>\n",
       "      <td>100.000000</td>\n",
       "    </tr>\n",
       "    <tr>\n",
       "      <th>4</th>\n",
       "      <td>384671A9-42AE-4205-BE22-90AEEF2B2CCA</td>\n",
       "      <td>3</td>\n",
       "      <td>3</td>\n",
       "      <td>100.000000</td>\n",
       "    </tr>\n",
       "    <tr>\n",
       "      <th>5</th>\n",
       "      <td>5C7CE1E9-0F10-4AA0-93C0-A345D357A92F</td>\n",
       "      <td>1</td>\n",
       "      <td>1</td>\n",
       "      <td>100.000000</td>\n",
       "    </tr>\n",
       "    <tr>\n",
       "      <th>6</th>\n",
       "      <td>C6378548-C814-463E-B508-1832F9354819</td>\n",
       "      <td>5</td>\n",
       "      <td>5</td>\n",
       "      <td>100.000000</td>\n",
       "    </tr>\n",
       "    <tr>\n",
       "      <th>7</th>\n",
       "      <td>61DEF3DC-F749-48D9-8B6E-C4F2992A9677</td>\n",
       "      <td>10</td>\n",
       "      <td>10</td>\n",
       "      <td>100.000000</td>\n",
       "    </tr>\n",
       "    <tr>\n",
       "      <th>8</th>\n",
       "      <td>7595F08E-D7AB-425F-9014-B9036CF0D4BE</td>\n",
       "      <td>7</td>\n",
       "      <td>10</td>\n",
       "      <td>70.000000</td>\n",
       "    </tr>\n",
       "    <tr>\n",
       "      <th>9</th>\n",
       "      <td>2B129AC5-804B-4AC3-BC65-4A01A872C061</td>\n",
       "      <td>2</td>\n",
       "      <td>3</td>\n",
       "      <td>66.666667</td>\n",
       "    </tr>\n",
       "    <tr>\n",
       "      <th>10</th>\n",
       "      <td>7BFFD836-DA8F-495B-88CA-4AF0E5F37B6B</td>\n",
       "      <td>5</td>\n",
       "      <td>8</td>\n",
       "      <td>62.500000</td>\n",
       "    </tr>\n",
       "    <tr>\n",
       "      <th>11</th>\n",
       "      <td>843BF7BA-B9C2-484B-88AF-D59DD25A3ED5</td>\n",
       "      <td>6</td>\n",
       "      <td>10</td>\n",
       "      <td>60.000000</td>\n",
       "    </tr>\n",
       "    <tr>\n",
       "      <th>12</th>\n",
       "      <td>C8EC3293-A8AA-426D-BF49-876CCB9D3224</td>\n",
       "      <td>3</td>\n",
       "      <td>6</td>\n",
       "      <td>50.000000</td>\n",
       "    </tr>\n",
       "    <tr>\n",
       "      <th>13</th>\n",
       "      <td>86F5C671-102A-413C-9BAF-99F04243C1B9</td>\n",
       "      <td>1</td>\n",
       "      <td>2</td>\n",
       "      <td>50.000000</td>\n",
       "    </tr>\n",
       "    <tr>\n",
       "      <th>14</th>\n",
       "      <td>17CC25C7-18E8-4FC1-9CB4-EAEF265CE7D9</td>\n",
       "      <td>1</td>\n",
       "      <td>2</td>\n",
       "      <td>50.000000</td>\n",
       "    </tr>\n",
       "    <tr>\n",
       "      <th>15</th>\n",
       "      <td>1E866C32-4FF1-4F71-B6C1-34874BC58539</td>\n",
       "      <td>2</td>\n",
       "      <td>5</td>\n",
       "      <td>40.000000</td>\n",
       "    </tr>\n",
       "    <tr>\n",
       "      <th>16</th>\n",
       "      <td>55355FC7-3F86-402E-A4CD-DC1060585BE5</td>\n",
       "      <td>1</td>\n",
       "      <td>3</td>\n",
       "      <td>33.333333</td>\n",
       "    </tr>\n",
       "    <tr>\n",
       "      <th>17</th>\n",
       "      <td>5C9E3B24-544F-430D-80E0-B9D969D084EC</td>\n",
       "      <td>3</td>\n",
       "      <td>9</td>\n",
       "      <td>33.333333</td>\n",
       "    </tr>\n",
       "    <tr>\n",
       "      <th>18</th>\n",
       "      <td>8492E811-F848-4C50-B214-764A48142847</td>\n",
       "      <td>3</td>\n",
       "      <td>13</td>\n",
       "      <td>23.076923</td>\n",
       "    </tr>\n",
       "    <tr>\n",
       "      <th>19</th>\n",
       "      <td>EB127CEF-FF56-47EE-99D2-F6F72D7725E1</td>\n",
       "      <td>2</td>\n",
       "      <td>9</td>\n",
       "      <td>22.222222</td>\n",
       "    </tr>\n",
       "    <tr>\n",
       "      <th>20</th>\n",
       "      <td>6FCA799C-3F56-425F-96B2-47CF72B84BC5</td>\n",
       "      <td>2</td>\n",
       "      <td>9</td>\n",
       "      <td>22.222222</td>\n",
       "    </tr>\n",
       "    <tr>\n",
       "      <th>21</th>\n",
       "      <td>F2F4A0A8-98C7-474C-91DF-B6CA1A22B59B</td>\n",
       "      <td>3</td>\n",
       "      <td>14</td>\n",
       "      <td>21.428571</td>\n",
       "    </tr>\n",
       "    <tr>\n",
       "      <th>22</th>\n",
       "      <td>7F61DFFD-C03C-46C3-BCEC-743B4EF8BAF5</td>\n",
       "      <td>2</td>\n",
       "      <td>10</td>\n",
       "      <td>20.000000</td>\n",
       "    </tr>\n",
       "    <tr>\n",
       "      <th>23</th>\n",
       "      <td>2585596A-8DB6-4D68-A12C-07A2DCA9EA2A</td>\n",
       "      <td>2</td>\n",
       "      <td>10</td>\n",
       "      <td>20.000000</td>\n",
       "    </tr>\n",
       "    <tr>\n",
       "      <th>24</th>\n",
       "      <td>ADDD9CDC-AFFE-4958-8AB4-70E8D28E45E1</td>\n",
       "      <td>3</td>\n",
       "      <td>15</td>\n",
       "      <td>20.000000</td>\n",
       "    </tr>\n",
       "    <tr>\n",
       "      <th>25</th>\n",
       "      <td>B0256437-4D84-431D-A122-EADD5B8CD452</td>\n",
       "      <td>1</td>\n",
       "      <td>6</td>\n",
       "      <td>16.666667</td>\n",
       "    </tr>\n",
       "    <tr>\n",
       "      <th>26</th>\n",
       "      <td>439A6BBD-AF9D-4A5A-862E-A2E30D88FE72</td>\n",
       "      <td>2</td>\n",
       "      <td>14</td>\n",
       "      <td>14.285714</td>\n",
       "    </tr>\n",
       "    <tr>\n",
       "      <th>27</th>\n",
       "      <td>5A6F87D9-A4DC-4C16-ABC5-7C5261370D73</td>\n",
       "      <td>1</td>\n",
       "      <td>10</td>\n",
       "      <td>10.000000</td>\n",
       "    </tr>\n",
       "    <tr>\n",
       "      <th>28</th>\n",
       "      <td>082918FC-40D0-4E15-916F-B0DC4DCE8A7A</td>\n",
       "      <td>1</td>\n",
       "      <td>11</td>\n",
       "      <td>9.090909</td>\n",
       "    </tr>\n",
       "    <tr>\n",
       "      <th>29</th>\n",
       "      <td>8CB7207D-EFDB-495B-B460-FE0E268D695A</td>\n",
       "      <td>1</td>\n",
       "      <td>13</td>\n",
       "      <td>7.692308</td>\n",
       "    </tr>\n",
       "  </tbody>\n",
       "</table>\n",
       "</div>"
      ],
      "text/plain": [
       "                                vendorId  count  count_total  proportion\n",
       "0   D19F4706-30D0-4A02-8370-B7C18FA83C28     20           20  100.000000\n",
       "1   75200C4F-8F36-42BB-8412-CC61CAC749C1      4            4  100.000000\n",
       "2   D62D54F8-B69C-408C-8302-66DAF452E0E4      1            1  100.000000\n",
       "3   11B8092A-E445-4B65-AE36-38AD9CAA443A     15           15  100.000000\n",
       "4   384671A9-42AE-4205-BE22-90AEEF2B2CCA      3            3  100.000000\n",
       "5   5C7CE1E9-0F10-4AA0-93C0-A345D357A92F      1            1  100.000000\n",
       "6   C6378548-C814-463E-B508-1832F9354819      5            5  100.000000\n",
       "7   61DEF3DC-F749-48D9-8B6E-C4F2992A9677     10           10  100.000000\n",
       "8   7595F08E-D7AB-425F-9014-B9036CF0D4BE      7           10   70.000000\n",
       "9   2B129AC5-804B-4AC3-BC65-4A01A872C061      2            3   66.666667\n",
       "10  7BFFD836-DA8F-495B-88CA-4AF0E5F37B6B      5            8   62.500000\n",
       "11  843BF7BA-B9C2-484B-88AF-D59DD25A3ED5      6           10   60.000000\n",
       "12  C8EC3293-A8AA-426D-BF49-876CCB9D3224      3            6   50.000000\n",
       "13  86F5C671-102A-413C-9BAF-99F04243C1B9      1            2   50.000000\n",
       "14  17CC25C7-18E8-4FC1-9CB4-EAEF265CE7D9      1            2   50.000000\n",
       "15  1E866C32-4FF1-4F71-B6C1-34874BC58539      2            5   40.000000\n",
       "16  55355FC7-3F86-402E-A4CD-DC1060585BE5      1            3   33.333333\n",
       "17  5C9E3B24-544F-430D-80E0-B9D969D084EC      3            9   33.333333\n",
       "18  8492E811-F848-4C50-B214-764A48142847      3           13   23.076923\n",
       "19  EB127CEF-FF56-47EE-99D2-F6F72D7725E1      2            9   22.222222\n",
       "20  6FCA799C-3F56-425F-96B2-47CF72B84BC5      2            9   22.222222\n",
       "21  F2F4A0A8-98C7-474C-91DF-B6CA1A22B59B      3           14   21.428571\n",
       "22  7F61DFFD-C03C-46C3-BCEC-743B4EF8BAF5      2           10   20.000000\n",
       "23  2585596A-8DB6-4D68-A12C-07A2DCA9EA2A      2           10   20.000000\n",
       "24  ADDD9CDC-AFFE-4958-8AB4-70E8D28E45E1      3           15   20.000000\n",
       "25  B0256437-4D84-431D-A122-EADD5B8CD452      1            6   16.666667\n",
       "26  439A6BBD-AF9D-4A5A-862E-A2E30D88FE72      2           14   14.285714\n",
       "27  5A6F87D9-A4DC-4C16-ABC5-7C5261370D73      1           10   10.000000\n",
       "28  082918FC-40D0-4E15-916F-B0DC4DCE8A7A      1           11    9.090909\n",
       "29  8CB7207D-EFDB-495B-B460-FE0E268D695A      1           13    7.692308"
      ]
     },
     "execution_count": 77,
     "metadata": {},
     "output_type": "execute_result"
    }
   ],
   "source": [
    "all_notification_count = merged_expand.groupby('vendorId')['vendorId'].count().reset_index(name='count')\n",
    "missed_notification_proportion = missed_by_user_count.merge(all_notification_count, on='vendorId', how='left', suffixes=['', '_total'])\n",
    "missed_notification_proportion['proportion'] = 100 * missed_notification_proportion['count'] / missed_notification_proportion['count_total']\n",
    "missed_notification_proportion = missed_notification_proportion.sort_values('proportion', ascending=False).reset_index(drop=True)\n",
    "missed_notification_proportion"
   ]
  },
  {
   "cell_type": "code",
   "execution_count": 84,
   "metadata": {},
   "outputs": [
    {
     "data": {
      "text/plain": [
       "<matplotlib.axes._subplots.AxesSubplot at 0x113220160>"
      ]
     },
     "execution_count": 84,
     "metadata": {},
     "output_type": "execute_result"
    },
    {
     "data": {
      "image/png": "[encoded data removed]",
      "text/plain": [
       "<matplotlib.figure.Figure at 0x113735eb8>"
      ]
     },
     "metadata": {},
     "output_type": "display_data"
    }
   ],
   "source": [
    "sns.distplot(missed_notification_proportion['proportion'], bins=20, kde=False)"
   ]
  },
  {
   "cell_type": "markdown",
   "metadata": {},
   "source": [
    "### Acceptance Rate by Category"
   ]
  },
  {
   "cell_type": "code",
   "execution_count": 49,
   "metadata": {},
   "outputs": [
    {
     "data": {
      "text/html": [
       "<div>\n",
       "<style>\n",
       "    .dataframe thead tr:only-child th {\n",
       "        text-align: right;\n",
       "    }\n",
       "\n",
       "    .dataframe thead th {\n",
       "        text-align: left;\n",
       "    }\n",
       "\n",
       "    .dataframe tbody tr th {\n",
       "        vertical-align: top;\n",
       "    }\n",
       "</style>\n",
       "<table border=\"1\" class=\"dataframe\">\n",
       "  <thead>\n",
       "    <tr style=\"text-align: right;\">\n",
       "      <th></th>\n",
       "      <th>tag</th>\n",
       "      <th>wantToGo</th>\n",
       "      <th>count</th>\n",
       "      <th>proportion</th>\n",
       "    </tr>\n",
       "  </thead>\n",
       "  <tbody>\n",
       "    <tr>\n",
       "      <th>0</th>\n",
       "      <td>coffeeshops</td>\n",
       "      <td>no</td>\n",
       "      <td>168</td>\n",
       "      <td>91.803279</td>\n",
       "    </tr>\n",
       "    <tr>\n",
       "      <th>1</th>\n",
       "      <td>coffeeshops</td>\n",
       "      <td>yes</td>\n",
       "      <td>15</td>\n",
       "      <td>8.196721</td>\n",
       "    </tr>\n",
       "    <tr>\n",
       "      <th>2</th>\n",
       "      <td>food</td>\n",
       "      <td>no</td>\n",
       "      <td>89</td>\n",
       "      <td>77.391304</td>\n",
       "    </tr>\n",
       "    <tr>\n",
       "      <th>3</th>\n",
       "      <td>food</td>\n",
       "      <td>yes</td>\n",
       "      <td>26</td>\n",
       "      <td>22.608696</td>\n",
       "    </tr>\n",
       "  </tbody>\n",
       "</table>\n",
       "</div>"
      ],
      "text/plain": [
       "           tag wantToGo  count  proportion\n",
       "0  coffeeshops       no    168   91.803279\n",
       "1  coffeeshops      yes     15    8.196721\n",
       "2         food       no     89   77.391304\n",
       "3         food      yes     26   22.608696"
      ]
     },
     "execution_count": 49,
     "metadata": {},
     "output_type": "execute_result"
    }
   ],
   "source": [
    "acceptance_by_cat = simplified_merged_expand.groupby(['tag', 'wantToGo'])['wantToGo'].count().reset_index(name='count')\n",
    "acceptance_by_cat['proportion'] = 0\n",
    "acceptance_by_cat.loc[acceptance_by_cat['tag'] == 'coffeeshops', 'proportion'] = 100 * acceptance_by_cat[acceptance_by_cat['tag'] == 'coffeeshops']['count'] / sum(acceptance_by_cat[acceptance_by_cat['tag'] == 'coffeeshops']['count'])\n",
    "acceptance_by_cat.loc[acceptance_by_cat['tag'] == 'food', 'proportion'] = 100 * acceptance_by_cat[acceptance_by_cat['tag'] == 'food']['count'] / sum(acceptance_by_cat[acceptance_by_cat['tag'] == 'food']['count'])\n",
    "acceptance_by_cat"
   ]
  },
  {
   "cell_type": "code",
   "execution_count": 52,
   "metadata": {},
   "outputs": [
    {
     "data": {
      "text/plain": [
       "<matplotlib.axes._subplots.AxesSubplot at 0x1134a4a90>"
      ]
     },
     "execution_count": 52,
     "metadata": {},
     "output_type": "execute_result"
    },
    {
     "data": {
      "image/png": "[encoded data removed]",
      "text/plain": [
       "<matplotlib.figure.Figure at 0x1134a4390>"
      ]
     },
     "metadata": {},
     "output_type": "display_data"
    }
   ],
   "source": [
    "sns.barplot(data=acceptance_by_cat[['tag', 'proportion', 'wantToGo']], x='proportion', y='tag', hue='wantToGo')"
   ]
  },
  {
   "cell_type": "code",
   "execution_count": 54,
   "metadata": {},
   "outputs": [
    {
     "data": {
      "text/plain": [
       "<matplotlib.axes._subplots.AxesSubplot at 0x1133af710>"
      ]
     },
     "execution_count": 54,
     "metadata": {},
     "output_type": "execute_result"
    },
    {
     "data": {
      "image/png": "[encoded data removed]",
      "text/plain": [
       "<matplotlib.figure.Figure at 0x11364db38>"
      ]
     },
     "metadata": {},
     "output_type": "display_data"
    }
   ],
   "source": [
    "sns.barplot(data=acceptance_by_cat[['tag', 'count', 'wantToGo']], x='count', y='tag', hue='wantToGo')"
   ]
  },
  {
   "cell_type": "markdown",
   "metadata": {},
   "source": [
    "### Level of Information vs Distance Matrix for All Categories"
   ]
  },
  {
   "cell_type": "code",
   "execution_count": 17,
   "metadata": {
    "collapsed": true
   },
   "outputs": [],
   "source": [
    "# compute initial matrix\n",
    "information_vs_distance_acceptance = simplified_merged_expand.groupby(['distanceCondition', 'levelOfInformation', 'wantToGo'])['wantToGo'].count().reset_index(name='count')\n",
    "information_vs_distance_acceptance['id'] = information_vs_distance_acceptance['distanceCondition'] + '_' + information_vs_distance_acceptance['levelOfInformation']\n",
    "\n",
    "# get totals for each square in matrix\n",
    "total_count_info_dist = information_vs_distance_acceptance.groupby('id')['count'].sum().reset_index(name='count')\n",
    "information_vs_distance_acceptance = information_vs_distance_acceptance.merge(total_count_info_dist, on='id', suffixes=['', '_total'])\n",
    "information_vs_distance_acceptance['proportion'] = information_vs_distance_acceptance['count'] / information_vs_distance_acceptance['count_total']"
   ]
  },
  {
   "cell_type": "markdown",
   "metadata": {},
   "source": [
    "#### Yes and Total Count for All Categories"
   ]
  },
  {
   "cell_type": "code",
   "execution_count": 18,
   "metadata": {},
   "outputs": [
    {
     "data": {
      "text/html": [
       "<div>\n",
       "<style>\n",
       "    .dataframe thead tr:only-child th {\n",
       "        text-align: right;\n",
       "    }\n",
       "\n",
       "    .dataframe thead th {\n",
       "        text-align: left;\n",
       "    }\n",
       "\n",
       "    .dataframe tbody tr th {\n",
       "        vertical-align: top;\n",
       "    }\n",
       "</style>\n",
       "<table border=\"1\" class=\"dataframe\">\n",
       "  <thead>\n",
       "    <tr>\n",
       "      <th></th>\n",
       "      <th colspan=\"3\" halign=\"left\">count</th>\n",
       "    </tr>\n",
       "    <tr>\n",
       "      <th>distanceCondition</th>\n",
       "      <th>200</th>\n",
       "      <th>300</th>\n",
       "      <th>400</th>\n",
       "    </tr>\n",
       "    <tr>\n",
       "      <th>levelOfInformation</th>\n",
       "      <th></th>\n",
       "      <th></th>\n",
       "      <th></th>\n",
       "    </tr>\n",
       "  </thead>\n",
       "  <tbody>\n",
       "    <tr>\n",
       "      <th>0</th>\n",
       "      <td>2.0</td>\n",
       "      <td>1.0</td>\n",
       "      <td>1.0</td>\n",
       "    </tr>\n",
       "    <tr>\n",
       "      <th>1</th>\n",
       "      <td>6.0</td>\n",
       "      <td>4.0</td>\n",
       "      <td>7.0</td>\n",
       "    </tr>\n",
       "    <tr>\n",
       "      <th>2</th>\n",
       "      <td>6.0</td>\n",
       "      <td>4.0</td>\n",
       "      <td>3.0</td>\n",
       "    </tr>\n",
       "    <tr>\n",
       "      <th>3</th>\n",
       "      <td>2.0</td>\n",
       "      <td>5.0</td>\n",
       "      <td>0.0</td>\n",
       "    </tr>\n",
       "    <tr>\n",
       "      <th>Total Count</th>\n",
       "      <td>16.0</td>\n",
       "      <td>14.0</td>\n",
       "      <td>11.0</td>\n",
       "    </tr>\n",
       "  </tbody>\n",
       "</table>\n",
       "</div>"
      ],
      "text/plain": [
       "                   count            \n",
       "distanceCondition    200   300   400\n",
       "levelOfInformation                  \n",
       "0                    2.0   1.0   1.0\n",
       "1                    6.0   4.0   7.0\n",
       "2                    6.0   4.0   3.0\n",
       "3                    2.0   5.0   0.0\n",
       "Total Count         16.0  14.0  11.0"
      ]
     },
     "execution_count": 18,
     "metadata": {},
     "output_type": "execute_result"
    }
   ],
   "source": [
    "# format table\n",
    "acceptance_mat_yes_count = information_vs_distance_acceptance[information_vs_distance_acceptance['wantToGo'] == 'yes'][['distanceCondition', 'levelOfInformation', 'count']]\n",
    "acceptance_mat_yes_count = acceptance_mat_yes_count.pivot(index='levelOfInformation', columns='distanceCondition').fillna(0)\n",
    "\n",
    "# add count\n",
    "yes_total_count = acceptance_mat_yes_count.sum(axis=0)\n",
    "yes_total_count.name = 'Total Count'\n",
    "acceptance_mat_yes_count = acceptance_mat_yes_count.append(yes_total_count)\n",
    "\n",
    "acceptance_mat_yes_count"
   ]
  },
  {
   "cell_type": "code",
   "execution_count": 19,
   "metadata": {},
   "outputs": [
    {
     "data": {
      "text/html": [
       "<div>\n",
       "<style>\n",
       "    .dataframe thead tr:only-child th {\n",
       "        text-align: right;\n",
       "    }\n",
       "\n",
       "    .dataframe thead th {\n",
       "        text-align: left;\n",
       "    }\n",
       "\n",
       "    .dataframe tbody tr th {\n",
       "        vertical-align: top;\n",
       "    }\n",
       "</style>\n",
       "<table border=\"1\" class=\"dataframe\">\n",
       "  <thead>\n",
       "    <tr>\n",
       "      <th></th>\n",
       "      <th colspan=\"3\" halign=\"left\">count</th>\n",
       "    </tr>\n",
       "    <tr>\n",
       "      <th>distanceCondition</th>\n",
       "      <th>200</th>\n",
       "      <th>300</th>\n",
       "      <th>400</th>\n",
       "    </tr>\n",
       "    <tr>\n",
       "      <th>levelOfInformation</th>\n",
       "      <th></th>\n",
       "      <th></th>\n",
       "      <th></th>\n",
       "    </tr>\n",
       "  </thead>\n",
       "  <tbody>\n",
       "    <tr>\n",
       "      <th>0</th>\n",
       "      <td>11.0</td>\n",
       "      <td>8.0</td>\n",
       "      <td>5.0</td>\n",
       "    </tr>\n",
       "    <tr>\n",
       "      <th>1</th>\n",
       "      <td>45.0</td>\n",
       "      <td>50.0</td>\n",
       "      <td>56.0</td>\n",
       "    </tr>\n",
       "    <tr>\n",
       "      <th>2</th>\n",
       "      <td>25.0</td>\n",
       "      <td>25.0</td>\n",
       "      <td>34.0</td>\n",
       "    </tr>\n",
       "    <tr>\n",
       "      <th>3</th>\n",
       "      <td>12.0</td>\n",
       "      <td>12.0</td>\n",
       "      <td>0.0</td>\n",
       "    </tr>\n",
       "    <tr>\n",
       "      <th>Total Count</th>\n",
       "      <td>93.0</td>\n",
       "      <td>95.0</td>\n",
       "      <td>95.0</td>\n",
       "    </tr>\n",
       "  </tbody>\n",
       "</table>\n",
       "</div>"
      ],
      "text/plain": [
       "                   count            \n",
       "distanceCondition    200   300   400\n",
       "levelOfInformation                  \n",
       "0                   11.0   8.0   5.0\n",
       "1                   45.0  50.0  56.0\n",
       "2                   25.0  25.0  34.0\n",
       "3                   12.0  12.0   0.0\n",
       "Total Count         93.0  95.0  95.0"
      ]
     },
     "execution_count": 19,
     "metadata": {},
     "output_type": "execute_result"
    }
   ],
   "source": [
    "acceptance_mat_total_count = information_vs_distance_acceptance[information_vs_distance_acceptance['wantToGo'] == 'yes'][['distanceCondition', 'levelOfInformation', 'count_total']]\n",
    "acceptance_mat_total_count = acceptance_mat_total_count.pivot(index='levelOfInformation', columns='distanceCondition').fillna(0)\n",
    "\n",
    "# add count\n",
    "total_total_count = acceptance_mat_total_count.sum(axis=0)\n",
    "total_total_count.name = 'Total Count'\n",
    "acceptance_mat_total_count = acceptance_mat_total_count.append(total_total_count)\n",
    "acceptance_mat_total_count.columns.set_levels([['count'], ['200', '300', '400']], inplace=True)\n",
    "\n",
    "acceptance_mat_total_count"
   ]
  },
  {
   "cell_type": "markdown",
   "metadata": {},
   "source": [
    "#### Proportions for All Categories"
   ]
  },
  {
   "cell_type": "code",
   "execution_count": 20,
   "metadata": {},
   "outputs": [
    {
     "data": {
      "text/html": [
       "<div>\n",
       "<style>\n",
       "    .dataframe thead tr:only-child th {\n",
       "        text-align: right;\n",
       "    }\n",
       "\n",
       "    .dataframe thead th {\n",
       "        text-align: left;\n",
       "    }\n",
       "\n",
       "    .dataframe tbody tr th {\n",
       "        vertical-align: top;\n",
       "    }\n",
       "</style>\n",
       "<table border=\"1\" class=\"dataframe\">\n",
       "  <thead>\n",
       "    <tr>\n",
       "      <th></th>\n",
       "      <th colspan=\"3\" halign=\"left\">count</th>\n",
       "    </tr>\n",
       "    <tr>\n",
       "      <th>distanceCondition</th>\n",
       "      <th>200</th>\n",
       "      <th>300</th>\n",
       "      <th>400</th>\n",
       "    </tr>\n",
       "  </thead>\n",
       "  <tbody>\n",
       "    <tr>\n",
       "      <th>0</th>\n",
       "      <td>18.18</td>\n",
       "      <td>12.50</td>\n",
       "      <td>20.00</td>\n",
       "    </tr>\n",
       "    <tr>\n",
       "      <th>1</th>\n",
       "      <td>13.33</td>\n",
       "      <td>8.00</td>\n",
       "      <td>12.50</td>\n",
       "    </tr>\n",
       "    <tr>\n",
       "      <th>2</th>\n",
       "      <td>24.00</td>\n",
       "      <td>16.00</td>\n",
       "      <td>8.82</td>\n",
       "    </tr>\n",
       "    <tr>\n",
       "      <th>3</th>\n",
       "      <td>16.67</td>\n",
       "      <td>41.67</td>\n",
       "      <td>0.00</td>\n",
       "    </tr>\n",
       "    <tr>\n",
       "      <th>Average Acceptance Rate</th>\n",
       "      <td>17.20</td>\n",
       "      <td>14.74</td>\n",
       "      <td>11.58</td>\n",
       "    </tr>\n",
       "  </tbody>\n",
       "</table>\n",
       "</div>"
      ],
      "text/plain": [
       "                         count              \n",
       "distanceCondition          200    300    400\n",
       "0                        18.18  12.50  20.00\n",
       "1                        13.33   8.00  12.50\n",
       "2                        24.00  16.00   8.82\n",
       "3                        16.67  41.67   0.00\n",
       "Average Acceptance Rate  17.20  14.74  11.58"
      ]
     },
     "execution_count": 20,
     "metadata": {},
     "output_type": "execute_result"
    }
   ],
   "source": [
    "# format table\n",
    "acceptance_mat_yes_prop = round((100 * acceptance_mat_yes_count / acceptance_mat_total_count).fillna(0), 2)\n",
    "acceptance_mat_yes_prop.index = ['0', '1', '2', '3', 'Average Acceptance Rate']\n",
    "acceptance_mat_yes_prop"
   ]
  },
  {
   "cell_type": "markdown",
   "metadata": {},
   "source": [
    "### Level of Information vs Distance Matrix for Food Only"
   ]
  },
  {
   "cell_type": "code",
   "execution_count": 21,
   "metadata": {
    "collapsed": true
   },
   "outputs": [],
   "source": [
    "# compute initial matrix\n",
    "information_vs_distance_acceptance = simplified_merged_expand[simplified_merged_expand['tag'] == 'food'].groupby(['distanceCondition', 'levelOfInformation', 'wantToGo'])['wantToGo'].count().reset_index(name='count')\n",
    "information_vs_distance_acceptance['id'] = information_vs_distance_acceptance['distanceCondition'] + '_' + information_vs_distance_acceptance['levelOfInformation']\n",
    "\n",
    "# get totals for each square in matrix\n",
    "total_count_info_dist = information_vs_distance_acceptance.groupby('id')['count'].sum().reset_index(name='count')\n",
    "information_vs_distance_acceptance = information_vs_distance_acceptance.merge(total_count_info_dist, on='id', suffixes=['', '_total'])\n",
    "information_vs_distance_acceptance['proportion'] = information_vs_distance_acceptance['count'] / information_vs_distance_acceptance['count_total']"
   ]
  },
  {
   "cell_type": "markdown",
   "metadata": {},
   "source": [
    "#### Yes and Total Count for Food Only"
   ]
  },
  {
   "cell_type": "code",
   "execution_count": 22,
   "metadata": {},
   "outputs": [
    {
     "data": {
      "text/html": [
       "<div>\n",
       "<style>\n",
       "    .dataframe thead tr:only-child th {\n",
       "        text-align: right;\n",
       "    }\n",
       "\n",
       "    .dataframe thead th {\n",
       "        text-align: left;\n",
       "    }\n",
       "\n",
       "    .dataframe tbody tr th {\n",
       "        vertical-align: top;\n",
       "    }\n",
       "</style>\n",
       "<table border=\"1\" class=\"dataframe\">\n",
       "  <thead>\n",
       "    <tr>\n",
       "      <th></th>\n",
       "      <th colspan=\"3\" halign=\"left\">count</th>\n",
       "    </tr>\n",
       "    <tr>\n",
       "      <th>distanceCondition</th>\n",
       "      <th>200</th>\n",
       "      <th>300</th>\n",
       "      <th>400</th>\n",
       "    </tr>\n",
       "    <tr>\n",
       "      <th>levelOfInformation</th>\n",
       "      <th></th>\n",
       "      <th></th>\n",
       "      <th></th>\n",
       "    </tr>\n",
       "  </thead>\n",
       "  <tbody>\n",
       "    <tr>\n",
       "      <th>0</th>\n",
       "      <td>2.0</td>\n",
       "      <td>1.0</td>\n",
       "      <td>1.0</td>\n",
       "    </tr>\n",
       "    <tr>\n",
       "      <th>1</th>\n",
       "      <td>2.0</td>\n",
       "      <td>1.0</td>\n",
       "      <td>4.0</td>\n",
       "    </tr>\n",
       "    <tr>\n",
       "      <th>2</th>\n",
       "      <td>3.0</td>\n",
       "      <td>3.0</td>\n",
       "      <td>2.0</td>\n",
       "    </tr>\n",
       "    <tr>\n",
       "      <th>3</th>\n",
       "      <td>2.0</td>\n",
       "      <td>5.0</td>\n",
       "      <td>0.0</td>\n",
       "    </tr>\n",
       "    <tr>\n",
       "      <th>Total Count</th>\n",
       "      <td>9.0</td>\n",
       "      <td>10.0</td>\n",
       "      <td>7.0</td>\n",
       "    </tr>\n",
       "  </tbody>\n",
       "</table>\n",
       "</div>"
      ],
      "text/plain": [
       "                   count           \n",
       "distanceCondition    200   300  400\n",
       "levelOfInformation                 \n",
       "0                    2.0   1.0  1.0\n",
       "1                    2.0   1.0  4.0\n",
       "2                    3.0   3.0  2.0\n",
       "3                    2.0   5.0  0.0\n",
       "Total Count          9.0  10.0  7.0"
      ]
     },
     "execution_count": 22,
     "metadata": {},
     "output_type": "execute_result"
    }
   ],
   "source": [
    "# format table\n",
    "acceptance_mat_yes_count = information_vs_distance_acceptance[information_vs_distance_acceptance['wantToGo'] == 'yes'][['distanceCondition', 'levelOfInformation', 'count']]\n",
    "acceptance_mat_yes_count = acceptance_mat_yes_count.pivot(index='levelOfInformation', columns='distanceCondition').fillna(0)\n",
    "\n",
    "# add count\n",
    "yes_total_count = acceptance_mat_yes_count.sum(axis=0)\n",
    "yes_total_count.name = 'Total Count'\n",
    "acceptance_mat_yes_count = acceptance_mat_yes_count.append(yes_total_count)\n",
    "\n",
    "acceptance_mat_yes_count"
   ]
  },
  {
   "cell_type": "code",
   "execution_count": 23,
   "metadata": {},
   "outputs": [
    {
     "data": {
      "text/html": [
       "<div>\n",
       "<style>\n",
       "    .dataframe thead tr:only-child th {\n",
       "        text-align: right;\n",
       "    }\n",
       "\n",
       "    .dataframe thead th {\n",
       "        text-align: left;\n",
       "    }\n",
       "\n",
       "    .dataframe tbody tr th {\n",
       "        vertical-align: top;\n",
       "    }\n",
       "</style>\n",
       "<table border=\"1\" class=\"dataframe\">\n",
       "  <thead>\n",
       "    <tr>\n",
       "      <th></th>\n",
       "      <th colspan=\"3\" halign=\"left\">count</th>\n",
       "    </tr>\n",
       "    <tr>\n",
       "      <th>distanceCondition</th>\n",
       "      <th>200</th>\n",
       "      <th>300</th>\n",
       "      <th>400</th>\n",
       "    </tr>\n",
       "    <tr>\n",
       "      <th>levelOfInformation</th>\n",
       "      <th></th>\n",
       "      <th></th>\n",
       "      <th></th>\n",
       "    </tr>\n",
       "  </thead>\n",
       "  <tbody>\n",
       "    <tr>\n",
       "      <th>0</th>\n",
       "      <td>11.0</td>\n",
       "      <td>8.0</td>\n",
       "      <td>5.0</td>\n",
       "    </tr>\n",
       "    <tr>\n",
       "      <th>1</th>\n",
       "      <td>9.0</td>\n",
       "      <td>10.0</td>\n",
       "      <td>18.0</td>\n",
       "    </tr>\n",
       "    <tr>\n",
       "      <th>2</th>\n",
       "      <td>5.0</td>\n",
       "      <td>5.0</td>\n",
       "      <td>5.0</td>\n",
       "    </tr>\n",
       "    <tr>\n",
       "      <th>3</th>\n",
       "      <td>12.0</td>\n",
       "      <td>12.0</td>\n",
       "      <td>0.0</td>\n",
       "    </tr>\n",
       "    <tr>\n",
       "      <th>Total Count</th>\n",
       "      <td>37.0</td>\n",
       "      <td>35.0</td>\n",
       "      <td>28.0</td>\n",
       "    </tr>\n",
       "  </tbody>\n",
       "</table>\n",
       "</div>"
      ],
      "text/plain": [
       "                   count            \n",
       "distanceCondition    200   300   400\n",
       "levelOfInformation                  \n",
       "0                   11.0   8.0   5.0\n",
       "1                    9.0  10.0  18.0\n",
       "2                    5.0   5.0   5.0\n",
       "3                   12.0  12.0   0.0\n",
       "Total Count         37.0  35.0  28.0"
      ]
     },
     "execution_count": 23,
     "metadata": {},
     "output_type": "execute_result"
    }
   ],
   "source": [
    "acceptance_mat_total_count = information_vs_distance_acceptance[information_vs_distance_acceptance['wantToGo'] == 'yes'][['distanceCondition', 'levelOfInformation', 'count_total']]\n",
    "acceptance_mat_total_count = acceptance_mat_total_count.pivot(index='levelOfInformation', columns='distanceCondition').fillna(0)\n",
    "\n",
    "# add count\n",
    "total_total_count = acceptance_mat_total_count.sum(axis=0)\n",
    "total_total_count.name = 'Total Count'\n",
    "acceptance_mat_total_count = acceptance_mat_total_count.append(total_total_count)\n",
    "acceptance_mat_total_count.columns.set_levels([['count'], ['200', '300', '400']], inplace=True)\n",
    "\n",
    "acceptance_mat_total_count"
   ]
  },
  {
   "cell_type": "markdown",
   "metadata": {},
   "source": [
    "#### Proportions for Food Only"
   ]
  },
  {
   "cell_type": "code",
   "execution_count": 24,
   "metadata": {},
   "outputs": [
    {
     "data": {
      "text/html": [
       "<div>\n",
       "<style>\n",
       "    .dataframe thead tr:only-child th {\n",
       "        text-align: right;\n",
       "    }\n",
       "\n",
       "    .dataframe thead th {\n",
       "        text-align: left;\n",
       "    }\n",
       "\n",
       "    .dataframe tbody tr th {\n",
       "        vertical-align: top;\n",
       "    }\n",
       "</style>\n",
       "<table border=\"1\" class=\"dataframe\">\n",
       "  <thead>\n",
       "    <tr>\n",
       "      <th></th>\n",
       "      <th colspan=\"3\" halign=\"left\">count</th>\n",
       "    </tr>\n",
       "    <tr>\n",
       "      <th>distanceCondition</th>\n",
       "      <th>200</th>\n",
       "      <th>300</th>\n",
       "      <th>400</th>\n",
       "    </tr>\n",
       "  </thead>\n",
       "  <tbody>\n",
       "    <tr>\n",
       "      <th>0</th>\n",
       "      <td>18.18</td>\n",
       "      <td>12.50</td>\n",
       "      <td>20.00</td>\n",
       "    </tr>\n",
       "    <tr>\n",
       "      <th>1</th>\n",
       "      <td>22.22</td>\n",
       "      <td>10.00</td>\n",
       "      <td>22.22</td>\n",
       "    </tr>\n",
       "    <tr>\n",
       "      <th>2</th>\n",
       "      <td>60.00</td>\n",
       "      <td>60.00</td>\n",
       "      <td>40.00</td>\n",
       "    </tr>\n",
       "    <tr>\n",
       "      <th>3</th>\n",
       "      <td>16.67</td>\n",
       "      <td>41.67</td>\n",
       "      <td>0.00</td>\n",
       "    </tr>\n",
       "    <tr>\n",
       "      <th>Average Acceptance Rate</th>\n",
       "      <td>24.32</td>\n",
       "      <td>28.57</td>\n",
       "      <td>25.00</td>\n",
       "    </tr>\n",
       "  </tbody>\n",
       "</table>\n",
       "</div>"
      ],
      "text/plain": [
       "                         count              \n",
       "distanceCondition          200    300    400\n",
       "0                        18.18  12.50  20.00\n",
       "1                        22.22  10.00  22.22\n",
       "2                        60.00  60.00  40.00\n",
       "3                        16.67  41.67   0.00\n",
       "Average Acceptance Rate  24.32  28.57  25.00"
      ]
     },
     "execution_count": 24,
     "metadata": {},
     "output_type": "execute_result"
    }
   ],
   "source": [
    "# format table\n",
    "acceptance_mat_yes_prop = round((100 * acceptance_mat_yes_count / acceptance_mat_total_count).fillna(0), 2)\n",
    "acceptance_mat_yes_prop.index = ['0', '1', '2', '3', 'Average Acceptance Rate']\n",
    "acceptance_mat_yes_prop"
   ]
  },
  {
   "cell_type": "markdown",
   "metadata": {},
   "source": [
    "### Level of Information vs Distance Matrix for Coffee Shops Only"
   ]
  },
  {
   "cell_type": "code",
   "execution_count": 25,
   "metadata": {
    "collapsed": true
   },
   "outputs": [],
   "source": [
    "# compute initial matrix\n",
    "information_vs_distance_acceptance = simplified_merged_expand[simplified_merged_expand['tag'] == 'coffeeshops'].groupby(['distanceCondition', 'levelOfInformation', 'wantToGo'])['wantToGo'].count().reset_index(name='count')\n",
    "information_vs_distance_acceptance['id'] = information_vs_distance_acceptance['distanceCondition'] + '_' + information_vs_distance_acceptance['levelOfInformation']\n",
    "\n",
    "# get totals for each square in matrix\n",
    "total_count_info_dist = information_vs_distance_acceptance.groupby('id')['count'].sum().reset_index(name='count')\n",
    "information_vs_distance_acceptance = information_vs_distance_acceptance.merge(total_count_info_dist, on='id', suffixes=['', '_total'])\n",
    "information_vs_distance_acceptance['proportion'] = information_vs_distance_acceptance['count'] / information_vs_distance_acceptance['count_total']"
   ]
  },
  {
   "cell_type": "markdown",
   "metadata": {},
   "source": [
    "#### Yes and Total Counts for Coffee Shops Only"
   ]
  },
  {
   "cell_type": "code",
   "execution_count": 26,
   "metadata": {},
   "outputs": [
    {
     "data": {
      "text/html": [
       "<div>\n",
       "<style>\n",
       "    .dataframe thead tr:only-child th {\n",
       "        text-align: right;\n",
       "    }\n",
       "\n",
       "    .dataframe thead th {\n",
       "        text-align: left;\n",
       "    }\n",
       "\n",
       "    .dataframe tbody tr th {\n",
       "        vertical-align: top;\n",
       "    }\n",
       "</style>\n",
       "<table border=\"1\" class=\"dataframe\">\n",
       "  <thead>\n",
       "    <tr>\n",
       "      <th></th>\n",
       "      <th colspan=\"3\" halign=\"left\">count</th>\n",
       "    </tr>\n",
       "    <tr>\n",
       "      <th>distanceCondition</th>\n",
       "      <th>200</th>\n",
       "      <th>300</th>\n",
       "      <th>400</th>\n",
       "    </tr>\n",
       "    <tr>\n",
       "      <th>levelOfInformation</th>\n",
       "      <th></th>\n",
       "      <th></th>\n",
       "      <th></th>\n",
       "    </tr>\n",
       "  </thead>\n",
       "  <tbody>\n",
       "    <tr>\n",
       "      <th>1</th>\n",
       "      <td>4</td>\n",
       "      <td>3</td>\n",
       "      <td>3</td>\n",
       "    </tr>\n",
       "    <tr>\n",
       "      <th>2</th>\n",
       "      <td>3</td>\n",
       "      <td>1</td>\n",
       "      <td>1</td>\n",
       "    </tr>\n",
       "    <tr>\n",
       "      <th>Total Count</th>\n",
       "      <td>7</td>\n",
       "      <td>4</td>\n",
       "      <td>4</td>\n",
       "    </tr>\n",
       "  </tbody>\n",
       "</table>\n",
       "</div>"
      ],
      "text/plain": [
       "                   count        \n",
       "distanceCondition    200 300 400\n",
       "levelOfInformation              \n",
       "1                      4   3   3\n",
       "2                      3   1   1\n",
       "Total Count            7   4   4"
      ]
     },
     "execution_count": 26,
     "metadata": {},
     "output_type": "execute_result"
    }
   ],
   "source": [
    "# format table\n",
    "acceptance_mat_yes_count = information_vs_distance_acceptance[information_vs_distance_acceptance['wantToGo'] == 'yes'][['distanceCondition', 'levelOfInformation', 'count']]\n",
    "acceptance_mat_yes_count = acceptance_mat_yes_count.pivot(index='levelOfInformation', columns='distanceCondition').fillna(0)\n",
    "\n",
    "# add count\n",
    "yes_total_count = acceptance_mat_yes_count.sum(axis=0)\n",
    "yes_total_count.name = 'Total Count'\n",
    "acceptance_mat_yes_count = acceptance_mat_yes_count.append(yes_total_count)\n",
    "\n",
    "acceptance_mat_yes_count"
   ]
  },
  {
   "cell_type": "code",
   "execution_count": 27,
   "metadata": {},
   "outputs": [
    {
     "data": {
      "text/html": [
       "<div>\n",
       "<style>\n",
       "    .dataframe thead tr:only-child th {\n",
       "        text-align: right;\n",
       "    }\n",
       "\n",
       "    .dataframe thead th {\n",
       "        text-align: left;\n",
       "    }\n",
       "\n",
       "    .dataframe tbody tr th {\n",
       "        vertical-align: top;\n",
       "    }\n",
       "</style>\n",
       "<table border=\"1\" class=\"dataframe\">\n",
       "  <thead>\n",
       "    <tr>\n",
       "      <th></th>\n",
       "      <th colspan=\"3\" halign=\"left\">count</th>\n",
       "    </tr>\n",
       "    <tr>\n",
       "      <th>distanceCondition</th>\n",
       "      <th>200</th>\n",
       "      <th>300</th>\n",
       "      <th>400</th>\n",
       "    </tr>\n",
       "    <tr>\n",
       "      <th>levelOfInformation</th>\n",
       "      <th></th>\n",
       "      <th></th>\n",
       "      <th></th>\n",
       "    </tr>\n",
       "  </thead>\n",
       "  <tbody>\n",
       "    <tr>\n",
       "      <th>1</th>\n",
       "      <td>36</td>\n",
       "      <td>40</td>\n",
       "      <td>38</td>\n",
       "    </tr>\n",
       "    <tr>\n",
       "      <th>2</th>\n",
       "      <td>20</td>\n",
       "      <td>20</td>\n",
       "      <td>29</td>\n",
       "    </tr>\n",
       "    <tr>\n",
       "      <th>Total Count</th>\n",
       "      <td>56</td>\n",
       "      <td>60</td>\n",
       "      <td>67</td>\n",
       "    </tr>\n",
       "  </tbody>\n",
       "</table>\n",
       "</div>"
      ],
      "text/plain": [
       "                   count        \n",
       "distanceCondition    200 300 400\n",
       "levelOfInformation              \n",
       "1                     36  40  38\n",
       "2                     20  20  29\n",
       "Total Count           56  60  67"
      ]
     },
     "execution_count": 27,
     "metadata": {},
     "output_type": "execute_result"
    }
   ],
   "source": [
    "acceptance_mat_total_count = information_vs_distance_acceptance[information_vs_distance_acceptance['wantToGo'] == 'yes'][['distanceCondition', 'levelOfInformation', 'count_total']]\n",
    "acceptance_mat_total_count = acceptance_mat_total_count.pivot(index='levelOfInformation', columns='distanceCondition').fillna(0)\n",
    "\n",
    "# add count\n",
    "total_total_count = acceptance_mat_total_count.sum(axis=0)\n",
    "total_total_count.name = 'Total Count'\n",
    "acceptance_mat_total_count = acceptance_mat_total_count.append(total_total_count)\n",
    "acceptance_mat_total_count.columns.set_levels([['count'], ['200', '300', '400']], inplace=True)\n",
    "\n",
    "acceptance_mat_total_count"
   ]
  },
  {
   "cell_type": "markdown",
   "metadata": {},
   "source": [
    "#### Proportions for Coffee Shops Only"
   ]
  },
  {
   "cell_type": "code",
   "execution_count": 28,
   "metadata": {},
   "outputs": [
    {
     "data": {
      "text/html": [
       "<div>\n",
       "<style>\n",
       "    .dataframe thead tr:only-child th {\n",
       "        text-align: right;\n",
       "    }\n",
       "\n",
       "    .dataframe thead th {\n",
       "        text-align: left;\n",
       "    }\n",
       "\n",
       "    .dataframe tbody tr th {\n",
       "        vertical-align: top;\n",
       "    }\n",
       "</style>\n",
       "<table border=\"1\" class=\"dataframe\">\n",
       "  <thead>\n",
       "    <tr>\n",
       "      <th></th>\n",
       "      <th colspan=\"3\" halign=\"left\">count</th>\n",
       "    </tr>\n",
       "    <tr>\n",
       "      <th>distanceCondition</th>\n",
       "      <th>200</th>\n",
       "      <th>300</th>\n",
       "      <th>400</th>\n",
       "    </tr>\n",
       "  </thead>\n",
       "  <tbody>\n",
       "    <tr>\n",
       "      <th>1</th>\n",
       "      <td>11.11</td>\n",
       "      <td>7.50</td>\n",
       "      <td>7.89</td>\n",
       "    </tr>\n",
       "    <tr>\n",
       "      <th>2</th>\n",
       "      <td>15.00</td>\n",
       "      <td>5.00</td>\n",
       "      <td>3.45</td>\n",
       "    </tr>\n",
       "    <tr>\n",
       "      <th>Average Acceptance Rate</th>\n",
       "      <td>12.50</td>\n",
       "      <td>6.67</td>\n",
       "      <td>5.97</td>\n",
       "    </tr>\n",
       "  </tbody>\n",
       "</table>\n",
       "</div>"
      ],
      "text/plain": [
       "                         count            \n",
       "distanceCondition          200   300   400\n",
       "1                        11.11  7.50  7.89\n",
       "2                        15.00  5.00  3.45\n",
       "Average Acceptance Rate  12.50  6.67  5.97"
      ]
     },
     "execution_count": 28,
     "metadata": {},
     "output_type": "execute_result"
    }
   ],
   "source": [
    "# format table\n",
    "acceptance_mat_yes_prop = round((100 * acceptance_mat_yes_count / acceptance_mat_total_count).fillna(0), 2)\n",
    "acceptance_mat_yes_prop.index = ['1', '2', 'Average Acceptance Rate']\n",
    "acceptance_mat_yes_prop"
   ]
  },
  {
   "cell_type": "markdown",
   "metadata": {},
   "source": [
    "# At-location contribution rate"
   ]
  },
  {
   "cell_type": "code",
   "execution_count": 29,
   "metadata": {
    "scrolled": false
   },
   "outputs": [
    {
     "data": {
      "text/html": [
       "<div>\n",
       "<style>\n",
       "    .dataframe thead tr:only-child th {\n",
       "        text-align: right;\n",
       "    }\n",
       "\n",
       "    .dataframe thead th {\n",
       "        text-align: left;\n",
       "    }\n",
       "\n",
       "    .dataframe tbody tr th {\n",
       "        vertical-align: top;\n",
       "    }\n",
       "</style>\n",
       "<table border=\"1\" class=\"dataframe\">\n",
       "  <thead>\n",
       "    <tr style=\"text-align: right;\">\n",
       "      <th></th>\n",
       "      <th>createdAt</th>\n",
       "      <th>gmtOffset</th>\n",
       "      <th>hotspotId</th>\n",
       "      <th>notificationString</th>\n",
       "      <th>objectId</th>\n",
       "      <th>timestamp_sent</th>\n",
       "      <th>updatedAt</th>\n",
       "      <th>vendorId</th>\n",
       "      <th>timestamp_response</th>\n",
       "      <th>question</th>\n",
       "      <th>response</th>\n",
       "      <th>tag</th>\n",
       "      <th>locationCommonName</th>\n",
       "    </tr>\n",
       "  </thead>\n",
       "  <tbody>\n",
       "    <tr>\n",
       "      <th>0</th>\n",
       "      <td>1496877882</td>\n",
       "      <td>-18000</td>\n",
       "      <td>HtihnPoz78</td>\n",
       "      <td>Notified for HtihnPoz78 (42.053391, -87.672911...</td>\n",
       "      <td>SBNqiUDhwy</td>\n",
       "      <td>1496877882</td>\n",
       "      <td>1496877882</td>\n",
       "      <td>7F61DFFD-C03C-46C3-BCEC-743B4EF8BAF5</td>\n",
       "      <td>1496877908</td>\n",
       "      <td>smalltablesoutlets</td>\n",
       "      <td>yes</td>\n",
       "      <td>coffeeshops</td>\n",
       "      <td>Norbucks</td>\n",
       "    </tr>\n",
       "    <tr>\n",
       "      <th>1</th>\n",
       "      <td>1496860382</td>\n",
       "      <td>-18000</td>\n",
       "      <td>HtihnPoz78</td>\n",
       "      <td>Notified for HtihnPoz78 (42.053391, -87.672911...</td>\n",
       "      <td>WFcB7cWkCe</td>\n",
       "      <td>1496860377</td>\n",
       "      <td>1496860382</td>\n",
       "      <td>7FC05EA3-6A21-43C5-9E7E-18E1BB2439F6</td>\n",
       "      <td>1496860401</td>\n",
       "      <td>smalltableswindows</td>\n",
       "      <td>yes</td>\n",
       "      <td>coffeeshops</td>\n",
       "      <td>Norbucks</td>\n",
       "    </tr>\n",
       "    <tr>\n",
       "      <th>2</th>\n",
       "      <td>1496857650</td>\n",
       "      <td>-18000</td>\n",
       "      <td>EhQxkzEGiU</td>\n",
       "      <td>Notified for EhQxkzEGiU (42.058332, -87.683737...</td>\n",
       "      <td>vuP3nvSX7b</td>\n",
       "      <td>1496857650</td>\n",
       "      <td>1496857650</td>\n",
       "      <td>6FCA799C-3F56-425F-96B2-47CF72B84BC5</td>\n",
       "      <td>-1</td>\n",
       "      <td></td>\n",
       "      <td>missed notification</td>\n",
       "      <td>coffeeshops</td>\n",
       "      <td>Coffee Lab</td>\n",
       "    </tr>\n",
       "    <tr>\n",
       "      <th>3</th>\n",
       "      <td>1496765908</td>\n",
       "      <td>-18000</td>\n",
       "      <td>BNdNg2cULi</td>\n",
       "      <td>Notified for BNdNg2cULi (42.056928, -87.676804...</td>\n",
       "      <td>ET7Oco0TUB</td>\n",
       "      <td>1496765905</td>\n",
       "      <td>1496765908</td>\n",
       "      <td>439A6BBD-AF9D-4A5A-862E-A2E30D88FE72</td>\n",
       "      <td>1496766009</td>\n",
       "      <td>quantity</td>\n",
       "      <td>lots, plenty to go around</td>\n",
       "      <td>food</td>\n",
       "      <td>Ford, Ground Floor (see Einsteins Bags)</td>\n",
       "    </tr>\n",
       "    <tr>\n",
       "      <th>4</th>\n",
       "      <td>1496764367</td>\n",
       "      <td>-18000</td>\n",
       "      <td>BNdNg2cULi</td>\n",
       "      <td>Notified for BNdNg2cULi (42.056928, -87.676804...</td>\n",
       "      <td>hMegDEI77R</td>\n",
       "      <td>1496764367</td>\n",
       "      <td>1496764367</td>\n",
       "      <td>ADDD9CDC-AFFE-4958-8AB4-70E8D28E45E1</td>\n",
       "      <td>-1</td>\n",
       "      <td></td>\n",
       "      <td>missed notification</td>\n",
       "      <td>food</td>\n",
       "      <td>Ford, Ground Floor (see Einsteins Bags)</td>\n",
       "    </tr>\n",
       "  </tbody>\n",
       "</table>\n",
       "</div>"
      ],
      "text/plain": [
       "    createdAt  gmtOffset   hotspotId  \\\n",
       "0  1496877882     -18000  HtihnPoz78   \n",
       "1  1496860382     -18000  HtihnPoz78   \n",
       "2  1496857650     -18000  EhQxkzEGiU   \n",
       "3  1496765908     -18000  BNdNg2cULi   \n",
       "4  1496764367     -18000  BNdNg2cULi   \n",
       "\n",
       "                                  notificationString    objectId  \\\n",
       "0  Notified for HtihnPoz78 (42.053391, -87.672911...  SBNqiUDhwy   \n",
       "1  Notified for HtihnPoz78 (42.053391, -87.672911...  WFcB7cWkCe   \n",
       "2  Notified for EhQxkzEGiU (42.058332, -87.683737...  vuP3nvSX7b   \n",
       "3  Notified for BNdNg2cULi (42.056928, -87.676804...  ET7Oco0TUB   \n",
       "4  Notified for BNdNg2cULi (42.056928, -87.676804...  hMegDEI77R   \n",
       "\n",
       "   timestamp_sent   updatedAt                              vendorId  \\\n",
       "0      1496877882  1496877882  7F61DFFD-C03C-46C3-BCEC-743B4EF8BAF5   \n",
       "1      1496860377  1496860382  7FC05EA3-6A21-43C5-9E7E-18E1BB2439F6   \n",
       "2      1496857650  1496857650  6FCA799C-3F56-425F-96B2-47CF72B84BC5   \n",
       "3      1496765905  1496765908  439A6BBD-AF9D-4A5A-862E-A2E30D88FE72   \n",
       "4      1496764367  1496764367  ADDD9CDC-AFFE-4958-8AB4-70E8D28E45E1   \n",
       "\n",
       "   timestamp_response            question                   response  \\\n",
       "0          1496877908  smalltablesoutlets                        yes   \n",
       "1          1496860401  smalltableswindows                        yes   \n",
       "2                  -1                            missed notification   \n",
       "3          1496766009            quantity  lots, plenty to go around   \n",
       "4                  -1                            missed notification   \n",
       "\n",
       "           tag                       locationCommonName  \n",
       "0  coffeeshops                                 Norbucks  \n",
       "1  coffeeshops                                 Norbucks  \n",
       "2  coffeeshops                               Coffee Lab  \n",
       "3         food  Ford, Ground Floor (see Einsteins Bags)  \n",
       "4         food  Ford, Ground Floor (see Einsteins Bags)  "
      ]
     },
     "execution_count": 29,
     "metadata": {},
     "output_type": "execute_result"
    }
   ],
   "source": [
    "# merge notification sent and notification responses\n",
    "merged_notifications = notification_sent.merge(notification_responses[['hotspotId', 'vendorId', 'timestamp', 'question', 'response']], \\\n",
    "                                               on=['hotspotId','vendorId'], how='left')\n",
    "\n",
    "# add in location data from hotspot df\n",
    "merged_notifications = merged_notifications.merge(hotspots[['objectId', 'tag', 'locationCommonName']], \\\n",
    "                                                  left_on='hotspotId', right_on='objectId', how='left')\n",
    "\n",
    "# delete extra columns and rename\n",
    "del merged_notifications['objectId_y']\n",
    "merged_notifications.rename(columns={'timestamp_x': 'timestamp_sent', 'timestamp_y': 'timestamp_response', 'objectId_x': 'objectId'}, \\\n",
    "                            inplace=True)\n",
    "\n",
    "# replace NAs\n",
    "merged_notifications['timestamp_response'].fillna(-1, inplace=True)\n",
    "merged_notifications['tag'].fillna('', inplace=True)\n",
    "merged_notifications['question'].fillna('', inplace=True)\n",
    "merged_notifications['response'].fillna('missed notification', inplace=True)\n",
    "\n",
    "# type cast timestamp_response\n",
    "merged_notifications['timestamp_response'] = merged_notifications['timestamp_response'].astype(np.int64)\n",
    "\n",
    "# keep only last if there are duplicate rows\n",
    "merged_notifications['vendor_hotspot_id'] = merged_notifications['vendorId'] + '_' + merged_notifications['hotspotId']\n",
    "merged_notifications = merged_notifications[~(merged_notifications.duplicated(subset='vendor_hotspot_id', keep='last'))].reset_index(drop=True)\n",
    "del merged_notifications['vendor_hotspot_id']\n",
    "\n",
    "# remove rows with NAs\n",
    "merged_notifications.dropna(inplace=True)\n",
    "\n",
    "# show data frame\n",
    "merged_notifications.head()"
   ]
  },
  {
   "cell_type": "code",
   "execution_count": 30,
   "metadata": {},
   "outputs": [
    {
     "name": "stdout",
     "output_type": "stream",
     "text": [
      "Number of at-location notifications: 37\n"
     ]
    }
   ],
   "source": [
    "print('Number of at-location notifications: {}'.format(len(merged_notifications)))"
   ]
  },
  {
   "cell_type": "markdown",
   "metadata": {},
   "source": [
    "## General Response Rate"
   ]
  },
  {
   "cell_type": "code",
   "execution_count": 31,
   "metadata": {
    "collapsed": true
   },
   "outputs": [],
   "source": [
    "# count notification responses by type\n",
    "valid_notifications = merged_notifications[~merged_notifications['response'].isin(['missed notification', 'I don\\'t know'])]\n",
    "idk_notifications = merged_notifications[merged_notifications['response'].isin(['I don\\'t know'])]\n",
    "missed_notifications = merged_notifications[merged_notifications['response'].isin(['missed notification'])]\n",
    "non_missed_notifications = merged_notifications[~merged_notifications['response'].isin(['missed notification'])]\n",
    "\n",
    "valid_notification_count = len(valid_notifications)\n",
    "idk_notifications_count = len(idk_notifications)\n",
    "missed_notifications_count = len(missed_notifications)\n",
    "non_missed_notifications_count = len(non_missed_notifications)\n",
    "total_notifications = len(merged_notifications)"
   ]
  },
  {
   "cell_type": "code",
   "execution_count": 32,
   "metadata": {},
   "outputs": [
    {
     "name": "stdout",
     "output_type": "stream",
     "text": [
      "Valid Responses: 25\n",
      "IDK Responses: 2\n",
      "Missed Notifications: 10\n",
      "Non-Missed Notifications: 27\n",
      "Total Notifications: 37\n"
     ]
    }
   ],
   "source": [
    "print('Valid Responses: {}'.format(valid_notification_count))\n",
    "print('IDK Responses: {}'.format(idk_notifications_count))\n",
    "print('Missed Notifications: {}'.format(missed_notifications_count))\n",
    "print('Non-Missed Notifications: {}'.format(non_missed_notifications_count))\n",
    "print('Total Notifications: {}'.format(total_notifications))"
   ]
  },
  {
   "cell_type": "code",
   "execution_count": 33,
   "metadata": {},
   "outputs": [
    {
     "name": "stdout",
     "output_type": "stream",
     "text": [
      "valid responses/total responses: 25/37 | Proportion: 67.57%\n",
      "idk responses/total responses: 2/37 | Proportion: 5.41%\n",
      "missed notifications/total responses: 10/37 | Proportion: 27.03%\n"
     ]
    }
   ],
   "source": [
    "print('valid responses/total responses: {}/{} | Proportion: {}%'.format(valid_notification_count, total_notifications, round(100 * valid_notification_count / total_notifications, 2)))\n",
    "print('idk responses/total responses: {}/{} | Proportion: {}%'.format(idk_notifications_count, total_notifications, round(100 * idk_notifications_count / total_notifications, 2)))\n",
    "print('missed notifications/total responses: {}/{} | Proportion: {}%'.format(missed_notifications_count, total_notifications, round(100 * missed_notifications_count / total_notifications, 2)))"
   ]
  },
  {
   "cell_type": "code",
   "execution_count": 34,
   "metadata": {},
   "outputs": [
    {
     "name": "stdout",
     "output_type": "stream",
     "text": [
      "valid responses/non-missed responses: 25/27 | Proportion: 92.59%\n",
      "idk responses/non-missed responses: 2/27 | Proportion: 7.41%\n",
      "non-missed (either valid response or idk) notifications/total responses: 27/37 | Proportion: 72.97%\n"
     ]
    }
   ],
   "source": [
    "print('valid responses/non-missed responses: {}/{} | Proportion: {}%'.format(valid_notification_count, non_missed_notifications_count, round(100 * valid_notification_count / non_missed_notifications_count, 2)))\n",
    "print('idk responses/non-missed responses: {}/{} | Proportion: {}%'.format(idk_notifications_count, non_missed_notifications_count, round(100 * idk_notifications_count / non_missed_notifications_count, 2)))\n",
    "print('non-missed (either valid response or idk) notifications/total responses: {}/{} | Proportion: {}%'.format(non_missed_notifications_count, total_notifications, round(100 * non_missed_notifications_count / total_notifications, 2)))"
   ]
  },
  {
   "cell_type": "markdown",
   "metadata": {},
   "source": [
    "## Reponse rate by hotspot category"
   ]
  },
  {
   "cell_type": "code",
   "execution_count": 35,
   "metadata": {
    "collapsed": true
   },
   "outputs": [],
   "source": [
    "total_bytag = pd.DataFrame({'count': merged_notifications.groupby('tag')['objectId'].count()}).reset_index()\n",
    "valid_bytag = pd.DataFrame({'count': valid_notifications.groupby('tag')['objectId'].count()}).reset_index()\n",
    "idk_bytag = pd.DataFrame({'count': idk_notifications.groupby('tag')['objectId'].count()}).reset_index()\n",
    "non_missed_bytag = pd.DataFrame({'count': non_missed_notifications.groupby('tag')['objectId'].count()}).reset_index()\n",
    "missed_bytag = pd.DataFrame({'count': missed_notifications.groupby('tag')['objectId'].count()}).reset_index()"
   ]
  },
  {
   "cell_type": "markdown",
   "metadata": {},
   "source": [
    "### Over Total Notifications"
   ]
  },
  {
   "cell_type": "code",
   "execution_count": 36,
   "metadata": {
    "collapsed": true
   },
   "outputs": [],
   "source": [
    "total_valid_bytag = valid_bytag.merge(total_bytag, on='tag', how='outer')\n",
    "total_valid_bytag.fillna(0, inplace=True)\n",
    "total_valid_bytag.rename(columns={'count_x': 'count', 'count_y': 'total'}, inplace=True)\n",
    "total_valid_bytag['proportion'] = round(100 * total_valid_bytag['count'] / total_valid_bytag['total'], 2)\n",
    "\n",
    "total_idk_bytag = idk_bytag.merge(total_bytag, on='tag', how='outer')\n",
    "total_idk_bytag.fillna(0, inplace=True)\n",
    "total_idk_bytag.rename(columns={'count_x': 'count', 'count_y': 'total'}, inplace=True)\n",
    "total_idk_bytag['proportion'] = round(100 * total_idk_bytag['count'] / total_idk_bytag['total'], 2)\n",
    "\n",
    "total_missed_bytag = missed_bytag.merge(total_bytag, on='tag', how='outer')\n",
    "total_missed_bytag.fillna(0, inplace=True)\n",
    "total_missed_bytag.rename(columns={'count_x': 'count', 'count_y': 'total'}, inplace=True)\n",
    "total_missed_bytag['proportion'] = round(100 * total_missed_bytag['count'] / total_missed_bytag['total'], 2)"
   ]
  },
  {
   "cell_type": "code",
   "execution_count": 37,
   "metadata": {},
   "outputs": [
    {
     "name": "stdout",
     "output_type": "stream",
     "text": [
      "Valid Responses by Category (Total Notifications): \n",
      "           tag  count  total  proportion\n",
      "0  coffeeshops      9     14       64.29\n",
      "1         food     16     23       69.57\n",
      "\n",
      "IDK Responses by Category(Total Notifications): \n",
      "           tag  count  total  proportion\n",
      "0         food    2.0     23         8.7\n",
      "1  coffeeshops    0.0     14         0.0\n",
      "\n",
      "Missed Notifications by Category(Total Notifications): \n",
      "           tag  count  total  proportion\n",
      "0  coffeeshops      5     14       35.71\n",
      "1         food      5     23       21.74\n",
      "\n"
     ]
    }
   ],
   "source": [
    "print('Valid Responses by Category (Total Notifications): \\n{}\\n'.format(total_valid_bytag))\n",
    "print('IDK Responses by Category(Total Notifications): \\n{}\\n'.format(total_idk_bytag))\n",
    "print('Missed Notifications by Category(Total Notifications): \\n{}\\n'.format(total_missed_bytag))"
   ]
  },
  {
   "cell_type": "markdown",
   "metadata": {},
   "source": [
    "### Over Non-missed Notifications"
   ]
  },
  {
   "cell_type": "code",
   "execution_count": 38,
   "metadata": {
    "collapsed": true
   },
   "outputs": [],
   "source": [
    "non_missed_valid_bytag = valid_bytag.merge(non_missed_bytag, on='tag', how='outer')\n",
    "non_missed_valid_bytag.fillna(0, inplace=True)\n",
    "non_missed_valid_bytag.rename(columns={'count_x': 'count', 'count_y': 'total'}, inplace=True)\n",
    "non_missed_valid_bytag['proportion'] = round(100 * non_missed_valid_bytag['count'] / non_missed_valid_bytag['total'], 2)\n",
    "\n",
    "non_missed_idk_bytag = idk_bytag.merge(non_missed_bytag, on='tag', how='outer')\n",
    "non_missed_idk_bytag.fillna(0, inplace=True)\n",
    "non_missed_idk_bytag.rename(columns={'count_x': 'count', 'count_y': 'total'}, inplace=True)\n",
    "non_missed_idk_bytag['proportion'] = round(100 * non_missed_idk_bytag['count'] / non_missed_idk_bytag['total'], 2)"
   ]
  },
  {
   "cell_type": "code",
   "execution_count": 39,
   "metadata": {},
   "outputs": [
    {
     "name": "stdout",
     "output_type": "stream",
     "text": [
      "Valid Responses by Category (Non-Missed Notification): \n",
      "           tag  count  total  proportion\n",
      "0  coffeeshops      9      9      100.00\n",
      "1         food     16     18       88.89\n",
      "\n",
      "IDK Responses by Category (Non-Missed Notification): \n",
      "           tag  count  total  proportion\n",
      "0         food    2.0     18       11.11\n",
      "1  coffeeshops    0.0      9        0.00\n",
      "\n"
     ]
    }
   ],
   "source": [
    "print('Valid Responses by Category (Non-Missed Notification): \\n{}\\n'.format(non_missed_valid_bytag))\n",
    "print('IDK Responses by Category (Non-Missed Notification): \\n{}\\n'.format(non_missed_idk_bytag))"
   ]
  },
  {
   "cell_type": "markdown",
   "metadata": {},
   "source": [
    "## Response rate by location (over total notifications)"
   ]
  },
  {
   "cell_type": "code",
   "execution_count": 40,
   "metadata": {
    "collapsed": true
   },
   "outputs": [],
   "source": [
    "total_byloc = pd.DataFrame({'count': merged_notifications.groupby('locationCommonName')['objectId'].count()}).reset_index()\n",
    "valid_byloc = pd.DataFrame({'count': valid_notifications.groupby('locationCommonName')['objectId'].count()}).reset_index()\n",
    "idk_byloc = pd.DataFrame({'count': idk_notifications.groupby('locationCommonName')['objectId'].count()}).reset_index()\n",
    "non_missed_byloc = pd.DataFrame({'count': non_missed_notifications.groupby('locationCommonName')['objectId'].count()}).reset_index()\n",
    "missed_byloc = pd.DataFrame({'count': missed_notifications.groupby('locationCommonName')['objectId'].count()}).reset_index()"
   ]
  },
  {
   "cell_type": "markdown",
   "metadata": {},
   "source": [
    "### Over Total Notifications"
   ]
  },
  {
   "cell_type": "code",
   "execution_count": 41,
   "metadata": {
    "collapsed": true
   },
   "outputs": [],
   "source": [
    "total_valid_byloc = valid_byloc.merge(total_byloc, on='locationCommonName', how='outer')\n",
    "total_valid_byloc.fillna(0, inplace=True)\n",
    "total_valid_byloc.rename(columns={'count_x': 'count', 'count_y': 'total'}, inplace=True)\n",
    "total_valid_byloc['proportion'] = round(100 * total_valid_byloc['count'] / total_valid_byloc['total'], 2)\n",
    "\n",
    "total_idk_byloc = idk_byloc.merge(total_byloc, on='locationCommonName', how='outer')\n",
    "total_idk_byloc.fillna(0, inplace=True)\n",
    "total_idk_byloc.rename(columns={'count_x': 'count', 'count_y': 'total'}, inplace=True)\n",
    "total_idk_byloc['proportion'] = round(100 * total_idk_byloc['count'] / total_idk_byloc['total'], 2)\n",
    "\n",
    "total_missed_byloc = missed_byloc.merge(total_byloc, on='locationCommonName', how='outer')\n",
    "total_missed_byloc.fillna(0, inplace=True)\n",
    "total_missed_byloc.rename(columns={'count_x': 'count', 'count_y': 'total'}, inplace=True)\n",
    "total_missed_byloc['proportion'] = round(100 * total_missed_byloc['count'] / total_missed_byloc['total'], 2)"
   ]
  },
  {
   "cell_type": "code",
   "execution_count": 42,
   "metadata": {},
   "outputs": [
    {
     "name": "stdout",
     "output_type": "stream",
     "text": [
      "Valid Responses by Location: \n",
      "                                  locationCommonName  count  total  proportion\n",
      "0                                         Coffee Lab    2.0      4       50.00\n",
      "1            Ford, Ground Floor (see Einsteins Bags)    3.0      4       75.00\n",
      "2  Kregse Entry Area (table to left of entrance b...    2.0      2      100.00\n",
      "3  McCormick Career Development Office (Ford 2nd ...    4.0      5       80.00\n",
      "4  McCormick Career Development Office (Ford 2nd ...    5.0      9       55.56\n",
      "5                                           Norbucks    7.0     10       70.00\n",
      "6                            outside Deering Library    2.0      2      100.00\n",
      "7                               outside Main Library    0.0      1        0.00\n",
      "\n",
      "IDK Responses by Location: \n",
      "                                  locationCommonName  count  total  proportion\n",
      "0  McCormick Career Development Office (Ford 2nd ...    2.0      9       22.22\n",
      "1                                         Coffee Lab    0.0      4        0.00\n",
      "2            Ford, Ground Floor (see Einsteins Bags)    0.0      4        0.00\n",
      "3  Kregse Entry Area (table to left of entrance b...    0.0      2        0.00\n",
      "4  McCormick Career Development Office (Ford 2nd ...    0.0      5        0.00\n",
      "5                                           Norbucks    0.0     10        0.00\n",
      "6                            outside Deering Library    0.0      2        0.00\n",
      "7                               outside Main Library    0.0      1        0.00\n",
      "\n",
      "Missed Notifications by Location: \n",
      "                                  locationCommonName  count  total  proportion\n",
      "0                                         Coffee Lab    2.0      4       50.00\n",
      "1            Ford, Ground Floor (see Einsteins Bags)    1.0      4       25.00\n",
      "2  McCormick Career Development Office (Ford 2nd ...    1.0      5       20.00\n",
      "3  McCormick Career Development Office (Ford 2nd ...    2.0      9       22.22\n",
      "4                                           Norbucks    3.0     10       30.00\n",
      "5                               outside Main Library    1.0      1      100.00\n",
      "6  Kregse Entry Area (table to left of entrance b...    0.0      2        0.00\n",
      "7                            outside Deering Library    0.0      2        0.00\n",
      "\n"
     ]
    }
   ],
   "source": [
    "print('Valid Responses by Location: \\n{}\\n'.format(total_valid_byloc))\n",
    "print('IDK Responses by Location: \\n{}\\n'.format(total_idk_byloc))\n",
    "print('Missed Notifications by Location: \\n{}\\n'.format(total_missed_byloc))"
   ]
  },
  {
   "cell_type": "markdown",
   "metadata": {},
   "source": [
    "### Over Non-Missed Notifications"
   ]
  },
  {
   "cell_type": "code",
   "execution_count": 43,
   "metadata": {
    "collapsed": true
   },
   "outputs": [],
   "source": [
    "non_missed_valid_byloc = valid_byloc.merge(non_missed_byloc, on='locationCommonName', how='outer')\n",
    "non_missed_valid_byloc.fillna(0, inplace=True)\n",
    "non_missed_valid_byloc.rename(columns={'count_x': 'count', 'count_y': 'total'}, inplace=True)\n",
    "non_missed_valid_byloc['proportion'] = round(100 * non_missed_valid_byloc['count'] / non_missed_valid_byloc['total'], 2)\n",
    "\n",
    "non_missed_idk_byloc = idk_byloc.merge(non_missed_byloc, on='locationCommonName', how='outer')\n",
    "non_missed_idk_byloc.fillna(0, inplace=True)\n",
    "non_missed_idk_byloc.rename(columns={'count_x': 'count', 'count_y': 'total'}, inplace=True)\n",
    "non_missed_idk_byloc['proportion'] = round(100 * non_missed_idk_byloc['count'] / non_missed_idk_byloc['total'], 2)"
   ]
  },
  {
   "cell_type": "code",
   "execution_count": 44,
   "metadata": {},
   "outputs": [
    {
     "name": "stdout",
     "output_type": "stream",
     "text": [
      "Valid Responses by Location: \n",
      "                                  locationCommonName  count  total  proportion\n",
      "0                                         Coffee Lab      2      2      100.00\n",
      "1            Ford, Ground Floor (see Einsteins Bags)      3      3      100.00\n",
      "2  Kregse Entry Area (table to left of entrance b...      2      2      100.00\n",
      "3  McCormick Career Development Office (Ford 2nd ...      4      4      100.00\n",
      "4  McCormick Career Development Office (Ford 2nd ...      5      7       71.43\n",
      "5                                           Norbucks      7      7      100.00\n",
      "6                            outside Deering Library      2      2      100.00\n",
      "\n",
      "IDK Responses by Location: \n",
      "                                  locationCommonName  count  total  proportion\n",
      "0  McCormick Career Development Office (Ford 2nd ...    2.0      7       28.57\n",
      "1                                         Coffee Lab    0.0      2        0.00\n",
      "2            Ford, Ground Floor (see Einsteins Bags)    0.0      3        0.00\n",
      "3  Kregse Entry Area (table to left of entrance b...    0.0      2        0.00\n",
      "4  McCormick Career Development Office (Ford 2nd ...    0.0      4        0.00\n",
      "5                                           Norbucks    0.0      7        0.00\n",
      "6                            outside Deering Library    0.0      2        0.00\n",
      "\n"
     ]
    }
   ],
   "source": [
    "print('Valid Responses by Location: \\n{}\\n'.format(non_missed_valid_byloc))\n",
    "print('IDK Responses by Location: \\n{}\\n'.format(non_missed_idk_byloc))"
   ]
  },
  {
   "cell_type": "markdown",
   "metadata": {},
   "source": [
    "## Analyze how much data has scaffolded for each location"
   ]
  },
  {
   "cell_type": "code",
   "execution_count": 45,
   "metadata": {},
   "outputs": [
    {
     "name": "stdout",
     "output_type": "stream",
     "text": [
      "Number Unique Hotspots: 12\n",
      "\n",
      "Descriptive Statistics of Scaffolded Responses: \n",
      "            count\n",
      "count  12.000000\n",
      "mean    2.083333\n",
      "std     1.083625\n",
      "min     1.000000\n",
      "25%     1.000000\n",
      "50%     2.000000\n",
      "75%     2.250000\n",
      "max     4.000000\n"
     ]
    }
   ],
   "source": [
    "# In general\n",
    "number_scaffolded_responses = pd.DataFrame({'count': valid_notifications.groupby('hotspotId')['objectId'].count()}).reset_index()\n",
    "print('Number Unique Hotspots: {}\\n'.format(len(number_scaffolded_responses)))\n",
    "print('Descriptive Statistics of Scaffolded Responses: \\n {}'.format(number_scaffolded_responses.describe()))"
   ]
  },
  {
   "cell_type": "markdown",
   "metadata": {},
   "source": [
    "# eXploit response rate"
   ]
  },
  {
   "cell_type": "code",
   "execution_count": 49,
   "metadata": {},
   "outputs": [
    {
     "data": {
      "text/html": [
       "<div>\n",
       "<style>\n",
       "    .dataframe thead tr:only-child th {\n",
       "        text-align: right;\n",
       "    }\n",
       "\n",
       "    .dataframe thead th {\n",
       "        text-align: left;\n",
       "    }\n",
       "\n",
       "    .dataframe tbody tr th {\n",
       "        vertical-align: top;\n",
       "    }\n",
       "</style>\n",
       "<table border=\"1\" class=\"dataframe\">\n",
       "  <thead>\n",
       "    <tr style=\"text-align: right;\">\n",
       "      <th></th>\n",
       "      <th>createdAt</th>\n",
       "      <th>exploitId</th>\n",
       "      <th>gmtOffset</th>\n",
       "      <th>objectId</th>\n",
       "      <th>timestamp_sent</th>\n",
       "      <th>updatedAt</th>\n",
       "      <th>vendorId</th>\n",
       "      <th>timestamp_response</th>\n",
       "      <th>questionResponse</th>\n",
       "      <th>tag</th>\n",
       "      <th>question</th>\n",
       "    </tr>\n",
       "  </thead>\n",
       "  <tbody>\n",
       "    <tr>\n",
       "      <th>0</th>\n",
       "      <td>1496434922</td>\n",
       "      <td>KCl4V2HNLD</td>\n",
       "      <td>-18000</td>\n",
       "      <td>NckUUR4sM9</td>\n",
       "      <td>1496434922</td>\n",
       "      <td>1496434922</td>\n",
       "      <td>49775D5B-C705-4A86-8BAA-A435CDF21891</td>\n",
       "      <td>1496434932</td>\n",
       "      <td>yes</td>\n",
       "      <td>bike-rack</td>\n",
       "      <td>Do you see any open bike racks nearby Tech?</td>\n",
       "    </tr>\n",
       "    <tr>\n",
       "      <th>1</th>\n",
       "      <td>1496440254</td>\n",
       "      <td>L1hzviyH3N</td>\n",
       "      <td>-18000</td>\n",
       "      <td>umqcG9aEro</td>\n",
       "      <td>1496440254</td>\n",
       "      <td>1496440254</td>\n",
       "      <td>4DA0D76D-3B2E-4686-B39F-41BBCA05BECB</td>\n",
       "      <td>1496440882</td>\n",
       "      <td>I don't know</td>\n",
       "      <td>bike-rack</td>\n",
       "      <td>Do you see any open bike racks nearby Main Lib...</td>\n",
       "    </tr>\n",
       "    <tr>\n",
       "      <th>2</th>\n",
       "      <td>1496440371</td>\n",
       "      <td>bExDCgISpu</td>\n",
       "      <td>-18000</td>\n",
       "      <td>rDnkq3hnqq</td>\n",
       "      <td>1496440367</td>\n",
       "      <td>1496440371</td>\n",
       "      <td>4DA0D76D-3B2E-4686-B39F-41BBCA05BECB</td>\n",
       "      <td>1496440885</td>\n",
       "      <td>I don't know</td>\n",
       "      <td>bike-rack</td>\n",
       "      <td>Do you see any open bike racks nearby old Kell...</td>\n",
       "    </tr>\n",
       "    <tr>\n",
       "      <th>3</th>\n",
       "      <td>1496601953</td>\n",
       "      <td>L1hzviyH3N</td>\n",
       "      <td>-18000</td>\n",
       "      <td>DDOOr8HCOj</td>\n",
       "      <td>1496601920</td>\n",
       "      <td>1496601953</td>\n",
       "      <td>78659B14-AE81-4217-BDCF-7E9E857A031C</td>\n",
       "      <td>1496601927</td>\n",
       "      <td>yes</td>\n",
       "      <td>bike-rack</td>\n",
       "      <td>Do you see any open bike racks nearby Main Lib...</td>\n",
       "    </tr>\n",
       "    <tr>\n",
       "      <th>4</th>\n",
       "      <td>1496689299</td>\n",
       "      <td>L1hzviyH3N</td>\n",
       "      <td>-18000</td>\n",
       "      <td>np6zKGfWZV</td>\n",
       "      <td>1496689299</td>\n",
       "      <td>1496689299</td>\n",
       "      <td>7595F08E-D7AB-425F-9014-B9036CF0D4BE</td>\n",
       "      <td>1496689309</td>\n",
       "      <td>yes</td>\n",
       "      <td>bike-rack</td>\n",
       "      <td>Do you see any open bike racks nearby Main Lib...</td>\n",
       "    </tr>\n",
       "  </tbody>\n",
       "</table>\n",
       "</div>"
      ],
      "text/plain": [
       "    createdAt   exploitId  gmtOffset    objectId  timestamp_sent   updatedAt  \\\n",
       "0  1496434922  KCl4V2HNLD     -18000  NckUUR4sM9      1496434922  1496434922   \n",
       "1  1496440254  L1hzviyH3N     -18000  umqcG9aEro      1496440254  1496440254   \n",
       "2  1496440371  bExDCgISpu     -18000  rDnkq3hnqq      1496440367  1496440371   \n",
       "3  1496601953  L1hzviyH3N     -18000  DDOOr8HCOj      1496601920  1496601953   \n",
       "4  1496689299  L1hzviyH3N     -18000  np6zKGfWZV      1496689299  1496689299   \n",
       "\n",
       "                               vendorId  timestamp_response questionResponse  \\\n",
       "0  49775D5B-C705-4A86-8BAA-A435CDF21891          1496434932              yes   \n",
       "1  4DA0D76D-3B2E-4686-B39F-41BBCA05BECB          1496440882     I don't know   \n",
       "2  4DA0D76D-3B2E-4686-B39F-41BBCA05BECB          1496440885     I don't know   \n",
       "3  78659B14-AE81-4217-BDCF-7E9E857A031C          1496601927              yes   \n",
       "4  7595F08E-D7AB-425F-9014-B9036CF0D4BE          1496689309              yes   \n",
       "\n",
       "         tag                                           question  \n",
       "0  bike-rack        Do you see any open bike racks nearby Tech?  \n",
       "1  bike-rack  Do you see any open bike racks nearby Main Lib...  \n",
       "2  bike-rack  Do you see any open bike racks nearby old Kell...  \n",
       "3  bike-rack  Do you see any open bike racks nearby Main Lib...  \n",
       "4  bike-rack  Do you see any open bike racks nearby Main Lib...  "
      ]
     },
     "execution_count": 49,
     "metadata": {},
     "output_type": "execute_result"
    }
   ],
   "source": [
    "# merge notification sent and notification responses\n",
    "merged_exploit = exploit_notifications.merge(exploit_responses[['exploitId', 'vendorId', 'timestamp', 'questionResponse']], \\\n",
    "                                               on=['exploitId','vendorId'], how='left')\n",
    "\n",
    "# add in location data from hotspot df\n",
    "merged_exploit = merged_exploit.merge(exploit_locations[['objectId', 'tag', 'question']], \\\n",
    "                                      left_on='exploitId', right_on='objectId', how='left')\n",
    "\n",
    "# delete extra columns and rename\n",
    "del merged_exploit['objectId_y']\n",
    "merged_exploit.rename(columns={'timestamp_x': 'timestamp_sent', 'timestamp_y': 'timestamp_response', 'objectId_x': 'objectId'}, inplace=True)\n",
    "\n",
    "# replace NAs\n",
    "merged_exploit['timestamp_response'].fillna(-1, inplace=True)\n",
    "merged_exploit['tag'].fillna('', inplace=True)\n",
    "merged_exploit['question'].fillna('', inplace=True)\n",
    "merged_exploit['questionResponse'].fillna('missed notification', inplace=True)\n",
    "\n",
    "# type cast timestamp_response\n",
    "merged_exploit['timestamp_response'] = merged_exploit['timestamp_response'].astype(np.int64)\n",
    "\n",
    "# keep only last if there are duplicate rows\n",
    "merged_exploit['vendor_exploit_id'] = merged_exploit['vendorId'] + '_' + merged_exploit['exploitId']\n",
    "merged_exploit = merged_exploit[~(merged_exploit.duplicated(subset='vendor_exploit_id', keep='last'))].reset_index(drop=True)\n",
    "del merged_exploit['vendor_exploit_id']\n",
    "\n",
    "# remove rows with NAs\n",
    "merged_exploit.dropna(inplace=True)\n",
    "\n",
    "# show data frame\n",
    "merged_exploit.head()"
   ]
  },
  {
   "cell_type": "code",
   "execution_count": 50,
   "metadata": {},
   "outputs": [
    {
     "name": "stdout",
     "output_type": "stream",
     "text": [
      "Number of eXploit notifications: 13\n"
     ]
    }
   ],
   "source": [
    "print('Number of eXploit notifications: {}'.format(len(merged_exploit)))"
   ]
  },
  {
   "cell_type": "code",
   "execution_count": 51,
   "metadata": {
    "collapsed": true
   },
   "outputs": [],
   "source": [
    "# count notification responses by type\n",
    "valid_notifications = merged_exploit[~merged_exploit['questionResponse'].isin(['missed notification', 'I don\\'t know'])]\n",
    "idk_notifications = merged_exploit[merged_exploit['questionResponse'].isin(['I don\\'t know'])]\n",
    "missed_notifications = merged_exploit[merged_exploit['questionResponse'].isin(['missed notification'])]\n",
    "non_missed_notifications = merged_exploit[~merged_exploit['questionResponse'].isin(['missed notification'])]\n",
    "\n",
    "valid_notification_count = len(valid_notifications)\n",
    "idk_notifications_count = len(idk_notifications)\n",
    "missed_notifications_count = len(missed_notifications)\n",
    "non_missed_notifications_count = len(non_missed_notifications)\n",
    "total_notifications = len(merged_exploit)"
   ]
  },
  {
   "cell_type": "code",
   "execution_count": 52,
   "metadata": {},
   "outputs": [
    {
     "name": "stdout",
     "output_type": "stream",
     "text": [
      "Valid Responses: 8\n",
      "IDK Responses: 3\n",
      "Missed Notifications: 2\n",
      "Non-Missed Notifications: 11\n",
      "Total Notifications: 13\n"
     ]
    }
   ],
   "source": [
    "print('Valid Responses: {}'.format(valid_notification_count))\n",
    "print('IDK Responses: {}'.format(idk_notifications_count))\n",
    "print('Missed Notifications: {}'.format(missed_notifications_count))\n",
    "print('Non-Missed Notifications: {}'.format(non_missed_notifications_count))\n",
    "print('Total Notifications: {}'.format(total_notifications))"
   ]
  },
  {
   "cell_type": "code",
   "execution_count": 53,
   "metadata": {},
   "outputs": [
    {
     "name": "stdout",
     "output_type": "stream",
     "text": [
      "valid responses/total responses: 8/13 | Proportion: 61.54%\n",
      "idk responses/total responses: 3/13 | Proportion: 23.08%\n",
      "missed notifications/total responses: 2/13 | Proportion: 15.38%\n"
     ]
    }
   ],
   "source": [
    "print('valid responses/total responses: {}/{} | Proportion: {}%'.format(valid_notification_count, total_notifications, round(100 * valid_notification_count / total_notifications, 2)))\n",
    "print('idk responses/total responses: {}/{} | Proportion: {}%'.format(idk_notifications_count, total_notifications, round(100 * idk_notifications_count / total_notifications, 2)))\n",
    "print('missed notifications/total responses: {}/{} | Proportion: {}%'.format(missed_notifications_count, total_notifications, round(100 * missed_notifications_count / total_notifications, 2)))"
   ]
  },
  {
   "cell_type": "markdown",
   "metadata": {},
   "source": [
    "## Contributions by Time of Day"
   ]
  },
  {
   "cell_type": "code",
   "execution_count": null,
   "metadata": {
    "collapsed": true
   },
   "outputs": [],
   "source": []
  }
 ],
 "metadata": {
  "kernelspec": {
   "display_name": "Python 3",
   "language": "python",
   "name": "python3"
  },
  "language_info": {
   "codemirror_mode": {
    "name": "ipython",
    "version": 3
   },
   "file_extension": ".py",
   "mimetype": "text/x-python",
   "name": "python",
   "nbconvert_exporter": "python",
   "pygments_lexer": "ipython3",
   "version": "3.6.2"
  }
 },
 "nbformat": 4,
 "nbformat_minor": 2
}
